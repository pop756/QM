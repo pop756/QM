{
 "cells": [
  {
   "cell_type": "code",
   "execution_count": 2,
   "metadata": {},
   "outputs": [],
   "source": [
    "import os\n",
    "import tensorflow as tf \n",
    "from tensorflow.python.client import device_lib\n",
    "os.environ[\"CUDA_VISIBLE_DEVICES\"] = \"0\""
   ]
  },
  {
   "cell_type": "code",
   "execution_count": 2,
   "metadata": {},
   "outputs": [],
   "source": [
    "from tdc.single_pred import Tox"
   ]
  },
  {
   "cell_type": "code",
   "execution_count": 5,
   "metadata": {},
   "outputs": [
    {
     "data": {
      "text/plain": [
       "['hERG_at_1uM', 'hERG_at_10uM', 'hERG_inhib']"
      ]
     },
     "execution_count": 5,
     "metadata": {},
     "output_type": "execute_result"
    }
   ],
   "source": [
    "from tdc.utils import retrieve_label_name_list\n",
    "\n",
    "retrieve_label_name_list('herg_central')"
   ]
  },
  {
   "cell_type": "code",
   "execution_count": 3,
   "metadata": {},
   "outputs": [],
   "source": [
    "class TokenAndPositionEmbedding(tf.keras.layers.Layer):\n",
    "    def __init__(self, maxlen, vocab_size, embed_dim):\n",
    "        super().__init__()\n",
    "        self.token_emb = tf.keras.layers.Embedding(input_dim=vocab_size, output_dim=embed_dim,mask_zero=True)\n",
    "        self.pos_emb = tf.keras.layers.Embedding(input_dim=maxlen, output_dim=embed_dim,mask_zero = True)\n",
    "\n",
    "    def call(self, x):\n",
    "        positions = tf.range(0, 200, 1)\n",
    "        positions = self.pos_emb(positions)\n",
    "        x = self.token_emb(x)\n",
    "        return x + positions    \n",
    "    \n",
    "    \n",
    "class TransformerBlock(tf.keras.layers.Layer):\n",
    "    def __init__(self, embed_dim, num_heads, ff_dim, rate=0.1):\n",
    "        super().__init__()\n",
    "        l2_reg = tf.keras.regularizers.l2(0.01)\n",
    "        \n",
    "        self.att = tf.keras.layers.MultiHeadAttention(num_heads=num_heads, key_dim=embed_dim,kernel_regularizer=l2_reg)\n",
    "        self.ffn = tf.keras.Sequential(\n",
    "            [tf.keras.layers.Dense(ff_dim, activation=\"relu\"), tf.keras.layers.Dense(embed_dim),]\n",
    "        )\n",
    "        self.layernorm1 = tf.keras.layers.LayerNormalization(epsilon=1e-6)\n",
    "        self.layernorm2 = tf.keras.layers.LayerNormalization(epsilon=1e-6)\n",
    "        self.dropout1 = tf.keras.layers.Dropout(rate)\n",
    "        self.dropout2 = tf.keras.layers.Dropout(rate)\n",
    "\n",
    "    def call(self, inputs):\n",
    "        attn_output = self.att(inputs, inputs,attention_mask=tf.cast(np.array([[1]*200] + [[0]+[1]*199]*199),bool))\n",
    "        attn_output = self.dropout1(attn_output)\n",
    "        out1 = self.layernorm1(inputs + attn_output)\n",
    "        ffn_output = self.ffn(out1)\n",
    "        ffn_output = self.dropout2(ffn_output)\n",
    "        return self.layernorm2(out1 + ffn_output)\n",
    "    \n",
    "class BERT(tf.keras.layers.Layer):\n",
    "    def __init__(self,emb_dim,num_heads,ff_dim,vocab_num=1300):\n",
    "        super(BERT, self).__init__()\n",
    "        self.transform_block = TransformerBlock(emb_dim,num_heads,ff_dim)\n",
    "        self.embedding = TokenAndPositionEmbedding(200,vocab_num,256)\n",
    "        self.dense = tf.keras.layers.Dense(250,activation = 'gelu')\n",
    "        self.classify = tf.keras.layers.Dense(vocab_num,activation = 'softmax')\n",
    "        \n",
    "    def call(self, inputs, mask_index,pretrain = False):\n",
    "        if pretrain:\n",
    "            mask_index = tf.one_hot(mask_index,200)\n",
    "            boolean_mask = tf.cast(tf.reduce_sum(mask_index,axis=1),bool)\n",
    "            inputs = tf.cast(inputs,dtype=tf.int32)\n",
    "        hidden = self.embedding(inputs)\n",
    "        for i in range(8):\n",
    "            hidden = self.transform_block(hidden)\n",
    "        if pretrain:\n",
    "            output = tf.reshape(hidden,[-1,200,256])\n",
    "            output = tf.boolean_mask(output,boolean_mask)\n",
    "            output = self.dense(output)\n",
    "            output = tf.keras.layers.Dropout(0.1)(output)\n",
    "            output = self.classify(output)\n",
    "            return output\n",
    "        else:\n",
    "            return hidden"
   ]
  },
  {
   "cell_type": "code",
   "execution_count": 4,
   "metadata": {},
   "outputs": [],
   "source": [
    "def get_sinusoid_encoding_table(n_seq, d_hidn):\n",
    "    def cal_angle(position, i_hidn):\n",
    "        return position / np.power(10000, 2 * (i_hidn // 2) / d_hidn)\n",
    "    def get_posi_angle_vec(position):\n",
    "        return [cal_angle(position, i_hidn) for i_hidn in range(d_hidn)]\n",
    "\n",
    "    sinusoid_table = np.array([get_posi_angle_vec(i_seq) for i_seq in range(n_seq)])\n",
    "    sinusoid_table[:, 0::2] = np.sin(sinusoid_table[:, 0::2])  # even index sin \n",
    "    sinusoid_table[:, 1::2] = np.cos(sinusoid_table[:, 1::2])  # odd index cos\n",
    "\n",
    "    return sinusoid_table"
   ]
  },
  {
   "cell_type": "code",
   "execution_count": null,
   "metadata": {},
   "outputs": [],
   "source": []
  },
  {
   "cell_type": "code",
   "execution_count": null,
   "metadata": {},
   "outputs": [
    {
     "ename": "NameError",
     "evalue": "name 'embedding_layer_fix' is not defined",
     "output_type": "error",
     "traceback": [
      "\u001b[0;31m---------------------------------------------------------------------------\u001b[0m",
      "\u001b[0;31mNameError\u001b[0m                                 Traceback (most recent call last)",
      "\u001b[1;32m/home/yslee/Downloads/Qunova-machine/SMILE_to_vec.ipynb Cell 27\u001b[0m line \u001b[0;36m1\n\u001b[1;32m     <a href='vscode-notebook-cell://ssh-remote%2B7b22686f73744e616d65223a224c6565227d/home/yslee/Downloads/Qunova-machine/SMILE_to_vec.ipynb#X35sdnNjb2RlLXJlbW90ZQ%3D%3D?line=15'>16</a>\u001b[0m \u001b[39m#pos = get_sinusoid_encoding_table(200,300)\u001b[39;00m\n\u001b[1;32m     <a href='vscode-notebook-cell://ssh-remote%2B7b22686f73744e616d65223a224c6565227d/home/yslee/Downloads/Qunova-machine/SMILE_to_vec.ipynb#X35sdnNjb2RlLXJlbW90ZQ%3D%3D?line=17'>18</a>\u001b[0m inputs \u001b[39m=\u001b[39m Input(shape\u001b[39m=\u001b[39m(\u001b[39m200\u001b[39m,))\n\u001b[0;32m---> <a href='vscode-notebook-cell://ssh-remote%2B7b22686f73744e616d65223a224c6565227d/home/yslee/Downloads/Qunova-machine/SMILE_to_vec.ipynb#X35sdnNjb2RlLXJlbW90ZQ%3D%3D?line=18'>19</a>\u001b[0m x \u001b[39m=\u001b[39m embedding_layer_fix(inputs)\n\u001b[1;32m     <a href='vscode-notebook-cell://ssh-remote%2B7b22686f73744e616d65223a224c6565227d/home/yslee/Downloads/Qunova-machine/SMILE_to_vec.ipynb#X35sdnNjb2RlLXJlbW90ZQ%3D%3D?line=19'>20</a>\u001b[0m outputs \u001b[39m=\u001b[39m Sequential([\n\u001b[1;32m     <a href='vscode-notebook-cell://ssh-remote%2B7b22686f73744e616d65223a224c6565227d/home/yslee/Downloads/Qunova-machine/SMILE_to_vec.ipynb#X35sdnNjb2RlLXJlbW90ZQ%3D%3D?line=20'>21</a>\u001b[0m     layers\u001b[39m.\u001b[39mLSTM(\u001b[39m256\u001b[39m, return_sequences\u001b[39m=\u001b[39m\u001b[39mTrue\u001b[39;00m, input_shape\u001b[39m=\u001b[39m(\u001b[39m200\u001b[39m, \u001b[39m256\u001b[39m)),\n\u001b[1;32m     <a href='vscode-notebook-cell://ssh-remote%2B7b22686f73744e616d65223a224c6565227d/home/yslee/Downloads/Qunova-machine/SMILE_to_vec.ipynb#X35sdnNjb2RlLXJlbW90ZQ%3D%3D?line=21'>22</a>\u001b[0m     layers\u001b[39m.\u001b[39mDropout(\u001b[39m0.4\u001b[39m),\n\u001b[0;32m   (...)\u001b[0m\n\u001b[1;32m     <a href='vscode-notebook-cell://ssh-remote%2B7b22686f73744e616d65223a224c6565227d/home/yslee/Downloads/Qunova-machine/SMILE_to_vec.ipynb#X35sdnNjb2RlLXJlbW90ZQ%3D%3D?line=24'>25</a>\u001b[0m     layers\u001b[39m.\u001b[39mDense(\u001b[39m1\u001b[39m, activation\u001b[39m=\u001b[39m\u001b[39m'\u001b[39m\u001b[39msigmoid\u001b[39m\u001b[39m'\u001b[39m)\n\u001b[1;32m     <a href='vscode-notebook-cell://ssh-remote%2B7b22686f73744e616d65223a224c6565227d/home/yslee/Downloads/Qunova-machine/SMILE_to_vec.ipynb#X35sdnNjb2RlLXJlbW90ZQ%3D%3D?line=25'>26</a>\u001b[0m ])(x)\n\u001b[1;32m     <a href='vscode-notebook-cell://ssh-remote%2B7b22686f73744e616d65223a224c6565227d/home/yslee/Downloads/Qunova-machine/SMILE_to_vec.ipynb#X35sdnNjb2RlLXJlbW90ZQ%3D%3D?line=26'>27</a>\u001b[0m LSTM_model \u001b[39m=\u001b[39m Model(inputs\u001b[39m=\u001b[39m [inputs], outputs\u001b[39m=\u001b[39m[outputs])\n",
      "\u001b[0;31mNameError\u001b[0m: name 'embedding_layer_fix' is not defined"
     ]
    }
   ],
   "source": [
    "import tensorflow as tf\n",
    "from tensorflow.keras.layers import MaxPool2D\n",
    "from tensorflow.keras.layers import Conv2D\n",
    "from tensorflow.keras.layers import Input\n",
    "from tensorflow.keras.layers import Flatten,Dense\n",
    "from tensorflow.keras.models import Model\n",
    "from tensorflow.keras.layers import Dropout\n",
    "from tensorflow.keras.layers import MaxPool1D\n",
    "from tensorflow.keras.layers import concatenate\n",
    "from tensorflow.keras.layers import MultiHeadAttention\n",
    "from tensorflow.keras.layers import GlobalMaxPooling1D\n",
    "from tensorflow.keras.layers import LayerNormalization\n",
    "from tensorflow.keras.layers import Embedding\n",
    "from tensorflow.keras.models import Sequential\n",
    "from tensorflow.keras import layers\n",
    "#pos = get_sinusoid_encoding_table(200,300)\n",
    "\n",
    "inputs = Input(shape=(200,))\n",
    "x = embedding_layer_fix(inputs)\n",
    "outputs = Sequential([\n",
    "    layers.LSTM(256, return_sequences=True, input_shape=(200, 256)),\n",
    "    layers.Dropout(0.4),\n",
    "    layers.Bidirectional(layers.LSTM(256)),\n",
    "    layers.Dropout(0.4),\n",
    "    layers.Dense(1, activation='sigmoid')\n",
    "])(x)\n",
    "LSTM_model = Model(inputs= [inputs], outputs=[outputs])\n",
    "LSTM_model.summary()"
   ]
  },
  {
   "cell_type": "code",
   "execution_count": null,
   "metadata": {},
   "outputs": [
    {
     "name": "stderr",
     "output_type": "stream",
     "text": [
      "2023-11-28 14:53:35.334607: I tensorflow/core/platform/cpu_feature_guard.cc:193] This TensorFlow binary is optimized with oneAPI Deep Neural Network Library (oneDNN) to use the following CPU instructions in performance-critical operations:  AVX2 AVX512F AVX512_VNNI FMA\n",
      "To enable them in other operations, rebuild TensorFlow with the appropriate compiler flags.\n",
      "2023-11-28 14:53:36.223523: I tensorflow/core/common_runtime/gpu/gpu_device.cc:1613] Created device /job:localhost/replica:0/task:0/device:GPU:0 with 78309 MB memory:  -> device: 0, name: NVIDIA A100 80GB PCIe, pci bus id: 0000:ca:00.0, compute capability: 8.0\n"
     ]
    },
    {
     "name": "stdout",
     "output_type": "stream",
     "text": [
      "Model: \"model_1\"\n",
      "_________________________________________________________________\n",
      " Layer (type)                Output Shape              Param #   \n",
      "=================================================================\n",
      " input_3 (InputLayer)        [(None, 200)]             0         \n",
      "                                                                 \n",
      " bert_1 (BERT)               (None, 200, 256)          3014144   \n",
      "                                                                 \n",
      " tf.__operators__.getitem (S  (None, 256)              0         \n",
      " licingOpLambda)                                                 \n",
      "                                                                 \n",
      " dense_8 (Dense)             (None, 256)               65792     \n",
      "                                                                 \n",
      " dense_9 (Dense)             (None, 1)                 257       \n",
      "                                                                 \n",
      "=================================================================\n",
      "Total params: 3,080,193\n",
      "Trainable params: 3,080,193\n",
      "Non-trainable params: 0\n",
      "_________________________________________________________________\n"
     ]
    }
   ],
   "source": [
    "BERT_model = BERT_train('./data/L_model_weights.h5')"
   ]
  },
  {
   "cell_type": "code",
   "execution_count": null,
   "metadata": {},
   "outputs": [
    {
     "ename": "NameError",
     "evalue": "name 'train' is not defined",
     "output_type": "error",
     "traceback": [
      "\u001b[0;31m---------------------------------------------------------------------------\u001b[0m",
      "\u001b[0;31mNameError\u001b[0m                                 Traceback (most recent call last)",
      "\u001b[1;32m/home/yslee/Downloads/Qunova-machine/SMILE_to_vec.ipynb Cell 34\u001b[0m line \u001b[0;36m5\n\u001b[1;32m      <a href='vscode-notebook-cell://ssh-remote%2B7b22686f73744e616d65223a224c6565227d/home/yslee/Downloads/Qunova-machine/SMILE_to_vec.ipynb#Y133sdnNjb2RlLXJlbW90ZQ%3D%3D?line=0'>1</a>\u001b[0m \u001b[39mfrom\u001b[39;00m \u001b[39mModule\u001b[39;00m \u001b[39mimport\u001b[39;00m classification\n\u001b[1;32m      <a href='vscode-notebook-cell://ssh-remote%2B7b22686f73744e616d65223a224c6565227d/home/yslee/Downloads/Qunova-machine/SMILE_to_vec.ipynb#Y133sdnNjb2RlLXJlbW90ZQ%3D%3D?line=2'>3</a>\u001b[0m models \u001b[39m=\u001b[39m {\u001b[39m'\u001b[39m\u001b[39mBERT_model\u001b[39m\u001b[39m'\u001b[39m:BERT_model}\n\u001b[0;32m----> <a href='vscode-notebook-cell://ssh-remote%2B7b22686f73744e616d65223a224c6565227d/home/yslee/Downloads/Qunova-machine/SMILE_to_vec.ipynb#Y133sdnNjb2RlLXJlbW90ZQ%3D%3D?line=4'>5</a>\u001b[0m temp \u001b[39m=\u001b[39m classification\u001b[39m.\u001b[39mModelPlotter(models,train,tox_info,[callback])\n\u001b[1;32m      <a href='vscode-notebook-cell://ssh-remote%2B7b22686f73744e616d65223a224c6565227d/home/yslee/Downloads/Qunova-machine/SMILE_to_vec.ipynb#Y133sdnNjb2RlLXJlbW90ZQ%3D%3D?line=5'>6</a>\u001b[0m temp\u001b[39m.\u001b[39mmodel_fitting()\n",
      "\u001b[0;31mNameError\u001b[0m: name 'train' is not defined"
     ]
    }
   ],
   "source": [
    "from Module import classification\n",
    "\n",
    "models = {'BERT_model':BERT_model}\n",
    "\n",
    "temp = classification.ModelPlotter(models,train,tox_info,[callback])\n",
    "temp.model_fitting()"
   ]
  },
  {
   "cell_type": "code",
   "execution_count": null,
   "metadata": {},
   "outputs": [],
   "source": [
    "x,y = temp.data_process('bit',True)\n"
   ]
  },
  {
   "cell_type": "code",
   "execution_count": null,
   "metadata": {},
   "outputs": [
    {
     "ename": "NameError",
     "evalue": "name 'embedding_layer_fix' is not defined",
     "output_type": "error",
     "traceback": [
      "\u001b[0;31m---------------------------------------------------------------------------\u001b[0m",
      "\u001b[0;31mNameError\u001b[0m                                 Traceback (most recent call last)",
      "\u001b[1;32m/home/yslee/Downloads/Qunova-machine/SMILE_to_vec.ipynb Cell 34\u001b[0m line \u001b[0;36m3\n\u001b[1;32m     <a href='vscode-notebook-cell://ssh-remote%2B7b22686f73744e616d65223a224c6565227d/home/yslee/Downloads/Qunova-machine/SMILE_to_vec.ipynb#X41sdnNjb2RlLXJlbW90ZQ%3D%3D?line=32'>33</a>\u001b[0m     Att_model \u001b[39m=\u001b[39m Model(inputs\u001b[39m=\u001b[39m [inputs], outputs\u001b[39m=\u001b[39m[outputs])\n\u001b[1;32m     <a href='vscode-notebook-cell://ssh-remote%2B7b22686f73744e616d65223a224c6565227d/home/yslee/Downloads/Qunova-machine/SMILE_to_vec.ipynb#X41sdnNjb2RlLXJlbW90ZQ%3D%3D?line=33'>34</a>\u001b[0m     \u001b[39mreturn\u001b[39;00m Att_model\n\u001b[0;32m---> <a href='vscode-notebook-cell://ssh-remote%2B7b22686f73744e616d65223a224c6565227d/home/yslee/Downloads/Qunova-machine/SMILE_to_vec.ipynb#X41sdnNjb2RlLXJlbW90ZQ%3D%3D?line=34'>35</a>\u001b[0m Att_model \u001b[39m=\u001b[39m att_model(\u001b[39m3\u001b[39;49m)\n\u001b[1;32m     <a href='vscode-notebook-cell://ssh-remote%2B7b22686f73744e616d65223a224c6565227d/home/yslee/Downloads/Qunova-machine/SMILE_to_vec.ipynb#X41sdnNjb2RlLXJlbW90ZQ%3D%3D?line=35'>36</a>\u001b[0m Att_model\u001b[39m.\u001b[39msummary()\n",
      "\u001b[1;32m/home/yslee/Downloads/Qunova-machine/SMILE_to_vec.ipynb Cell 34\u001b[0m line \u001b[0;36m1\n\u001b[1;32m     <a href='vscode-notebook-cell://ssh-remote%2B7b22686f73744e616d65223a224c6565227d/home/yslee/Downloads/Qunova-machine/SMILE_to_vec.ipynb#X41sdnNjb2RlLXJlbW90ZQ%3D%3D?line=15'>16</a>\u001b[0m pos \u001b[39m=\u001b[39m get_sinusoid_encoding_table(\u001b[39m200\u001b[39m,\u001b[39m256\u001b[39m)\n\u001b[1;32m     <a href='vscode-notebook-cell://ssh-remote%2B7b22686f73744e616d65223a224c6565227d/home/yslee/Downloads/Qunova-machine/SMILE_to_vec.ipynb#X41sdnNjb2RlLXJlbW90ZQ%3D%3D?line=16'>17</a>\u001b[0m inputs \u001b[39m=\u001b[39m Input(shape\u001b[39m=\u001b[39m(\u001b[39m200\u001b[39m,))\n\u001b[0;32m---> <a href='vscode-notebook-cell://ssh-remote%2B7b22686f73744e616d65223a224c6565227d/home/yslee/Downloads/Qunova-machine/SMILE_to_vec.ipynb#X41sdnNjb2RlLXJlbW90ZQ%3D%3D?line=17'>18</a>\u001b[0m x \u001b[39m=\u001b[39m embedding_layer_fix(inputs)\n\u001b[1;32m     <a href='vscode-notebook-cell://ssh-remote%2B7b22686f73744e616d65223a224c6565227d/home/yslee/Downloads/Qunova-machine/SMILE_to_vec.ipynb#X41sdnNjb2RlLXJlbW90ZQ%3D%3D?line=18'>19</a>\u001b[0m \u001b[39m#inputs = LayerNormalization()(inputs)\u001b[39;00m\n\u001b[1;32m     <a href='vscode-notebook-cell://ssh-remote%2B7b22686f73744e616d65223a224c6565227d/home/yslee/Downloads/Qunova-machine/SMILE_to_vec.ipynb#X41sdnNjb2RlLXJlbW90ZQ%3D%3D?line=19'>20</a>\u001b[0m \u001b[39m#pos = tf.range(start=0, limit=55, delta=1)\u001b[39;00m\n\u001b[1;32m     <a href='vscode-notebook-cell://ssh-remote%2B7b22686f73744e616d65223a224c6565227d/home/yslee/Downloads/Qunova-machine/SMILE_to_vec.ipynb#X41sdnNjb2RlLXJlbW90ZQ%3D%3D?line=20'>21</a>\u001b[0m \u001b[39m#pos = Embedding(55, 256)(pos)\u001b[39;00m\n\u001b[1;32m     <a href='vscode-notebook-cell://ssh-remote%2B7b22686f73744e616d65223a224c6565227d/home/yslee/Downloads/Qunova-machine/SMILE_to_vec.ipynb#X41sdnNjb2RlLXJlbW90ZQ%3D%3D?line=21'>22</a>\u001b[0m x \u001b[39m=\u001b[39m x\u001b[39m+\u001b[39mpos\u001b[39m/\u001b[39m\u001b[39m5\u001b[39m\n",
      "\u001b[0;31mNameError\u001b[0m: name 'embedding_layer_fix' is not defined"
     ]
    }
   ],
   "source": [
    "import tensorflow as tf\n",
    "from tensorflow.keras.layers import MaxPool2D\n",
    "from tensorflow.keras.layers import Conv2D\n",
    "from tensorflow.keras.layers import Input\n",
    "from tensorflow.keras.layers import Flatten,Dense\n",
    "from tensorflow.keras.models import Model\n",
    "from tensorflow.keras.layers import Dropout\n",
    "from tensorflow.keras.layers import MaxPool1D\n",
    "from tensorflow.keras.layers import concatenate\n",
    "from tensorflow.keras.layers import MultiHeadAttention\n",
    "from tensorflow.keras.layers import GlobalMaxPooling1D\n",
    "from tensorflow.keras.layers import LayerNormalization\n",
    "from tensorflow.keras.layers import Embedding\n",
    "pos = get_sinusoid_encoding_table(200,256)\n",
    "def att_model(reps):\n",
    "    pos = get_sinusoid_encoding_table(200,256)\n",
    "    inputs = Input(shape=(200,))\n",
    "    x = embedding_layer_fix(inputs)\n",
    "    #inputs = LayerNormalization()(inputs)\n",
    "    #pos = tf.range(start=0, limit=55, delta=1)\n",
    "    #pos = Embedding(55, 256)(pos)\n",
    "    x = x+pos/5\n",
    "\n",
    "    for i in range(reps):\n",
    "        x = TransformerBlock(256,10,256,rate=0.4)(x)\n",
    "\n",
    "    outputs = x[:,0]\n",
    "\n",
    "\n",
    "    outputs = Dense(256)(outputs)\n",
    "    outputs = Dropout(0.2)(outputs)\n",
    "    outputs = Dense(1,activation = 'sigmoid')(outputs)\n",
    "    Att_model = Model(inputs= [inputs], outputs=[outputs])\n",
    "    return Att_model\n",
    "Att_model = att_model(3)\n",
    "Att_model.summary()"
   ]
  },
  {
   "cell_type": "code",
   "execution_count": null,
   "metadata": {},
   "outputs": [
    {
     "ename": "NameError",
     "evalue": "name 'embedding_mat' is not defined",
     "output_type": "error",
     "traceback": [
      "\u001b[0;31m---------------------------------------------------------------------------\u001b[0m",
      "\u001b[0;31mNameError\u001b[0m                                 Traceback (most recent call last)",
      "\u001b[1;32m/home/yslee/Downloads/Qunova-machine/SMILE_to_vec.ipynb Cell 35\u001b[0m line \u001b[0;36m3\n\u001b[1;32m      <a href='vscode-notebook-cell://ssh-remote%2B7b22686f73744e616d65223a224c6565227d/home/yslee/Downloads/Qunova-machine/SMILE_to_vec.ipynb#X42sdnNjb2RlLXJlbW90ZQ%3D%3D?line=0'>1</a>\u001b[0m mask \u001b[39m=\u001b[39m att_mask(\u001b[39m16\u001b[39m)\n\u001b[0;32m----> <a href='vscode-notebook-cell://ssh-remote%2B7b22686f73744e616d65223a224c6565227d/home/yslee/Downloads/Qunova-machine/SMILE_to_vec.ipynb#X42sdnNjb2RlLXJlbW90ZQ%3D%3D?line=2'>3</a>\u001b[0m embedding_layer \u001b[39m=\u001b[39m tf\u001b[39m.\u001b[39mkeras\u001b[39m.\u001b[39mlayers\u001b[39m.\u001b[39mEmbedding(\u001b[39m1459\u001b[39m, \u001b[39m256\u001b[39m,mask_zero\u001b[39m=\u001b[39m\u001b[39mTrue\u001b[39;00m, embeddings_initializer\u001b[39m=\u001b[39mtf\u001b[39m.\u001b[39mkeras\u001b[39m.\u001b[39minitializers\u001b[39m.\u001b[39mConstant(np\u001b[39m.\u001b[39marray(embedding_mat)),trainable \u001b[39m=\u001b[39m \u001b[39mTrue\u001b[39;00m)\n\u001b[1;32m      <a href='vscode-notebook-cell://ssh-remote%2B7b22686f73744e616d65223a224c6565227d/home/yslee/Downloads/Qunova-machine/SMILE_to_vec.ipynb#X42sdnNjb2RlLXJlbW90ZQ%3D%3D?line=3'>4</a>\u001b[0m inputs \u001b[39m=\u001b[39m layers\u001b[39m.\u001b[39mInput(shape\u001b[39m=\u001b[39m(\u001b[39m200\u001b[39m,))\n\u001b[1;32m      <a href='vscode-notebook-cell://ssh-remote%2B7b22686f73744e616d65223a224c6565227d/home/yslee/Downloads/Qunova-machine/SMILE_to_vec.ipynb#X42sdnNjb2RlLXJlbW90ZQ%3D%3D?line=6'>7</a>\u001b[0m x \u001b[39m=\u001b[39m embedding_layer(inputs)\n",
      "\u001b[0;31mNameError\u001b[0m: name 'embedding_mat' is not defined"
     ]
    }
   ],
   "source": [
    "mask = att_mask(16)\n",
    "\n",
    "embedding_layer = tf.keras.layers.Embedding(1459, 256,mask_zero=True, embeddings_initializer=tf.keras.initializers.Constant(np.array(embedding_mat)),trainable = True)\n",
    "inputs = layers.Input(shape=(200,))\n",
    "\n",
    "\n",
    "x = embedding_layer(inputs)\n",
    "pos = layers.Input(shape=(200,))\n",
    "pos_emb = layers.Embedding(200,256)(pos)\n",
    "x = x + pos_emb\n",
    "\n",
    "transformer_block = TransformerBlock(256,8, 1024)\n",
    "transformer_block = TransformerBlock(256,8, 1024)\n",
    "transformer_block = TransformerBlock(256,8, 1024)\n",
    "transformer_block = TransformerBlock(256,8, 1024)\n",
    "transformer_block = TransformerBlock(256,8, 1024)\n",
    "transformer_block = TransformerBlock(256,8, 1024)\n",
    "transformer_block = TransformerBlock(256,8, 1024)\n",
    "transformer_block = TransformerBlock(256,8, 1024)\n",
    "x = transformer_block(x)\n",
    "x = x[:,0]\n",
    "x = layers.Dropout(0.1)(x)\n",
    "x = layers.Dense(50, activation=\"relu\")(x)\n",
    "x = layers.Dropout(0.1)(x)\n",
    "outputs = layers.Dense(1, activation=\"sigmoid\")(x)\n",
    "\n",
    "model_temp = Model(inputs=[inputs,pos], outputs=outputs)\n",
    "model_temp.summary()"
   ]
  },
  {
   "cell_type": "code",
   "execution_count": null,
   "metadata": {},
   "outputs": [
    {
     "ename": "NameError",
     "evalue": "name 'np' is not defined",
     "output_type": "error",
     "traceback": [
      "\u001b[0;31m---------------------------------------------------------------------------\u001b[0m",
      "\u001b[0;31mNameError\u001b[0m                                 Traceback (most recent call last)",
      "\u001b[1;32m/home/yslee/Downloads/Qunova-machine/SMILE_to_vec.ipynb Cell 35\u001b[0m line \u001b[0;36m2\n\u001b[1;32m      <a href='vscode-notebook-cell://ssh-remote%2B7b22686f73744e616d65223a224c6565227d/home/yslee/Downloads/Qunova-machine/SMILE_to_vec.ipynb#X46sdnNjb2RlLXJlbW90ZQ%3D%3D?line=0'>1</a>\u001b[0m \u001b[39mfrom\u001b[39;00m \u001b[39msklearn\u001b[39;00m\u001b[39m.\u001b[39;00m\u001b[39mmodel_selection\u001b[39;00m \u001b[39mimport\u001b[39;00m train_test_split\n\u001b[0;32m----> <a href='vscode-notebook-cell://ssh-remote%2B7b22686f73744e616d65223a224c6565227d/home/yslee/Downloads/Qunova-machine/SMILE_to_vec.ipynb#X46sdnNjb2RlLXJlbW90ZQ%3D%3D?line=1'>2</a>\u001b[0m X_train,x_test,Y_train,y_test \u001b[39m=\u001b[39m train_test_split(np\u001b[39m.\u001b[39marray(encoded),np\u001b[39m.\u001b[39marray(tox_info)\u001b[39m/\u001b[39m\u001b[39m1.\u001b[39m,test_size\u001b[39m=\u001b[39m\u001b[39m0.2\u001b[39m,random_state\u001b[39m=\u001b[39m\u001b[39m125\u001b[39m)\n\u001b[1;32m      <a href='vscode-notebook-cell://ssh-remote%2B7b22686f73744e616d65223a224c6565227d/home/yslee/Downloads/Qunova-machine/SMILE_to_vec.ipynb#X46sdnNjb2RlLXJlbW90ZQ%3D%3D?line=2'>3</a>\u001b[0m x_train,x_val,y_train,y_val \u001b[39m=\u001b[39m train_test_split(np\u001b[39m.\u001b[39marray(X_train),np\u001b[39m.\u001b[39marray(Y_train)\u001b[39m/\u001b[39m\u001b[39m1.\u001b[39m,test_size\u001b[39m=\u001b[39m\u001b[39m0.2\u001b[39m,random_state\u001b[39m=\u001b[39m\u001b[39m125\u001b[39m)\n",
      "\u001b[0;31mNameError\u001b[0m: name 'np' is not defined"
     ]
    }
   ],
   "source": [
    "from sklearn.model_selection import train_test_split\n",
    "X_train,x_test,Y_train,y_test = train_test_split(np.array(encoded),np.array(tox_info)/1.,test_size=0.2,random_state=125)\n",
    "x_train,x_val,y_train,y_val = train_test_split(np.array(X_train),np.array(Y_train)/1.,test_size=0.2,random_state=125)"
   ]
  },
  {
   "cell_type": "code",
   "execution_count": null,
   "metadata": {},
   "outputs": [],
   "source": [
    "import tensorflow as tf\n",
    "class CustomSchedule(tf.keras.optimizers.schedules.LearningRateSchedule):\n",
    "  def __init__(self, d_model, warmup_steps=2000):\n",
    "    super(CustomSchedule, self).__init__()\n",
    "\n",
    "    self.d_model = d_model\n",
    "    self.d_model = tf.cast(self.d_model, tf.float32)\n",
    "\n",
    "    self.warmup_steps = warmup_steps\n",
    "\n",
    "  def __call__(self, step):\n",
    "    step = float(step+1)\n",
    "    arg1 = tf.math.rsqrt(step)\n",
    "    arg2 = step * (self.warmup_steps ** -1.5)\n",
    "\n",
    "    return tf.math.rsqrt(self.d_model) * tf.math.minimum(arg1, arg2)\n",
    "import matplotlib.pyplot as plt\n",
    "temp_learning_rate_schedule = CustomSchedule(256,100000)\n",
    "callback = tf.keras.callbacks.LearningRateScheduler(temp_learning_rate_schedule, verbose=0)"
   ]
  },
  {
   "cell_type": "code",
   "execution_count": null,
   "metadata": {},
   "outputs": [],
   "source": [
    "import matplotlib.pyplot as plt\n",
    "temp_learning_rate_schedule = CustomSchedule(256,100000)\n",
    "callback = tf.keras.callbacks.LearningRateScheduler(temp_learning_rate_schedule, verbose=0)"
   ]
  },
  {
   "cell_type": "code",
   "execution_count": null,
   "metadata": {},
   "outputs": [],
   "source": [
    "callback = tf.keras.callbacks.LearningRateScheduler(temp_learning_rate_schedule, verbose=0)"
   ]
  },
  {
   "cell_type": "code",
   "execution_count": null,
   "metadata": {},
   "outputs": [
    {
     "ename": "NameError",
     "evalue": "name 'x_train' is not defined",
     "output_type": "error",
     "traceback": [
      "\u001b[0;31m---------------------------------------------------------------------------\u001b[0m",
      "\u001b[0;31mNameError\u001b[0m                                 Traceback (most recent call last)",
      "\u001b[1;32m/home/yslee/Downloads/Qunova-machine/SMILE_to_vec.ipynb Cell 30\u001b[0m line \u001b[0;36m2\n\u001b[1;32m      <a href='vscode-notebook-cell://ssh-remote%2B7b22686f73744e616d65223a224c6565227d/home/yslee/Downloads/Qunova-machine/SMILE_to_vec.ipynb#X53sdnNjb2RlLXJlbW90ZQ%3D%3D?line=0'>1</a>\u001b[0m \u001b[39mwith\u001b[39;00m tf\u001b[39m.\u001b[39mdevice(\u001b[39m'\u001b[39m\u001b[39m/device:GPU:0\u001b[39m\u001b[39m'\u001b[39m):\n\u001b[0;32m----> <a href='vscode-notebook-cell://ssh-remote%2B7b22686f73744e616d65223a224c6565227d/home/yslee/Downloads/Qunova-machine/SMILE_to_vec.ipynb#X53sdnNjb2RlLXJlbW90ZQ%3D%3D?line=1'>2</a>\u001b[0m     temp_history \u001b[39m=\u001b[39m BERT_model\u001b[39m.\u001b[39mfit(x_train,y_train,epochs\u001b[39m=\u001b[39m\u001b[39m300\u001b[39m,validation_data\u001b[39m=\u001b[39m(x_val,y_val),batch_size\u001b[39m=\u001b[39m\u001b[39m32\u001b[39m,callbacks\u001b[39m=\u001b[39m[callback])\n",
      "\u001b[0;31mNameError\u001b[0m: name 'x_train' is not defined"
     ]
    }
   ],
   "source": [
    "with tf.device('/device:GPU:0'):\n",
    "    temp_history = BERT_model.fit(x_train,y_train,epochs=300,validation_data=(x_val,y_val),batch_size=32,callbacks=[callback])"
   ]
  },
  {
   "cell_type": "code",
   "execution_count": null,
   "metadata": {},
   "outputs": [
    {
     "ename": "NameError",
     "evalue": "name 'model_temp' is not defined",
     "output_type": "error",
     "traceback": [
      "\u001b[0;31m---------------------------------------------------------------------------\u001b[0m",
      "\u001b[0;31mNameError\u001b[0m                                 Traceback (most recent call last)",
      "\u001b[1;32m/home/yslee/Downloads/Qunova-machine/SMILE_to_vec.ipynb Cell 38\u001b[0m line \u001b[0;36m1\n\u001b[0;32m----> <a href='vscode-notebook-cell://ssh-remote%2B7b22686f73744e616d65223a224c6565227d/home/yslee/Downloads/Qunova-machine/SMILE_to_vec.ipynb#X53sdnNjb2RlLXJlbW90ZQ%3D%3D?line=0'>1</a>\u001b[0m model_temp\u001b[39m.\u001b[39mcompile(optimizer\u001b[39m=\u001b[39mAdam(),loss \u001b[39m=\u001b[39m \u001b[39m'\u001b[39m\u001b[39mbinary_crossentropy\u001b[39m\u001b[39m'\u001b[39m,metrics\u001b[39m=\u001b[39m[\u001b[39m'\u001b[39m\u001b[39macc\u001b[39m\u001b[39m'\u001b[39m])\n\u001b[1;32m      <a href='vscode-notebook-cell://ssh-remote%2B7b22686f73744e616d65223a224c6565227d/home/yslee/Downloads/Qunova-machine/SMILE_to_vec.ipynb#X53sdnNjb2RlLXJlbW90ZQ%3D%3D?line=1'>2</a>\u001b[0m \u001b[39mwith\u001b[39;00m tf\u001b[39m.\u001b[39mdevice(\u001b[39m'\u001b[39m\u001b[39m/device:GPU:0\u001b[39m\u001b[39m'\u001b[39m):\n\u001b[1;32m      <a href='vscode-notebook-cell://ssh-remote%2B7b22686f73744e616d65223a224c6565227d/home/yslee/Downloads/Qunova-machine/SMILE_to_vec.ipynb#X53sdnNjb2RlLXJlbW90ZQ%3D%3D?line=2'>3</a>\u001b[0m     temp_history \u001b[39m=\u001b[39m model_temp\u001b[39m.\u001b[39mfit([x_train,pos_in_train],y_train,epochs\u001b[39m=\u001b[39m\u001b[39m300\u001b[39m,validation_data\u001b[39m=\u001b[39m([x_val,pos_in_val],y_val),batch_size\u001b[39m=\u001b[39m\u001b[39m32\u001b[39m,callbacks\u001b[39m=\u001b[39m[callback,early_stopping_cb])\n",
      "\u001b[0;31mNameError\u001b[0m: name 'model_temp' is not defined"
     ]
    }
   ],
   "source": [
    "model_temp.compile(optimizer=Adam(),loss = 'binary_crossentropy',metrics=['acc'])\n",
    "with tf.device('/device:GPU:0'):\n",
    "    temp_history = model_temp.fit([x_train,pos_in_train],y_train,epochs=300,validation_data=([x_val,pos_in_val],y_val),batch_size=32,callbacks=[callback,early_stopping_cb])"
   ]
  },
  {
   "cell_type": "code",
   "execution_count": null,
   "metadata": {},
   "outputs": [],
   "source": [
    "Att_model.compile(optimizer=Adam(),loss = 'binary_crossentropy',metrics=['acc'])\n",
    "with tf.device('/device:GPU:0'):\n",
    "    Att_history_model = Att_model.fit(x_train,y_train,epochs=400,validation_data=([x_val],y_val),batch_size=32,callbacks=[callback,early_stopping_cb])"
   ]
  },
  {
   "cell_type": "code",
   "execution_count": null,
   "metadata": {},
   "outputs": [],
   "source": [
    "LSTM_model.compile(optimizer=Adam(),loss = 'binary_crossentropy',metrics=['acc'])\n",
    "\n",
    "with tf.device('/device:GPU:0'):\n",
    "    history = LSTM_model.fit(x_train,y_train,epochs=100,validation_data=(x_val,y_val),batch_size=32,callbacks=[early_stopping_cb])"
   ]
  },
  {
   "cell_type": "code",
   "execution_count": null,
   "metadata": {},
   "outputs": [
    {
     "name": "stdout",
     "output_type": "stream",
     "text": [
      " 4/84 [>.............................] - ETA: 1s - loss: 1.1224 - acc: 0.8047"
     ]
    },
    {
     "name": "stdout",
     "output_type": "stream",
     "text": [
      "84/84 [==============================] - 2s 18ms/step - loss: 1.0358 - acc: 0.8000\n",
      "67/67 [==============================] - 2s 19ms/step - loss: 1.2197 - acc: 0.7997\n"
     ]
    },
    {
     "data": {
      "text/plain": [
       "[1.2196515798568726, 0.7997185587882996]"
      ]
     },
     "execution_count": 219,
     "metadata": {},
     "output_type": "execute_result"
    }
   ],
   "source": [
    "LSTM_model.evaluate(x_test,y_test)\n",
    "Att_model.evaluate(x_val,y_val)"
   ]
  },
  {
   "cell_type": "code",
   "execution_count": null,
   "metadata": {},
   "outputs": [],
   "source": [
    "pos_in_test = np.array([[i for i in range(200)]]*len(x_test))"
   ]
  },
  {
   "cell_type": "code",
   "execution_count": null,
   "metadata": {},
   "outputs": [],
   "source": [
    "model_temp.evaluate([x_test_1,pos_in_test],y_test)"
   ]
  },
  {
   "cell_type": "code",
   "execution_count": null,
   "metadata": {},
   "outputs": [],
   "source": [
    "from Module import RDK as rk\n",
    "train_NN,tox_info_NN= train,tox_info\n",
    "train_NN = list(train_NN)\n",
    "tox_info_NN = list(tox_info_NN)\n",
    "\n",
    "for i in remove_list:\n",
    "    train_NN.pop(i)\n",
    "\n",
    "\n",
    "bit_string = rk.smile_to_RDkit(train_NN,2048)"
   ]
  },
  {
   "cell_type": "code",
   "execution_count": null,
   "metadata": {},
   "outputs": [],
   "source": []
  },
  {
   "cell_type": "code",
   "execution_count": null,
   "metadata": {},
   "outputs": [
    {
     "name": "stdout",
     "output_type": "stream",
     "text": [
      "Model: \"model_3\"\n",
      "_________________________________________________________________\n",
      " Layer (type)                Output Shape              Param #   \n",
      "=================================================================\n",
      " input (InputLayer)          [(None, 2048)]            0         \n",
      "                                                                 \n",
      " dense_18 (Dense)            (None, 250)               512250    \n",
      "                                                                 \n",
      " dropout_9 (Dropout)         (None, 250)               0         \n",
      "                                                                 \n",
      " dense_19 (Dense)            (None, 40)                10040     \n",
      "                                                                 \n",
      " dropout_10 (Dropout)        (None, 40)                0         \n",
      "                                                                 \n",
      " dense_20 (Dense)            (None, 10)                410       \n",
      "                                                                 \n",
      " dropout_11 (Dropout)        (None, 10)                0         \n",
      "                                                                 \n",
      " dense_21 (Dense)            (None, 1)                 11        \n",
      "                                                                 \n",
      "=================================================================\n",
      "Total params: 522,711\n",
      "Trainable params: 522,711\n",
      "Non-trainable params: 0\n",
      "_________________________________________________________________\n"
     ]
    }
   ],
   "source": [
    "import tensorflow as tf\n",
    "from tensorflow.keras.layers import MaxPool2D\n",
    "from tensorflow.keras.layers import Conv2D\n",
    "from tensorflow.keras.layers import Input\n",
    "from tensorflow.keras.layers import Flatten,Dense\n",
    "from tensorflow.keras.models import Model\n",
    "from tensorflow.keras.layers import Dropout\n",
    "inputs = Input(shape=(2048,),name='input')\n",
    "outputs = Dense(250,activation = 'relu')(inputs)\n",
    "outputs = Dropout(0.3)(outputs)\n",
    "outputs = Dense(40,activation = 'relu')(outputs)\n",
    "outputs = Dropout(0.3)(outputs)\n",
    "outputs = Dense(10,activation = 'relu')(outputs)\n",
    "outputs = Dropout(0.3)(outputs)\n",
    "outputs = Dense(1,activation = 'sigmoid')(outputs)\n",
    "\n",
    "model_NN = Model(inputs= [inputs], outputs=[outputs])\n",
    "model_NN.summary()"
   ]
  },
  {
   "cell_type": "code",
   "execution_count": null,
   "metadata": {},
   "outputs": [],
   "source": [
    "X_train_NN,x_test_NN,Y_train_NN,y_test_NN = train_test_split(np.array(bit_string)/1.,np.array(tox_info_NN)/1.,test_size=0.2,random_state=125)\n",
    "x_train_NN,x_val_NN,y_train_NN,y_val_NN = train_test_split(np.array(X_train_NN)/1.,np.array(Y_train_NN)/1.,test_size=0.2,random_state=125)"
   ]
  },
  {
   "cell_type": "code",
   "execution_count": null,
   "metadata": {},
   "outputs": [],
   "source": [
    "model_NN.compile(loss = 'binary_crossentropy',optimizer='Adam',metrics=['acc',auc])"
   ]
  },
  {
   "cell_type": "code",
   "execution_count": null,
   "metadata": {},
   "outputs": [
    {
     "name": "stdout",
     "output_type": "stream",
     "text": [
      "Epoch 1/50\n",
      "21/21 [==============================] - 3s 25ms/step - loss: 0.5288 - acc: 0.7687 - auc: 0.4695 - val_loss: 0.3909 - val_acc: 0.8812 - val_auc: 0.4663\n",
      "Epoch 2/50\n",
      "21/21 [==============================] - 0s 13ms/step - loss: 0.4029 - acc: 0.8806 - auc: 0.4714 - val_loss: 0.3863 - val_acc: 0.8812 - val_auc: 0.5478\n",
      "Epoch 3/50\n",
      "21/21 [==============================] - 0s 13ms/step - loss: 0.2822 - acc: 0.8881 - auc: 0.7387 - val_loss: 0.3867 - val_acc: 0.8812 - val_auc: 0.6086\n",
      "Epoch 4/50\n",
      "21/21 [==============================] - 0s 13ms/step - loss: 0.2547 - acc: 0.8881 - auc: 0.8004 - val_loss: 0.4089 - val_acc: 0.8812 - val_auc: 0.6278\n",
      "Epoch 5/50\n",
      "21/21 [==============================] - 0s 14ms/step - loss: 0.2001 - acc: 0.9204 - auc: 0.8908 - val_loss: 0.4340 - val_acc: 0.8812 - val_auc: 0.6615\n",
      "Epoch 6/50\n",
      "21/21 [==============================] - 0s 14ms/step - loss: 0.1376 - acc: 0.9328 - auc: 0.9708 - val_loss: 0.5147 - val_acc: 0.8713 - val_auc: 0.6404\n",
      "Epoch 7/50\n",
      "21/21 [==============================] - 0s 11ms/step - loss: 0.1078 - acc: 0.9552 - auc: 0.9829 - val_loss: 0.6101 - val_acc: 0.8614 - val_auc: 0.6400\n",
      "Epoch 8/50\n",
      "21/21 [==============================] - 0s 13ms/step - loss: 0.0744 - acc: 0.9726 - auc: 0.9945 - val_loss: 0.7163 - val_acc: 0.8515 - val_auc: 0.6447\n",
      "Epoch 9/50\n",
      "21/21 [==============================] - 0s 14ms/step - loss: 0.0608 - acc: 0.9776 - auc: 0.9952 - val_loss: 0.8027 - val_acc: 0.8515 - val_auc: 0.6194\n",
      "Epoch 10/50\n",
      "21/21 [==============================] - 0s 14ms/step - loss: 0.0701 - acc: 0.9826 - auc: 0.9958 - val_loss: 0.9180 - val_acc: 0.8614 - val_auc: 0.6292\n",
      "Epoch 11/50\n",
      "21/21 [==============================] - 0s 12ms/step - loss: 0.0489 - acc: 0.9925 - auc: 0.9983 - val_loss: 1.0377 - val_acc: 0.8614 - val_auc: 0.5595\n",
      "Epoch 12/50\n",
      "21/21 [==============================] - 0s 14ms/step - loss: 0.0353 - acc: 0.9925 - auc: 0.9982 - val_loss: 1.1295 - val_acc: 0.8614 - val_auc: 0.5637\n",
      "Epoch 13/50\n",
      "21/21 [==============================] - 0s 14ms/step - loss: 0.0275 - acc: 0.9876 - auc: 0.9992 - val_loss: 1.1618 - val_acc: 0.8614 - val_auc: 0.5735\n",
      "Epoch 14/50\n",
      "21/21 [==============================] - 0s 14ms/step - loss: 0.0168 - acc: 0.9975 - auc: 0.9996 - val_loss: 1.2181 - val_acc: 0.8614 - val_auc: 0.5735\n",
      "Epoch 15/50\n",
      "21/21 [==============================] - 0s 15ms/step - loss: 0.0218 - acc: 0.9925 - auc: 0.9992 - val_loss: 1.2897 - val_acc: 0.8614 - val_auc: 0.5782\n",
      "Epoch 16/50\n",
      "21/21 [==============================] - 0s 12ms/step - loss: 0.0202 - acc: 0.9925 - auc: 0.9997 - val_loss: 1.3252 - val_acc: 0.8614 - val_auc: 0.5403\n",
      "Epoch 17/50\n",
      "21/21 [==============================] - 0s 13ms/step - loss: 0.0160 - acc: 0.9975 - auc: 1.0000 - val_loss: 1.3800 - val_acc: 0.8614 - val_auc: 0.5389\n",
      "Epoch 18/50\n",
      "21/21 [==============================] - 0s 15ms/step - loss: 0.0130 - acc: 0.9950 - auc: 0.9999 - val_loss: 1.4352 - val_acc: 0.8614 - val_auc: 0.5384\n",
      "Epoch 19/50\n",
      "21/21 [==============================] - 0s 14ms/step - loss: 0.0195 - acc: 0.9950 - auc: 0.9999 - val_loss: 1.5410 - val_acc: 0.8614 - val_auc: 0.5384\n",
      "Epoch 20/50\n",
      "21/21 [==============================] - 0s 13ms/step - loss: 0.0098 - acc: 0.9950 - auc: 0.9999 - val_loss: 1.6183 - val_acc: 0.8614 - val_auc: 0.5384\n",
      "Epoch 21/50\n",
      "21/21 [==============================] - 0s 14ms/step - loss: 0.0177 - acc: 0.9925 - auc: 0.9996 - val_loss: 1.6765 - val_acc: 0.8614 - val_auc: 0.5431\n",
      "Epoch 22/50\n",
      "21/21 [==============================] - 0s 14ms/step - loss: 0.0122 - acc: 0.9975 - auc: 1.0000 - val_loss: 1.6812 - val_acc: 0.8614 - val_auc: 0.5384\n",
      "Epoch 23/50\n",
      "21/21 [==============================] - 0s 13ms/step - loss: 0.0098 - acc: 0.9950 - auc: 0.9999 - val_loss: 1.7250 - val_acc: 0.8614 - val_auc: 0.5384\n",
      "Epoch 24/50\n",
      "21/21 [==============================] - 0s 13ms/step - loss: 0.0162 - acc: 0.9900 - auc: 0.9993 - val_loss: 1.7084 - val_acc: 0.8614 - val_auc: 0.5384\n",
      "Epoch 25/50\n",
      "21/21 [==============================] - 0s 14ms/step - loss: 0.0074 - acc: 0.9975 - auc: 0.9999 - val_loss: 1.7384 - val_acc: 0.8614 - val_auc: 0.5384\n",
      "Epoch 26/50\n",
      "21/21 [==============================] - 0s 12ms/step - loss: 0.0162 - acc: 0.9950 - auc: 0.9994 - val_loss: 1.7824 - val_acc: 0.8614 - val_auc: 0.5403\n",
      "Epoch 27/50\n",
      "21/21 [==============================] - 0s 14ms/step - loss: 0.0049 - acc: 0.9975 - auc: 1.0000 - val_loss: 1.8752 - val_acc: 0.8614 - val_auc: 0.5403\n",
      "Epoch 28/50\n",
      "21/21 [==============================] - 0s 14ms/step - loss: 0.0084 - acc: 0.9975 - auc: 0.9999 - val_loss: 1.8824 - val_acc: 0.8614 - val_auc: 0.5421\n",
      "Epoch 29/50\n",
      "21/21 [==============================] - 0s 14ms/step - loss: 0.0243 - acc: 0.9925 - auc: 0.9995 - val_loss: 1.9025 - val_acc: 0.8614 - val_auc: 0.5403\n",
      "Epoch 30/50\n",
      "21/21 [==============================] - 0s 14ms/step - loss: 0.0173 - acc: 0.9950 - auc: 0.9999 - val_loss: 1.9660 - val_acc: 0.8614 - val_auc: 0.5384\n",
      "Epoch 31/50\n",
      "21/21 [==============================] - 0s 13ms/step - loss: 0.0257 - acc: 0.9925 - auc: 0.9987 - val_loss: 1.6436 - val_acc: 0.8515 - val_auc: 0.6199\n",
      "Epoch 32/50\n",
      "21/21 [==============================] - 0s 12ms/step - loss: 0.0140 - acc: 0.9950 - auc: 1.0000 - val_loss: 1.6314 - val_acc: 0.8515 - val_auc: 0.6199\n",
      "Epoch 33/50\n",
      "21/21 [==============================] - 0s 13ms/step - loss: 0.0197 - acc: 0.9925 - auc: 0.9992 - val_loss: 1.6537 - val_acc: 0.8515 - val_auc: 0.6213\n",
      "Epoch 34/50\n",
      "21/21 [==============================] - 0s 14ms/step - loss: 0.0146 - acc: 0.9925 - auc: 0.9996 - val_loss: 1.5523 - val_acc: 0.8515 - val_auc: 0.6545\n",
      "Epoch 35/50\n",
      "21/21 [==============================] - 0s 14ms/step - loss: 0.0101 - acc: 0.9975 - auc: 0.9999 - val_loss: 1.6468 - val_acc: 0.8614 - val_auc: 0.6222\n",
      "Epoch 36/50\n",
      "21/21 [==============================] - 0s 13ms/step - loss: 0.0302 - acc: 0.9925 - auc: 0.9987 - val_loss: 1.7596 - val_acc: 0.8614 - val_auc: 0.5449\n",
      "Epoch 37/50\n",
      "21/21 [==============================] - 0s 13ms/step - loss: 0.0206 - acc: 0.9950 - auc: 0.9989 - val_loss: 1.7532 - val_acc: 0.8614 - val_auc: 0.6180\n",
      "Epoch 38/50\n",
      "21/21 [==============================] - 0s 14ms/step - loss: 0.0193 - acc: 0.9950 - auc: 0.9993 - val_loss: 1.7828 - val_acc: 0.8614 - val_auc: 0.5796\n",
      "Epoch 39/50\n",
      "21/21 [==============================] - 0s 14ms/step - loss: 0.0180 - acc: 0.9975 - auc: 0.9994 - val_loss: 1.7646 - val_acc: 0.8614 - val_auc: 0.6194\n",
      "Epoch 40/50\n",
      "21/21 [==============================] - 0s 14ms/step - loss: 0.0077 - acc: 0.9950 - auc: 0.9998 - val_loss: 1.8407 - val_acc: 0.8614 - val_auc: 0.5787\n",
      "Epoch 41/50\n",
      "21/21 [==============================] - 0s 13ms/step - loss: 0.0155 - acc: 0.9975 - auc: 0.9999 - val_loss: 1.9012 - val_acc: 0.8614 - val_auc: 0.5403\n",
      "Epoch 42/50\n",
      "21/21 [==============================] - 0s 13ms/step - loss: 0.0140 - acc: 0.9975 - auc: 0.9995 - val_loss: 1.9495 - val_acc: 0.8614 - val_auc: 0.5403\n",
      "Epoch 43/50\n",
      "21/21 [==============================] - 0s 12ms/step - loss: 0.0129 - acc: 0.9975 - auc: 0.9999 - val_loss: 2.0128 - val_acc: 0.8614 - val_auc: 0.5403\n",
      "Epoch 44/50\n",
      "21/21 [==============================] - 0s 14ms/step - loss: 0.0137 - acc: 0.9975 - auc: 0.9998 - val_loss: 2.0785 - val_acc: 0.8614 - val_auc: 0.5496\n",
      "Epoch 45/50\n",
      "21/21 [==============================] - 0s 13ms/step - loss: 0.0127 - acc: 0.9950 - auc: 0.9998 - val_loss: 2.1942 - val_acc: 0.8614 - val_auc: 0.5543\n",
      "Epoch 46/50\n",
      "21/21 [==============================] - 0s 13ms/step - loss: 0.0068 - acc: 1.0000 - auc: 1.0000 - val_loss: 2.2511 - val_acc: 0.8614 - val_auc: 0.5543\n",
      "Epoch 47/50\n",
      "21/21 [==============================] - 0s 13ms/step - loss: 0.0105 - acc: 0.9950 - auc: 0.9999 - val_loss: 2.2607 - val_acc: 0.8614 - val_auc: 0.5543\n",
      "Epoch 48/50\n",
      "21/21 [==============================] - 0s 13ms/step - loss: 0.0065 - acc: 0.9975 - auc: 0.9999 - val_loss: 2.2774 - val_acc: 0.8614 - val_auc: 0.5543\n",
      "Epoch 49/50\n",
      "21/21 [==============================] - 0s 13ms/step - loss: 0.0063 - acc: 0.9975 - auc: 0.9999 - val_loss: 2.3177 - val_acc: 0.8614 - val_auc: 0.5543\n",
      "Epoch 50/50\n",
      "21/21 [==============================] - 0s 14ms/step - loss: 0.0109 - acc: 0.9950 - auc: 0.9996 - val_loss: 2.3507 - val_acc: 0.8614 - val_auc: 0.5543\n"
     ]
    },
    {
     "data": {
      "text/plain": [
       "<keras.callbacks.History at 0x7fef68205ed0>"
      ]
     },
     "execution_count": 44,
     "metadata": {},
     "output_type": "execute_result"
    }
   ],
   "source": [
    "model_NN.fit(x_train_NN,y_train_NN,epochs=50,validation_data=(x_val_NN,y_val_NN),batch_size=20)"
   ]
  },
  {
   "cell_type": "code",
   "execution_count": null,
   "metadata": {},
   "outputs": [
    {
     "name": "stdout",
     "output_type": "stream",
     "text": [
      "85/85 [==============================] - 1s 6ms/step - loss: 0.6991 - acc: 0.8144\n"
     ]
    },
    {
     "data": {
      "text/plain": [
       "[0.6990967988967896, 0.8144291639328003]"
      ]
     },
     "execution_count": 210,
     "metadata": {},
     "output_type": "execute_result"
    }
   ],
   "source": [
    "model_NN.evaluate(x_test_NN,y_test_NN)"
   ]
  },
  {
   "cell_type": "code",
   "execution_count": null,
   "metadata": {},
   "outputs": [],
   "source": [
    "def plot_model_acc(history,model_name=''):\n",
    "    ## Accuracy plot\n",
    "    plt.plot(history.history['acc'])\n",
    "    plt.plot(history.history['val_acc'])\n",
    "    plt.title(model_name+'Model accuracy')\n",
    "    plt.xlabel('Epoch')\n",
    "    plt.ylabel('Accuracy')\n",
    "    plt.legend(['Train', 'Test'], loc='upper left')\n",
    "    plt.show()\n",
    "\n",
    "def plot_model_loss(history):\n",
    "    plt.plot(history.history['loss'])\n",
    "    plt.plot(history.history['val_loss'])\n",
    "    plt.title('Model loss')\n",
    "    plt.xlabel('Epoch')\n",
    "    plt.ylabel('Loss')\n",
    "    plt.legend(['Train', 'Test'], loc='upper left')\n",
    "    plt.show()\n",
    "   "
   ]
  },
  {
   "cell_type": "code",
   "execution_count": null,
   "metadata": {},
   "outputs": [
    {
     "name": "stdout",
     "output_type": "stream",
     "text": [
      "2/2 [==============================] - 1s 32ms/step\n"
     ]
    }
   ],
   "source": [
    "from sklearn.metrics import roc_curve\n",
    "y_pred_keras = BERT_model.predict(x_val).ravel()\n",
    "fpr_keras, tpr_keras, thresholds_keras = roc_curve(y_val, y_pred_keras)"
   ]
  },
  {
   "cell_type": "code",
   "execution_count": null,
   "metadata": {},
   "outputs": [],
   "source": [
    "from sklearn.metrics import auc\n",
    "auc_keras = auc(fpr_keras, tpr_keras)"
   ]
  },
  {
   "cell_type": "code",
   "execution_count": null,
   "metadata": {},
   "outputs": [
    {
     "data": {
      "image/png": "[encoded data removed]",
      "text/plain": [
       "<Figure size 640x480 with 1 Axes>"
      ]
     },
     "metadata": {},
     "output_type": "display_data"
    }
   ],
   "source": [
    "plt.figure(1)\n",
    "plt.plot([0, 1], [0, 1], 'k--')\n",
    "plt.plot(fpr_keras, tpr_keras, label='Keras (area = {:.3f})'.format(auc_keras))\n",
    "plt.xlabel('False positive rate')\n",
    "plt.ylabel('True positive rate')\n",
    "plt.title('LSTM ROC curve')\n",
    "plt.legend(loc='best')\n",
    "plt.show()\n",
    "# Zoom in view of the upper left corner."
   ]
  },
  {
   "cell_type": "code",
   "execution_count": null,
   "metadata": {},
   "outputs": [
    {
     "name": "stdout",
     "output_type": "stream",
     "text": [
      "3/3 [==============================] - 0s 4ms/step\n"
     ]
    }
   ],
   "source": [
    "from sklearn.metrics import roc_curve\n",
    "y_pred_keras = model_NN.predict(x_val_NN).ravel()\n",
    "fpr_keras, tpr_keras, thresholds_keras = roc_curve(y_val_NN, y_pred_keras)"
   ]
  },
  {
   "cell_type": "code",
   "execution_count": null,
   "metadata": {},
   "outputs": [],
   "source": [
    "from sklearn.metrics import auc\n",
    "auc_keras = auc(fpr_keras, tpr_keras)"
   ]
  },
  {
   "cell_type": "code",
   "execution_count": null,
   "metadata": {},
   "outputs": [
    {
     "data": {
      "image/png": "[encoded data removed]",
      "text/plain": [
       "<Figure size 640x480 with 1 Axes>"
      ]
     },
     "metadata": {},
     "output_type": "display_data"
    }
   ],
   "source": [
    "plt.figure(1)\n",
    "plt.plot([0, 1], [0, 1], 'k--')\n",
    "plt.plot(fpr_keras, tpr_keras, label='Keras (area = {:.3f})'.format(auc_keras))\n",
    "plt.xlabel('False positive rate')\n",
    "plt.ylabel('True positive rate')\n",
    "plt.title('DNN ROC curve')\n",
    "plt.legend(loc='best')\n",
    "plt.show()\n",
    "# Zoom in view of the upper left corner."
   ]
  },
  {
   "cell_type": "code",
   "execution_count": null,
   "metadata": {},
   "outputs": [],
   "source": [
    "from sklearn.model_selection import train_test_split\n",
    "x_train,x_val,y_train,y_val = train_test_split(np.array(temp_image),np.array(temp_tox_image)/1.,test_size=0.2,random_state=125)"
   ]
  },
  {
   "cell_type": "code",
   "execution_count": null,
   "metadata": {},
   "outputs": [],
   "source": []
  },
  {
   "cell_type": "code",
   "execution_count": null,
   "metadata": {},
   "outputs": [],
   "source": []
  }
 ],
 "metadata": {
  "kernelspec": {
   "display_name": "Lee",
   "language": "python",
   "name": "python3"
  },
  "language_info": {
   "codemirror_mode": {
    "name": "ipython",
    "version": 3
   },
   "file_extension": ".py",
   "mimetype": "text/x-python",
   "name": "python",
   "nbconvert_exporter": "python",
   "pygments_lexer": "ipython3",
   "version": "3.10.12"
  }
 },
 "nbformat": 4,
 "nbformat_minor": 2
}
