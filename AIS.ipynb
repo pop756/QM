{
 "cells": [
  {
   "cell_type": "code",
   "execution_count": 14,
   "metadata": {},
   "outputs": [],
   "source": [
    "import tensorflow as tf\n",
    "import numpy as np\n",
    "from tdc.single_pred import Tox\n",
    "from rdkit import Chem"
   ]
  },
  {
   "cell_type": "code",
   "execution_count": null,
   "metadata": {},
   "outputs": [],
   "source": [
    "def Chem_generator(smiles):\n",
    "    res_list = []\n",
    "    for i in tqdm(smiles):\n",
    "        mol = Chem.MolFromSmiles(i)\n",
    "        temp = []\n",
    "        index = 0\n",
    "        while(len(set(temp))!=4 and index != 100):\n",
    "            index+=1\n",
    "            temp.append(Chem.MolToSmiles(mol,doRandom=True))\n",
    "        res_list+=list(set(temp))\n",
    "    return res_list"
   ]
  },
  {
   "cell_type": "code",
   "execution_count": 15,
   "metadata": {},
   "outputs": [],
   "source": [
    "from rdkit.Chem import MolFromSmiles, MolToSmiles\n",
    "import atomInSmiles\n",
    "from tqdm import tqdm\n",
    "import atomInSmiles\n",
    "def encode(smiles_list,labels):\n",
    "    mols = []\n",
    "    res_labels = []\n",
    "    len_list = []\n",
    "    \n",
    "    for smiles in smiles_list:\n",
    "        mol = MolFromSmiles(smiles)\n",
    "        mols.append(mol)\n",
    "    res = []\n",
    "    for index1,mol in (enumerate(tqdm(mols))):\n",
    "        index = 0\n",
    "        res_temp = []\n",
    "        while(len(res_temp)<20 and index <100):\n",
    "            random_smiles = MolToSmiles(mol, doRandom=True) # e.g 'C(C(=O)O)N' \n",
    "            res_temp.append(random_smiles)\n",
    "            res_temp = list(set(res_temp))\n",
    "            index+=1\n",
    "        res += res_temp\n",
    "        res_labels += [labels[index1]]*len(res_temp)\n",
    "        len_list.append(len(res_temp))\n",
    "        \n",
    "    # mapping atomID into SMILES srting\n",
    "    res_train = []\n",
    "\n",
    "\n",
    "    for smiles in tqdm(res):\n",
    "        tmp = MolFromSmiles(smiles)\n",
    "        for atom in tmp.GetAtoms():\n",
    "            atom.SetAtomMapNum(atom.GetIdx())\n",
    "        smiles_1 = MolToSmiles(tmp) # 'C([C:1](=[O:2])[OH:3])[NH2:4]' \n",
    "        ais_tokens_1 = atomInSmiles.encode(smiles_1, with_atomMap=True).split(' ')\n",
    "        res_train.append(ais_tokens_1)\n",
    "\n",
    "    return res_train,res_labels,len_list"
   ]
  },
  {
   "cell_type": "code",
   "execution_count": 8,
   "metadata": {},
   "outputs": [],
   "source": [
    "Tox_list = ['hERG_Karim','LD50_Zhu','hERG','AMES','DILI','Skin Reaction','Carcinogens_Lagunin','ClinTox']"
   ]
  },
  {
   "cell_type": "code",
   "execution_count": 9,
   "metadata": {},
   "outputs": [
    {
     "name": "stderr",
     "output_type": "stream",
     "text": [
      "Found local copy...\n",
      "Loading...\n",
      "Done!\n"
     ]
    }
   ],
   "source": [
    "tox_train,tox_label = Tox(name='herg').get_data(format='DeepPurpose')"
   ]
  },
  {
   "cell_type": "code",
   "execution_count": 36,
   "metadata": {},
   "outputs": [
    {
     "name": "stderr",
     "output_type": "stream",
     "text": [
      "100%|██████████| 5/5 [00:00<00:00, 188.18it/s]\n",
      "100%|██████████| 100/100 [00:00<00:00, 458.74it/s]\n"
     ]
    },
    {
     "data": {
      "text/plain": [
       "100"
      ]
     },
     "execution_count": 36,
     "metadata": {},
     "output_type": "execute_result"
    }
   ],
   "source": [
    "len(encode(tox_train[:5],tox_label[:5])[0])"
   ]
  },
  {
   "cell_type": "code",
   "execution_count": 16,
   "metadata": {},
   "outputs": [],
   "source": [
    "def create_variable(var_name):\n",
    "    globals()[var_name] = []\n",
    "def get_variable_value(var_name):\n",
    "    return globals().get(var_name)\n"
   ]
  },
  {
   "cell_type": "code",
   "execution_count": 38,
   "metadata": {},
   "outputs": [
    {
     "name": "stderr",
     "output_type": "stream",
     "text": [
      "Found local copy...\n",
      "Loading...\n",
      "Done!\n",
      "100%|██████████| 13445/13445 [00:18<00:00, 743.04it/s]\n",
      "100%|██████████| 268795/268795 [06:41<00:00, 669.20it/s]\n",
      "Found local copy...\n",
      "Loading...\n",
      "Done!\n",
      "100%|██████████| 7385/7385 [00:06<00:00, 1111.57it/s]\n",
      "100%|██████████| 141234/141234 [01:48<00:00, 1297.08it/s]\n",
      "Found local copy...\n",
      "Loading...\n",
      "Done!\n",
      "[13:46:48] WARNING: not removing hydrogen atom without neighbors\n",
      "[13:46:48] WARNING: not removing hydrogen atom without neighbors\n",
      "100%|██████████| 655/655 [00:00<00:00, 845.44it/s]\n",
      " 86%|████████▋ | 11293/13092 [00:14<00:01, 1198.55it/s][13:47:03] WARNING: not removing hydrogen atom without neighbors\n",
      "[13:47:03] WARNING: not removing hydrogen atom without neighbors\n",
      "[13:47:03] WARNING: not removing hydrogen atom without neighbors\n",
      "[13:47:03] WARNING: not removing hydrogen atom without neighbors\n",
      "[13:47:03] WARNING: not removing hydrogen atom without neighbors\n",
      "[13:47:03] WARNING: not removing hydrogen atom without neighbors\n",
      "[13:47:03] WARNING: not removing hydrogen atom without neighbors\n",
      "[13:47:03] WARNING: not removing hydrogen atom without neighbors\n",
      "[13:47:03] WARNING: not removing hydrogen atom without neighbors\n",
      "[13:47:03] WARNING: not removing hydrogen atom without neighbors\n",
      "[13:47:03] WARNING: not removing hydrogen atom without neighbors\n",
      "[13:47:03] WARNING: not removing hydrogen atom without neighbors\n",
      "[13:47:03] WARNING: not removing hydrogen atom without neighbors\n",
      "[13:47:03] WARNING: not removing hydrogen atom without neighbors\n",
      "[13:47:03] WARNING: not removing hydrogen atom without neighbors\n",
      "[13:47:03] WARNING: not removing hydrogen atom without neighbors\n",
      "[13:47:03] WARNING: not removing hydrogen atom without neighbors\n",
      "[13:47:03] WARNING: not removing hydrogen atom without neighbors\n",
      "[13:47:03] WARNING: not removing hydrogen atom without neighbors\n",
      "[13:47:03] WARNING: not removing hydrogen atom without neighbors\n",
      "[13:47:03] WARNING: not removing hydrogen atom without neighbors\n",
      "[13:47:03] WARNING: not removing hydrogen atom without neighbors\n",
      "[13:47:03] WARNING: not removing hydrogen atom without neighbors\n",
      "[13:47:03] WARNING: not removing hydrogen atom without neighbors\n",
      "[13:47:03] WARNING: not removing hydrogen atom without neighbors\n",
      "[13:47:03] WARNING: not removing hydrogen atom without neighbors\n",
      "[13:47:03] WARNING: not removing hydrogen atom without neighbors\n",
      "[13:47:03] WARNING: not removing hydrogen atom without neighbors\n",
      "[13:47:03] WARNING: not removing hydrogen atom without neighbors\n",
      "[13:47:03] WARNING: not removing hydrogen atom without neighbors\n",
      "[13:47:03] WARNING: not removing hydrogen atom without neighbors\n",
      "[13:47:03] WARNING: not removing hydrogen atom without neighbors\n",
      "[13:47:03] WARNING: not removing hydrogen atom without neighbors\n",
      "[13:47:03] WARNING: not removing hydrogen atom without neighbors\n",
      "[13:47:03] WARNING: not removing hydrogen atom without neighbors\n",
      "[13:47:03] WARNING: not removing hydrogen atom without neighbors\n",
      "[13:47:03] WARNING: not removing hydrogen atom without neighbors\n",
      "[13:47:03] WARNING: not removing hydrogen atom without neighbors\n",
      "[13:47:03] WARNING: not removing hydrogen atom without neighbors\n",
      "[13:47:03] WARNING: not removing hydrogen atom without neighbors\n",
      "[13:47:03] WARNING: not removing hydrogen atom without neighbors\n",
      "[13:47:03] WARNING: not removing hydrogen atom without neighbors\n",
      "[13:47:03] WARNING: not removing hydrogen atom without neighbors\n",
      "[13:47:03] WARNING: not removing hydrogen atom without neighbors\n",
      "[13:47:03] WARNING: not removing hydrogen atom without neighbors\n",
      "[13:47:03] WARNING: not removing hydrogen atom without neighbors\n",
      "[13:47:03] WARNING: not removing hydrogen atom without neighbors\n",
      "[13:47:03] WARNING: not removing hydrogen atom without neighbors\n",
      "[13:47:03] WARNING: not removing hydrogen atom without neighbors\n",
      "[13:47:03] WARNING: not removing hydrogen atom without neighbors\n",
      "[13:47:03] WARNING: not removing hydrogen atom without neighbors\n",
      "[13:47:03] WARNING: not removing hydrogen atom without neighbors\n",
      "[13:47:03] WARNING: not removing hydrogen atom without neighbors\n",
      "[13:47:03] WARNING: not removing hydrogen atom without neighbors\n",
      "[13:47:03] WARNING: not removing hydrogen atom without neighbors\n",
      "[13:47:03] WARNING: not removing hydrogen atom without neighbors\n",
      "[13:47:03] WARNING: not removing hydrogen atom without neighbors\n",
      "[13:47:03] WARNING: not removing hydrogen atom without neighbors\n",
      "[13:47:03] WARNING: not removing hydrogen atom without neighbors\n",
      "[13:47:03] WARNING: not removing hydrogen atom without neighbors\n",
      "[13:47:03] WARNING: not removing hydrogen atom without neighbors\n",
      "[13:47:03] WARNING: not removing hydrogen atom without neighbors\n",
      "[13:47:03] WARNING: not removing hydrogen atom without neighbors\n",
      "[13:47:03] WARNING: not removing hydrogen atom without neighbors\n",
      "[13:47:03] WARNING: not removing hydrogen atom without neighbors\n",
      "[13:47:03] WARNING: not removing hydrogen atom without neighbors\n",
      "[13:47:03] WARNING: not removing hydrogen atom without neighbors\n",
      "[13:47:03] WARNING: not removing hydrogen atom without neighbors\n",
      "[13:47:03] WARNING: not removing hydrogen atom without neighbors\n",
      "[13:47:03] WARNING: not removing hydrogen atom without neighbors\n",
      "[13:47:03] WARNING: not removing hydrogen atom without neighbors\n",
      "[13:47:03] WARNING: not removing hydrogen atom without neighbors\n",
      "[13:47:03] WARNING: not removing hydrogen atom without neighbors\n",
      "[13:47:03] WARNING: not removing hydrogen atom without neighbors\n",
      "[13:47:03] WARNING: not removing hydrogen atom without neighbors\n",
      "[13:47:03] WARNING: not removing hydrogen atom without neighbors\n",
      "[13:47:03] WARNING: not removing hydrogen atom without neighbors\n",
      "[13:47:03] WARNING: not removing hydrogen atom without neighbors\n",
      "[13:47:03] WARNING: not removing hydrogen atom without neighbors\n",
      "[13:47:03] WARNING: not removing hydrogen atom without neighbors\n",
      "[13:47:03] WARNING: not removing hydrogen atom without neighbors\n",
      "[13:47:03] WARNING: not removing hydrogen atom without neighbors\n",
      "[13:47:03] WARNING: not removing hydrogen atom without neighbors\n",
      "[13:47:03] WARNING: not removing hydrogen atom without neighbors\n",
      "[13:47:03] WARNING: not removing hydrogen atom without neighbors\n",
      "[13:47:03] WARNING: not removing hydrogen atom without neighbors\n",
      "[13:47:03] WARNING: not removing hydrogen atom without neighbors\n",
      "[13:47:03] WARNING: not removing hydrogen atom without neighbors\n",
      "[13:47:03] WARNING: not removing hydrogen atom without neighbors\n",
      "[13:47:03] WARNING: not removing hydrogen atom without neighbors\n",
      "[13:47:03] WARNING: not removing hydrogen atom without neighbors\n",
      "[13:47:03] WARNING: not removing hydrogen atom without neighbors\n",
      "[13:47:03] WARNING: not removing hydrogen atom without neighbors\n",
      "[13:47:03] WARNING: not removing hydrogen atom without neighbors\n",
      "[13:47:03] WARNING: not removing hydrogen atom without neighbors\n",
      "[13:47:03] WARNING: not removing hydrogen atom without neighbors\n",
      "[13:47:03] WARNING: not removing hydrogen atom without neighbors\n",
      "[13:47:03] WARNING: not removing hydrogen atom without neighbors\n",
      "[13:47:03] WARNING: not removing hydrogen atom without neighbors\n",
      "[13:47:03] WARNING: not removing hydrogen atom without neighbors\n",
      "[13:47:03] WARNING: not removing hydrogen atom without neighbors\n",
      "[13:47:03] WARNING: not removing hydrogen atom without neighbors\n",
      "[13:47:03] WARNING: not removing hydrogen atom without neighbors\n",
      "[13:47:03] WARNING: not removing hydrogen atom without neighbors\n",
      "[13:47:03] WARNING: not removing hydrogen atom without neighbors\n",
      "[13:47:03] WARNING: not removing hydrogen atom without neighbors\n",
      "[13:47:03] WARNING: not removing hydrogen atom without neighbors\n",
      "[13:47:03] WARNING: not removing hydrogen atom without neighbors\n",
      "[13:47:03] WARNING: not removing hydrogen atom without neighbors\n",
      "[13:47:03] WARNING: not removing hydrogen atom without neighbors\n",
      "[13:47:03] WARNING: not removing hydrogen atom without neighbors\n",
      "[13:47:03] WARNING: not removing hydrogen atom without neighbors\n",
      "[13:47:03] WARNING: not removing hydrogen atom without neighbors\n",
      "[13:47:03] WARNING: not removing hydrogen atom without neighbors\n",
      "[13:47:03] WARNING: not removing hydrogen atom without neighbors\n",
      "[13:47:03] WARNING: not removing hydrogen atom without neighbors\n",
      "[13:47:03] WARNING: not removing hydrogen atom without neighbors\n",
      "[13:47:03] WARNING: not removing hydrogen atom without neighbors\n",
      "[13:47:03] WARNING: not removing hydrogen atom without neighbors\n",
      "[13:47:03] WARNING: not removing hydrogen atom without neighbors\n",
      "100%|██████████| 13092/13092 [00:16<00:00, 807.00it/s] \n",
      "Found local copy...\n",
      "Loading...\n",
      "Done!\n",
      "100%|██████████| 7278/7278 [00:06<00:00, 1099.51it/s]\n",
      "100%|██████████| 139903/139903 [01:57<00:00, 1186.50it/s]\n",
      "Found local copy...\n",
      "Loading...\n",
      "Done!\n",
      "100%|██████████| 475/475 [00:00<00:00, 927.83it/s] \n",
      "100%|██████████| 9400/9400 [00:10<00:00, 883.67it/s] \n",
      "Found local copy...\n",
      "Loading...\n",
      "Done!\n",
      "100%|██████████| 404/404 [00:00<00:00, 1065.57it/s]\n",
      "100%|██████████| 7712/7712 [00:05<00:00, 1357.53it/s]\n",
      "Found local copy...\n",
      "Loading...\n",
      "Done!\n",
      "100%|██████████| 280/280 [00:00<00:00, 818.85it/s]\n",
      "100%|██████████| 5501/5501 [00:06<00:00, 846.01it/s] \n",
      "Found local copy...\n",
      "Loading...\n",
      "Done!\n",
      "100%|██████████| 1478/1478 [00:01<00:00, 775.55it/s]\n",
      "100%|██████████| 29007/29007 [00:35<00:00, 817.15it/s] \n"
     ]
    }
   ],
   "source": [
    "import pickle\n",
    "for tox in Tox_list:\n",
    "    create_variable(tox)\n",
    "    tox_train,tox_label = Tox(name=tox).get_data(format='DeepPurpose')\n",
    "    temp_train = get_variable_value(tox)\n",
    "    res = encode(tox_train,tox_label)\n",
    "    temp_train.append(res)\n",
    "    with open('./AIS_Tox_data/'+tox,'wb') as file:\n",
    "        pickle.dump(temp_train,file)\n"
   ]
  },
  {
   "cell_type": "code",
   "execution_count": 27,
   "metadata": {},
   "outputs": [
    {
     "name": "stderr",
     "output_type": "stream",
     "text": [
      "Found local copy...\n",
      "Loading...\n",
      "Done!\n",
      "100%|██████████| 306893/306893 [05:32<00:00, 922.53it/s]\n",
      "  4%|▍         | 257369/6137266 [05:12<4:55:06, 332.08it/s]"
     ]
    }
   ],
   "source": [
    "from tdc.utils import retrieve_label_name_list\n",
    "import pickle\n",
    "Tox_list_label = ['herg_central','Tox21','ToxCast']\n",
    "for tox in Tox_list_label:\n",
    "    label_list = retrieve_label_name_list(tox)\n",
    "    for label in label_list:\n",
    "\n",
    "        create_variable(tox+'_'+label)\n",
    "        tox_train,tox_label = Tox(name=tox,label_name=label).get_data(format='DeepPurpose')\n",
    "        temp_train = get_variable_value(tox+'_'+label)\n",
    "        temp_train.append(encode(tox_train,tox_label))\n",
    "        with open('./AIS_Tox_data/'+tox+'_'+label,'wb') as file:\n",
    "            pickle.dump(temp_train,file)"
   ]
  },
  {
   "cell_type": "code",
   "execution_count": null,
   "metadata": {},
   "outputs": [],
   "source": []
  }
 ],
 "metadata": {
  "kernelspec": {
   "display_name": "Python 3",
   "language": "python",
   "name": "python3"
  },
  "language_info": {
   "codemirror_mode": {
    "name": "ipython",
    "version": 3
   },
   "file_extension": ".py",
   "mimetype": "text/x-python",
   "name": "python",
   "nbconvert_exporter": "python",
   "pygments_lexer": "ipython3",
   "version": "3.10.12"
  }
 },
 "nbformat": 4,
 "nbformat_minor": 2
}
