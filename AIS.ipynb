{
 "cells": [
  {
   "cell_type": "code",
   "execution_count": 17,
   "metadata": {},
   "outputs": [
    {
     "name": "stderr",
     "output_type": "stream",
     "text": [
      "2023-12-27 18:01:21.082933: I tensorflow/core/platform/cpu_feature_guard.cc:193] This TensorFlow binary is optimized with oneAPI Deep Neural Network Library (oneDNN) to use the following CPU instructions in performance-critical operations:  AVX2 AVX512F AVX512_VNNI FMA\n",
      "To enable them in other operations, rebuild TensorFlow with the appropriate compiler flags.\n",
      "2023-12-27 18:01:21.260536: I tensorflow/core/util/port.cc:104] oneDNN custom operations are on. You may see slightly different numerical results due to floating-point round-off errors from different computation orders. To turn them off, set the environment variable `TF_ENABLE_ONEDNN_OPTS=0`.\n",
      "2023-12-27 18:01:21.962047: W tensorflow/compiler/xla/stream_executor/platform/default/dso_loader.cc:64] Could not load dynamic library 'libnvinfer.so.7'; dlerror: libnvinfer.so.7: cannot open shared object file: No such file or directory; LD_LIBRARY_PATH: :/usr/local/cuda-11.8/lib64:/usr/local/cuda-11.3/lib64\n",
      "2023-12-27 18:01:21.962171: W tensorflow/compiler/xla/stream_executor/platform/default/dso_loader.cc:64] Could not load dynamic library 'libnvinfer_plugin.so.7'; dlerror: libnvinfer_plugin.so.7: cannot open shared object file: No such file or directory; LD_LIBRARY_PATH: :/usr/local/cuda-11.8/lib64:/usr/local/cuda-11.3/lib64\n",
      "2023-12-27 18:01:21.962179: W tensorflow/compiler/tf2tensorrt/utils/py_utils.cc:38] TF-TRT Warning: Cannot dlopen some TensorRT libraries. If you would like to use Nvidia GPU with TensorRT, please make sure the missing libraries mentioned above are installed properly.\n"
     ]
    }
   ],
   "source": [
    "import tensorflow as tf\n",
    "import numpy as np\n",
    "from tdc.single_pred import Tox\n",
    "from rdkit import Chem"
   ]
  },
  {
   "cell_type": "code",
   "execution_count": 18,
   "metadata": {},
   "outputs": [],
   "source": [
    "def Chem_generator(smiles):\n",
    "    res_list = []\n",
    "    for i in tqdm(smiles):\n",
    "        mol = Chem.MolFromSmiles(i)\n",
    "        temp = []\n",
    "        index = 0\n",
    "        while(len(set(temp))!=4 and index != 100):\n",
    "            index+=1\n",
    "            temp.append(Chem.MolToSmiles(mol,doRandom=True))\n",
    "        res_list+=list(set(temp))\n",
    "    return res_list"
   ]
  },
  {
   "cell_type": "code",
   "execution_count": 19,
   "metadata": {},
   "outputs": [],
   "source": [
    "from rdkit.Chem import MolFromSmiles, MolToSmiles\n",
    "import atomInSmiles\n",
    "from tqdm import tqdm\n",
    "import atomInSmiles\n",
    "def encode(smiles_list,labels):\n",
    "    mols = []\n",
    "    res_labels = []\n",
    "    len_list = []\n",
    "    \n",
    "    for smiles in smiles_list:\n",
    "        mol = MolFromSmiles(smiles)\n",
    "        mols.append(mol)\n",
    "    res = []\n",
    "    for index1,mol in (enumerate(tqdm(mols))):\n",
    "        index = 0\n",
    "        res_temp = []\n",
    "        while(len(res_temp)<20 and index <100):\n",
    "            random_smiles = MolToSmiles(mol, doRandom=True) # e.g 'C(C(=O)O)N' \n",
    "            res_temp.append(random_smiles)\n",
    "            res_temp = list(set(res_temp))\n",
    "            index+=1\n",
    "        res += res_temp\n",
    "        res_labels += [labels[index1]]*len(res_temp)\n",
    "        len_list.append(len(res_temp))\n",
    "        \n",
    "    # mapping atomID into SMILES srting\n",
    "    res_train = []\n",
    "\n",
    "\n",
    "    for smiles in tqdm(res):\n",
    "        tmp = MolFromSmiles(smiles)\n",
    "        for atom in tmp.GetAtoms():\n",
    "            atom.SetAtomMapNum(atom.GetIdx())\n",
    "        smiles_1 = MolToSmiles(tmp) # 'C([C:1](=[O:2])[OH:3])[NH2:4]' \n",
    "        ais_tokens_1 = atomInSmiles.encode(smiles_1, with_atomMap=True).split(' ')\n",
    "        res_train.append(ais_tokens_1)\n",
    "\n",
    "    return res_train,res_labels,len_list"
   ]
  },
  {
   "cell_type": "code",
   "execution_count": 8,
   "metadata": {},
   "outputs": [],
   "source": [
    "Tox_list = ['hERG_Karim','LD50_Zhu','hERG','AMES','DILI','Skin Reaction','Carcinogens_Lagunin','ClinTox']"
   ]
  },
  {
   "cell_type": "code",
   "execution_count": 9,
   "metadata": {},
   "outputs": [
    {
     "name": "stderr",
     "output_type": "stream",
     "text": [
      "Found local copy...\n",
      "Loading...\n",
      "Done!\n"
     ]
    }
   ],
   "source": [
    "tox_train,tox_label = Tox(name='herg').get_data(format='DeepPurpose')"
   ]
  },
  {
   "cell_type": "code",
   "execution_count": 36,
   "metadata": {},
   "outputs": [
    {
     "name": "stderr",
     "output_type": "stream",
     "text": [
      "100%|██████████| 5/5 [00:00<00:00, 188.18it/s]\n",
      "100%|██████████| 100/100 [00:00<00:00, 458.74it/s]\n"
     ]
    },
    {
     "data": {
      "text/plain": [
       "100"
      ]
     },
     "execution_count": 36,
     "metadata": {},
     "output_type": "execute_result"
    }
   ],
   "source": [
    "len(encode(tox_train[:5],tox_label[:5])[0])"
   ]
  },
  {
   "cell_type": "code",
   "execution_count": 16,
   "metadata": {},
   "outputs": [],
   "source": [
    "def create_variable(var_name):\n",
    "    globals()[var_name] = []\n",
    "def get_variable_value(var_name):\n",
    "    return globals().get(var_name)\n"
   ]
  },
  {
   "cell_type": "code",
   "execution_count": 38,
   "metadata": {},
   "outputs": [
    {
     "name": "stderr",
     "output_type": "stream",
     "text": [
      "Found local copy...\n",
      "Loading...\n",
      "Done!\n",
      "100%|██████████| 13445/13445 [00:18<00:00, 743.04it/s]\n",
      "100%|██████████| 268795/268795 [06:41<00:00, 669.20it/s]\n",
      "Found local copy...\n",
      "Loading...\n",
      "Done!\n",
      "100%|██████████| 7385/7385 [00:06<00:00, 1111.57it/s]\n",
      "100%|██████████| 141234/141234 [01:48<00:00, 1297.08it/s]\n",
      "Found local copy...\n",
      "Loading...\n",
      "Done!\n",
      "[13:46:48] WARNING: not removing hydrogen atom without neighbors\n",
      "[13:46:48] WARNING: not removing hydrogen atom without neighbors\n",
      "100%|██████████| 655/655 [00:00<00:00, 845.44it/s]\n",
      " 86%|████████▋ | 11293/13092 [00:14<00:01, 1198.55it/s][13:47:03] WARNING: not removing hydrogen atom without neighbors\n",
      "[13:47:03] WARNING: not removing hydrogen atom without neighbors\n",
      "[13:47:03] WARNING: not removing hydrogen atom without neighbors\n",
      "[13:47:03] WARNING: not removing hydrogen atom without neighbors\n",
      "[13:47:03] WARNING: not removing hydrogen atom without neighbors\n",
      "[13:47:03] WARNING: not removing hydrogen atom without neighbors\n",
      "[13:47:03] WARNING: not removing hydrogen atom without neighbors\n",
      "[13:47:03] WARNING: not removing hydrogen atom without neighbors\n",
      "[13:47:03] WARNING: not removing hydrogen atom without neighbors\n",
      "[13:47:03] WARNING: not removing hydrogen atom without neighbors\n",
      "[13:47:03] WARNING: not removing hydrogen atom without neighbors\n",
      "[13:47:03] WARNING: not removing hydrogen atom without neighbors\n",
      "[13:47:03] WARNING: not removing hydrogen atom without neighbors\n",
      "[13:47:03] WARNING: not removing hydrogen atom without neighbors\n",
      "[13:47:03] WARNING: not removing hydrogen atom without neighbors\n",
      "[13:47:03] WARNING: not removing hydrogen atom without neighbors\n",
      "[13:47:03] WARNING: not removing hydrogen atom without neighbors\n",
      "[13:47:03] WARNING: not removing hydrogen atom without neighbors\n",
      "[13:47:03] WARNING: not removing hydrogen atom without neighbors\n",
      "[13:47:03] WARNING: not removing hydrogen atom without neighbors\n",
      "[13:47:03] WARNING: not removing hydrogen atom without neighbors\n",
      "[13:47:03] WARNING: not removing hydrogen atom without neighbors\n",
      "[13:47:03] WARNING: not removing hydrogen atom without neighbors\n",
      "[13:47:03] WARNING: not removing hydrogen atom without neighbors\n",
      "[13:47:03] WARNING: not removing hydrogen atom without neighbors\n",
      "[13:47:03] WARNING: not removing hydrogen atom without neighbors\n",
      "[13:47:03] WARNING: not removing hydrogen atom without neighbors\n",
      "[13:47:03] WARNING: not removing hydrogen atom without neighbors\n",
      "[13:47:03] WARNING: not removing hydrogen atom without neighbors\n",
      "[13:47:03] WARNING: not removing hydrogen atom without neighbors\n",
      "[13:47:03] WARNING: not removing hydrogen atom without neighbors\n",
      "[13:47:03] WARNING: not removing hydrogen atom without neighbors\n",
      "[13:47:03] WARNING: not removing hydrogen atom without neighbors\n",
      "[13:47:03] WARNING: not removing hydrogen atom without neighbors\n",
      "[13:47:03] WARNING: not removing hydrogen atom without neighbors\n",
      "[13:47:03] WARNING: not removing hydrogen atom without neighbors\n",
      "[13:47:03] WARNING: not removing hydrogen atom without neighbors\n",
      "[13:47:03] WARNING: not removing hydrogen atom without neighbors\n",
      "[13:47:03] WARNING: not removing hydrogen atom without neighbors\n",
      "[13:47:03] WARNING: not removing hydrogen atom without neighbors\n",
      "[13:47:03] WARNING: not removing hydrogen atom without neighbors\n",
      "[13:47:03] WARNING: not removing hydrogen atom without neighbors\n",
      "[13:47:03] WARNING: not removing hydrogen atom without neighbors\n",
      "[13:47:03] WARNING: not removing hydrogen atom without neighbors\n",
      "[13:47:03] WARNING: not removing hydrogen atom without neighbors\n",
      "[13:47:03] WARNING: not removing hydrogen atom without neighbors\n",
      "[13:47:03] WARNING: not removing hydrogen atom without neighbors\n",
      "[13:47:03] WARNING: not removing hydrogen atom without neighbors\n",
      "[13:47:03] WARNING: not removing hydrogen atom without neighbors\n",
      "[13:47:03] WARNING: not removing hydrogen atom without neighbors\n",
      "[13:47:03] WARNING: not removing hydrogen atom without neighbors\n",
      "[13:47:03] WARNING: not removing hydrogen atom without neighbors\n",
      "[13:47:03] WARNING: not removing hydrogen atom without neighbors\n",
      "[13:47:03] WARNING: not removing hydrogen atom without neighbors\n",
      "[13:47:03] WARNING: not removing hydrogen atom without neighbors\n",
      "[13:47:03] WARNING: not removing hydrogen atom without neighbors\n",
      "[13:47:03] WARNING: not removing hydrogen atom without neighbors\n",
      "[13:47:03] WARNING: not removing hydrogen atom without neighbors\n",
      "[13:47:03] WARNING: not removing hydrogen atom without neighbors\n",
      "[13:47:03] WARNING: not removing hydrogen atom without neighbors\n",
      "[13:47:03] WARNING: not removing hydrogen atom without neighbors\n",
      "[13:47:03] WARNING: not removing hydrogen atom without neighbors\n",
      "[13:47:03] WARNING: not removing hydrogen atom without neighbors\n",
      "[13:47:03] WARNING: not removing hydrogen atom without neighbors\n",
      "[13:47:03] WARNING: not removing hydrogen atom without neighbors\n",
      "[13:47:03] WARNING: not removing hydrogen atom without neighbors\n",
      "[13:47:03] WARNING: not removing hydrogen atom without neighbors\n",
      "[13:47:03] WARNING: not removing hydrogen atom without neighbors\n",
      "[13:47:03] WARNING: not removing hydrogen atom without neighbors\n",
      "[13:47:03] WARNING: not removing hydrogen atom without neighbors\n",
      "[13:47:03] WARNING: not removing hydrogen atom without neighbors\n",
      "[13:47:03] WARNING: not removing hydrogen atom without neighbors\n",
      "[13:47:03] WARNING: not removing hydrogen atom without neighbors\n",
      "[13:47:03] WARNING: not removing hydrogen atom without neighbors\n",
      "[13:47:03] WARNING: not removing hydrogen atom without neighbors\n",
      "[13:47:03] WARNING: not removing hydrogen atom without neighbors\n",
      "[13:47:03] WARNING: not removing hydrogen atom without neighbors\n",
      "[13:47:03] WARNING: not removing hydrogen atom without neighbors\n",
      "[13:47:03] WARNING: not removing hydrogen atom without neighbors\n",
      "[13:47:03] WARNING: not removing hydrogen atom without neighbors\n",
      "[13:47:03] WARNING: not removing hydrogen atom without neighbors\n",
      "[13:47:03] WARNING: not removing hydrogen atom without neighbors\n",
      "[13:47:03] WARNING: not removing hydrogen atom without neighbors\n",
      "[13:47:03] WARNING: not removing hydrogen atom without neighbors\n",
      "[13:47:03] WARNING: not removing hydrogen atom without neighbors\n",
      "[13:47:03] WARNING: not removing hydrogen atom without neighbors\n",
      "[13:47:03] WARNING: not removing hydrogen atom without neighbors\n",
      "[13:47:03] WARNING: not removing hydrogen atom without neighbors\n",
      "[13:47:03] WARNING: not removing hydrogen atom without neighbors\n",
      "[13:47:03] WARNING: not removing hydrogen atom without neighbors\n",
      "[13:47:03] WARNING: not removing hydrogen atom without neighbors\n",
      "[13:47:03] WARNING: not removing hydrogen atom without neighbors\n",
      "[13:47:03] WARNING: not removing hydrogen atom without neighbors\n",
      "[13:47:03] WARNING: not removing hydrogen atom without neighbors\n",
      "[13:47:03] WARNING: not removing hydrogen atom without neighbors\n",
      "[13:47:03] WARNING: not removing hydrogen atom without neighbors\n",
      "[13:47:03] WARNING: not removing hydrogen atom without neighbors\n",
      "[13:47:03] WARNING: not removing hydrogen atom without neighbors\n",
      "[13:47:03] WARNING: not removing hydrogen atom without neighbors\n",
      "[13:47:03] WARNING: not removing hydrogen atom without neighbors\n",
      "[13:47:03] WARNING: not removing hydrogen atom without neighbors\n",
      "[13:47:03] WARNING: not removing hydrogen atom without neighbors\n",
      "[13:47:03] WARNING: not removing hydrogen atom without neighbors\n",
      "[13:47:03] WARNING: not removing hydrogen atom without neighbors\n",
      "[13:47:03] WARNING: not removing hydrogen atom without neighbors\n",
      "[13:47:03] WARNING: not removing hydrogen atom without neighbors\n",
      "[13:47:03] WARNING: not removing hydrogen atom without neighbors\n",
      "[13:47:03] WARNING: not removing hydrogen atom without neighbors\n",
      "[13:47:03] WARNING: not removing hydrogen atom without neighbors\n",
      "[13:47:03] WARNING: not removing hydrogen atom without neighbors\n",
      "[13:47:03] WARNING: not removing hydrogen atom without neighbors\n",
      "[13:47:03] WARNING: not removing hydrogen atom without neighbors\n",
      "[13:47:03] WARNING: not removing hydrogen atom without neighbors\n",
      "[13:47:03] WARNING: not removing hydrogen atom without neighbors\n",
      "[13:47:03] WARNING: not removing hydrogen atom without neighbors\n",
      "[13:47:03] WARNING: not removing hydrogen atom without neighbors\n",
      "[13:47:03] WARNING: not removing hydrogen atom without neighbors\n",
      "[13:47:03] WARNING: not removing hydrogen atom without neighbors\n",
      "[13:47:03] WARNING: not removing hydrogen atom without neighbors\n",
      "[13:47:03] WARNING: not removing hydrogen atom without neighbors\n",
      "100%|██████████| 13092/13092 [00:16<00:00, 807.00it/s] \n",
      "Found local copy...\n",
      "Loading...\n",
      "Done!\n",
      "100%|██████████| 7278/7278 [00:06<00:00, 1099.51it/s]\n",
      "100%|██████████| 139903/139903 [01:57<00:00, 1186.50it/s]\n",
      "Found local copy...\n",
      "Loading...\n",
      "Done!\n",
      "100%|██████████| 475/475 [00:00<00:00, 927.83it/s] \n",
      "100%|██████████| 9400/9400 [00:10<00:00, 883.67it/s] \n",
      "Found local copy...\n",
      "Loading...\n",
      "Done!\n",
      "100%|██████████| 404/404 [00:00<00:00, 1065.57it/s]\n",
      "100%|██████████| 7712/7712 [00:05<00:00, 1357.53it/s]\n",
      "Found local copy...\n",
      "Loading...\n",
      "Done!\n",
      "100%|██████████| 280/280 [00:00<00:00, 818.85it/s]\n",
      "100%|██████████| 5501/5501 [00:06<00:00, 846.01it/s] \n",
      "Found local copy...\n",
      "Loading...\n",
      "Done!\n",
      "100%|██████████| 1478/1478 [00:01<00:00, 775.55it/s]\n",
      "100%|██████████| 29007/29007 [00:35<00:00, 817.15it/s] \n"
     ]
    }
   ],
   "source": [
    "import pickle\n",
    "for tox in Tox_list:\n",
    "    create_variable(tox)\n",
    "    tox_train,tox_label = Tox(name=tox).get_data(format='DeepPurpose')\n",
    "    temp_train = get_variable_value(tox)\n",
    "    res = encode(tox_train,tox_label)\n",
    "    temp_train.append(res)\n",
    "    with open('./AIS_Tox_data/'+tox,'wb') as file:\n",
    "        pickle.dump(temp_train,file)\n"
   ]
  },
  {
   "cell_type": "code",
   "execution_count": 27,
   "metadata": {},
   "outputs": [
    {
     "name": "stderr",
     "output_type": "stream",
     "text": [
      "Found local copy...\n",
      "Loading...\n",
      "Done!\n",
      "100%|██████████| 306893/306893 [05:32<00:00, 922.53it/s]\n",
      " 13%|█▎        | 794780/6137266 [16:12<1:44:04, 855.48it/s] "
     ]
    }
   ],
   "source": [
    "from tdc.utils import retrieve_label_name_list\n",
    "import pickle\n",
    "Tox_list_label = ['herg_central','Tox21','ToxCast']\n",
    "for tox in Tox_list_label:\n",
    "    label_list = retrieve_label_name_list(tox)\n",
    "    for label in label_list:\n",
    "\n",
    "        create_variable(tox+'_'+label)\n",
    "        tox_train,tox_label = Tox(name=tox,label_name=label).get_data(format='DeepPurpose')\n",
    "        temp_train = get_variable_value(tox+'_'+label)\n",
    "        temp_train.append(encode(tox_train,tox_label))\n",
    "        with open('./AIS_Tox_data/'+tox+'_'+label,'wb') as file:\n",
    "            pickle.dump(temp_train,file)"
   ]
  },
  {
   "cell_type": "code",
   "execution_count": 4,
   "metadata": {},
   "outputs": [
    {
     "name": "stderr",
     "output_type": "stream",
     "text": [
      "Found local copy...\n",
      "Loading...\n",
      "Done!\n",
      "100%|██████████| 13445/13445 [00:05<00:00, 2511.33it/s]\n",
      "Found local copy...\n",
      "Loading...\n",
      "Done!\n",
      "100%|██████████| 7385/7385 [00:01<00:00, 6285.09it/s]\n",
      "Found local copy...\n",
      "Loading...\n",
      "Done!\n",
      "100%|██████████| 655/655 [00:00<00:00, 3285.03it/s]\n",
      "Found local copy...\n",
      "Loading...\n",
      "Done!\n",
      "100%|██████████| 7278/7278 [00:01<00:00, 5238.30it/s]\n",
      "Found local copy...\n",
      "Loading...\n",
      "Done!\n",
      "100%|██████████| 475/475 [00:00<00:00, 3726.25it/s]\n",
      "Found local copy...\n",
      "Loading...\n",
      "Done!\n",
      "100%|██████████| 404/404 [00:00<00:00, 6761.71it/s]\n",
      "Found local copy...\n",
      "Loading...\n",
      "Done!\n",
      "100%|██████████| 280/280 [00:00<00:00, 3294.65it/s]\n",
      "Found local copy...\n",
      "Loading...\n",
      "Done!\n",
      "100%|██████████| 1478/1478 [00:00<00:00, 3161.20it/s]\n"
     ]
    }
   ],
   "source": [
    "from tdc.single_pred import Tox\n",
    "import pickle\n",
    "from Module.tokenizer import Tokenizer\n",
    "\n",
    "Tox_list = ['hERG_Karim','LD50_Zhu','hERG','AMES','DILI','Skin Reaction','Carcinogens_Lagunin','ClinTox']\n",
    "for name in Tox_list:\n",
    "    data = Tox(name = name)\n",
    "    split = data.get_split(method = 'scaffold')\n",
    "    train,train_label = split['train'].values[:,1],split['train'].values[:,2]\n",
    "    "
   ]
  },
  {
   "cell_type": "code",
   "execution_count": 34,
   "metadata": {},
   "outputs": [
    {
     "name": "stderr",
     "output_type": "stream",
     "text": [
      "Found local copy...\n",
      "Loading...\n",
      "Done!\n",
      "100%|██████████| 13445/13445 [00:05<00:00, 2466.20it/s]\n"
     ]
    },
    {
     "name": "stdout",
     "output_type": "stream",
     "text": [
      "[1 0 1 ... 1 1 0]\n"
     ]
    },
    {
     "name": "stderr",
     "output_type": "stream",
     "text": [
      "100%|██████████| 10756/10756 [00:14<00:00, 751.91it/s]\n",
      "100%|██████████| 215023/215023 [05:25<00:00, 660.83it/s] \n",
      "100%|██████████| 2689/2689 [00:03<00:00, 751.02it/s]\n",
      "100%|██████████| 53772/53772 [01:23<00:00, 643.57it/s]\n",
      "Found local copy...\n",
      "Loading...\n",
      "Done!\n",
      "100%|██████████| 7385/7385 [00:01<00:00, 6045.79it/s]\n"
     ]
    },
    {
     "name": "stdout",
     "output_type": "stream",
     "text": [
      "[2.343 2.33 3.207 ... 2.692 1.798 3.0660000000000003]\n"
     ]
    },
    {
     "name": "stderr",
     "output_type": "stream",
     "text": [
      "100%|██████████| 5448/5448 [00:04<00:00, 1133.46it/s]\n",
      "100%|██████████| 107614/107614 [01:34<00:00, 1140.64it/s]\n",
      "100%|██████████| 1937/1937 [00:01<00:00, 1052.30it/s]\n",
      "100%|██████████| 33626/33626 [00:17<00:00, 1912.17it/s]\n",
      "Found local copy...\n",
      "Loading...\n",
      "Done!\n",
      "100%|██████████| 655/655 [00:00<00:00, 3226.07it/s]\n"
     ]
    },
    {
     "name": "stdout",
     "output_type": "stream",
     "text": [
      "[1.0 0.0 1.0 1.0 1.0 1.0 1.0 1.0 1.0 1.0 1.0 1.0 1.0 1.0 1.0 0.0 1.0 0.0\n",
      " 0.0 1.0 1.0 0.0 1.0 1.0 1.0 1.0 1.0 1.0 0.0 1.0 1.0 1.0 0.0 1.0 1.0 1.0\n",
      " 1.0 1.0 0.0 1.0 1.0 1.0 0.0 1.0 0.0 1.0 1.0 0.0 1.0 1.0 0.0 1.0 1.0 0.0\n",
      " 1.0 1.0 1.0 0.0 0.0 0.0 0.0 1.0 0.0 1.0 1.0 0.0 0.0 0.0 1.0 1.0 0.0 0.0\n",
      " 1.0 1.0 0.0 1.0 1.0 1.0 0.0 0.0 0.0 1.0 1.0 1.0 1.0 1.0 1.0 1.0 1.0 0.0\n",
      " 1.0 1.0 1.0 0.0 0.0 0.0 1.0 1.0 1.0 1.0 0.0 1.0 1.0 1.0 1.0 1.0 1.0 1.0\n",
      " 1.0 1.0 1.0 1.0 1.0 1.0 1.0 1.0 1.0 1.0 1.0 1.0 1.0 1.0 1.0 1.0 0.0 0.0\n",
      " 1.0 1.0 1.0 1.0 0.0]\n"
     ]
    },
    {
     "name": "stderr",
     "output_type": "stream",
     "text": [
      "100%|██████████| 524/524 [00:00<00:00, 856.58it/s]\n",
      "100%|██████████| 10472/10472 [00:13<00:00, 772.62it/s]\n",
      "100%|██████████| 131/131 [00:00<00:00, 868.88it/s]\n",
      "100%|██████████| 2620/2620 [00:03<00:00, 795.55it/s]\n",
      "Found local copy...\n",
      "Loading...\n",
      "Done!\n",
      "100%|██████████| 7278/7278 [00:01<00:00, 5275.91it/s]\n"
     ]
    },
    {
     "name": "stdout",
     "output_type": "stream",
     "text": [
      "[1 1 1 ... 0 0 0]\n"
     ]
    },
    {
     "name": "stderr",
     "output_type": "stream",
     "text": [
      "100%|██████████| 5822/5822 [00:05<00:00, 1063.18it/s]\n",
      "100%|██████████| 111246/111246 [01:33<00:00, 1187.15it/s]\n",
      "100%|██████████| 1456/1456 [00:01<00:00, 1082.19it/s]\n",
      "100%|██████████| 28647/28647 [00:27<00:00, 1058.87it/s]\n",
      "Found local copy...\n",
      "Loading...\n",
      "Done!\n",
      "100%|██████████| 475/475 [00:00<00:00, 3665.15it/s]\n"
     ]
    },
    {
     "name": "stdout",
     "output_type": "stream",
     "text": [
      "[0.0 0.0 0.0 1.0 1.0 1.0 1.0 1.0 1.0 0.0 0.0 1.0 1.0 1.0 0.0 1.0 1.0 1.0\n",
      " 1.0 1.0 1.0 1.0 0.0 1.0 1.0 1.0 1.0 1.0 0.0 0.0 0.0 1.0 1.0 1.0 1.0 1.0\n",
      " 0.0 0.0 1.0 1.0 1.0 1.0 1.0 1.0 1.0 0.0 1.0 1.0 1.0 0.0 1.0 0.0 0.0 1.0\n",
      " 1.0 0.0 0.0 1.0 1.0 0.0 1.0 1.0 1.0 0.0 1.0 1.0 1.0 1.0 0.0 1.0 1.0 1.0\n",
      " 0.0 1.0 0.0 0.0 0.0 0.0 1.0 0.0 0.0 0.0 0.0 0.0 1.0 0.0 1.0 1.0 1.0 0.0\n",
      " 1.0 1.0 1.0 1.0 1.0]\n"
     ]
    },
    {
     "name": "stderr",
     "output_type": "stream",
     "text": [
      "100%|██████████| 380/380 [00:00<00:00, 944.60it/s]\n",
      "100%|██████████| 7505/7505 [00:08<00:00, 918.70it/s] \n",
      "100%|██████████| 95/95 [00:00<00:00, 855.37it/s]\n",
      "100%|██████████| 1900/1900 [00:02<00:00, 820.42it/s]\n",
      "Found local copy...\n",
      "Loading...\n",
      "Done!\n",
      "100%|██████████| 404/404 [00:00<00:00, 6606.39it/s]\n"
     ]
    },
    {
     "name": "stdout",
     "output_type": "stream",
     "text": [
      "[0 0 0 0 0 0 0 0 0 0 0 0 0 0 0 0 0 0 0 0 0 0 0 0 0 0 0 0 0 0 0 1 1 1 1 1 1\n",
      " 1 1 1 1 1 1 1 1 1 1 1 1 1 1 1 1 1 1 1 1 1 1 1 1 1 1 1 1 1 1 1 1 1 1 1 1 1\n",
      " 1 1 1 1 1 1 1 1 1 1 1 1 1 1 1 1 1 1 1 1 1 1 1 1 1 1 1 1 1 1 1 1 1 1 0 1 1\n",
      " 1 1 1 1]\n"
     ]
    },
    {
     "name": "stderr",
     "output_type": "stream",
     "text": [
      "100%|██████████| 289/289 [00:00<00:00, 1019.26it/s]\n",
      "100%|██████████| 5467/5467 [00:04<00:00, 1277.89it/s]\n",
      "100%|██████████| 115/115 [00:00<00:00, 1282.68it/s]\n",
      "100%|██████████| 2248/2248 [00:01<00:00, 1530.98it/s]\n",
      "Found local copy...\n",
      "Loading...\n",
      "Done!\n",
      "100%|██████████| 280/280 [00:00<00:00, 3229.06it/s]\n"
     ]
    },
    {
     "name": "stdout",
     "output_type": "stream",
     "text": [
      "[0 1 0 0 1 0 0 1 1 1 1 1 0 0 0 0 0 0 0 0 0 0 0 0 0 0 0 0 0 0 0 0 0 0 0 0 1\n",
      " 1 1 1 0 1 0 0 1 0 0 1 0 0 0 0 0 1 1 0]\n"
     ]
    },
    {
     "name": "stderr",
     "output_type": "stream",
     "text": [
      "100%|██████████| 224/224 [00:00<00:00, 830.44it/s]\n",
      "100%|██████████| 4381/4381 [00:05<00:00, 837.25it/s] \n",
      "100%|██████████| 56/56 [00:00<00:00, 804.16it/s]\n",
      "100%|██████████| 1120/1120 [00:01<00:00, 824.84it/s]\n",
      "Found local copy...\n",
      "Loading...\n",
      "Done!\n",
      "100%|██████████| 1478/1478 [00:00<00:00, 3150.57it/s]\n"
     ]
    },
    {
     "name": "stdout",
     "output_type": "stream",
     "text": [
      "[0 0 0 0 0 0 0 0 1 0 0 0 0 0 0 0 0 0 0 0 0 0 0 0 0 0 0 0 0 0 0 0 0 0 0 0 0\n",
      " 0 0 0 0 0 0 0 0 0 0 0 0 0 0 0 0 0 0 0 0 0 0 0 0 0 0 0 0 0 0 0 0 0 0 0 0 0\n",
      " 0 0 0 0 0 0 0 0 0 0 0 0 0 0 0 0 0 0 0 0 0 0 0 0 0 0 0 0 0 0 0 0 0 0 0 0 0\n",
      " 0 0 0 0 0 0 0 0 0 0 0 0 0 0 0 0 0 0 1 0 0 0 0 0 0 1 0 0 0 0 0 0 0 0 0 0 0\n",
      " 0 0 0 0 0 0 0 0 0 0 0 0 0 0 0 0 0 0 0 0 0 0 0 0 0 0 0 0 0 1 0 0 0 1 0 0 0\n",
      " 0 0 0 0 1 0 0 0 0 0 0 0 0 0 0 0 0 0 0 0 0 0 0 0 0 0 1 0 0 0 1 0 0 0 0 0 0\n",
      " 0 0 0 0 0 0 0 0 0 0 0 0 0 0 0 0 0 0 0 0 0 0 0 0 0 0 0 0 0 0 0 0 0 1 0 0 0\n",
      " 0 0 0 0 0 1 1 0 0 0 0 0 0 0 0 0 0 1 1 0 0 0 0 1 0 0 0 0 0 0 0 0 1 0 0 0 0]\n"
     ]
    },
    {
     "name": "stderr",
     "output_type": "stream",
     "text": [
      "100%|██████████| 1182/1182 [00:01<00:00, 828.18it/s]\n",
      "100%|██████████| 23591/23591 [00:30<00:00, 785.62it/s]\n",
      "100%|██████████| 296/296 [00:00<00:00, 888.05it/s] \n",
      "100%|██████████| 5419/5419 [00:05<00:00, 952.71it/s] \n"
     ]
    }
   ],
   "source": [
    "import pickle\n",
    "for tox in Tox_list:\n",
    "    data = Tox(name = tox)\n",
    "    split = data.get_split(method = 'scaffold',frac=[0.8,0.2,0])\n",
    "    train,train_label = split['train'].values[:,1],split['train'].values[:,2]\n",
    "    val,val_label = split['valid'].values[:,1],split['valid'].values[:,2]\n",
    "    print(val_label)\n",
    "    train_res = encode(train,train_label)\n",
    "    val_res = encode(val,val_label)\n",
    "    with open(f'./data_sets/{tox}_train','wb') as file:\n",
    "        pickle.dump(train_res,file)\n",
    "    with open(f'./data_sets/{tox}_val','wb') as file:\n",
    "        pickle.dump(val_res,file)"
   ]
  },
  {
   "cell_type": "code",
   "execution_count": 33,
   "metadata": {},
   "outputs": [
    {
     "data": {
      "text/plain": [
       "296"
      ]
     },
     "execution_count": 33,
     "metadata": {},
     "output_type": "execute_result"
    }
   ],
   "source": [
    "len(val_label)"
   ]
  },
  {
   "cell_type": "code",
   "execution_count": 27,
   "metadata": {},
   "outputs": [
    {
     "data": {
      "text/plain": [
       "['hERG_Karim',\n",
       " 'LD50_Zhu',\n",
       " 'hERG',\n",
       " 'AMES',\n",
       " 'DILI',\n",
       " 'Skin Reaction',\n",
       " 'Carcinogens_Lagunin',\n",
       " 'ClinTox']"
      ]
     },
     "execution_count": 27,
     "metadata": {},
     "output_type": "execute_result"
    }
   ],
   "source": [
    "Tox_list"
   ]
  },
  {
   "cell_type": "code",
   "execution_count": 25,
   "metadata": {},
   "outputs": [
    {
     "ename": "NameError",
     "evalue": "name 'train_res' is not defined",
     "output_type": "error",
     "traceback": [
      "\u001b[0;31m---------------------------------------------------------------------------\u001b[0m",
      "\u001b[0;31mNameError\u001b[0m                                 Traceback (most recent call last)",
      "Cell \u001b[0;32mIn[25], line 1\u001b[0m\n\u001b[0;32m----> 1\u001b[0m \u001b[43mtrain_res\u001b[49m\n",
      "\u001b[0;31mNameError\u001b[0m: name 'train_res' is not defined"
     ]
    }
   ],
   "source": [
    "split = data.get_split(method = 'scaffold',frac=[0.8,0.2,0])\n",
    "train,train_label = split['train'].values[:,1],split['train'].values[:,2]\n",
    "val,val_label = split['train'].values[:,1],split['train'].values[:,2]\n",
    "tox_train,tox_label = Tox(name=tox).get_data(format='DeepPurpose')"
   ]
  },
  {
   "cell_type": "code",
   "execution_count": 22,
   "metadata": {},
   "outputs": [
    {
     "data": {
      "text/html": [
       "<div>\n",
       "<style scoped>\n",
       "    .dataframe tbody tr th:only-of-type {\n",
       "        vertical-align: middle;\n",
       "    }\n",
       "\n",
       "    .dataframe tbody tr th {\n",
       "        vertical-align: top;\n",
       "    }\n",
       "\n",
       "    .dataframe thead th {\n",
       "        text-align: right;\n",
       "    }\n",
       "</style>\n",
       "<table border=\"1\" class=\"dataframe\">\n",
       "  <thead>\n",
       "    <tr style=\"text-align: right;\">\n",
       "      <th></th>\n",
       "      <th>Drug_ID</th>\n",
       "      <th>Drug</th>\n",
       "      <th>Y</th>\n",
       "    </tr>\n",
       "  </thead>\n",
       "  <tbody>\n",
       "    <tr>\n",
       "      <th>0</th>\n",
       "      <td>Drug 1324</td>\n",
       "      <td>CCOC(=O)C1(c2ccccc2)CC[NH+](CCc2ccc(N)cc2)CC1</td>\n",
       "      <td>0</td>\n",
       "    </tr>\n",
       "    <tr>\n",
       "      <th>1</th>\n",
       "      <td>Drug 100</td>\n",
       "      <td>Nc1cc(N2CCCCC2)nc(N)[n+]1[O-]</td>\n",
       "      <td>0</td>\n",
       "    </tr>\n",
       "    <tr>\n",
       "      <th>2</th>\n",
       "      <td>Drug 968</td>\n",
       "      <td>Cc1cc(O)c(C(=O)N[C@@H](C(=O)N[C@@H]2C(=O)N3C(C...</td>\n",
       "      <td>0</td>\n",
       "    </tr>\n",
       "    <tr>\n",
       "      <th>3</th>\n",
       "      <td>Drug 289</td>\n",
       "      <td>NC(=O)CCC1NC(=O)C(Cc2ccccc2)NC(=O)C(Cc2ccc(O)c...</td>\n",
       "      <td>0</td>\n",
       "    </tr>\n",
       "    <tr>\n",
       "      <th>4</th>\n",
       "      <td>Drug 284</td>\n",
       "      <td>NC(=[NH2+])NCCC[C@@H](NC(=O)[C@@H]1CCCN1C(=O)[...</td>\n",
       "      <td>0</td>\n",
       "    </tr>\n",
       "    <tr>\n",
       "      <th>...</th>\n",
       "      <td>...</td>\n",
       "      <td>...</td>\n",
       "      <td>...</td>\n",
       "    </tr>\n",
       "    <tr>\n",
       "      <th>142</th>\n",
       "      <td>Drug 456</td>\n",
       "      <td>C[C@]12CC(=O)[C@H]3[C@@H](CCC4=CC(=O)C=C[C@@]4...</td>\n",
       "      <td>1</td>\n",
       "    </tr>\n",
       "    <tr>\n",
       "      <th>143</th>\n",
       "      <td>Drug 242</td>\n",
       "      <td>Clc1ccccc1C[NH+]1CCc2sccc2C1</td>\n",
       "      <td>0</td>\n",
       "    </tr>\n",
       "    <tr>\n",
       "      <th>144</th>\n",
       "      <td>Drug 1427</td>\n",
       "      <td>COC(=O)[C@H](c1ccccc1Cl)[NH+]1CCc2sccc2C1</td>\n",
       "      <td>0</td>\n",
       "    </tr>\n",
       "    <tr>\n",
       "      <th>145</th>\n",
       "      <td>Drug 864</td>\n",
       "      <td>CC1(C)[C@H](C(=O)[O-])N2C(=O)C[C@H]2S1(=O)=O</td>\n",
       "      <td>0</td>\n",
       "    </tr>\n",
       "    <tr>\n",
       "      <th>146</th>\n",
       "      <td>Drug 953</td>\n",
       "      <td>CC(=O)O[C@H]1C(=O)[C@]2(C)[C@@H](O)C[C@H]3OC[C...</td>\n",
       "      <td>1</td>\n",
       "    </tr>\n",
       "  </tbody>\n",
       "</table>\n",
       "<p>147 rows × 3 columns</p>\n",
       "</div>"
      ],
      "text/plain": [
       "       Drug_ID                                               Drug  Y\n",
       "0    Drug 1324      CCOC(=O)C1(c2ccccc2)CC[NH+](CCc2ccc(N)cc2)CC1  0\n",
       "1     Drug 100                      Nc1cc(N2CCCCC2)nc(N)[n+]1[O-]  0\n",
       "2     Drug 968  Cc1cc(O)c(C(=O)N[C@@H](C(=O)N[C@@H]2C(=O)N3C(C...  0\n",
       "3     Drug 289  NC(=O)CCC1NC(=O)C(Cc2ccccc2)NC(=O)C(Cc2ccc(O)c...  0\n",
       "4     Drug 284  NC(=[NH2+])NCCC[C@@H](NC(=O)[C@@H]1CCCN1C(=O)[...  0\n",
       "..         ...                                                ... ..\n",
       "142   Drug 456  C[C@]12CC(=O)[C@H]3[C@@H](CCC4=CC(=O)C=C[C@@]4...  1\n",
       "143   Drug 242                       Clc1ccccc1C[NH+]1CCc2sccc2C1  0\n",
       "144  Drug 1427          COC(=O)[C@H](c1ccccc1Cl)[NH+]1CCc2sccc2C1  0\n",
       "145   Drug 864       CC1(C)[C@H](C(=O)[O-])N2C(=O)C[C@H]2S1(=O)=O  0\n",
       "146   Drug 953  CC(=O)O[C@H]1C(=O)[C@]2(C)[C@@H](O)C[C@H]3OC[C...  1\n",
       "\n",
       "[147 rows x 3 columns]"
      ]
     },
     "execution_count": 22,
     "metadata": {},
     "output_type": "execute_result"
    }
   ],
   "source": [
    "split['valid']"
   ]
  },
  {
   "cell_type": "code",
   "execution_count": 5,
   "metadata": {},
   "outputs": [],
   "source": [
    "with open(f'./data_sets/{name}','rb') as file:\n",
    "        split = pickle.load(file)\n",
    "        split['train']"
   ]
  },
  {
   "cell_type": "code",
   "execution_count": 16,
   "metadata": {},
   "outputs": [
    {
     "name": "stdout",
     "output_type": "stream",
     "text": [
      "Load SMILE file ....\n",
      "Number of SMILEs :  3\n"
     ]
    },
    {
     "name": "stderr",
     "output_type": "stream",
     "text": [
      "  0%|          | 0/3 [00:00<?, ?it/s]\n"
     ]
    },
    {
     "ename": "ArgumentError",
     "evalue": "Python argument types in\n    rdkit.Chem.rdmolfiles.MolToSmiles(NoneType)\ndid not match C++ signature:\n    MolToSmiles(RDKit::ROMol mol, bool isomericSmiles=True, bool kekuleSmiles=False, int rootedAtAtom=-1, bool canonical=True, bool allBondsExplicit=False, bool allHsExplicit=False, bool doRandom=False)\n    MolToSmiles(RDKit::ROMol mol, RDKit::SmilesWriteParams params)",
     "output_type": "error",
     "traceback": [
      "\u001b[0;31m---------------------------------------------------------------------------\u001b[0m",
      "\u001b[0;31mArgumentError\u001b[0m                             Traceback (most recent call last)",
      "Cell \u001b[0;32mIn[16], line 1\u001b[0m\n\u001b[0;32m----> 1\u001b[0m tokenizer \u001b[38;5;241m=\u001b[39m \u001b[43mTokenizer\u001b[49m\u001b[43m(\u001b[49m\u001b[38;5;124;43mf\u001b[39;49m\u001b[38;5;124;43m'\u001b[39;49m\u001b[38;5;124;43m./data_sets/\u001b[39;49m\u001b[38;5;132;43;01m{\u001b[39;49;00m\u001b[43mname\u001b[49m\u001b[38;5;132;43;01m}\u001b[39;49;00m\u001b[38;5;124;43m'\u001b[39;49m\u001b[43m,\u001b[49m\u001b[38;5;241;43m20\u001b[39;49m\u001b[43m)\u001b[49m\n",
      "File \u001b[0;32m~/Downloads/Qunova-machine/Module/tokenizer.py:36\u001b[0m, in \u001b[0;36mTokenizer.__init__\u001b[0;34m(self, SMILE_path, Random_number)\u001b[0m\n\u001b[1;32m     32\u001b[0m \u001b[38;5;28mself\u001b[39m\u001b[38;5;241m.\u001b[39mtokens \u001b[38;5;241m=\u001b[39m {\u001b[38;5;124m'\u001b[39m\u001b[38;5;124mAIS\u001b[39m\u001b[38;5;124m'\u001b[39m:\u001b[38;5;241m0\u001b[39m,\u001b[38;5;124m'\u001b[39m\u001b[38;5;124mSMILE\u001b[39m\u001b[38;5;124m'\u001b[39m:\u001b[38;5;241m1\u001b[39m,\u001b[38;5;124m'\u001b[39m\u001b[38;5;124mSPE\u001b[39m\u001b[38;5;124m'\u001b[39m:\u001b[38;5;241m2\u001b[39m}\n\u001b[1;32m     35\u001b[0m \u001b[38;5;28;01mif\u001b[39;00m Random_number\u001b[38;5;241m>\u001b[39m\u001b[38;5;241m1\u001b[39m:\n\u001b[0;32m---> 36\u001b[0m     temp \u001b[38;5;241m=\u001b[39m \u001b[43mChem_generator\u001b[49m\u001b[43m(\u001b[49m\u001b[38;5;28;43mself\u001b[39;49m\u001b[38;5;241;43m.\u001b[39;49m\u001b[43mSMILE\u001b[49m\u001b[43m)\u001b[49m\n\u001b[1;32m     37\u001b[0m     \u001b[38;5;28mself\u001b[39m\u001b[38;5;241m.\u001b[39mSMILE \u001b[38;5;241m=\u001b[39m temp\n",
      "File \u001b[0;32m~/Downloads/Qunova-machine/Module/tokenizer.py:19\u001b[0m, in \u001b[0;36mChem_generator\u001b[0;34m(smiles)\u001b[0m\n\u001b[1;32m     17\u001b[0m     \u001b[38;5;28;01mwhile\u001b[39;00m(\u001b[38;5;28mlen\u001b[39m(\u001b[38;5;28mset\u001b[39m(temp))\u001b[38;5;241m!=\u001b[39m\u001b[38;5;241m4\u001b[39m \u001b[38;5;129;01mand\u001b[39;00m index \u001b[38;5;241m!=\u001b[39m \u001b[38;5;241m100\u001b[39m):\n\u001b[1;32m     18\u001b[0m         index\u001b[38;5;241m+\u001b[39m\u001b[38;5;241m=\u001b[39m\u001b[38;5;241m1\u001b[39m\n\u001b[0;32m---> 19\u001b[0m         temp\u001b[38;5;241m.\u001b[39mappend(\u001b[43mChem\u001b[49m\u001b[38;5;241;43m.\u001b[39;49m\u001b[43mMolToSmiles\u001b[49m\u001b[43m(\u001b[49m\u001b[43mmol\u001b[49m\u001b[43m,\u001b[49m\u001b[43mdoRandom\u001b[49m\u001b[38;5;241;43m=\u001b[39;49m\u001b[38;5;28;43;01mTrue\u001b[39;49;00m\u001b[43m)\u001b[49m)\n\u001b[1;32m     20\u001b[0m     res_list\u001b[38;5;241m+\u001b[39m\u001b[38;5;241m=\u001b[39m\u001b[38;5;28mlist\u001b[39m(\u001b[38;5;28mset\u001b[39m(temp))\n\u001b[1;32m     21\u001b[0m \u001b[38;5;28;01mreturn\u001b[39;00m res_list\n",
      "\u001b[0;31mArgumentError\u001b[0m: Python argument types in\n    rdkit.Chem.rdmolfiles.MolToSmiles(NoneType)\ndid not match C++ signature:\n    MolToSmiles(RDKit::ROMol mol, bool isomericSmiles=True, bool kekuleSmiles=False, int rootedAtAtom=-1, bool canonical=True, bool allBondsExplicit=False, bool allHsExplicit=False, bool doRandom=False)\n    MolToSmiles(RDKit::ROMol mol, RDKit::SmilesWriteParams params)"
     ]
    }
   ],
   "source": [
    "tokenizer = Tokenizer(f'./data_sets/{name}',20)"
   ]
  },
  {
   "cell_type": "code",
   "execution_count": 14,
   "metadata": {},
   "outputs": [
    {
     "data": {
      "text/plain": [
       "array(['CC(C)C[C@H](NC(=O)CNC(=O)c1cc(Cl)ccc1Cl)B(O)O',\n",
       "       'CCCCCCC[NH+](CC)CCCC(O)c1ccc(NS(C)(=O)=O)cc1',\n",
       "       'CC[C@@H](c1cccc(O)c1)[C@@H](C)C[NH+](C)C', ...,\n",
       "       'CCS(=O)(=O)CCn1c([N+](=O)[O-])cnc1C',\n",
       "       'C=C1/C(=C\\\\C=C2/CCC[C@@]3(C)[C@H]2CC[C@@H]3[C@H](C)/C=C/[C@@H](O)C2CC2)C[C@@H](O)C[C@@H]1O',\n",
       "       'CC(C)(C)[NH2+]C[C@H](O)COc1ccccc1C1CCCC1'], dtype=object)"
      ]
     },
     "execution_count": 14,
     "metadata": {},
     "output_type": "execute_result"
    }
   ],
   "source": [
    "split['train'].values[:,1]"
   ]
  },
  {
   "cell_type": "code",
   "execution_count": null,
   "metadata": {},
   "outputs": [],
   "source": [
    "from tdc.single_pred import Tox\n",
    "import pickle\n",
    "from Module.tokenizer import Tokenizer\n",
    "\n",
    "Tox_list = ['hERG_Karim','LD50_Zhu','hERG','AMES','DILI','Skin Reaction','Carcinogens_Lagunin','ClinTox']\n",
    "for name in Tox_list:\n",
    "    data = Tox(name = name)\n",
    "    split = data.get_split(method = 'scaffold')\n",
    "    with open(f'./data_sets/{name}','wb') as file:\n",
    "        pickle.dump(split,file)"
   ]
  }
 ],
 "metadata": {
  "kernelspec": {
   "display_name": "Python 3",
   "language": "python",
   "name": "python3"
  },
  "language_info": {
   "codemirror_mode": {
    "name": "ipython",
    "version": 3
   },
   "file_extension": ".py",
   "mimetype": "text/x-python",
   "name": "python",
   "nbconvert_exporter": "python",
   "pygments_lexer": "ipython3",
   "version": "3.10.12"
  }
 },
 "nbformat": 4,
 "nbformat_minor": 2
}
