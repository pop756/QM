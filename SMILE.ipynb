{
 "cells": [
  {
   "cell_type": "code",
   "execution_count": 1,
   "metadata": {},
   "outputs": [
    {
     "name": "stderr",
     "output_type": "stream",
     "text": [
      "2023-12-15 14:22:46.532379: I tensorflow/core/platform/cpu_feature_guard.cc:193] This TensorFlow binary is optimized with oneAPI Deep Neural Network Library (oneDNN) to use the following CPU instructions in performance-critical operations:  AVX2 AVX512F AVX512_VNNI FMA\n",
      "To enable them in other operations, rebuild TensorFlow with the appropriate compiler flags.\n",
      "2023-12-15 14:22:46.654480: I tensorflow/core/util/port.cc:104] oneDNN custom operations are on. You may see slightly different numerical results due to floating-point round-off errors from different computation orders. To turn them off, set the environment variable `TF_ENABLE_ONEDNN_OPTS=0`.\n",
      "2023-12-15 14:22:47.461632: W tensorflow/compiler/xla/stream_executor/platform/default/dso_loader.cc:64] Could not load dynamic library 'libnvinfer.so.7'; dlerror: libnvinfer.so.7: cannot open shared object file: No such file or directory; LD_LIBRARY_PATH: :/usr/local/cuda-11.8/lib64:/usr/local/cuda-11.3/lib64\n",
      "2023-12-15 14:22:47.461729: W tensorflow/compiler/xla/stream_executor/platform/default/dso_loader.cc:64] Could not load dynamic library 'libnvinfer_plugin.so.7'; dlerror: libnvinfer_plugin.so.7: cannot open shared object file: No such file or directory; LD_LIBRARY_PATH: :/usr/local/cuda-11.8/lib64:/usr/local/cuda-11.3/lib64\n",
      "2023-12-15 14:22:47.461736: W tensorflow/compiler/tf2tensorrt/utils/py_utils.cc:38] TF-TRT Warning: Cannot dlopen some TensorRT libraries. If you would like to use Nvidia GPU with TensorRT, please make sure the missing libraries mentioned above are installed properly.\n"
     ]
    }
   ],
   "source": [
    "import tensorflow as tf\n",
    "import numpy as np\n",
    "from tdc.single_pred import Tox\n",
    "from rdkit import Chem"
   ]
  },
  {
   "cell_type": "code",
   "execution_count": 13,
   "metadata": {},
   "outputs": [],
   "source": [
    "from rdkit.Chem import MolFromSmiles, MolToSmiles\n",
    "from tqdm import tqdm\n",
    "from SmilesPE import tokenizer\n",
    "def encode(smiles_list,labels):\n",
    "    mols = []\n",
    "    res_labels = []\n",
    "    len_list = []\n",
    "    \n",
    "    for smiles in smiles_list:\n",
    "        mol = MolFromSmiles(smiles)\n",
    "        mols.append(mol)\n",
    "    res = []\n",
    "    for index1,mol in (enumerate(tqdm(mols))):\n",
    "        index = 0\n",
    "        res_temp = []\n",
    "        while(len(res_temp)<20 and index <100):\n",
    "            random_smiles = MolToSmiles(mol, doRandom=True) # e.g 'C(C(=O)O)N' \n",
    "            res_temp.append(random_smiles)\n",
    "            res_temp = list(set(res_temp))\n",
    "            index+=1\n",
    "        res += res_temp\n",
    "        res_labels += [labels[index1]]*len(res_temp)\n",
    "        len_list.append(len(res_temp))\n",
    "        \n",
    "    # mapping atomID into SMILES srting\n",
    "    res_train = []\n",
    "\n",
    "\n",
    "    for smiles in tqdm(res):\n",
    "        smile_tokens = tokenizer.atomwise_tokenizer(smiles)\n",
    "        res_train.append(smile_tokens)\n",
    "\n",
    "    return res_train,res_labels,len_list"
   ]
  },
  {
   "cell_type": "code",
   "execution_count": 14,
   "metadata": {},
   "outputs": [],
   "source": [
    "Tox_list = ['hERG_Karim','LD50_Zhu','hERG','AMES','DILI','Skin Reaction','Carcinogens_Lagunin','ClinTox']"
   ]
  },
  {
   "cell_type": "code",
   "execution_count": 15,
   "metadata": {},
   "outputs": [
    {
     "name": "stderr",
     "output_type": "stream",
     "text": [
      "Found local copy...\n",
      "Loading...\n",
      "Done!\n"
     ]
    }
   ],
   "source": [
    "tox_train,tox_label = Tox(name='herg').get_data(format='DeepPurpose')"
   ]
  },
  {
   "cell_type": "code",
   "execution_count": 16,
   "metadata": {},
   "outputs": [],
   "source": [
    "def create_variable(var_name):\n",
    "    globals()[var_name] = []\n",
    "def get_variable_value(var_name):\n",
    "    return globals().get(var_name)\n"
   ]
  },
  {
   "cell_type": "code",
   "execution_count": 18,
   "metadata": {},
   "outputs": [
    {
     "name": "stderr",
     "output_type": "stream",
     "text": [
      "Found local copy...\n",
      "Loading...\n",
      "Done!\n",
      "100%|██████████| 13445/13445 [00:18<00:00, 722.03it/s]\n",
      "100%|██████████| 268795/268795 [00:02<00:00, 92673.42it/s] \n",
      "Found local copy...\n",
      "Loading...\n",
      "Done!\n",
      "100%|██████████| 7385/7385 [00:06<00:00, 1101.52it/s]\n",
      "100%|██████████| 141226/141226 [00:01<00:00, 138356.58it/s]\n",
      "Found local copy...\n",
      "Loading...\n",
      "Done!\n",
      "[14:27:56] WARNING: not removing hydrogen atom without neighbors\n",
      "[14:27:56] WARNING: not removing hydrogen atom without neighbors\n",
      "100%|██████████| 655/655 [00:00<00:00, 863.27it/s]\n",
      "100%|██████████| 13092/13092 [00:00<00:00, 114367.48it/s]\n",
      "Found local copy...\n",
      "Loading...\n",
      "Done!\n",
      "100%|██████████| 7278/7278 [00:08<00:00, 900.01it/s] \n",
      "100%|██████████| 139900/139900 [00:01<00:00, 102172.08it/s]\n",
      "Found local copy...\n",
      "Loading...\n",
      "Done!\n",
      "100%|██████████| 475/475 [00:00<00:00, 949.98it/s] \n",
      "100%|██████████| 9404/9404 [00:00<00:00, 127525.02it/s]\n",
      "Found local copy...\n",
      "Loading...\n",
      "Done!\n",
      "100%|██████████| 404/404 [00:00<00:00, 1061.21it/s]\n",
      "100%|██████████| 7712/7712 [00:00<00:00, 178246.94it/s]\n",
      "Found local copy...\n",
      "Loading...\n",
      "Done!\n",
      "100%|██████████| 280/280 [00:00<00:00, 834.04it/s]\n",
      "100%|██████████| 5501/5501 [00:00<00:00, 111902.62it/s]\n",
      "Found local copy...\n",
      "Loading...\n",
      "Done!\n",
      "100%|██████████| 1478/1478 [00:01<00:00, 811.87it/s]\n",
      "100%|██████████| 29009/29009 [00:00<00:00, 109433.62it/s]\n"
     ]
    }
   ],
   "source": [
    "import pickle\n",
    "for tox in Tox_list:\n",
    "    create_variable(tox)\n",
    "    tox_train,tox_label = Tox(name=tox).get_data(format='DeepPurpose')\n",
    "    temp_train = get_variable_value(tox)\n",
    "    res = encode(tox_train,tox_label)\n",
    "    temp_train.append(res)\n",
    "    with open('./SMILE_Tox_data/'+tox,'wb') as file:\n",
    "        pickle.dump(temp_train,file)\n"
   ]
  },
  {
   "cell_type": "code",
   "execution_count": 19,
   "metadata": {},
   "outputs": [
    {
     "name": "stderr",
     "output_type": "stream",
     "text": [
      "Found local copy...\n",
      "Loading...\n",
      "Done!\n",
      "100%|██████████| 306893/306893 [05:31<00:00, 925.67it/s]\n",
      "100%|██████████| 6137270/6137270 [00:51<00:00, 118839.73it/s]\n",
      "Found local copy...\n",
      "Loading...\n",
      "Done!\n"
     ]
    }
   ],
   "source": [
    "from tdc.utils import retrieve_label_name_list\n",
    "import pickle\n",
    "Tox_list_label = ['herg_central','Tox21','ToxCast']\n",
    "for tox in Tox_list_label:\n",
    "    label_list = retrieve_label_name_list(tox)\n",
    "    for label in label_list:\n",
    "\n",
    "        create_variable(tox+'_'+label)\n",
    "        tox_train,tox_label = Tox(name=tox,label_name=label).get_data(format='DeepPurpose')\n",
    "        temp_train = get_variable_value(tox+'_'+label)\n",
    "        temp_train.append(encode(tox_train,tox_label))\n",
    "        with open('./SMILE_Tox_data/'+tox+'_'+label,'wb') as file:\n",
    "            pickle.dump(temp_train,file)"
   ]
  },
  {
   "cell_type": "code",
   "execution_count": null,
   "metadata": {},
   "outputs": [],
   "source": []
  }
 ],
 "metadata": {
  "kernelspec": {
   "display_name": "Python 3",
   "language": "python",
   "name": "python3"
  },
  "language_info": {
   "codemirror_mode": {
    "name": "ipython",
    "version": 3
   },
   "file_extension": ".py",
   "mimetype": "text/x-python",
   "name": "python",
   "nbconvert_exporter": "python",
   "pygments_lexer": "ipython3",
   "version": "3.10.12"
  }
 },
 "nbformat": 4,
 "nbformat_minor": 2
}
