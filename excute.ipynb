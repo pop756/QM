{
 "cells": [
  {
   "cell_type": "code",
   "execution_count": 1,
   "metadata": {},
   "outputs": [
    {
     "name": "stderr",
     "output_type": "stream",
     "text": [
      "2023-12-15 13:34:26.024840: I tensorflow/core/platform/cpu_feature_guard.cc:193] This TensorFlow binary is optimized with oneAPI Deep Neural Network Library (oneDNN) to use the following CPU instructions in performance-critical operations:  AVX2 AVX512F AVX512_VNNI FMA\n",
      "To enable them in other operations, rebuild TensorFlow with the appropriate compiler flags.\n",
      "2023-12-15 13:34:26.153013: I tensorflow/core/util/port.cc:104] oneDNN custom operations are on. You may see slightly different numerical results due to floating-point round-off errors from different computation orders. To turn them off, set the environment variable `TF_ENABLE_ONEDNN_OPTS=0`.\n",
      "2023-12-15 13:34:26.935357: W tensorflow/compiler/xla/stream_executor/platform/default/dso_loader.cc:64] Could not load dynamic library 'libnvinfer.so.7'; dlerror: libnvinfer.so.7: cannot open shared object file: No such file or directory; LD_LIBRARY_PATH: :/usr/local/cuda-11.8/lib64:/usr/local/cuda-11.3/lib64\n",
      "2023-12-15 13:34:26.935429: W tensorflow/compiler/xla/stream_executor/platform/default/dso_loader.cc:64] Could not load dynamic library 'libnvinfer_plugin.so.7'; dlerror: libnvinfer_plugin.so.7: cannot open shared object file: No such file or directory; LD_LIBRARY_PATH: :/usr/local/cuda-11.8/lib64:/usr/local/cuda-11.3/lib64\n",
      "2023-12-15 13:34:26.935434: W tensorflow/compiler/tf2tensorrt/utils/py_utils.cc:38] TF-TRT Warning: Cannot dlopen some TensorRT libraries. If you would like to use Nvidia GPU with TensorRT, please make sure the missing libraries mentioned above are installed properly.\n",
      "2023-12-15 13:34:28.770961: I tensorflow/core/platform/cpu_feature_guard.cc:193] This TensorFlow binary is optimized with oneAPI Deep Neural Network Library (oneDNN) to use the following CPU instructions in performance-critical operations:  AVX2 AVX512F AVX512_VNNI FMA\n",
      "To enable them in other operations, rebuild TensorFlow with the appropriate compiler flags.\n",
      "2023-12-15 13:34:29.385723: I tensorflow/core/common_runtime/gpu/gpu_device.cc:1613] Created device /job:localhost/replica:0/task:0/device:GPU:0 with 78900 MB memory:  -> device: 0, name: NVIDIA A100 80GB PCIe, pci bus id: 0000:ca:00.0, compute capability: 8.0\n"
     ]
    }
   ],
   "source": [
    "import execute\n",
    "from execute import execute as exe"
   ]
  },
  {
   "cell_type": "code",
   "execution_count": 2,
   "metadata": {},
   "outputs": [
    {
     "name": "stderr",
     "output_type": "stream",
     "text": [
      "Found local copy...\n",
      "Loading...\n",
      "Done!\n"
     ]
    },
    {
     "name": "stdout",
     "output_type": "stream",
     "text": [
      "Epoch 1/20\n"
     ]
    },
    {
     "name": "stderr",
     "output_type": "stream",
     "text": [
      "2023-12-15 13:34:45.577538: I tensorflow/compiler/xla/stream_executor/cuda/cuda_blas.cc:630] TensorFloat-32 will be used for the matrix multiplication. This will only be logged once.\n",
      "2023-12-15 13:34:45.610374: I tensorflow/compiler/xla/service/service.cc:173] XLA service 0x556055ae87c0 initialized for platform CUDA (this does not guarantee that XLA will be used). Devices:\n",
      "2023-12-15 13:34:45.610429: I tensorflow/compiler/xla/service/service.cc:181]   StreamExecutor device (0): NVIDIA A100 80GB PCIe, Compute Capability 8.0\n",
      "2023-12-15 13:34:45.625310: I tensorflow/compiler/mlir/tensorflow/utils/dump_mlir_util.cc:268] disabling MLIR crash reproducer, set env var `MLIR_CRASH_REPRODUCER_DIRECTORY` to enable.\n",
      "2023-12-15 13:34:45.743074: I tensorflow/compiler/jit/xla_compilation_cache.cc:477] Compiled cluster using XLA!  This line is logged at most once for the lifetime of the process.\n"
     ]
    },
    {
     "name": "stdout",
     "output_type": "stream",
     "text": [
      "235/235 [==============================] - ETA: 0s - loss: 0.7002 - acc: 0.6825 - auc: 0.7543     val_acc : 0.8105263113975525,    val_auc : 0.8755555748939514 val_loss : 0.4945787787437439\n",
      "235/235 [==============================] - 41s 91ms/step - loss: 0.7002 - acc: 0.6825 - auc: 0.7543\n",
      "Epoch 2/20\n",
      "235/235 [==============================] - ETA: 0s - loss: 0.5539 - acc: 0.8085 - auc: 0.8803     val_acc : 0.7894737124443054,    val_auc : 0.8864444494247437 val_loss : 0.47506192326545715\n",
      "235/235 [==============================] - 17s 73ms/step - loss: 0.5539 - acc: 0.8085 - auc: 0.8803\n",
      "Epoch 3/20\n",
      "235/235 [==============================] - ETA: 0s - loss: 0.4936 - acc: 0.8464 - auc: 0.9110     val_acc : 0.8631578683853149,    val_auc : 0.9013332724571228 val_loss : 0.4280817210674286\n",
      "235/235 [==============================] - 16s 69ms/step - loss: 0.4936 - acc: 0.8464 - auc: 0.9110\n",
      "Epoch 4/20\n",
      "235/235 [==============================] - ETA: 0s - loss: 0.4447 - acc: 0.8670 - auc: 0.9329     val_acc : 0.8105263113975525,    val_auc : 0.8951111435890198 val_loss : 0.4351622760295868\n",
      "235/235 [==============================] - 17s 71ms/step - loss: 0.4447 - acc: 0.8670 - auc: 0.9329\n",
      "Epoch 5/20\n",
      "235/235 [==============================] - ETA: 0s - loss: 0.4025 - acc: 0.8866 - auc: 0.9491     val_acc : 0.8105263113975525,    val_auc : 0.9077777862548828 val_loss : 0.41792410612106323\n",
      "235/235 [==============================] - 17s 71ms/step - loss: 0.4025 - acc: 0.8866 - auc: 0.9491\n",
      "Epoch 6/20\n",
      "235/235 [==============================] - ETA: 0s - loss: 0.3709 - acc: 0.8998 - auc: 0.9597     val_acc : 0.800000011920929,    val_auc : 0.9140000343322754 val_loss : 0.4122571349143982\n",
      "235/235 [==============================] - 16s 69ms/step - loss: 0.3709 - acc: 0.8998 - auc: 0.9597\n",
      "Epoch 7/20\n",
      "235/235 [==============================] - ETA: 0s - loss: 0.3350 - acc: 0.9115 - auc: 0.9705     val_acc : 0.8421052694320679,    val_auc : 0.9188888669013977 val_loss : 0.40282195806503296\n",
      "235/235 [==============================] - 16s 69ms/step - loss: 0.3350 - acc: 0.9115 - auc: 0.9705\n",
      "Epoch 8/20\n",
      "235/235 [==============================] - ETA: 0s - loss: 0.3129 - acc: 0.9235 - auc: 0.9761     val_acc : 0.7894737124443054,    val_auc : 0.9013332724571228 val_loss : 0.44441133737564087\n",
      "235/235 [==============================] - 16s 70ms/step - loss: 0.3129 - acc: 0.9235 - auc: 0.9761\n",
      "Epoch 9/20\n",
      "235/235 [==============================] - ETA: 0s - loss: 0.2827 - acc: 0.9362 - auc: 0.9827     val_acc : 0.821052610874176,    val_auc : 0.9144444465637207 val_loss : 0.41934990882873535\n",
      "235/235 [==============================] - 16s 68ms/step - loss: 0.2827 - acc: 0.9362 - auc: 0.9827\n",
      "Epoch 10/20\n",
      "235/235 [==============================] - ETA: 0s - loss: 0.2607 - acc: 0.9447 - auc: 0.9871     val_acc : 0.7789473533630371,    val_auc : 0.9071111679077148 val_loss : 0.4573189616203308\n",
      "235/235 [==============================] - 19s 79ms/step - loss: 0.2607 - acc: 0.9447 - auc: 0.9871\n",
      "Epoch 11/20\n",
      "235/235 [==============================] - ETA: 0s - loss: 0.2420 - acc: 0.9520 - auc: 0.9906"
     ]
    }
   ],
   "source": [
    "tox_names = ['DILI','AMES',\"Carcinogens_Lagunin\",'ClinTox','hERG','hERG_Karim']\n",
    "for tox_name in tox_names:\n",
    "    tox_execute = exe(tox_name,0.2,15,epoch=20,batch=32)\n",
    "    tox_execute.forward()\n",
    "    globals()['tox_execute_'+tox_name] = tox_execute\n",
    "    models = {tox_execute.Bit:'Bit_Classifier',tox_execute.BERT:'BERT_Classifier'}\n",
    "    execute.plot_history(models,tox_name)"
   ]
  },
  {
   "cell_type": "code",
   "execution_count": null,
   "metadata": {},
   "outputs": [],
   "source": []
  }
 ],
 "metadata": {
  "kernelspec": {
   "display_name": "Python 3",
   "language": "python",
   "name": "python3"
  },
  "language_info": {
   "codemirror_mode": {
    "name": "ipython",
    "version": 3
   },
   "file_extension": ".py",
   "mimetype": "text/x-python",
   "name": "python",
   "nbconvert_exporter": "python",
   "pygments_lexer": "ipython3",
   "version": "3.10.12"
  }
 },
 "nbformat": 4,
 "nbformat_minor": 2
}
