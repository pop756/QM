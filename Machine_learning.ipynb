{
 "cells": [
  {
   "cell_type": "code",
   "execution_count": 62,
   "id": "46ba9353",
   "metadata": {},
   "outputs": [],
   "source": [
    "RANDOM_SEED = 42"
   ]
  },
  {
   "cell_type": "code",
   "execution_count": 63,
   "id": "dd02227a",
   "metadata": {},
   "outputs": [],
   "source": [
    "import os\n",
    "\n",
    "# 현재 스크립트 파일의 디렉토리 경로 가져오기\n",
    "script_dir = os.path.dirname(r'C:\\Users\\pop75\\OneDrive\\바탕 화면\\Qunova')\n",
    "\n",
    "# 하위 폴더의 경로 설정 (예: subfolder)\n",
    "subfolder = 'subfolder'\n",
    "\n",
    "# 하위 폴더의 절대 경로 생성\n",
    "subfolder_path = os.path.join(script_dir, subfolder)\n",
    "\n",
    "# 환경 변수 PATH에 하위 폴더 경로 추가\n",
    "os.environ['PATH'] += os.pathsep + subfolder_path"
   ]
  },
  {
   "cell_type": "code",
   "execution_count": 64,
   "id": "530ee32a",
   "metadata": {},
   "outputs": [],
   "source": [
    "import pandas as pd\n",
    "from TDC.tdc import utils as tdc_utils\n",
    "from TDC.tdc.single_pred import Tox\n",
    "import RDK as rk\n",
    "from DeepPurpose import utils as dp_utils, CompoundPred\n",
    "import numpy as np"
   ]
  },
  {
   "cell_type": "markdown",
   "id": "333ad697",
   "metadata": {},
   "source": [
    "## Prepare Data(TDC package, herg)"
   ]
  },
  {
   "cell_type": "code",
   "execution_count": 115,
   "id": "3ceb6727",
   "metadata": {},
   "outputs": [
    {
     "name": "stderr",
     "output_type": "stream",
     "text": [
      "Found local copy...\n",
      "Loading...\n",
      "Done!\n"
     ]
    }
   ],
   "source": [
    "import random\n",
    "X, y = Tox(name = 'carcinogens_lagunin').get_data(format = 'DeepPurpose')\n",
    "## get 50000 molecule\n",
    "Data_num = 6000\n",
    "Drug_info_plus, Tox_info_plus = X[y==1][:Data_num], y[y==1][:Data_num]\n",
    "Drug_info_minus, Tox_info_minus = X[y==0][:Data_num], y[y==0][:Data_num]\n",
    "Drug_info = np.array(list(Drug_info_plus)+list(Drug_info_minus))\n",
    "Tox_info = np.array(list(Tox_info_plus)+list(Tox_info_minus))"
   ]
  },
  {
   "cell_type": "code",
   "execution_count": 116,
   "id": "23876866",
   "metadata": {},
   "outputs": [],
   "source": [
    "## Change SMILE to RDkit fingerprint\n",
    "Drug_fin = rk.smile_to_RDkit(Drug_info,bits=2048)"
   ]
  },
  {
   "cell_type": "code",
   "execution_count": 73,
   "id": "23300875",
   "metadata": {},
   "outputs": [],
   "source": [
    "from sklearn.decomposition import PCA\n",
    "from imblearn.over_sampling import SMOTE\n",
    "dim = 4\n",
    "pca = PCA(n_components=dim)\n",
    "Drug_16 = pca.fit_transform(Drug_fin)\n",
    "smote = SMOTE()\n",
    "Drug_16_smote,Tox_info_smote = smote.fit_resample(Drug_16, Tox_info)"
   ]
  },
  {
   "cell_type": "code",
   "execution_count": 68,
   "id": "fad944be",
   "metadata": {},
   "outputs": [],
   "source": [
    "from sklearn.model_selection import train_test_split  \n",
    "train_features, test_features, train_labels, test_labels = train_test_split(Drug_16_smote,Tox_info_smote, test_size=0.25, random_state=42)"
   ]
  },
  {
   "cell_type": "markdown",
   "id": "3eeffbea",
   "metadata": {},
   "source": [
    "## Run with logistic regresion"
   ]
  },
  {
   "cell_type": "code",
   "execution_count": 69,
   "id": "7bf4df7e",
   "metadata": {},
   "outputs": [
    {
     "name": "stdout",
     "output_type": "stream",
     "text": [
      "Test set accuracy: 0.7454545454545455, Train set accuracy : 0.8151515151515152\n"
     ]
    }
   ],
   "source": [
    "from sklearn.linear_model import LogisticRegression  \n",
    "from imblearn.over_sampling import SMOTE\n",
    "from imblearn.combine import *\n",
    "from sklearn.decomposition import PCA\n",
    "\n",
    "model = LogisticRegression()\n",
    "model.fit(train_features, train_labels)\n",
    "accuracy = model.score(test_features, test_labels)\n",
    "train_accuracy = model.score(train_features, train_labels)\n",
    "print(f\"Test set accuracy: {accuracy}, Train set accuracy : {train_accuracy}\")"
   ]
  },
  {
   "cell_type": "code",
   "execution_count": 70,
   "id": "65e4896c",
   "metadata": {},
   "outputs": [
    {
     "name": "stdout",
     "output_type": "stream",
     "text": [
      "--------------------0 KFold-------------------\n",
      "train_idx_len : 330 / test_idx_len : 110\n",
      "AUC: 0.869\n",
      "Test set accuracy: 0.7818181818181819, Train set accuracy : 0.793939393939394\n",
      "precision : 0.8076923076923077\n",
      "recall : 0.75\n",
      "f1_score : 0.7777777777777779\n",
      "--------------------1 KFold-------------------\n",
      "train_idx_len : 330 / test_idx_len : 110\n",
      "AUC: 0.898\n",
      "Test set accuracy: 0.8272727272727273, Train set accuracy : 0.803030303030303\n",
      "precision : 0.7878787878787878\n",
      "recall : 0.9122807017543859\n",
      "f1_score : 0.8455284552845528\n",
      "--------------------2 KFold-------------------\n",
      "train_idx_len : 330 / test_idx_len : 110\n",
      "AUC: 0.857\n",
      "Test set accuracy: 0.7909090909090909, Train set accuracy : 0.806060606060606\n",
      "precision : 0.7540983606557377\n",
      "recall : 0.8518518518518519\n",
      "f1_score : 0.7999999999999999\n",
      "--------------------3 KFold-------------------\n",
      "train_idx_len : 330 / test_idx_len : 110\n",
      "AUC: 0.893\n",
      "Test set accuracy: 0.8, Train set accuracy : 0.796969696969697\n",
      "precision : 0.7924528301886793\n",
      "recall : 0.7924528301886793\n",
      "f1_score : 0.7924528301886793\n",
      "\n",
      "\n",
      "\n",
      "\n",
      "average values\n",
      "AUC: 0.879\n",
      "Test set accuracy: 0.800\n",
      "precision : 0.786\n",
      "recall : 0.827\n",
      "f1_score : 0.804\n"
     ]
    }
   ],
   "source": [
    "from sklearn.metrics import roc_curve, roc_auc_score, auc\n",
    "import matplotlib.pyplot as plt\n",
    "rk.Result(model,Drug_16_smote,Tox_info_smote,plot=False)"
   ]
  },
  {
   "cell_type": "markdown",
   "id": "4d68cddb",
   "metadata": {},
   "source": [
    "## Run with Neural network"
   ]
  },
  {
   "cell_type": "code",
   "execution_count": 71,
   "id": "e4d0d509",
   "metadata": {},
   "outputs": [
    {
     "name": "stdout",
     "output_type": "stream",
     "text": [
      "Test set accuracy: 0.8727272727272727, Train set accuracy : 0.9848484848484849\n"
     ]
    }
   ],
   "source": [
    "from sklearn.neural_network import MLPClassifier\n",
    "from sklearn.datasets import make_classification\n",
    "from sklearn.model_selection import train_test_split\n",
    "from sklearn.metrics import accuracy_score\n",
    "from sklearn.model_selection import cross_val_score\n",
    "import numpy as np\n",
    "from sklearn.model_selection import KFold\n",
    "from sklearn.metrics import accuracy_score,precision_score, recall_score, f1_score\n",
    "SPLITS = 4\n",
    "kf = KFold(n_splits = SPLITS,shuffle=True)\n",
    "n_iter = 0\n",
    "mlp = MLPClassifier(hidden_layer_sizes=(100,30), max_iter=12000, random_state=42,learning_rate='constant',alpha=0.01)\n",
    "mlp.fit(train_features,train_labels)\n",
    "#scaler = StandardScaler()  \n",
    "accuracy = mlp.score(test_features, test_labels)\n",
    "train_accuracy = mlp.score(train_features, train_labels)\n",
    "print(f\"Test set accuracy: {accuracy}, Train set accuracy : {train_accuracy}\")"
   ]
  },
  {
   "cell_type": "code",
   "execution_count": 72,
   "id": "d231debb",
   "metadata": {},
   "outputs": [
    {
     "name": "stdout",
     "output_type": "stream",
     "text": [
      "--------------------0 KFold-------------------\n",
      "train_idx_len : 330 / test_idx_len : 110\n",
      "AUC: 0.930\n",
      "Test set accuracy: 0.8818181818181818, Train set accuracy : 0.9878787878787879\n",
      "precision : 0.8571428571428571\n",
      "recall : 0.9523809523809523\n",
      "f1_score : 0.9022556390977443\n",
      "--------------------1 KFold-------------------\n",
      "train_idx_len : 330 / test_idx_len : 110\n",
      "AUC: 0.944\n",
      "Test set accuracy: 0.8818181818181818, Train set accuracy : 0.9818181818181818\n",
      "precision : 0.8703703703703703\n",
      "recall : 0.8867924528301887\n",
      "f1_score : 0.8785046728971964\n",
      "--------------------2 KFold-------------------\n",
      "train_idx_len : 330 / test_idx_len : 110\n",
      "AUC: 0.944\n",
      "Test set accuracy: 0.8545454545454545, Train set accuracy : 0.9939393939393939\n",
      "precision : 0.8235294117647058\n",
      "recall : 0.8571428571428571\n",
      "f1_score : 0.84\n",
      "--------------------3 KFold-------------------\n",
      "train_idx_len : 330 / test_idx_len : 110\n",
      "AUC: 0.961\n",
      "Test set accuracy: 0.9181818181818182, Train set accuracy : 0.9878787878787879\n",
      "precision : 0.8833333333333333\n",
      "recall : 0.9636363636363636\n",
      "f1_score : 0.9217391304347826\n",
      "\n",
      "\n",
      "\n",
      "\n",
      "average values\n",
      "AUC: 0.945\n",
      "Test set accuracy: 0.884\n",
      "precision : 0.859\n",
      "recall : 0.915\n",
      "f1_score : 0.886\n"
     ]
    }
   ],
   "source": [
    "rk.Result(mlp,Drug_16_smote,Tox_info_smote,plot=False)"
   ]
  },
  {
   "cell_type": "markdown",
   "id": "1ba639d1",
   "metadata": {},
   "source": [
    "## Quantum kernal train"
   ]
  },
  {
   "cell_type": "code",
   "execution_count": 74,
   "id": "379dcdb2",
   "metadata": {},
   "outputs": [],
   "source": [
    "from qiskit.circuit.library import ZZFeatureMap\n",
    "from qiskit.primitives import Sampler\n",
    "from qiskit.algorithms.state_fidelities import ComputeUncompute\n",
    "from qiskit_machine_learning.kernels import FidelityQuantumKernel\n",
    "from qiskit import QuantumCircuit\n",
    "from qiskit.circuit import ParameterVector\n",
    "\n",
    "## Make the feature map\n",
    "ZZ_feature_map = ZZFeatureMap(feature_dimension=dim, reps=1, entanglement=\"linear\")\n",
    "\n",
    "sampler = Sampler()\n",
    "\n",
    "fidelity = ComputeUncompute(sampler=sampler)\n",
    "## K(a,b)\n",
    "q_kernel = FidelityQuantumKernel(fidelity=fidelity, feature_map=ZZ_feature_map)\n",
    "## Pre evaluatre the inner product value\n",
    "q_matrix_train = q_kernel.evaluate(x_vec=train_features)\n",
    "q_matrix_test = q_kernel.evaluate(x_vec=test_features, y_vec=train_features)"
   ]
  },
  {
   "cell_type": "code",
   "execution_count": 114,
   "id": "93991301",
   "metadata": {},
   "outputs": [
    {
     "name": "stdout",
     "output_type": "stream",
     "text": [
      "Quantum result Test set accuracy: 0.7272727272727273, Train set accuracy : 0.8848484848484849\n",
      "\n",
      "Train Result\n",
      "accuracy:  0.8848484848484849\n",
      "precision:  0.8711656441717791\n",
      "recall:  0.8930817610062893\n",
      "f1:  0.8819875776397514\n",
      "area under curve (auc):  0.8851373717312149\n",
      "\n",
      "Test Result\n",
      "accuracy:  0.7272727272727273\n",
      "precision:  0.7627118644067796\n",
      "recall:  0.7377049180327869\n",
      "f1:  0.7500000000000001\n",
      "area under curve (auc):  0.7259953161592506\n"
     ]
    }
   ],
   "source": [
    "from sklearn.svm import SVC\n",
    "from sklearn.metrics import roc_curve, roc_auc_score, auc\n",
    "from sklearn import metrics\n",
    "\n",
    "q_svc = SVC(kernel=\"precomputed\")\n",
    "\n",
    "q_svc.fit(q_matrix_train, train_labels)\n",
    "\n",
    "accuracy = q_svc.score(q_matrix_test, test_labels)\n",
    "\n",
    "train_accuracy = q_svc.score(q_matrix_train , train_labels)\n",
    "\n",
    "print(f\"Quantum result Test set accuracy: {accuracy}, Train set accuracy : {train_accuracy}\")\n",
    "\n",
    "y_scores = q_svc.predict(q_matrix_train)\n",
    "\n",
    "print(\"\\nTrain Result\")\n",
    "print(\"accuracy: \", metrics.accuracy_score(train_labels, y_scores))\n",
    "print(\"precision: \", metrics.precision_score(train_labels, y_scores)) \n",
    "print(\"recall: \", metrics.recall_score(train_labels, y_scores))\n",
    "print(\"f1: \", metrics.f1_score(train_labels, y_scores))\n",
    "print(\"area under curve (auc): \", metrics.roc_auc_score(train_labels, y_scores))\n",
    "\n",
    "y_scores = q_svc.predict(q_matrix_test)\n",
    "\n",
    "print(\"\\nTest Result\")\n",
    "print(\"accuracy: \", metrics.accuracy_score(test_labels, y_scores))\n",
    "print(\"precision: \", metrics.precision_score(test_labels, y_scores)) \n",
    "print(\"recall: \", metrics.recall_score(test_labels, y_scores))\n",
    "print(\"f1: \", metrics.f1_score(test_labels, y_scores))\n",
    "print(\"area under curve (auc): \", metrics.roc_auc_score(test_labels, y_scores))"
   ]
  },
  {
   "cell_type": "code",
   "execution_count": 111,
   "id": "0e23982c",
   "metadata": {},
   "outputs": [
    {
     "name": "stdout",
     "output_type": "stream",
     "text": [
      "Test set accuracy: 0.7272727272727273, Train set accuracy : 0.8090909090909091\n",
      "\n",
      "Train Result\n",
      "accuracy:  0.8090909090909091\n",
      "precision:  0.7474226804123711\n",
      "recall:  0.9119496855345912\n",
      "f1:  0.821529745042493\n",
      "area under curve (auc):  0.812699988966126\n",
      "\n",
      "Test Result\n",
      "accuracy:  0.7272727272727273\n",
      "precision:  0.7384615384615385\n",
      "recall:  0.7868852459016393\n",
      "f1:  0.7619047619047619\n",
      "area under curve (auc):  0.7199732351957178\n"
     ]
    }
   ],
   "source": [
    "from sklearn.svm import SVC\n",
    "from sklearn.metrics import roc_curve, roc_auc_score, auc\n",
    "from sklearn import metrics\n",
    "\n",
    "linear_svc = SVC(kernel=\"linear\")\n",
    "\n",
    "linear_svc.fit(train_features, train_labels)\n",
    "\n",
    "accuracy = linear_svc.score(test_features, test_labels)\n",
    "\n",
    "train_accuracy = linear_svc.score(train_features , train_labels)\n",
    "\n",
    "\n",
    "print(f\"Test set accuracy: {accuracy}, Train set accuracy : {train_accuracy}\")\n",
    "\n",
    "y_scores = linear_svc.predict(train_features)\n",
    "\n",
    "print(\"\\nTrain Result\")\n",
    "print(\"accuracy: \", metrics.accuracy_score(train_labels, y_scores))\n",
    "print(\"precision: \", metrics.precision_score(train_labels, y_scores)) \n",
    "print(\"recall: \", metrics.recall_score(train_labels, y_scores))\n",
    "print(\"f1: \", metrics.f1_score(train_labels, y_scores))\n",
    "print(\"area under curve (auc): \", metrics.roc_auc_score(train_labels, y_scores))\n",
    "\n",
    "y_scores = linear_svc.predict(test_features)\n",
    "\n",
    "print(\"\\nTest Result\")\n",
    "print(\"accuracy: \", metrics.accuracy_score(test_labels, y_scores))\n",
    "print(\"precision: \", metrics.precision_score(test_labels, y_scores)) \n",
    "print(\"recall: \", metrics.recall_score(test_labels, y_scores))\n",
    "print(\"f1: \", metrics.f1_score(test_labels, y_scores))\n",
    "print(\"area under curve (auc): \", metrics.roc_auc_score(test_labels, y_scores))"
   ]
  },
  {
   "cell_type": "code",
   "execution_count": 113,
   "id": "3c171cff",
   "metadata": {},
   "outputs": [
    {
     "name": "stdout",
     "output_type": "stream",
     "text": [
      "Test set accuracy: 0.7727272727272727, Train set accuracy : 0.8636363636363636\n",
      "\n",
      "Train Result\n",
      "accuracy:  0.8636363636363636\n",
      "precision:  0.8166666666666667\n",
      "recall:  0.9245283018867925\n",
      "f1:  0.8672566371681416\n",
      "area under curve (auc):  0.8657729228732208\n",
      "\n",
      "Test Result\n",
      "accuracy:  0.7727272727272727\n",
      "precision:  0.78125\n",
      "recall:  0.819672131147541\n",
      "f1:  0.8\n",
      "area under curve (auc):  0.7669789227166277\n"
     ]
    }
   ],
   "source": [
    "from sklearn.svm import SVC\n",
    "from sklearn.metrics import roc_curve, roc_auc_score, auc\n",
    "from sklearn import metrics\n",
    "\n",
    "rbf_svc = SVC(kernel=\"rbf\")\n",
    "\n",
    "rbf_svc.fit(train_features, train_labels)\n",
    "\n",
    "accuracy = rbf_svc.score(test_features, test_labels)\n",
    "\n",
    "train_accuracy = rbf_svc.score(train_features , train_labels)\n",
    "\n",
    "\n",
    "print(f\"Test set accuracy: {accuracy}, Train set accuracy : {train_accuracy}\")\n",
    "\n",
    "y_scores = rbf_svc.predict(train_features)\n",
    "\n",
    "print(\"\\nTrain Result\")\n",
    "print(\"accuracy: \", metrics.accuracy_score(train_labels, y_scores))\n",
    "print(\"precision: \", metrics.precision_score(train_labels, y_scores)) \n",
    "print(\"recall: \", metrics.recall_score(train_labels, y_scores))\n",
    "print(\"f1: \", metrics.f1_score(train_labels, y_scores))\n",
    "print(\"area under curve (auc): \", metrics.roc_auc_score(train_labels, y_scores))\n",
    "\n",
    "y_scores = rbf_svc.predict(test_features)\n",
    "\n",
    "print(\"\\nTest Result\")\n",
    "print(\"accuracy: \", metrics.accuracy_score(test_labels, y_scores))\n",
    "print(\"precision: \", metrics.precision_score(test_labels, y_scores)) \n",
    "print(\"recall: \", metrics.recall_score(test_labels, y_scores))\n",
    "print(\"f1: \", metrics.f1_score(test_labels, y_scores))\n",
    "print(\"area under curve (auc): \", metrics.roc_auc_score(test_labels, y_scores))"
   ]
  }
 ],
 "metadata": {
  "kernelspec": {
   "display_name": "Python 3 (ipykernel)",
   "language": "python",
   "name": "python3"
  },
  "language_info": {
   "codemirror_mode": {
    "name": "ipython",
    "version": 3
   },
   "file_extension": ".py",
   "mimetype": "text/x-python",
   "name": "python",
   "nbconvert_exporter": "python",
   "pygments_lexer": "ipython3",
   "version": "3.11.4"
  },
  "toc": {
   "base_numbering": 1,
   "nav_menu": {},
   "number_sections": false,
   "sideBar": true,
   "skip_h1_title": false,
   "title_cell": "Table of Contents",
   "title_sidebar": "Contents",
   "toc_cell": false,
   "toc_position": {},
   "toc_section_display": true,
   "toc_window_display": true
  },
  "varInspector": {
   "cols": {
    "lenName": 16,
    "lenType": 16,
    "lenVar": 40
   },
   "kernels_config": {
    "python": {
     "delete_cmd_postfix": "",
     "delete_cmd_prefix": "del ",
     "library": "var_list.py",
     "varRefreshCmd": "print(var_dic_list())"
    },
    "r": {
     "delete_cmd_postfix": ") ",
     "delete_cmd_prefix": "rm(",
     "library": "var_list.r",
     "varRefreshCmd": "cat(var_dic_list()) "
    }
   },
   "types_to_exclude": [
    "module",
    "function",
    "builtin_function_or_method",
    "instance",
    "_Feature"
   ],
   "window_display": false
  }
 },
 "nbformat": 4,
 "nbformat_minor": 5
}
