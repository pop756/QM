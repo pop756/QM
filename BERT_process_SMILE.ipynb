{
 "cells": [
  {
   "cell_type": "code",
   "execution_count": 1,
   "metadata": {},
   "outputs": [
    {
     "name": "stderr",
     "output_type": "stream",
     "text": [
      "2024-01-02 18:30:12.796055: I tensorflow/core/platform/cpu_feature_guard.cc:193] This TensorFlow binary is optimized with oneAPI Deep Neural Network Library (oneDNN) to use the following CPU instructions in performance-critical operations:  AVX2 AVX512F AVX512_VNNI FMA\n",
      "To enable them in other operations, rebuild TensorFlow with the appropriate compiler flags.\n",
      "2024-01-02 18:30:12.972392: I tensorflow/core/util/port.cc:104] oneDNN custom operations are on. You may see slightly different numerical results due to floating-point round-off errors from different computation orders. To turn them off, set the environment variable `TF_ENABLE_ONEDNN_OPTS=0`.\n",
      "2024-01-02 18:30:13.853847: W tensorflow/compiler/xla/stream_executor/platform/default/dso_loader.cc:64] Could not load dynamic library 'libnvinfer.so.7'; dlerror: libnvinfer.so.7: cannot open shared object file: No such file or directory; LD_LIBRARY_PATH: :/usr/local/cuda-11.8/lib64:/usr/local/cuda-11.3/lib64\n",
      "2024-01-02 18:30:13.853947: W tensorflow/compiler/xla/stream_executor/platform/default/dso_loader.cc:64] Could not load dynamic library 'libnvinfer_plugin.so.7'; dlerror: libnvinfer_plugin.so.7: cannot open shared object file: No such file or directory; LD_LIBRARY_PATH: :/usr/local/cuda-11.8/lib64:/usr/local/cuda-11.3/lib64\n",
      "2024-01-02 18:30:13.853954: W tensorflow/compiler/tf2tensorrt/utils/py_utils.cc:38] TF-TRT Warning: Cannot dlopen some TensorRT libraries. If you would like to use Nvidia GPU with TensorRT, please make sure the missing libraries mentioned above are installed properly.\n"
     ]
    }
   ],
   "source": [
    "import tensorflow as tf\n",
    "from tensorflow.keras import layers\n",
    "import numpy as np"
   ]
  },
  {
   "cell_type": "code",
   "execution_count": 2,
   "metadata": {},
   "outputs": [
    {
     "name": "stderr",
     "output_type": "stream",
     "text": [
      "2024-01-02 18:30:17.434840: I tensorflow/core/platform/cpu_feature_guard.cc:193] This TensorFlow binary is optimized with oneAPI Deep Neural Network Library (oneDNN) to use the following CPU instructions in performance-critical operations:  AVX2 AVX512F AVX512_VNNI FMA\n",
      "To enable them in other operations, rebuild TensorFlow with the appropriate compiler flags.\n",
      "2024-01-02 18:30:18.447137: I tensorflow/core/common_runtime/gpu/gpu_device.cc:1613] Created device /job:localhost/replica:0/task:0/device:GPU:0 with 78900 MB memory:  -> device: 0, name: NVIDIA A100 80GB PCIe, pci bus id: 0000:ca:00.0, compute capability: 8.0\n",
      "2024-01-02 18:30:18.474969: I tensorflow/core/common_runtime/gpu/gpu_device.cc:1613] Created device /job:localhost/replica:0/task:0/device:GPU:0 with 78900 MB memory:  -> device: 0, name: NVIDIA A100 80GB PCIe, pci bus id: 0000:ca:00.0, compute capability: 8.0\n"
     ]
    }
   ],
   "source": [
    "config = tf.compat.v1.ConfigProto()\n",
    "config.gpu_options.allow_growth = True\n",
    "with tf.compat.v1.Session(config=config) as sess:\n",
    "\n",
    "    # 메모리 40% 할당\n",
    "    config = tf.compat.v1.ConfigProto()\n",
    "    config.gpu_options.per_process_gpu_memory_fraction = 0.9\n",
    "    sess = tf.compat.v1.Session(config=config)"
   ]
  },
  {
   "cell_type": "code",
   "execution_count": 1,
   "metadata": {},
   "outputs": [],
   "source": [
    "import pickle\n",
    "\n",
    "with open('./Pretraning_data/ZINC_10M_data','rb') as file:\n",
    "    train = pickle.load(file)"
   ]
  },
  {
   "cell_type": "code",
   "execution_count": null,
   "metadata": {},
   "outputs": [],
   "source": [
    "from SmilesPE import tokenizer\n",
    "\n",
    "tokenizer.atomwise_tokenizer(train[1])"
   ]
  },
  {
   "cell_type": "code",
   "execution_count": 8,
   "metadata": {},
   "outputs": [],
   "source": [
    "from SmilesPE import tokenizer"
   ]
  },
  {
   "cell_type": "code",
   "execution_count": 3,
   "metadata": {},
   "outputs": [],
   "source": [
    "from rdkit import Chem\n",
    "from tqdm import tqdm\n",
    "def Chem_generator(smiles):\n",
    "    res_list = []\n",
    "    for i in tqdm(smiles):\n",
    "        mol = Chem.MolFromSmiles(i)\n",
    "        temp = []\n",
    "        index = 0\n",
    "        while(len(set(temp))!=4 and index != 100):\n",
    "            index+=1\n",
    "            temp.append(Chem.MolToSmiles(mol,doRandom=True))\n",
    "        res_list+=list(set(temp))\n",
    "    return res_list"
   ]
  },
  {
   "cell_type": "code",
   "execution_count": 3,
   "metadata": {},
   "outputs": [
    {
     "name": "stderr",
     "output_type": "stream",
     "text": [
      "  0%|          | 432/12525050 [00:00<1:37:37, 2138.06it/s]"
     ]
    },
    {
     "name": "stderr",
     "output_type": "stream",
     "text": [
      "100%|██████████| 12525050/12525050 [1:14:21<00:00, 2807.07it/s]\n"
     ]
    }
   ],
   "source": [
    "train_1 = Chem_generator(train)"
   ]
  },
  {
   "cell_type": "code",
   "execution_count": 4,
   "metadata": {},
   "outputs": [],
   "source": [
    "from tdc.single_pred import Tox\n",
    "from Module import RDK as rk\n",
    "import atomInSmiles\n",
    "from Module import Fine_tune\n",
    "from SmilesPE import tokenizer"
   ]
  },
  {
   "cell_type": "code",
   "execution_count": 5,
   "metadata": {},
   "outputs": [
    {
     "name": "stderr",
     "output_type": "stream",
     "text": [
      "  0%|          | 0/50100189 [00:00<?, ?it/s]"
     ]
    },
    {
     "name": "stderr",
     "output_type": "stream",
     "text": [
      "100%|██████████| 50100189/50100189 [08:07<00:00, 102816.16it/s]\n"
     ]
    }
   ],
   "source": [
    "from multiprocessing import Pool\n",
    "from tqdm import tqdm\n",
    "from multiprocessing import Process, Value, Array\n",
    "from multiprocessing import Process,Manager,current_process\n",
    "from Module import RDK as rk\n",
    "import atomInSmiles \n",
    "from SmilesPE import tokenizer\n",
    "\n",
    "train_set = []\n",
    "for i in tqdm(train_1):\n",
    "    train_set.append(tokenizer.atomwise_tokenizer(i))\n"
   ]
  },
  {
   "cell_type": "code",
   "execution_count": 47,
   "metadata": {},
   "outputs": [
    {
     "data": {
      "text/plain": [
       "Text(0, 0.5, 'counts')"
      ]
     },
     "execution_count": 47,
     "metadata": {},
     "output_type": "execute_result"
    },
    {
     "data": {
      "image/png": "[encoded data removed]",
      "text/plain": [
       "<Figure size 640x480 with 1 Axes>"
      ]
     },
     "metadata": {},
     "output_type": "display_data"
    }
   ],
   "source": [
    "import matplotlib.pyplot as plt\n",
    "length_list = {}\n",
    "\n",
    "\n",
    "for index,i in enumerate(train_set_plus):\n",
    "    try:\n",
    "        length_list[len(i)]=length_list[len(i)]+1\n",
    "    except:\n",
    "        length_list[len(i)] = 1\n",
    "    \n",
    "plt.bar(length_list.keys(),length_list.values())\n",
    "plt.xlabel(xlabel='Token_size')\n",
    "plt.ylabel('counts')    "
   ]
  },
  {
   "cell_type": "code",
   "execution_count": 7,
   "metadata": {},
   "outputs": [
    {
     "name": "stdout",
     "output_type": "stream",
     "text": [
      "[P@H+] 48\n",
      "[P@@H+] 48\n",
      "9 12\n",
      "%10 4\n",
      "[CH] 16\n",
      "p 16\n",
      "[CH2] 24\n",
      "[Si-] 4\n",
      "[P@+] 33\n",
      "[P@@+] 31\n",
      "[NH] 8\n",
      "[17O] 12\n",
      "[p+] 4\n"
     ]
    }
   ],
   "source": [
    "temp_dict = {}\n",
    "for i in train_set:\n",
    "    for j in i:\n",
    "        try:\n",
    "            temp_dict[j] = temp_dict[j] + 1\n",
    "        except:\n",
    "            temp_dict[j] = 1\n",
    "remove_dict = {}\n",
    "for i in temp_dict.keys():\n",
    "    if temp_dict[i]<50:\n",
    "        print(i,temp_dict[i])\n",
    "        remove_dict[i] = 1\n",
    "\n",
    "remove_list = []\n",
    "for index,i in enumerate(train_set):\n",
    "    for j in i:\n",
    "        try:\n",
    "            remove_dict[j]\n",
    "            remove_list.append(index)\n",
    "            break\n",
    "        except:\n",
    "            continue\n",
    "\n",
    "remove_list.sort(reverse=True)"
   ]
  },
  {
   "cell_type": "code",
   "execution_count": 2,
   "metadata": {},
   "outputs": [],
   "source": [
    "import pickle\n",
    "with open('./Pretraning_data/Random_ZINC_50M_SMILE_tokken.pkl','rb') as file:\n",
    "    train_set = pickle.load(file)"
   ]
  },
  {
   "cell_type": "code",
   "execution_count": null,
   "metadata": {},
   "outputs": [],
   "source": [
    "train_set"
   ]
  },
  {
   "cell_type": "code",
   "execution_count": 3,
   "metadata": {},
   "outputs": [
    {
     "data": {
      "text/plain": [
       "71"
      ]
     },
     "execution_count": 3,
     "metadata": {},
     "output_type": "execute_result"
    }
   ],
   "source": [
    "import pickle\n",
    "molecule_dictionary = {'<start>':1,'<end>':2,'<unknown1>':3,'<unknown2>':4,'<unknown3>':5,'<unknow4>':6,'<unknown5>':7}\n",
    "\n",
    "for molecule in train_set:\n",
    "    for atom in molecule:\n",
    "        try:\n",
    "            molecule_dictionary[atom]\n",
    "        except:\n",
    "            molecule_dictionary[atom] = len(molecule_dictionary)+1\n",
    "with open('./BERT/SMILE/1M_random_ZINC_word2index.pkl','wb') as file:\n",
    "    pickle.dump(molecule_dictionary,file)\n",
    "len(molecule_dictionary)"
   ]
  },
  {
   "cell_type": "code",
   "execution_count": 50,
   "metadata": {},
   "outputs": [
    {
     "data": {
      "text/plain": [
       "141"
      ]
     },
     "execution_count": 50,
     "metadata": {},
     "output_type": "execute_result"
    }
   ],
   "source": [
    "import pickle\n",
    "with open('./BERT/SMILE/1M_random_ZINC_word2index.pkl','rb') as file:\n",
    "    molecule_dictionary = pickle.load(file)\n",
    "len(molecule_dictionary)"
   ]
  },
  {
   "cell_type": "code",
   "execution_count": 5,
   "metadata": {},
   "outputs": [
    {
     "name": "stderr",
     "output_type": "stream",
     "text": [
      "  0%|          | 0/50099943 [00:00<?, ?it/s]"
     ]
    },
    {
     "name": "stderr",
     "output_type": "stream",
     "text": [
      "100%|██████████| 50099943/50099943 [13:37<00:00, 61297.59it/s] \n"
     ]
    }
   ],
   "source": [
    "from tqdm import tqdm\n",
    "import numpy as np \n",
    "\n",
    "def word_to_index(train_set,dict):\n",
    "    result = []\n",
    "    for molecule in tqdm(train_set):\n",
    "        temp_list = []\n",
    "        temp_list.append(1)\n",
    "        for atom in molecule:\n",
    "            temp_list.append(dict[atom])\n",
    "        while len(temp_list)!=200:\n",
    "            temp_list.append(0)\n",
    "        result.append(temp_list)\n",
    "    return result\n",
    "embedding_word = word_to_index(train_set,molecule_dictionary)   \n",
    "embedding_word = np.array(embedding_word)"
   ]
  },
  {
   "cell_type": "code",
   "execution_count": 5,
   "metadata": {},
   "outputs": [
    {
     "name": "stderr",
     "output_type": "stream",
     "text": [
      "Found local copy...\n",
      "Loading...\n",
      "Done!\n",
      "100%|██████████| 5000/5000 [00:01<00:00, 3012.63it/s]\n",
      "100%|██████████| 19957/19957 [00:00<00:00, 52354.82it/s]\n"
     ]
    }
   ],
   "source": [
    "from tdc.single_pred import Tox\n",
    "from Module import RDK\n",
    "import atomInSmiles\n",
    "from SmilesPE import tokenizer\n",
    "def word_to_index(train_set,dict):\n",
    "    result = []\n",
    "    for molecule in tqdm(train_set):\n",
    "        temp_list = []\n",
    "        temp_list.append(1)\n",
    "        for atom in molecule:\n",
    "            temp_list.append(dict[atom])\n",
    "        while len(temp_list)!=200:\n",
    "            temp_list.append(0)\n",
    "        result.append(temp_list)\n",
    "    return result\n",
    "train_val,tox_info = Tox(name = 'AMES').get_data(format = 'DeepPurpose')\n",
    "train_set_val = []\n",
    "\n",
    "train_val = Chem_generator(train_val[:5000])\n",
    "\n",
    "\n",
    "for i in train_val:\n",
    "    train_set_val.append(tokenizer.atomwise_tokenizer(i))\n",
    "val_remove_list = []\n",
    "for index,i in enumerate(train_set_val):\n",
    "    for j in i:\n",
    "        try:\n",
    "            molecule_dictionary[j]\n",
    "        except:\n",
    "            val_remove_list.append(index)\n",
    "            break\n",
    "val_remove_list.sort(reverse=True)\n",
    "\n",
    "for i in val_remove_list:\n",
    "    train_set_val.pop(i)\n",
    "\n",
    "embedding_word_val = word_to_index(train_set_val,molecule_dictionary)   \n",
    "embedding_word_val = np.array(embedding_word_val)"
   ]
  },
  {
   "cell_type": "code",
   "execution_count": 6,
   "metadata": {},
   "outputs": [
    {
     "data": {
      "text/plain": [
       "array([[ 1, 11, 10, ...,  0,  0,  0],\n",
       "       [ 1, 11, 10, ...,  0,  0,  0],\n",
       "       [ 1, 20, 19, ...,  0,  0,  0],\n",
       "       ...,\n",
       "       [ 1,  8, 10, ...,  0,  0,  0],\n",
       "       [ 1, 29, 11, ...,  0,  0,  0],\n",
       "       [ 1,  8, 10, ...,  0,  0,  0]])"
      ]
     },
     "execution_count": 6,
     "metadata": {},
     "output_type": "execute_result"
    }
   ],
   "source": [
    "embedding_word_val"
   ]
  },
  {
   "cell_type": "code",
   "execution_count": 7,
   "metadata": {},
   "outputs": [
    {
     "name": "stderr",
     "output_type": "stream",
     "text": [
      "100%|██████████| 19957/19957 [00:00<00:00, 268161.23it/s]\n",
      "2024-01-02 18:30:36.411870: I tensorflow/core/common_runtime/gpu/gpu_device.cc:1613] Created device /job:localhost/replica:0/task:0/device:GPU:0 with 78900 MB memory:  -> device: 0, name: NVIDIA A100 80GB PCIe, pci bus id: 0000:ca:00.0, compute capability: 8.0\n"
     ]
    }
   ],
   "source": [
    "import random\n",
    "max = 16\n",
    "mask_input_val = []\n",
    "for j in tqdm(train_set_val):\n",
    "        value = []\n",
    "        number = int(len(j)*0.15)\n",
    "        if number>max:\n",
    "                max = number\n",
    "        if number == 0:\n",
    "                number = 1\n",
    "        value += random.sample(range(1,len(j)),number)\n",
    "        mask_input_val.append(value)\n",
    "        \n",
    "        \n",
    "for j in mask_input_val:\n",
    "        while(len(j)<max):\n",
    "                j.append(-1)\n",
    "\n",
    "\n",
    "random_value_val = embedding_word_val.copy()        \n",
    "for _,index in enumerate(mask_input_val):\n",
    "        for j in index:\n",
    "                if j != -1:\n",
    "                        prob = np.random.rand(1)[0]\n",
    "                        if prob < 0.8:\n",
    "                                random_value_val[_][j] = 5\n",
    "                        elif prob > 0.9:\n",
    "                                temp1 = random.sample(range(0,301),1)[0]\n",
    "                                random_value_val[_][j] = temp1\n",
    "                                \n",
    "output_val = tf.multiply(tf.reduce_sum(tf.one_hot(mask_input_val,200),axis=1),embedding_word_val)"
   ]
  },
  {
   "cell_type": "code",
   "execution_count": 8,
   "metadata": {},
   "outputs": [],
   "source": [
    "import matplotlib.pyplot as plt\n",
    "from tensorflow.keras.callbacks import *\n",
    "early_stopping_cb = EarlyStopping(patience=6, monitor='loss',restore_best_weights=True)"
   ]
  },
  {
   "cell_type": "code",
   "execution_count": 9,
   "metadata": {},
   "outputs": [],
   "source": [
    "def custom_loss(y_true, y_pred):\n",
    "    output = tf.one_hot(tf.cast(tf.boolean_mask(y_true,tf.cast(y_true,bool)),tf.int32),len(molecule_dictionary))\n",
    "    loss = tf.keras.losses.CategoricalCrossentropy()(output,y_pred)\n",
    "    return loss"
   ]
  },
  {
   "cell_type": "code",
   "execution_count": 10,
   "metadata": {},
   "outputs": [],
   "source": [
    "def Custom_metric(y_true,y_pred):\n",
    "    predictions = tf.argmax(y_pred,axis=1)\n",
    "    true = tf.boolean_mask(y_true,tf.cast(y_true,bool))\n",
    "    return  tf.metrics.Accuracy()(predictions,true)\n",
    "def Mask_acc(y_true, y_pred):\n",
    "    score = tf.py_function(func=Custom_metric, inp=[y_true, y_pred], Tout=tf.float32,  name='Custom_acc') \n",
    "    return score"
   ]
  },
  {
   "cell_type": "code",
   "execution_count": 11,
   "metadata": {},
   "outputs": [],
   "source": [
    "class BERT(tf.keras.layers.Layer):\n",
    "    def __init__(self,emb_dim,num_heads,ff_dim):\n",
    "        super(BERT, self).__init__()\n",
    "        self.transformer = TransformerBlock(emb_dim,num_heads,ff_dim)\n",
    "        \n",
    "        self.embedding = TokenAndPositionEmbedding(200,3500,256)\n",
    "        self.dense = layers.Dense(250,activation = 'gelu')\n",
    "        self.classify = layers.Dense(len(molecule_dictionary),activation = 'softmax')\n",
    "    def call(self, inputs, mask_index,pretrain = False):\n",
    "        if pretrain:\n",
    "            mask_index = tf.one_hot(mask_index,200)\n",
    "            boolean_mask = tf.cast(tf.reduce_sum(mask_index,axis=1),bool)\n",
    "            inputs = tf.cast(inputs,dtype=tf.int32)\n",
    "        \n",
    "        hidden = self.embedding(inputs)\n",
    "        for i in range(8):\n",
    "            hidden = self.transformer(hidden)\n",
    "    \n",
    "        if pretrain:\n",
    "            output = tf.reshape(hidden,[-1,200,256])\n",
    "            output = tf.boolean_mask(output,boolean_mask)\n",
    "            output = self.dense(output)\n",
    "            output = layers.Dropout(0.1)(output)\n",
    "            output = self.classify(output)\n",
    "            return output\n",
    "        else:\n",
    "            return hidden"
   ]
  },
  {
   "cell_type": "code",
   "execution_count": 12,
   "metadata": {},
   "outputs": [],
   "source": [
    "class TokenAndPositionEmbedding(tf.keras.layers.Layer):\n",
    "    def __init__(self, maxlen, vocab_size, embed_dim):\n",
    "        super().__init__()\n",
    "        self.token_emb = tf.keras.layers.Embedding(input_dim=vocab_size, output_dim=embed_dim,mask_zero=True)\n",
    "        self.pos_emb = tf.keras.layers.Embedding(input_dim=maxlen, output_dim=embed_dim,mask_zero = True)\n",
    "\n",
    "    def call(self, x):\n",
    "        maxlen = tf.shape(x)[-1]\n",
    "        positions = tf.range(start=1, limit=maxlen+1, delta=1)\n",
    "        positions = self.pos_emb(positions)\n",
    "        x = self.token_emb(x)\n",
    "        return x + positions"
   ]
  },
  {
   "cell_type": "code",
   "execution_count": 13,
   "metadata": {},
   "outputs": [],
   "source": [
    "from Module import custom_layers"
   ]
  },
  {
   "cell_type": "code",
   "execution_count": 14,
   "metadata": {},
   "outputs": [],
   "source": [
    "BERT_tensor = custom_layers.BERT_tensor_small"
   ]
  },
  {
   "cell_type": "code",
   "execution_count": 117,
   "metadata": {},
   "outputs": [],
   "source": [
    "from tensorflow.keras.models import Sequential\n",
    "from tensorflow.keras import layers\n",
    "import tensorflow as tf\n",
    "\n",
    "from tensorflow.keras.models import Sequential\n",
    "from tensorflow.keras import layers\n",
    "import tensorflow as tf\n",
    "import pickle\n",
    "import copy\n",
    "import tensorflow as tf\n",
    "import tensornetwork as tn\n",
    "import numpy as np\n",
    "import tensornetwork as tn\n",
    "class TNLayer(tf.keras.layers.Layer):\n",
    "    def __init__(self,Tensor_dimention = 2):\n",
    "        super(TNLayer, self).__init__()\n",
    "        # Create the variables for the layer.\n",
    "\n",
    "\n",
    "    \n",
    "        initializer = tf.keras.initializers.RandomNormal(stddev=1/np.sqrt(4+Tensor_dimention-1))\n",
    "        initializer1 = tf.keras.initializers.RandomNormal(stddev=1/np.sqrt(4+Tensor_dimention+Tensor_dimention-1))\n",
    "        self.A1 = tf.Variable(initializer(shape=[4,Tensor_dimention,4]),name=\"a1\", trainable=True)\n",
    "        self.A2 = tf.Variable(initializer1(shape=[4,Tensor_dimention,Tensor_dimention,8]),name=\"a2\", trainable=True)\n",
    "        self.A3 = tf.Variable(initializer1(shape=[4,Tensor_dimention,Tensor_dimention,8]),name=\"a3\", trainable=True)\n",
    "        self.A4 = tf.Variable(initializer(shape=[4,Tensor_dimention,4]),name=\"a4\", trainable=True)\n",
    "        \n",
    "\n",
    "\n",
    "        self.bias = tf.Variable(tf.zeros(shape=(256*4)), name=\"bias\", trainable=True)\n",
    "        \n",
    "    def call(self, inputs):\n",
    "        # Define the contraction.\n",
    "        # We break it out so we can parallelize a batch using\n",
    "        # tf.vectorized_map (see below).\n",
    "        Nodes = [tn.Node(self.A1,'a1',backend=\"tensorflow\")]\n",
    "        Nodes+=[tn.Node(self.A2,f'a{2}',backend=\"tensorflow\")]\n",
    "        Nodes+=[tn.Node(self.A3,f'a{3}',backend=\"tensorflow\")]\n",
    "        Nodes+=[tn.Node(self.A4,f'a{4}',backend=\"tensorflow\")]\n",
    "        input_vec = tf.reshape(inputs, [-1,200,4,4,4,4])\n",
    "        T_node = tn.Node(input_vec , backend=\"tensorflow\",name = 't') \n",
    "        for i in range(len(Nodes)-1):\n",
    "            if i == 0:\n",
    "                Nodes[i][1]^Nodes[i+1][1]\n",
    "            else:\n",
    "                Nodes[i][2]^Nodes[i+1][1]\n",
    "        for i in range(len(Nodes)):\n",
    "            Nodes[i][0]^T_node[i+2]\n",
    "        \n",
    "        bias_var = self.bias\n",
    "        contraction = T_node@Nodes[0]\n",
    "        for i in range(1,len(Nodes)):\n",
    "            contraction = contraction@Nodes[i]\n",
    "        result = tf.reshape(contraction.tensor,[-1,200,256*4])\n",
    "        result = result + bias_var\n",
    "        return result\n",
    "class TNLayer_small(tf.keras.layers.Layer):\n",
    "    def __init__(self,Tensor_dimention = 2):\n",
    "        super(TNLayer_small, self).__init__()\n",
    "        # Create the variables for the layer.\n",
    "\n",
    "\n",
    "    \n",
    "        initializer = tf.keras.initializers.RandomNormal(stddev=1/np.sqrt(3+Tensor_dimention-1))\n",
    "        initializer1 = tf.keras.initializers.RandomNormal(stddev=1/np.sqrt(4+Tensor_dimention+Tensor_dimention-1))\n",
    "        self.A1 = tf.Variable(initializer(shape=[4,Tensor_dimention,4]),name=\"a1\", trainable=True)\n",
    "        self.A2 = tf.Variable(initializer1(shape=[4,Tensor_dimention,Tensor_dimention,4]),name=\"a2\", trainable=True)\n",
    "        self.A3 = tf.Variable(initializer1(shape=[4,Tensor_dimention,Tensor_dimention,4]),name=\"a3\", trainable=True)\n",
    "        self.A4 = tf.Variable(initializer(shape=[4,Tensor_dimention,3]),name=\"a4\", trainable=True)\n",
    "        \n",
    "\n",
    "\n",
    "        self.bias = tf.Variable(tf.zeros(shape=(192)), name=\"bias\", trainable=True)\n",
    "        \n",
    "    def call(self, inputs):\n",
    "        # Define the contraction.\n",
    "        # We break it out so we can parallelize a batch using\n",
    "        # tf.vectorized_map (see below).\n",
    "        Nodes = [tn.Node(self.A1,'a1',backend=\"tensorflow\")]\n",
    "        Nodes+=[tn.Node(self.A2,f'a{2}',backend=\"tensorflow\")]\n",
    "        Nodes+=[tn.Node(self.A3,f'a{3}',backend=\"tensorflow\")]\n",
    "        Nodes+=[tn.Node(self.A4,f'a{4}',backend=\"tensorflow\")]\n",
    "        input_vec = tf.reshape(inputs, [-1,200,4,4,4,4])\n",
    "        T_node = tn.Node(input_vec , backend=\"tensorflow\",name = 't') \n",
    "        for i in range(len(Nodes)-1):\n",
    "            if i == 0:\n",
    "                Nodes[i][1]^Nodes[i+1][1]\n",
    "            else:\n",
    "                Nodes[i][2]^Nodes[i+1][1]\n",
    "        for i in range(len(Nodes)):\n",
    "            Nodes[i][0]^T_node[i+2]\n",
    "        \n",
    "        bias_var = self.bias\n",
    "        contraction = T_node@Nodes[0]\n",
    "        for i in range(1,len(Nodes)):\n",
    "            contraction = contraction@Nodes[i]\n",
    "        result = tf.reshape(contraction.tensor,[-1,200,192])\n",
    "        result = result + bias_var\n",
    "        return result\n",
    "\n",
    "class TokenAndPositionEmbedding_mask(tf.keras.layers.Layer):\n",
    "    def __init__(self, maxlen, vocab_size, embed_dim,start_index = 0):\n",
    "        super().__init__()\n",
    "        self.token_emb = tf.keras.layers.Embedding(input_dim=vocab_size, output_dim=embed_dim,mask_zero=True)\n",
    "        self.pos_emb = tf.keras.layers.Embedding(input_dim=maxlen, output_dim=embed_dim,mask_zero = True)\n",
    "        \n",
    "        self.positions = np.array([0]*start_index+[i+1 for i in range(200-start_index)])\n",
    "    def call(self, x):\n",
    "        positions = self.pos_emb(self.positions)\n",
    "        mask = self.token_emb.compute_mask(x)\n",
    "        x = self.token_emb(x)\n",
    "        return x + positions,mask\n",
    "\n",
    "class TokenAndPositionEmbedding(tf.keras.layers.Layer):\n",
    "    def __init__(self, maxlen, vocab_size, embed_dim,start_index = 0):\n",
    "        super().__init__()\n",
    "        self.token_emb = tf.keras.layers.Embedding(input_dim=vocab_size, output_dim=embed_dim,mask_zero=True)\n",
    "        self.pos_emb = tf.keras.layers.Embedding(input_dim=maxlen, output_dim=embed_dim,mask_zero = True)\n",
    "        self.positions = np.array([0]*start_index+[i+1 for i in range(200-start_index)])\n",
    "    def call(self, x):\n",
    "        positions = self.pos_emb(self.positions)\n",
    "        x = self.token_emb(x)\n",
    "        return x + positions\n",
    "\n",
    "\n",
    "class TransformerBlock(tf.keras.layers.Layer):\n",
    "    def __init__(self, embed_dim, num_heads, ff_dim, rate=0.1):\n",
    "        super().__init__()\n",
    "        l2_reg = tf.keras.regularizers.l2(0.01)\n",
    "        self.att = tf.keras.layers.MultiHeadAttention(num_heads=num_heads, key_dim=embed_dim,kernel_regularizer=l2_reg,dropout=0.1)\n",
    "        self.ffn = tf.keras.Sequential(\n",
    "            [tf.keras.layers.Dense(ff_dim, activation=\"relu\"), tf.keras.layers.Dense(embed_dim),]\n",
    "        )\n",
    "        self.layernorm1 = tf.keras.layers.LayerNormalization(epsilon=1e-6)\n",
    "        self.layernorm2 = tf.keras.layers.LayerNormalization(epsilon=1e-6)\n",
    "        self.dropout1 = tf.keras.layers.Dropout(rate)\n",
    "        self.dropout2 = tf.keras.layers.Dropout(rate)\n",
    "\n",
    "    def call(self, inputs):\n",
    "        attn_output = self.att(inputs, inputs)\n",
    "        attn_output = self.dropout1(attn_output)\n",
    "        out1 = self.layernorm1(inputs + attn_output)\n",
    "        ffn_output = self.ffn(out1)\n",
    "        ffn_output = self.dropout2(ffn_output)\n",
    "        return self.layernorm2(out1 + ffn_output)\n",
    "    \n",
    "class TransformerBlock_Tensor(tf.keras.layers.Layer):\n",
    "    def __init__(self, embed_dim, num_heads, ff_dim, rate=0.1,Tensor_dimention=2):\n",
    "        super().__init__()\n",
    "        self.att = MultiheadAttention_tensor(d_model=embed_dim,num_heads=num_heads,Tensor_dimention=Tensor_dimention,dropout=0)\n",
    "        self.ffn = tf.keras.Sequential(\n",
    "            [tf.keras.layers.Dense(ff_dim, activation=\"relu\"), tf.keras.layers.Dense(embed_dim),]\n",
    "        )\n",
    "        self.layernorm1 = tf.keras.layers.LayerNormalization(epsilon=1e-6)\n",
    "        self.layernorm2 = tf.keras.layers.LayerNormalization(epsilon=1e-6)\n",
    "        self.dropout1 = tf.keras.layers.Dropout(rate)\n",
    "        self.dropout2 = tf.keras.layers.Dropout(rate)\n",
    "\n",
    "    def call(self, inputs,mask=None):\n",
    "        attn_output,_ = self.att(inputs,mask)\n",
    "        attn_output = self.dropout1(attn_output)\n",
    "        out1 = self.layernorm1(inputs + attn_output)\n",
    "        ffn_output = self.ffn(out1)\n",
    "        ffn_output = self.dropout2(ffn_output)\n",
    "        return self.layernorm2(out1 + ffn_output)\n",
    "import tensorflow as tf\n",
    "\n",
    "class TransformerBlock_Tensor_small(tf.keras.layers.Layer):\n",
    "    def __init__(self, embed_dim, num_heads, ff_dim, rate=0.1,Tensor_dimention=2):\n",
    "        super().__init__()\n",
    "        self.att = MultiheadAttention_tensor_small(d_model=int(embed_dim*1/num_heads),num_heads=num_heads,Tensor_dimention=Tensor_dimention,dropout=0)\n",
    "        self.ffn = tf.keras.Sequential(\n",
    "            [tf.keras.layers.Dense(128),tf.keras.layers.Dense(ff_dim, activation=\"relu\"),tf.keras.layers.Dense(128), tf.keras.layers.Dense(embed_dim),]\n",
    "        )\n",
    "        self.layernorm1 = tf.keras.layers.LayerNormalization(epsilon=1e-6)\n",
    "        self.layernorm2 = tf.keras.layers.LayerNormalization(epsilon=1e-6)\n",
    "        self.dropout1 = tf.keras.layers.Dropout(rate)\n",
    "        self.dropout2 = tf.keras.layers.Dropout(rate)\n",
    "\n",
    "    def call(self, inputs,mask=None):\n",
    "        attn_output,_ = self.att(inputs,mask)\n",
    "        attn_output = self.dropout1(attn_output)\n",
    "        out1 = self.layernorm1(inputs + attn_output)\n",
    "        ffn_output = self.ffn(out1)\n",
    "        ffn_output = self.dropout2(ffn_output)\n",
    "        return self.layernorm2(out1 + ffn_output)\n",
    "import tensorflow as tf\n",
    "\n",
    "\n",
    "\n",
    "import tensorflow as tf\n",
    "\n",
    "\n",
    "class MultiheadAttention_tensor_small(tf.keras.layers.Layer):\n",
    "    def __init__(self, d_model, num_heads,classical_rate = 1/4,Tensor_dimention = 2,dropout=0):\n",
    "        super(MultiheadAttention_tensor_small, self).__init__()\n",
    "        #assert d_model % num_heads == 0\n",
    "        self.num_heads = num_heads\n",
    "        self.depth = d_model\n",
    "        self.rate = classical_rate\n",
    "        assert int(num_heads/classical_rate) == num_heads/classical_rate\n",
    "\n",
    "\n",
    "\n",
    "        self.wq = tf.keras.layers.Dense(int(d_model)*int(num_heads*classical_rate))\n",
    "        self.wk = tf.keras.layers.Dense(int(d_model)*int(num_heads*classical_rate))\n",
    "        self.wv = tf.keras.layers.Dense(int(d_model)*int(num_heads*classical_rate))\n",
    "        self.dropout = dropout\n",
    "        self.wq_tensor = TNLayer_small(Tensor_dimention)\n",
    "        self.wk_tensor = TNLayer_small(Tensor_dimention)\n",
    "        self.wv_tensor = TNLayer_small(Tensor_dimention)\n",
    "\n",
    "        self.dense = tf.keras.layers.Dense(d_model*num_heads,kernel_initializer='lecun_normal')\n",
    "\n",
    "    def split_heads(self, x, batch_size):\n",
    "        x = tf.reshape(x, (batch_size, -1, int(self.num_heads*self.rate), 32))\n",
    "        return tf.transpose(x, perm=[0, 2, 1, 3])\n",
    "    def split_heads_tensor(self, x, batch_size):\n",
    "        x = tf.reshape(x, (batch_size, -1, int(self.num_heads*(1-self.rate)), 32))\n",
    "        return tf.transpose(x, perm=[0, 2, 1, 3])\n",
    "    def call(self, q, mask):\n",
    "        batch_size = tf.shape(q)[0]\n",
    "        k = q\n",
    "        v = q\n",
    "        \n",
    "        q_class = self.split_heads(self.wq(q), batch_size)\n",
    "\n",
    "        \n",
    "        k_class = self.split_heads(self.wk(k), batch_size)\n",
    "\n",
    "        \n",
    "        v_class = self.split_heads(self.wv(v), batch_size)\n",
    "        \n",
    "        \n",
    "        q_tensor = self.split_heads_tensor(self.wq_tensor(q),batch_size)\n",
    "\n",
    "        \n",
    "        k_tensor = self.split_heads_tensor(self.wk_tensor(k),batch_size)\n",
    "\n",
    "        \n",
    "        v_tensor = self.split_heads_tensor(self.wv_tensor(v),batch_size)\n",
    "\n",
    "        q,k,v = tf.concat([q_class,q_tensor],axis=1),tf.concat([k_class,k_tensor],axis=1),tf.concat([v_class,v_tensor],axis=1)\n",
    "\n",
    "        scaled_attention, attention_weights = self.scaled_dot_product_attention(q, k, v, mask)\n",
    "\n",
    "        scaled_attention = tf.transpose(scaled_attention, perm=[0, 2, 1, 3])\n",
    "        concat_attention = tf.reshape(scaled_attention, (batch_size, -1, self.depth*self.num_heads))\n",
    "\n",
    "        output = self.dense(concat_attention)\n",
    "        return output, attention_weights\n",
    "\n",
    "    def scaled_dot_product_attention(self, q, k, v, mask):\n",
    "        matmul_qk = tf.matmul(q, k, transpose_b=True)\n",
    "        dk = tf.cast(tf.shape(k)[-1], tf.float32)\n",
    "        scaled_attention_logits = matmul_qk / tf.math.sqrt(dk)\n",
    "        scaled_attention_logits = tf.transpose(scaled_attention_logits,perm=[1,0,2,3])\n",
    "        if mask is not None:\n",
    "            scaled_attention_logits += (mask * -1e9)\n",
    "        scaled_attention_logits = tf.transpose(scaled_attention_logits,perm=[1,0,2,3])\n",
    "        attention_weights = tf.nn.softmax(scaled_attention_logits, axis=-1)\n",
    "        attention_weights = tf.keras.layers.Dropout(self.dropout)(attention_weights)\n",
    "        output = tf.matmul(attention_weights, v)\n",
    "        return output, attention_weights\n",
    "\n",
    "\n",
    "\n",
    "\n",
    "class MultiheadAttention_tensor(tf.keras.layers.Layer):\n",
    "    def __init__(self, d_model, num_heads,classical_rate = 1/3,Tensor_dimention = 2,dropout=0):\n",
    "        super(MultiheadAttention_tensor, self).__init__()\n",
    "        #assert d_model % num_heads == 0\n",
    "        self.num_heads = num_heads\n",
    "        self.depth = d_model\n",
    "        self.rate = classical_rate\n",
    "        assert int(num_heads/classical_rate) == num_heads/classical_rate\n",
    "\n",
    "\n",
    "\n",
    "        self.wq = tf.keras.layers.Dense(int(d_model)*int(num_heads*classical_rate))\n",
    "        self.wk = tf.keras.layers.Dense(int(d_model)*int(num_heads*classical_rate))\n",
    "        self.wv = tf.keras.layers.Dense(int(d_model)*int(num_heads*classical_rate))\n",
    "        self.dropout = dropout\n",
    "        self.wq_tensor = TNLayer_small(Tensor_dimention)\n",
    "        self.wk_tensor = TNLayer_small(Tensor_dimention)\n",
    "        self.wv_tensor = TNLayer_small(Tensor_dimention)\n",
    "\n",
    "        self.dense = tf.keras.layers.Dense(d_model,kernel_initializer='lecun_normal')\n",
    "\n",
    "    def split_heads(self, x, batch_size):\n",
    "        x = tf.reshape(x, (batch_size, -1, int(self.num_heads*self.rate), self.depth))\n",
    "        return tf.transpose(x, perm=[0, 2, 1, 3])\n",
    "    def split_heads_tensor(self, x, batch_size):\n",
    "        x = tf.reshape(x, (batch_size, -1, int(self.num_heads*(1-self.rate)), self.depth))\n",
    "        return tf.transpose(x, perm=[0, 2, 1, 3])\n",
    "    def call(self, q, mask):\n",
    "        batch_size = tf.shape(q)[0]\n",
    "        k = q\n",
    "        v = q\n",
    "        \n",
    "        q_class = self.split_heads(self.wq(q), batch_size)\n",
    "\n",
    "        \n",
    "        k_class = self.split_heads(self.wk(k), batch_size)\n",
    "\n",
    "        \n",
    "        v_class = self.split_heads(self.wv(v), batch_size)\n",
    "        \n",
    "        \n",
    "        q_tensor = self.split_heads_tensor(self.wq_tensor(q),batch_size)\n",
    "\n",
    "        \n",
    "        k_tensor = self.split_heads_tensor(self.wk_tensor(k),batch_size)\n",
    "\n",
    "        \n",
    "        v_tensor = self.split_heads_tensor(self.wv_tensor(v),batch_size)\n",
    "\n",
    "        q,k,v = tf.concat([q_class,q_tensor],axis=1),tf.concat([k_class,k_tensor],axis=1),tf.concat([v_class,v_tensor],axis=1)\n",
    "\n",
    "        scaled_attention, attention_weights = self.scaled_dot_product_attention(q, k, v, mask)\n",
    "\n",
    "        scaled_attention = tf.transpose(scaled_attention, perm=[0, 2, 1, 3])\n",
    "        concat_attention = tf.reshape(scaled_attention, (batch_size, -1, self.depth*self.num_heads))\n",
    "        output = self.dense(concat_attention)\n",
    "        return output, attention_weights\n",
    "\n",
    "    def scaled_dot_product_attention(self, q, k, v, mask):\n",
    "        matmul_qk = tf.matmul(q, k, transpose_b=True)\n",
    "        dk = tf.cast(tf.shape(k)[-1], tf.float32)\n",
    "        scaled_attention_logits = matmul_qk / tf.math.sqrt(dk)\n",
    "        scaled_attention_logits = tf.transpose(scaled_attention_logits,perm=[1,0,2,3])\n",
    "        if mask is not None:\n",
    "            scaled_attention_logits += (mask * -1e9)\n",
    "        scaled_attention_logits = tf.transpose(scaled_attention_logits,perm=[1,0,2,3])\n",
    "        attention_weights = tf.nn.softmax(scaled_attention_logits, axis=-1)\n",
    "        attention_weights = tf.keras.layers.Dropout(self.dropout)(attention_weights)\n",
    "        output = tf.matmul(attention_weights, v)\n",
    "        return output, attention_weights\n",
    "\n",
    "    \n",
    "    \n",
    "def Attention_mask(embedding_mask):\n",
    "    embedding_mask = tf.logical_not(embedding_mask)\n",
    "    embedding_mask = tf.cast(embedding_mask,tf.float32)\n",
    "    embedding_mask = tf.expand_dims(embedding_mask,axis=-1)\n",
    "    embedding_mask = tf.tile(embedding_mask,[1,1,200])\n",
    "    embedding_mask = tf.transpose(embedding_mask,perm=[0,2,1])\n",
    "    return embedding_mask\n",
    "\n",
    "class BERT_tensor(tf.keras.layers.Layer):\n",
    "    def __init__(self,emb_dim,num_heads,ff_dim,CL_num = 3,strat_index = 1,Tensor_dimention = 2):\n",
    "        super(BERT_tensor, self).__init__()\n",
    "        self.encoder = [TransformerBlock_Tensor(emb_dim,num_heads,ff_dim,Tensor_dimention=Tensor_dimention) for i in range(8)]\n",
    "        #self.encoder = TransformerBlock_Tensor(emb_dim,num_heads,ff_dim)\n",
    "        self.embedding = TokenAndPositionEmbedding_mask(200,3500,256,start_index=strat_index)\n",
    "        self.classify = layers.Dense(CL_num,activation = 'softmax')\n",
    "    def call(self, inputs, mask_index=None,pretrain = False,att_mask = None):\n",
    "        if pretrain:\n",
    "            mask_index = tf.one_hot(mask_index,200)\n",
    "            boolean_mask = tf.cast(tf.reduce_sum(mask_index,axis=1),bool)\n",
    "            inputs = tf.cast(inputs,dtype=tf.int32)\n",
    "            \n",
    "        hidden,pad_mask = self.embedding(inputs)\n",
    "        Att_mask = Attention_mask(pad_mask)\n",
    "        if att_mask is not None:\n",
    "            Att_mask = (Att_mask+att_mask)%2\n",
    "        \n",
    "        for i in range(8):\n",
    "            hidden = self.encoder[i](hidden,Att_mask)\n",
    "    \n",
    "        if pretrain:\n",
    "            output = tf.reshape(hidden,[-1,200,256])\n",
    "            output = self.classify(output)\n",
    "            output = tf.boolean_mask(output,boolean_mask)\n",
    "            return output\n",
    "        else:\n",
    "            return hidden\n",
    "        \n",
    "class BERT_tensor_small(tf.keras.layers.Layer):\n",
    "    def __init__(self,emb_dim,num_heads,ff_dim,CL_num = 3,strat_index = 1,Tensor_dimention = 2):\n",
    "        super(BERT_tensor_small, self).__init__()\n",
    "        self.encoder = [TransformerBlock_Tensor_small(emb_dim,num_heads,ff_dim,Tensor_dimention=Tensor_dimention) for i in range(8)]\n",
    "        #self.encoder = TransformerBlock_Tensor(emb_dim,num_heads,ff_dim)\n",
    "        self.embedding = TokenAndPositionEmbedding_mask(200,3500,256,start_index=strat_index)\n",
    "        self.classify = layers.Dense(CL_num,activation = 'softmax')\n",
    "    def call(self, inputs, mask_index=None,pretrain = False,att_mask = None):\n",
    "        if pretrain:\n",
    "            mask_index = tf.one_hot(mask_index,200)\n",
    "            boolean_mask = tf.cast(tf.reduce_sum(mask_index,axis=1),bool)\n",
    "            inputs = tf.cast(inputs,dtype=tf.int32)\n",
    "            \n",
    "        hidden,pad_mask = self.embedding(inputs)\n",
    "        Att_mask = Attention_mask(pad_mask)\n",
    "        if att_mask is not None:\n",
    "            Att_mask = (Att_mask+att_mask)%2\n",
    "        \n",
    "        for i in range(8):\n",
    "            hidden = self.encoder[i](hidden,Att_mask)\n",
    "    \n",
    "        if pretrain:\n",
    "            output = tf.reshape(hidden,[-1,200,256])\n",
    "            output = self.classify(output)\n",
    "            output = tf.boolean_mask(output,boolean_mask)\n",
    "            return output\n",
    "        else:\n",
    "            return hidden\n",
    "        \n",
    "class BERT(tf.keras.layers.Layer):\n",
    "    def __init__(self,emb_dim,num_heads,ff_dim,CL_num = 3):\n",
    "        super(BERT, self).__init__()\n",
    "        self.encoder = [TransformerBlock(emb_dim,num_heads,ff_dim) for i in range(8)]\n",
    "        #self.encoder = TransformerBlock(emb_dim,num_heads,ff_dim)\n",
    "        self.embedding = TokenAndPositionEmbedding(200,3500,256)\n",
    "        self.dense = layers.Dense(250,activation = 'gelu')\n",
    "        self.classify = layers.Dense(CL_num,activation = 'softmax')\n",
    "    def call(self, inputs, mask_index,pretrain = False):\n",
    "        if pretrain:\n",
    "            mask_index = tf.one_hot(mask_index,200)\n",
    "            boolean_mask = tf.cast(tf.reduce_sum(mask_index,axis=1),bool)\n",
    "            inputs = tf.cast(inputs,dtype=tf.int32)\n",
    " \n",
    "        hidden = self.embedding(inputs)\n",
    "        for i in range(8):\n",
    "            hidden = self.encoder[i](hidden)\n",
    "    \n",
    "        if pretrain:\n",
    "            output = tf.reshape(hidden,[-1,200,256])\n",
    "            output = self.classify(output)\n",
    "            output = tf.boolean_mask(output,boolean_mask)\n",
    "            return output\n",
    "        else:\n",
    "            return hidden"
   ]
  },
  {
   "cell_type": "code",
   "execution_count": 69,
   "metadata": {},
   "outputs": [
    {
     "data": {
      "text/plain": [
       "<tf.Tensor: shape=(5, 200, 256), dtype=float32, numpy=\n",
       "array([[[-0.09516686,  0.44692686,  1.2866361 , ...,  0.54535097,\n",
       "          1.4221243 ,  0.23896624],\n",
       "        [-0.16000201,  0.40433812,  1.2474296 , ...,  0.4884171 ,\n",
       "          1.4403245 ,  0.20759131],\n",
       "        [-0.10827444,  0.41038606,  1.2867006 , ...,  0.49963167,\n",
       "          1.3629962 ,  0.20921622],\n",
       "        ...,\n",
       "        [-0.13696454,  0.42988703,  1.3221409 , ...,  0.52712446,\n",
       "          1.3638129 ,  0.18628904],\n",
       "        [-0.11504255,  0.4197538 ,  1.3264362 , ...,  0.46279293,\n",
       "          1.3942869 ,  0.17553404],\n",
       "        [-0.16843371,  0.44788298,  1.2982552 , ...,  0.49115038,\n",
       "          1.3842195 ,  0.19731513]],\n",
       "\n",
       "       [[-0.08643504,  0.6878496 ,  0.8576671 , ...,  0.4803102 ,\n",
       "          1.4767088 ,  0.14530283],\n",
       "        [-0.14028643,  0.6266398 ,  0.8170979 , ...,  0.43011078,\n",
       "          1.4718144 ,  0.10088265],\n",
       "        [-0.11099777,  0.63649166,  0.862418  , ...,  0.4422406 ,\n",
       "          1.4102573 ,  0.1321014 ],\n",
       "        ...,\n",
       "        [-0.11157651,  0.6557209 ,  0.875371  , ...,  0.46271512,\n",
       "          1.4226366 ,  0.09067451],\n",
       "        [-0.10450575,  0.664848  ,  0.86942303, ...,  0.40845424,\n",
       "          1.4485042 ,  0.07734008],\n",
       "        [-0.15330872,  0.67480826,  0.83549094, ...,  0.43591586,\n",
       "          1.4474161 ,  0.10786601]],\n",
       "\n",
       "       [[-0.18280575,  0.7315102 ,  0.8785844 , ...,  0.8475495 ,\n",
       "          1.6224463 ,  0.11110608],\n",
       "        [-0.21232232,  0.7295346 ,  0.84994537, ...,  0.8396155 ,\n",
       "          1.6300085 ,  0.08379465],\n",
       "        [-0.2511764 ,  0.71990323,  0.8537314 , ...,  0.87413067,\n",
       "          1.5860007 ,  0.06759501],\n",
       "        ...,\n",
       "        [-0.25881663,  0.71602136,  0.89424574, ...,  0.8734953 ,\n",
       "          1.5676948 ,  0.06616747],\n",
       "        [-0.23512164,  0.71849763,  0.90243614, ...,  0.80213916,\n",
       "          1.5971854 ,  0.04223281],\n",
       "        [-0.29856822,  0.73027605,  0.8540603 , ...,  0.8307152 ,\n",
       "          1.5821322 ,  0.06831462]],\n",
       "\n",
       "       [[-0.0855667 ,  0.49591705,  0.9970341 , ...,  0.7036086 ,\n",
       "          1.5371094 ,  0.23030657],\n",
       "        [-0.13803425,  0.45052567,  0.96932876, ...,  0.67471737,\n",
       "          1.5216764 ,  0.19084415],\n",
       "        [-0.11295994,  0.5293767 ,  1.0010972 , ...,  0.7074958 ,\n",
       "          1.4849002 ,  0.18882906],\n",
       "        ...,\n",
       "        [-0.13250607,  0.48784065,  1.0326602 , ...,  0.7073572 ,\n",
       "          1.4774661 ,  0.18648379],\n",
       "        [-0.12018314,  0.4846541 ,  1.033964  , ...,  0.6418712 ,\n",
       "          1.5176103 ,  0.1684402 ],\n",
       "        [-0.16761963,  0.51338047,  0.99554676, ...,  0.68996876,\n",
       "          1.5011458 ,  0.18883462]],\n",
       "\n",
       "       [[-0.05856708,  0.84315544,  0.9716394 , ...,  0.30947027,\n",
       "          1.5956736 , -0.01148369],\n",
       "        [-0.12054081,  0.77948153,  0.95297533, ...,  0.26808986,\n",
       "          1.5976515 , -0.06551838],\n",
       "        [-0.06133145,  0.7936924 ,  0.9842082 , ...,  0.27418616,\n",
       "          1.5446496 , -0.04582814],\n",
       "        ...,\n",
       "        [-0.08461403,  0.82158065,  1.0063632 , ...,  0.30352074,\n",
       "          1.5475214 , -0.07019568],\n",
       "        [-0.0754079 ,  0.8137146 ,  1.0148683 , ...,  0.24771638,\n",
       "          1.571852  , -0.08771405],\n",
       "        [-0.12812258,  0.8175306 ,  0.97313505, ...,  0.28804508,\n",
       "          1.5726259 , -0.06078112]]], dtype=float32)>"
      ]
     },
     "execution_count": 69,
     "metadata": {},
     "output_type": "execute_result"
    }
   ],
   "source": [
    "BERT_tensor_small(256,8,1024,len(molecule_dictionary))(random_value_val[:5],mask_input_val[:5])"
   ]
  },
  {
   "cell_type": "code",
   "execution_count": 17,
   "metadata": {},
   "outputs": [
    {
     "name": "stdout",
     "output_type": "stream",
     "text": [
      "Model: \"model\"\n",
      "__________________________________________________________________________________________________\n",
      " Layer (type)                   Output Shape         Param #     Connected to                     \n",
      "==================================================================================================\n",
      " input_5 (InputLayer)           [(None, 200)]        0           []                               \n",
      "                                                                                                  \n",
      " input_6 (InputLayer)           [(None, 16)]         0           []                               \n",
      "                                                                                                  \n",
      " bert_tensor_small (BERT_tensor  (None, 141)         4555469     ['input_5[0][0]',                \n",
      " _small)                                                          'input_6[0][0]']                \n",
      "                                                                                                  \n",
      "==================================================================================================\n",
      "Total params: 4,555,469\n",
      "Trainable params: 4,555,469\n",
      "Non-trainable params: 0\n",
      "__________________________________________________________________________________________________\n"
     ]
    }
   ],
   "source": [
    "import tensorflow as tf\n",
    "from tensorflow.keras.layers import MaxPool2D\n",
    "from tensorflow.keras.layers import Conv2D\n",
    "from tensorflow.keras.layers import Input\n",
    "from tensorflow.keras.layers import Flatten,Dense\n",
    "from tensorflow.keras.models import Model\n",
    "from tensorflow.keras.layers import Dropout\n",
    "from tensorflow.keras.layers import MaxPool1D\n",
    "from tensorflow.keras.layers import concatenate\n",
    "from tensorflow.keras.layers import MultiHeadAttention\n",
    "from tensorflow.keras.layers import GlobalMaxPooling1D\n",
    "from tensorflow.keras.layers import LayerNormalization\n",
    "from tensorflow.keras.layers import Embedding\n",
    "\n",
    "inputs = Input(shape = (200,),dtype=tf.int32)\n",
    "mask = Input(shape = (16), dtype=tf.int32)\n",
    "outputs = custom_layers.BERT_tensor_small(256,8,1024,len(molecule_dictionary))(inputs,mask,pretrain=True)\n",
    "#outputs = BERT_tensor(256,6,1024,121)(inputs,mask,pretrain=True)\n",
    "\n",
    "model = Model(inputs = [inputs,mask], outputs = [outputs])\n",
    "model.summary()\n",
    "optmizer = tf.keras.optimizers.Adam(learning_rate=0.0002)\n",
    "model.compile(optimizer=optmizer,loss = custom_loss,metrics = Mask_acc)"
   ]
  },
  {
   "cell_type": "code",
   "execution_count": 20,
   "metadata": {},
   "outputs": [
    {
     "data": {
      "text/plain": [
       "284"
      ]
     },
     "execution_count": 20,
     "metadata": {},
     "output_type": "execute_result"
    }
   ],
   "source": [
    "len(model.weights)"
   ]
  },
  {
   "cell_type": "code",
   "execution_count": 21,
   "metadata": {},
   "outputs": [],
   "source": [
    "optmizer = tf.keras.optimizers.Adam(learning_rate=0.0001)\n",
    "model.compile(optimizer=optmizer,loss = custom_loss,metrics = Mask_acc)"
   ]
  },
  {
   "cell_type": "code",
   "execution_count": 22,
   "metadata": {},
   "outputs": [],
   "source": [
    "class CustomSchedule(tf.keras.optimizers.schedules.LearningRateSchedule):\n",
    "  def __init__(self, d_model, warmup_steps=2000):\n",
    "    super(CustomSchedule, self).__init__()\n",
    "\n",
    "    self.d_model = d_model\n",
    "    self.d_model = tf.cast(self.d_model, tf.float32)\n",
    "    self.batch_count\n",
    "    self.warmup_steps = warmup_steps\n",
    "\n",
    "  def __call__(self, step):\n",
    "    self.batch_count += 1\n",
    "    step = float(step+1)\n",
    "    arg1 = tf.math.rsqrt(step)\n",
    "    arg2 = step * (self.warmup_steps ** -1.5)\n",
    "\n",
    "    return tf.math.rsqrt(1000.) * tf.math.minimum(arg1, arg2)"
   ]
  },
  {
   "cell_type": "code",
   "execution_count": 23,
   "metadata": {},
   "outputs": [],
   "source": [
    "class CustomLearningRateScheduler(tf.keras.optimizers.schedules.LearningRateSchedule):\n",
    "    def __init__(self, warmup_steps=4000):\n",
    "        super(CustomLearningRateScheduler, self).__init__()\n",
    "        self.warmup_steps = warmup_steps\n",
    "        self.step = tf.Variable(0, trainable=False)\n",
    "\n",
    "    def __call__(self, step):\n",
    "        self.step.assign_add(1)  # 각 배치가 지나갈 때마다 step 증가\n",
    "        lr = tf.cond(\n",
    "            self.step <= self.warmup_steps,\n",
    "            lambda: (1e-4 - 1e-9) / self.warmup_steps * tf.cast(self.step, tf.float32) + 1e-9,\n",
    "            lambda: 0.5 * (1e-4 + 1e-9) * (self.warmup_steps ** 0.5) / (tf.cast(self.step, tf.float32) ** 0.5)\n",
    "        )\n",
    "        return lr"
   ]
  },
  {
   "cell_type": "code",
   "execution_count": 24,
   "metadata": {},
   "outputs": [],
   "source": [
    "lr = CustomLearningRateScheduler()\n",
    "optimizer = tf.keras.optimizers.Adam(learning_rate=lr)\n",
    "model.compile(optimizer= optimizer, loss = custom_loss, metrics= Mask_acc)"
   ]
  },
  {
   "cell_type": "code",
   "execution_count": 112,
   "metadata": {},
   "outputs": [],
   "source": [
    "paras = model.weights"
   ]
  },
  {
   "cell_type": "code",
   "execution_count": 119,
   "metadata": {},
   "outputs": [],
   "source": [
    "model.layers[2].embedding.set_weights(paras[248:250])"
   ]
  },
  {
   "cell_type": "code",
   "execution_count": 121,
   "metadata": {},
   "outputs": [],
   "source": [
    "for i in range(8):\n",
    "    model.layers[2].encoder[i].set_weights(paras[31*i:31*(i+1)])"
   ]
  },
  {
   "cell_type": "code",
   "execution_count": 25,
   "metadata": {},
   "outputs": [
    {
     "data": {
      "text/plain": [
       "<tensorflow.python.checkpoint.checkpoint.CheckpointLoadStatus at 0x7fa51037dcc0>"
      ]
     },
     "execution_count": 25,
     "metadata": {},
     "output_type": "execute_result"
    }
   ],
   "source": [
    "model.load_weights('./BERT/SMILE/Most_small_tensor_Random_ZINC_L_model_weights')"
   ]
  },
  {
   "cell_type": "code",
   "execution_count": 201,
   "metadata": {},
   "outputs": [
    {
     "name": "stderr",
     "output_type": "stream",
     "text": [
      "  0%|          | 0/300000 [00:00<?, ?it/s]"
     ]
    },
    {
     "name": "stderr",
     "output_type": "stream",
     "text": [
      "100%|██████████| 300000/300000 [00:01<00:00, 189600.06it/s]\n"
     ]
    },
    {
     "name": "stdout",
     "output_type": "stream",
     "text": [
      "This is 11 number step\n",
      "9375/9375 [==============================] - 705s 72ms/step - loss: 0.3219 - Mask_acc: 0.8879\n",
      "<tf.Variable 'learning_rate:0' shape=() dtype=float32, numpy=9.534626e-05>\n"
     ]
    },
    {
     "name": "stderr",
     "output_type": "stream",
     "text": [
      "100%|██████████| 300000/300000 [00:01<00:00, 189649.44it/s]\n"
     ]
    },
    {
     "name": "stdout",
     "output_type": "stream",
     "text": [
      "This is 12 number step\n",
      "9375/9375 [==============================] - 788s 81ms/step - loss: 0.2977 - Mask_acc: 0.8938 - val_loss: 0.7208 - val_Mask_acc: 0.7905\n",
      "<tf.Variable 'learning_rate:0' shape=() dtype=float32, numpy=9.12871e-05>\n"
     ]
    },
    {
     "name": "stderr",
     "output_type": "stream",
     "text": [
      "100%|██████████| 300000/300000 [00:01<00:00, 180586.40it/s]\n"
     ]
    },
    {
     "name": "stdout",
     "output_type": "stream",
     "text": [
      "This is 13 number step\n",
      "9375/9375 [==============================] - 715s 73ms/step - loss: 0.2571 - Mask_acc: 0.9076\n",
      "<tf.Variable 'learning_rate:0' shape=() dtype=float32, numpy=8.7705805e-05>\n"
     ]
    },
    {
     "name": "stderr",
     "output_type": "stream",
     "text": [
      "100%|██████████| 300000/300000 [00:01<00:00, 190111.85it/s]\n"
     ]
    },
    {
     "name": "stdout",
     "output_type": "stream",
     "text": [
      "This is 14 number step\n",
      "9375/9375 [==============================] - 699s 71ms/step - loss: 0.2638 - Mask_acc: 0.9056\n",
      "<tf.Variable 'learning_rate:0' shape=() dtype=float32, numpy=8.451543e-05>\n"
     ]
    },
    {
     "name": "stderr",
     "output_type": "stream",
     "text": [
      "100%|██████████| 300000/300000 [00:01<00:00, 190995.88it/s]\n"
     ]
    },
    {
     "name": "stdout",
     "output_type": "stream",
     "text": [
      "This is 15 number step\n",
      "9375/9375 [==============================] - 702s 72ms/step - loss: 0.2495 - Mask_acc: 0.9099\n",
      "<tf.Variable 'learning_rate:0' shape=() dtype=float32, numpy=8.164966e-05>\n"
     ]
    },
    {
     "name": "stderr",
     "output_type": "stream",
     "text": [
      "100%|██████████| 300000/300000 [00:01<00:00, 183620.47it/s]\n"
     ]
    },
    {
     "name": "stdout",
     "output_type": "stream",
     "text": [
      "This is 16 number step\n",
      "9375/9375 [==============================] - 771s 79ms/step - loss: 0.2483 - Mask_acc: 0.9108 - val_loss: 0.6284 - val_Mask_acc: 0.8171\n",
      "<tf.Variable 'learning_rate:0' shape=() dtype=float32, numpy=7.905694e-05>\n"
     ]
    },
    {
     "name": "stderr",
     "output_type": "stream",
     "text": [
      "100%|██████████| 300000/300000 [00:01<00:00, 189650.69it/s]\n"
     ]
    },
    {
     "name": "stdout",
     "output_type": "stream",
     "text": [
      "This is 17 number step\n",
      "9375/9375 [==============================] - 701s 71ms/step - loss: 0.2205 - Mask_acc: 0.9190\n",
      "<tf.Variable 'learning_rate:0' shape=() dtype=float32, numpy=7.66965e-05>\n"
     ]
    },
    {
     "name": "stderr",
     "output_type": "stream",
     "text": [
      "100%|██████████| 300000/300000 [00:01<00:00, 202937.36it/s]\n"
     ]
    },
    {
     "name": "stdout",
     "output_type": "stream",
     "text": [
      "This is 18 number step\n",
      "9375/9375 [==============================] - 702s 71ms/step - loss: 0.2449 - Mask_acc: 0.9098\n",
      "<tf.Variable 'learning_rate:0' shape=() dtype=float32, numpy=7.45356e-05>\n"
     ]
    },
    {
     "name": "stderr",
     "output_type": "stream",
     "text": [
      "100%|██████████| 300000/300000 [00:01<00:00, 183248.74it/s]\n"
     ]
    },
    {
     "name": "stdout",
     "output_type": "stream",
     "text": [
      "This is 19 number step\n",
      "9375/9375 [==============================] - 709s 72ms/step - loss: 0.1668 - Mask_acc: 0.9379\n",
      "<tf.Variable 'learning_rate:0' shape=() dtype=float32, numpy=7.254763e-05>\n"
     ]
    },
    {
     "name": "stderr",
     "output_type": "stream",
     "text": [
      "100%|██████████| 300000/300000 [00:01<00:00, 202140.98it/s]\n"
     ]
    },
    {
     "name": "stdout",
     "output_type": "stream",
     "text": [
      "This is 20 number step\n",
      "9375/9375 [==============================] - 772s 79ms/step - loss: 0.2288 - Mask_acc: 0.9153 - val_loss: 0.6295 - val_Mask_acc: 0.8173\n",
      "<tf.Variable 'learning_rate:0' shape=() dtype=float32, numpy=7.071068e-05>\n"
     ]
    },
    {
     "name": "stderr",
     "output_type": "stream",
     "text": [
      "100%|██████████| 300000/300000 [00:01<00:00, 195354.31it/s]\n"
     ]
    },
    {
     "name": "stdout",
     "output_type": "stream",
     "text": [
      "This is 21 number step\n",
      "8838/9375 [===========================>..] - ETA: 38s - loss: 0.2172 - Mask_acc: 0.9186"
     ]
    },
    {
     "ename": "KeyboardInterrupt",
     "evalue": "",
     "output_type": "error",
     "traceback": [
      "\u001b[0;31m---------------------------------------------------------------------------\u001b[0m",
      "\u001b[0;31mKeyboardInterrupt\u001b[0m                         Traceback (most recent call last)",
      "Cell \u001b[0;32mIn[201], line 60\u001b[0m\n\u001b[1;32m     58\u001b[0m         model\u001b[38;5;241m.\u001b[39mfit([np\u001b[38;5;241m.\u001b[39marray(random_value),np\u001b[38;5;241m.\u001b[39marray(inputs2)],np\u001b[38;5;241m.\u001b[39marray(output,dtype \u001b[38;5;241m=\u001b[39m \u001b[38;5;28mint\u001b[39m),epochs\u001b[38;5;241m=\u001b[39m\u001b[38;5;241m1\u001b[39m,batch_size\u001b[38;5;241m=\u001b[39m\u001b[38;5;241m32\u001b[39m,callbacks \u001b[38;5;241m=\u001b[39m [early_stopping_cb],validation_data\u001b[38;5;241m=\u001b[39m([np\u001b[38;5;241m.\u001b[39marray(random_value_val),np\u001b[38;5;241m.\u001b[39marray(mask_input_val)],np\u001b[38;5;241m.\u001b[39marray(output_val)))\n\u001b[1;32m     59\u001b[0m \u001b[38;5;28;01melse\u001b[39;00m:\n\u001b[0;32m---> 60\u001b[0m         \u001b[43mmodel\u001b[49m\u001b[38;5;241;43m.\u001b[39;49m\u001b[43mfit\u001b[49m\u001b[43m(\u001b[49m\u001b[43m[\u001b[49m\u001b[43mnp\u001b[49m\u001b[38;5;241;43m.\u001b[39;49m\u001b[43marray\u001b[49m\u001b[43m(\u001b[49m\u001b[43mrandom_value\u001b[49m\u001b[43m)\u001b[49m\u001b[43m,\u001b[49m\u001b[43mnp\u001b[49m\u001b[38;5;241;43m.\u001b[39;49m\u001b[43marray\u001b[49m\u001b[43m(\u001b[49m\u001b[43minputs2\u001b[49m\u001b[43m)\u001b[49m\u001b[43m]\u001b[49m\u001b[43m,\u001b[49m\u001b[43mnp\u001b[49m\u001b[38;5;241;43m.\u001b[39;49m\u001b[43marray\u001b[49m\u001b[43m(\u001b[49m\u001b[43moutput\u001b[49m\u001b[43m,\u001b[49m\u001b[43mdtype\u001b[49m\u001b[43m \u001b[49m\u001b[38;5;241;43m=\u001b[39;49m\u001b[43m \u001b[49m\u001b[38;5;28;43mint\u001b[39;49m\u001b[43m)\u001b[49m\u001b[43m,\u001b[49m\u001b[43mepochs\u001b[49m\u001b[38;5;241;43m=\u001b[39;49m\u001b[38;5;241;43m1\u001b[39;49m\u001b[43m,\u001b[49m\u001b[43mbatch_size\u001b[49m\u001b[38;5;241;43m=\u001b[39;49m\u001b[38;5;241;43m32\u001b[39;49m\u001b[43m,\u001b[49m\u001b[43mcallbacks\u001b[49m\u001b[43m \u001b[49m\u001b[38;5;241;43m=\u001b[39;49m\u001b[43m \u001b[49m\u001b[43m[\u001b[49m\u001b[43mearly_stopping_cb\u001b[49m\u001b[43m]\u001b[49m\u001b[43m)\u001b[49m\n\u001b[1;32m     61\u001b[0m \u001b[38;5;28mprint\u001b[39m(model\u001b[38;5;241m.\u001b[39moptimizer\u001b[38;5;241m.\u001b[39mlr)\n\u001b[1;32m     62\u001b[0m model\u001b[38;5;241m.\u001b[39msave_weights(\u001b[38;5;124m'\u001b[39m\u001b[38;5;124m./BERT/SMILE/Most_small_tensor_Random_ZINC_L_model_weights\u001b[39m\u001b[38;5;124m'\u001b[39m)\n",
      "File \u001b[0;32m~/.local/lib/python3.10/site-packages/keras/utils/traceback_utils.py:65\u001b[0m, in \u001b[0;36mfilter_traceback.<locals>.error_handler\u001b[0;34m(*args, **kwargs)\u001b[0m\n\u001b[1;32m     63\u001b[0m filtered_tb \u001b[38;5;241m=\u001b[39m \u001b[38;5;28;01mNone\u001b[39;00m\n\u001b[1;32m     64\u001b[0m \u001b[38;5;28;01mtry\u001b[39;00m:\n\u001b[0;32m---> 65\u001b[0m     \u001b[38;5;28;01mreturn\u001b[39;00m \u001b[43mfn\u001b[49m\u001b[43m(\u001b[49m\u001b[38;5;241;43m*\u001b[39;49m\u001b[43margs\u001b[49m\u001b[43m,\u001b[49m\u001b[43m \u001b[49m\u001b[38;5;241;43m*\u001b[39;49m\u001b[38;5;241;43m*\u001b[39;49m\u001b[43mkwargs\u001b[49m\u001b[43m)\u001b[49m\n\u001b[1;32m     66\u001b[0m \u001b[38;5;28;01mexcept\u001b[39;00m \u001b[38;5;167;01mException\u001b[39;00m \u001b[38;5;28;01mas\u001b[39;00m e:\n\u001b[1;32m     67\u001b[0m     filtered_tb \u001b[38;5;241m=\u001b[39m _process_traceback_frames(e\u001b[38;5;241m.\u001b[39m__traceback__)\n",
      "File \u001b[0;32m~/.local/lib/python3.10/site-packages/keras/engine/training.py:1650\u001b[0m, in \u001b[0;36mModel.fit\u001b[0;34m(self, x, y, batch_size, epochs, verbose, callbacks, validation_split, validation_data, shuffle, class_weight, sample_weight, initial_epoch, steps_per_epoch, validation_steps, validation_batch_size, validation_freq, max_queue_size, workers, use_multiprocessing)\u001b[0m\n\u001b[1;32m   1642\u001b[0m \u001b[38;5;28;01mwith\u001b[39;00m tf\u001b[38;5;241m.\u001b[39mprofiler\u001b[38;5;241m.\u001b[39mexperimental\u001b[38;5;241m.\u001b[39mTrace(\n\u001b[1;32m   1643\u001b[0m     \u001b[38;5;124m\"\u001b[39m\u001b[38;5;124mtrain\u001b[39m\u001b[38;5;124m\"\u001b[39m,\n\u001b[1;32m   1644\u001b[0m     epoch_num\u001b[38;5;241m=\u001b[39mepoch,\n\u001b[0;32m   (...)\u001b[0m\n\u001b[1;32m   1647\u001b[0m     _r\u001b[38;5;241m=\u001b[39m\u001b[38;5;241m1\u001b[39m,\n\u001b[1;32m   1648\u001b[0m ):\n\u001b[1;32m   1649\u001b[0m     callbacks\u001b[38;5;241m.\u001b[39mon_train_batch_begin(step)\n\u001b[0;32m-> 1650\u001b[0m     tmp_logs \u001b[38;5;241m=\u001b[39m \u001b[38;5;28;43mself\u001b[39;49m\u001b[38;5;241;43m.\u001b[39;49m\u001b[43mtrain_function\u001b[49m\u001b[43m(\u001b[49m\u001b[43miterator\u001b[49m\u001b[43m)\u001b[49m\n\u001b[1;32m   1651\u001b[0m     \u001b[38;5;28;01mif\u001b[39;00m data_handler\u001b[38;5;241m.\u001b[39mshould_sync:\n\u001b[1;32m   1652\u001b[0m         context\u001b[38;5;241m.\u001b[39masync_wait()\n",
      "File \u001b[0;32m~/.local/lib/python3.10/site-packages/tensorflow/python/util/traceback_utils.py:150\u001b[0m, in \u001b[0;36mfilter_traceback.<locals>.error_handler\u001b[0;34m(*args, **kwargs)\u001b[0m\n\u001b[1;32m    148\u001b[0m filtered_tb \u001b[38;5;241m=\u001b[39m \u001b[38;5;28;01mNone\u001b[39;00m\n\u001b[1;32m    149\u001b[0m \u001b[38;5;28;01mtry\u001b[39;00m:\n\u001b[0;32m--> 150\u001b[0m   \u001b[38;5;28;01mreturn\u001b[39;00m \u001b[43mfn\u001b[49m\u001b[43m(\u001b[49m\u001b[38;5;241;43m*\u001b[39;49m\u001b[43margs\u001b[49m\u001b[43m,\u001b[49m\u001b[43m \u001b[49m\u001b[38;5;241;43m*\u001b[39;49m\u001b[38;5;241;43m*\u001b[39;49m\u001b[43mkwargs\u001b[49m\u001b[43m)\u001b[49m\n\u001b[1;32m    151\u001b[0m \u001b[38;5;28;01mexcept\u001b[39;00m \u001b[38;5;167;01mException\u001b[39;00m \u001b[38;5;28;01mas\u001b[39;00m e:\n\u001b[1;32m    152\u001b[0m   filtered_tb \u001b[38;5;241m=\u001b[39m _process_traceback_frames(e\u001b[38;5;241m.\u001b[39m__traceback__)\n",
      "File \u001b[0;32m~/.local/lib/python3.10/site-packages/tensorflow/python/eager/polymorphic_function/polymorphic_function.py:880\u001b[0m, in \u001b[0;36mFunction.__call__\u001b[0;34m(self, *args, **kwds)\u001b[0m\n\u001b[1;32m    877\u001b[0m compiler \u001b[38;5;241m=\u001b[39m \u001b[38;5;124m\"\u001b[39m\u001b[38;5;124mxla\u001b[39m\u001b[38;5;124m\"\u001b[39m \u001b[38;5;28;01mif\u001b[39;00m \u001b[38;5;28mself\u001b[39m\u001b[38;5;241m.\u001b[39m_jit_compile \u001b[38;5;28;01melse\u001b[39;00m \u001b[38;5;124m\"\u001b[39m\u001b[38;5;124mnonXla\u001b[39m\u001b[38;5;124m\"\u001b[39m\n\u001b[1;32m    879\u001b[0m \u001b[38;5;28;01mwith\u001b[39;00m OptionalXlaContext(\u001b[38;5;28mself\u001b[39m\u001b[38;5;241m.\u001b[39m_jit_compile):\n\u001b[0;32m--> 880\u001b[0m   result \u001b[38;5;241m=\u001b[39m \u001b[38;5;28;43mself\u001b[39;49m\u001b[38;5;241;43m.\u001b[39;49m\u001b[43m_call\u001b[49m\u001b[43m(\u001b[49m\u001b[38;5;241;43m*\u001b[39;49m\u001b[43margs\u001b[49m\u001b[43m,\u001b[49m\u001b[43m \u001b[49m\u001b[38;5;241;43m*\u001b[39;49m\u001b[38;5;241;43m*\u001b[39;49m\u001b[43mkwds\u001b[49m\u001b[43m)\u001b[49m\n\u001b[1;32m    882\u001b[0m new_tracing_count \u001b[38;5;241m=\u001b[39m \u001b[38;5;28mself\u001b[39m\u001b[38;5;241m.\u001b[39mexperimental_get_tracing_count()\n\u001b[1;32m    883\u001b[0m without_tracing \u001b[38;5;241m=\u001b[39m (tracing_count \u001b[38;5;241m==\u001b[39m new_tracing_count)\n",
      "File \u001b[0;32m~/.local/lib/python3.10/site-packages/tensorflow/python/eager/polymorphic_function/polymorphic_function.py:912\u001b[0m, in \u001b[0;36mFunction._call\u001b[0;34m(self, *args, **kwds)\u001b[0m\n\u001b[1;32m    909\u001b[0m   \u001b[38;5;28mself\u001b[39m\u001b[38;5;241m.\u001b[39m_lock\u001b[38;5;241m.\u001b[39mrelease()\n\u001b[1;32m    910\u001b[0m   \u001b[38;5;66;03m# In this case we have created variables on the first call, so we run the\u001b[39;00m\n\u001b[1;32m    911\u001b[0m   \u001b[38;5;66;03m# defunned version which is guaranteed to never create variables.\u001b[39;00m\n\u001b[0;32m--> 912\u001b[0m   \u001b[38;5;28;01mreturn\u001b[39;00m \u001b[38;5;28;43mself\u001b[39;49m\u001b[38;5;241;43m.\u001b[39;49m\u001b[43m_no_variable_creation_fn\u001b[49m\u001b[43m(\u001b[49m\u001b[38;5;241;43m*\u001b[39;49m\u001b[43margs\u001b[49m\u001b[43m,\u001b[49m\u001b[43m \u001b[49m\u001b[38;5;241;43m*\u001b[39;49m\u001b[38;5;241;43m*\u001b[39;49m\u001b[43mkwds\u001b[49m\u001b[43m)\u001b[49m  \u001b[38;5;66;03m# pylint: disable=not-callable\u001b[39;00m\n\u001b[1;32m    913\u001b[0m \u001b[38;5;28;01melif\u001b[39;00m \u001b[38;5;28mself\u001b[39m\u001b[38;5;241m.\u001b[39m_variable_creation_fn \u001b[38;5;129;01mis\u001b[39;00m \u001b[38;5;129;01mnot\u001b[39;00m \u001b[38;5;28;01mNone\u001b[39;00m:\n\u001b[1;32m    914\u001b[0m   \u001b[38;5;66;03m# Release the lock early so that multiple threads can perform the call\u001b[39;00m\n\u001b[1;32m    915\u001b[0m   \u001b[38;5;66;03m# in parallel.\u001b[39;00m\n\u001b[1;32m    916\u001b[0m   \u001b[38;5;28mself\u001b[39m\u001b[38;5;241m.\u001b[39m_lock\u001b[38;5;241m.\u001b[39mrelease()\n",
      "File \u001b[0;32m~/.local/lib/python3.10/site-packages/tensorflow/python/eager/polymorphic_function/tracing_compiler.py:134\u001b[0m, in \u001b[0;36mTracingCompiler.__call__\u001b[0;34m(self, *args, **kwargs)\u001b[0m\n\u001b[1;32m    131\u001b[0m \u001b[38;5;28;01mwith\u001b[39;00m \u001b[38;5;28mself\u001b[39m\u001b[38;5;241m.\u001b[39m_lock:\n\u001b[1;32m    132\u001b[0m   (concrete_function,\n\u001b[1;32m    133\u001b[0m    filtered_flat_args) \u001b[38;5;241m=\u001b[39m \u001b[38;5;28mself\u001b[39m\u001b[38;5;241m.\u001b[39m_maybe_define_function(args, kwargs)\n\u001b[0;32m--> 134\u001b[0m \u001b[38;5;28;01mreturn\u001b[39;00m \u001b[43mconcrete_function\u001b[49m\u001b[38;5;241;43m.\u001b[39;49m\u001b[43m_call_flat\u001b[49m\u001b[43m(\u001b[49m\n\u001b[1;32m    135\u001b[0m \u001b[43m    \u001b[49m\u001b[43mfiltered_flat_args\u001b[49m\u001b[43m,\u001b[49m\u001b[43m \u001b[49m\u001b[43mcaptured_inputs\u001b[49m\u001b[38;5;241;43m=\u001b[39;49m\u001b[43mconcrete_function\u001b[49m\u001b[38;5;241;43m.\u001b[39;49m\u001b[43mcaptured_inputs\u001b[49m\u001b[43m)\u001b[49m\n",
      "File \u001b[0;32m~/.local/lib/python3.10/site-packages/tensorflow/python/eager/polymorphic_function/monomorphic_function.py:1745\u001b[0m, in \u001b[0;36mConcreteFunction._call_flat\u001b[0;34m(self, args, captured_inputs, cancellation_manager)\u001b[0m\n\u001b[1;32m   1741\u001b[0m possible_gradient_type \u001b[38;5;241m=\u001b[39m gradients_util\u001b[38;5;241m.\u001b[39mPossibleTapeGradientTypes(args)\n\u001b[1;32m   1742\u001b[0m \u001b[38;5;28;01mif\u001b[39;00m (possible_gradient_type \u001b[38;5;241m==\u001b[39m gradients_util\u001b[38;5;241m.\u001b[39mPOSSIBLE_GRADIENT_TYPES_NONE\n\u001b[1;32m   1743\u001b[0m     \u001b[38;5;129;01mand\u001b[39;00m executing_eagerly):\n\u001b[1;32m   1744\u001b[0m   \u001b[38;5;66;03m# No tape is watching; skip to running the function.\u001b[39;00m\n\u001b[0;32m-> 1745\u001b[0m   \u001b[38;5;28;01mreturn\u001b[39;00m \u001b[38;5;28mself\u001b[39m\u001b[38;5;241m.\u001b[39m_build_call_outputs(\u001b[38;5;28;43mself\u001b[39;49m\u001b[38;5;241;43m.\u001b[39;49m\u001b[43m_inference_function\u001b[49m\u001b[38;5;241;43m.\u001b[39;49m\u001b[43mcall\u001b[49m\u001b[43m(\u001b[49m\n\u001b[1;32m   1746\u001b[0m \u001b[43m      \u001b[49m\u001b[43mctx\u001b[49m\u001b[43m,\u001b[49m\u001b[43m \u001b[49m\u001b[43margs\u001b[49m\u001b[43m,\u001b[49m\u001b[43m \u001b[49m\u001b[43mcancellation_manager\u001b[49m\u001b[38;5;241;43m=\u001b[39;49m\u001b[43mcancellation_manager\u001b[49m\u001b[43m)\u001b[49m)\n\u001b[1;32m   1747\u001b[0m forward_backward \u001b[38;5;241m=\u001b[39m \u001b[38;5;28mself\u001b[39m\u001b[38;5;241m.\u001b[39m_select_forward_and_backward_functions(\n\u001b[1;32m   1748\u001b[0m     args,\n\u001b[1;32m   1749\u001b[0m     possible_gradient_type,\n\u001b[1;32m   1750\u001b[0m     executing_eagerly)\n\u001b[1;32m   1751\u001b[0m forward_function, args_with_tangents \u001b[38;5;241m=\u001b[39m forward_backward\u001b[38;5;241m.\u001b[39mforward()\n",
      "File \u001b[0;32m~/.local/lib/python3.10/site-packages/tensorflow/python/eager/polymorphic_function/monomorphic_function.py:378\u001b[0m, in \u001b[0;36m_EagerDefinedFunction.call\u001b[0;34m(self, ctx, args, cancellation_manager)\u001b[0m\n\u001b[1;32m    376\u001b[0m \u001b[38;5;28;01mwith\u001b[39;00m _InterpolateFunctionError(\u001b[38;5;28mself\u001b[39m):\n\u001b[1;32m    377\u001b[0m   \u001b[38;5;28;01mif\u001b[39;00m cancellation_manager \u001b[38;5;129;01mis\u001b[39;00m \u001b[38;5;28;01mNone\u001b[39;00m:\n\u001b[0;32m--> 378\u001b[0m     outputs \u001b[38;5;241m=\u001b[39m \u001b[43mexecute\u001b[49m\u001b[38;5;241;43m.\u001b[39;49m\u001b[43mexecute\u001b[49m\u001b[43m(\u001b[49m\n\u001b[1;32m    379\u001b[0m \u001b[43m        \u001b[49m\u001b[38;5;28;43mstr\u001b[39;49m\u001b[43m(\u001b[49m\u001b[38;5;28;43mself\u001b[39;49m\u001b[38;5;241;43m.\u001b[39;49m\u001b[43msignature\u001b[49m\u001b[38;5;241;43m.\u001b[39;49m\u001b[43mname\u001b[49m\u001b[43m)\u001b[49m\u001b[43m,\u001b[49m\n\u001b[1;32m    380\u001b[0m \u001b[43m        \u001b[49m\u001b[43mnum_outputs\u001b[49m\u001b[38;5;241;43m=\u001b[39;49m\u001b[38;5;28;43mself\u001b[39;49m\u001b[38;5;241;43m.\u001b[39;49m\u001b[43m_num_outputs\u001b[49m\u001b[43m,\u001b[49m\n\u001b[1;32m    381\u001b[0m \u001b[43m        \u001b[49m\u001b[43minputs\u001b[49m\u001b[38;5;241;43m=\u001b[39;49m\u001b[43margs\u001b[49m\u001b[43m,\u001b[49m\n\u001b[1;32m    382\u001b[0m \u001b[43m        \u001b[49m\u001b[43mattrs\u001b[49m\u001b[38;5;241;43m=\u001b[39;49m\u001b[43mattrs\u001b[49m\u001b[43m,\u001b[49m\n\u001b[1;32m    383\u001b[0m \u001b[43m        \u001b[49m\u001b[43mctx\u001b[49m\u001b[38;5;241;43m=\u001b[39;49m\u001b[43mctx\u001b[49m\u001b[43m)\u001b[49m\n\u001b[1;32m    384\u001b[0m   \u001b[38;5;28;01melse\u001b[39;00m:\n\u001b[1;32m    385\u001b[0m     outputs \u001b[38;5;241m=\u001b[39m execute\u001b[38;5;241m.\u001b[39mexecute_with_cancellation(\n\u001b[1;32m    386\u001b[0m         \u001b[38;5;28mstr\u001b[39m(\u001b[38;5;28mself\u001b[39m\u001b[38;5;241m.\u001b[39msignature\u001b[38;5;241m.\u001b[39mname),\n\u001b[1;32m    387\u001b[0m         num_outputs\u001b[38;5;241m=\u001b[39m\u001b[38;5;28mself\u001b[39m\u001b[38;5;241m.\u001b[39m_num_outputs,\n\u001b[0;32m   (...)\u001b[0m\n\u001b[1;32m    390\u001b[0m         ctx\u001b[38;5;241m=\u001b[39mctx,\n\u001b[1;32m    391\u001b[0m         cancellation_manager\u001b[38;5;241m=\u001b[39mcancellation_manager)\n",
      "File \u001b[0;32m~/.local/lib/python3.10/site-packages/tensorflow/python/eager/execute.py:52\u001b[0m, in \u001b[0;36mquick_execute\u001b[0;34m(op_name, num_outputs, inputs, attrs, ctx, name)\u001b[0m\n\u001b[1;32m     50\u001b[0m \u001b[38;5;28;01mtry\u001b[39;00m:\n\u001b[1;32m     51\u001b[0m   ctx\u001b[38;5;241m.\u001b[39mensure_initialized()\n\u001b[0;32m---> 52\u001b[0m   tensors \u001b[38;5;241m=\u001b[39m \u001b[43mpywrap_tfe\u001b[49m\u001b[38;5;241;43m.\u001b[39;49m\u001b[43mTFE_Py_Execute\u001b[49m\u001b[43m(\u001b[49m\u001b[43mctx\u001b[49m\u001b[38;5;241;43m.\u001b[39;49m\u001b[43m_handle\u001b[49m\u001b[43m,\u001b[49m\u001b[43m \u001b[49m\u001b[43mdevice_name\u001b[49m\u001b[43m,\u001b[49m\u001b[43m \u001b[49m\u001b[43mop_name\u001b[49m\u001b[43m,\u001b[49m\n\u001b[1;32m     53\u001b[0m \u001b[43m                                      \u001b[49m\u001b[43minputs\u001b[49m\u001b[43m,\u001b[49m\u001b[43m \u001b[49m\u001b[43mattrs\u001b[49m\u001b[43m,\u001b[49m\u001b[43m \u001b[49m\u001b[43mnum_outputs\u001b[49m\u001b[43m)\u001b[49m\n\u001b[1;32m     54\u001b[0m \u001b[38;5;28;01mexcept\u001b[39;00m core\u001b[38;5;241m.\u001b[39m_NotOkStatusException \u001b[38;5;28;01mas\u001b[39;00m e:\n\u001b[1;32m     55\u001b[0m   \u001b[38;5;28;01mif\u001b[39;00m name \u001b[38;5;129;01mis\u001b[39;00m \u001b[38;5;129;01mnot\u001b[39;00m \u001b[38;5;28;01mNone\u001b[39;00m:\n",
      "\u001b[0;31mKeyboardInterrupt\u001b[0m: "
     ]
    }
   ],
   "source": [
    "\n",
    "import random\n",
    "size = 300000\n",
    "for k in range(1):\n",
    "        for i in range(0,int(len(embedding_word)/size)):\n",
    "                if k == 0:\n",
    "                        i = i + 11\n",
    "                if i == int(len(embedding_word)/size):\n",
    "                        break\n",
    "                if i <10:\n",
    "                        lr = (1e-4-1e-6)*(i)/10 + 1e-6\n",
    "                else:\n",
    "                        lr = 1e-4*np.sqrt(10)/np.sqrt(i)\n",
    "                optimizer = tf.keras.optimizers.Adam(learning_rate=lr)\n",
    "                model.compile(optimizer= optimizer, loss = custom_loss, metrics= Mask_acc)\n",
    "                max = 16\n",
    "                mask_input = []\n",
    "                for j in tqdm(train_set[size*i:size*(i+1)]):\n",
    "                        value = []\n",
    "                        number = int(len(j)*0.15)\n",
    "                        if number>max:\n",
    "                                number = max\n",
    "                        if number == 0:\n",
    "                                number = 1\n",
    "                        value += random.sample(range(1,len(j)),number)\n",
    "                        mask_input.append(value)\n",
    "                        \n",
    "                        \n",
    "                for j in mask_input:\n",
    "                        while(len(j)<max):\n",
    "                                j.append(-1)\n",
    "                \n",
    "                \n",
    "                \n",
    "                \n",
    "                \n",
    "                \n",
    "                inputs1 = embedding_word[size*i:size*(i+1)]\n",
    "                inputs2 = mask_input\n",
    "                output = tf.multiply(tf.reduce_sum(tf.one_hot(inputs2,200),axis=1),inputs1)\n",
    "\n",
    "                \n",
    "                random_value = inputs1.copy()        \n",
    "                for _,index in enumerate(inputs2):\n",
    "                        for j in index:\n",
    "                                if j != -1:\n",
    "                                        prob = np.random.rand(1)[0]\n",
    "                                        if prob < 0.8:\n",
    "                                                random_value[_][j] = 5\n",
    "                                        elif prob > 0.9:\n",
    "                                                temp1 = random.sample(range(0,301),1)[0]\n",
    "                                                random_value[_][j] = temp1\n",
    "                                                \n",
    "                \n",
    "                \n",
    "                print(f'This is {i} number step')\n",
    "                with tf.device('/device:GPU:0'):\n",
    "                        if i % 4 == 0:\n",
    "                                model.fit([np.array(random_value),np.array(inputs2)],np.array(output,dtype = int),epochs=1,batch_size=32,callbacks = [early_stopping_cb],validation_data=([np.array(random_value_val),np.array(mask_input_val)],np.array(output_val)))\n",
    "                        else:\n",
    "                                model.fit([np.array(random_value),np.array(inputs2)],np.array(output,dtype = int),epochs=1,batch_size=32,callbacks = [early_stopping_cb])\n",
    "                        print(model.optimizer.lr)\n",
    "                        model.save_weights('./BERT/SMILE/Most_small_tensor_Random_ZINC_L_model_weights')"
   ]
  },
  {
   "cell_type": "code",
   "execution_count": 26,
   "metadata": {},
   "outputs": [
    {
     "ename": "NameError",
     "evalue": "name 'random_value' is not defined",
     "output_type": "error",
     "traceback": [
      "\u001b[0;31m---------------------------------------------------------------------------\u001b[0m",
      "\u001b[0;31mNameError\u001b[0m                                 Traceback (most recent call last)",
      "Cell \u001b[0;32mIn[26], line 3\u001b[0m\n\u001b[1;32m      1\u001b[0m \u001b[38;5;28;01mfrom\u001b[39;00m \u001b[38;5;21;01mModule\u001b[39;00m\u001b[38;5;21;01m.\u001b[39;00m\u001b[38;5;21;01mcustom_layers\u001b[39;00m \u001b[38;5;28;01mimport\u001b[39;00m Attention_mask\n\u001b[0;32m----> 3\u001b[0m hidden,mask \u001b[38;5;241m=\u001b[39m model\u001b[38;5;241m.\u001b[39mlayers[\u001b[38;5;241m2\u001b[39m]\u001b[38;5;241m.\u001b[39membedding(\u001b[43mrandom_value\u001b[49m[:\u001b[38;5;241m10\u001b[39m])\n\u001b[1;32m      4\u001b[0m mask \u001b[38;5;241m=\u001b[39m Attention_mask(mask)\n\u001b[1;32m      5\u001b[0m index \u001b[38;5;241m=\u001b[39m \u001b[38;5;241m2\u001b[39m\n",
      "\u001b[0;31mNameError\u001b[0m: name 'random_value' is not defined"
     ]
    }
   ],
   "source": []
  },
  {
   "cell_type": "code",
   "execution_count": 210,
   "metadata": {},
   "outputs": [
    {
     "data": {
      "text/plain": [
       "<Axes: >"
      ]
     },
     "execution_count": 210,
     "metadata": {},
     "output_type": "execute_result"
    },
    {
     "data": {
      "image/png": "[encoded data removed]",
      "text/plain": [
       "<Figure size 640x480 with 2 Axes>"
      ]
     },
     "metadata": {},
     "output_type": "display_data"
    }
   ],
   "source": [
    "import matplotlib.pyplot as plt\n",
    "import seaborn as sns\n",
    "sns.heatmap(output[3][6][0:40,0:40], cmap='viridis', fmt=\".2f\")"
   ]
  },
  {
   "cell_type": "code",
   "execution_count": 211,
   "metadata": {},
   "outputs": [
    {
     "data": {
      "text/plain": [
       "<matplotlib.image.AxesImage at 0x7f516c7681c0>"
      ]
     },
     "execution_count": 211,
     "metadata": {},
     "output_type": "execute_result"
    },
    {
     "data": {
      "image/png": "[encoded data removed]",
      "text/plain": [
       "<Figure size 2400x1200 with 1 Axes>"
      ]
     },
     "metadata": {},
     "output_type": "display_data"
    }
   ],
   "source": [
    "import matplotlib.pyplot as plt\n",
    "import seaborn as sns\n",
    "plt.figure(figsize=(24,12))\n",
    "plt.imshow(tf.reduce_mean(output[5][2:],axis=0), cmap='viridis')"
   ]
  },
  {
   "cell_type": "code",
   "execution_count": 289,
   "metadata": {},
   "outputs": [
    {
     "data": {
      "text/plain": [
       "<matplotlib.image.AxesImage at 0x7f85383c41c0>"
      ]
     },
     "execution_count": 289,
     "metadata": {},
     "output_type": "execute_result"
    },
    {
     "data": {
      "image/png": "[encoded data removed]",
      "text/plain": [
       "<Figure size 2400x1200 with 1 Axes>"
      ]
     },
     "metadata": {},
     "output_type": "display_data"
    }
   ],
   "source": [
    "import matplotlib.pyplot as plt\n",
    "import seaborn as sns\n",
    "plt.figure(figsize=(24,12))\n",
    "plt.imshow(tf.reduce_mean(output[5][2:],axis=0), cmap='viridis')"
   ]
  },
  {
   "cell_type": "code",
   "execution_count": 27,
   "metadata": {},
   "outputs": [
    {
     "name": "stdout",
     "output_type": "stream",
     "text": [
      "./Final_data_token_SMILE/CLS/BBBP_vNN-ADMET 6696\n",
      "./Final_data_token_SMILE/CLS/Hepatotoxicity-Cytotoxicity-HepG2_vNN-ADMET 121907\n",
      "./Final_data_token_SMILE/CLS/CYP2C9_Inhibitor_vNN-ADMET 161019\n",
      "./Final_data_token_SMILE/CLS/CYP2C19_Inhibitor_vNN-ADMET 162651\n",
      "./Final_data_token_SMILE/CLS/CYP2D6_Inhibitor_vNN-ADMET 155680\n",
      "./Final_data_token_SMILE/CLS/HLM_metab_vNN-ADMET 64380\n",
      "./Final_data_token_SMILE/CLS/BBBP_MoleculeNet 40204\n",
      "./Final_data_token_SMILE/CLS/DILI_vNN-ADMET 27864\n",
      "./Final_data_token_SMILE/CLS/CYP1A2_Inhibitor_vNN-ADMET 150716\n",
      "./Final_data_token_SMILE/CLS/BBBP_MoleculeNet_clean 40197\n",
      "./Final_data_token_SMILE/CLS/CYP3A4_Inhibitor_vNN-ADMET 204184\n"
     ]
    }
   ],
   "source": [
    "import os\n",
    "import pickle\n",
    "\n",
    "# 폴더 경로 설정\n",
    "folder_path = './Final_data_token_SMILE/CLS/'  # 해당 경로를 실제 폴더 경로로 바꿔주세요\n",
    "\n",
    "# 빈 리스트 초기화\n",
    "merged_data = []\n",
    "\n",
    "# 폴더 내의 모든 .pkl 파일을 탐색\n",
    "for filename in os.listdir(folder_path):\n",
    "    file_path = os.path.join(folder_path, filename)\n",
    "    with open(file_path, 'rb') as file:\n",
    "        # .pkl 파일 열기\n",
    "        try:\n",
    "            data = pickle.load(file)\n",
    "            # 데이터를 하나의 리스트에 추가\n",
    "            merged_data+=data[0]\n",
    "            print(file_path,len(data[0]))\n",
    "        except:\n",
    "            pass\n",
    "remove_list = []\n",
    "\n",
    "for index,i in enumerate(merged_data):\n",
    "    if len(i)>=180 or len(i)<5:\n",
    "        remove_list.append(index)\n",
    "\n",
    "remove_list.sort(reverse=True)\n",
    "\n",
    "for i in remove_list:\n",
    "    merged_data.pop(i)"
   ]
  },
  {
   "cell_type": "code",
   "execution_count": 28,
   "metadata": {},
   "outputs": [
    {
     "name": "stdout",
     "output_type": "stream",
     "text": [
      "./Final_data_token_SMILE/REG/Lipophilicity_moleculenet 83975\n",
      "./Final_data_token_SMILE/REG/FreeSolveSAMPL 9523\n"
     ]
    }
   ],
   "source": [
    "import os\n",
    "import pickle\n",
    "\n",
    "# 폴더 경로 설정\n",
    "folder_path = './Final_data_token_SMILE/REG/'  # 해당 경로를 실제 폴더 경로로 바꿔주세요\n",
    "\n",
    "# 빈 리스트 초기화\n",
    "\n",
    "# 폴더 내의 모든 .pkl 파일을 탐색\n",
    "for filename in os.listdir(folder_path):\n",
    "    file_path = os.path.join(folder_path, filename)\n",
    "    with open(file_path, 'rb') as file:\n",
    "        # .pkl 파일 열기\n",
    "        try:\n",
    "            data = pickle.load(file)\n",
    "            # 데이터를 하나의 리스트에 추가\n",
    "            merged_data+=data[0]\n",
    "            print(file_path,len(data[0]))\n",
    "        except:\n",
    "            pass\n",
    "remove_list = []\n",
    "\n",
    "for index,i in enumerate(merged_data):\n",
    "    if len(i)>=180:\n",
    "        remove_list.append(index)\n",
    "\n",
    "remove_list.sort(reverse=True)\n",
    "\n",
    "for i in remove_list:\n",
    "    merged_data.pop(i)"
   ]
  },
  {
   "cell_type": "code",
   "execution_count": 29,
   "metadata": {},
   "outputs": [
    {
     "name": "stdout",
     "output_type": "stream",
     "text": [
      "./Final_data_token_SMILE/TOX/Carcinogens_Lagunin 5501\n",
      "./Final_data_token_SMILE/TOX/DILI 9403\n",
      "./Final_data_token_SMILE/TOX/ClinTox 29009\n",
      "./Final_data_token_SMILE/TOX/LD50_Zhu 141235\n",
      "./Final_data_token_SMILE/TOX/hERG 13092\n",
      "./Final_data_token_SMILE/TOX/AMES 139901\n",
      "./Final_data_token_SMILE/TOX/hERG_Karim 268795\n",
      "./Final_data_token_SMILE/TOX/Skin Reaction 7711\n"
     ]
    }
   ],
   "source": [
    "import os\n",
    "import pickle\n",
    "\n",
    "# 폴더 경로 설정\n",
    "folder_path = './Final_data_token_SMILE/TOX/'  # 해당 경로를 실제 폴더 경로로 바꿔주세요\n",
    "\n",
    "# 빈 리스트 초기화\n",
    "\n",
    "# 폴더 내의 모든 .pkl 파일을 탐색\n",
    "for filename in os.listdir(folder_path):\n",
    "    file_path = os.path.join(folder_path, filename)\n",
    "    with open(file_path, 'rb') as file:\n",
    "        # .pkl 파일 열기\n",
    "        try:\n",
    "            data = pickle.load(file)\n",
    "            # 데이터를 하나의 리스트에 추가\n",
    "            merged_data+=data[0][0]\n",
    "            print(file_path,len(data[0][0]))\n",
    "        except:\n",
    "            pass\n",
    "remove_list = []\n",
    "\n",
    "for index,i in enumerate(merged_data):\n",
    "    if len(i)>=180:\n",
    "        remove_list.append(index)\n",
    "\n",
    "remove_list.sort(reverse=True)\n",
    "\n",
    "for i in remove_list:\n",
    "    merged_data.pop(i)"
   ]
  },
  {
   "cell_type": "code",
   "execution_count": 30,
   "metadata": {},
   "outputs": [
    {
     "name": "stderr",
     "output_type": "stream",
     "text": [
      " 71%|███████▏  | 1312849/1841866 [00:20<00:07, 73147.64it/s]"
     ]
    },
    {
     "name": "stdout",
     "output_type": "stream",
     "text": [
      "[SiH]\n"
     ]
    },
    {
     "name": "stderr",
     "output_type": "stream",
     "text": [
      " 75%|███████▍  | 1378987/1841866 [00:20<00:06, 73601.79it/s]"
     ]
    },
    {
     "name": "stdout",
     "output_type": "stream",
     "text": [
      "[SiH2]\n"
     ]
    },
    {
     "name": "stderr",
     "output_type": "stream",
     "text": [
      " 78%|███████▊  | 1438320/1841866 [00:21<00:05, 73929.62it/s]"
     ]
    },
    {
     "name": "stdout",
     "output_type": "stream",
     "text": [
      "[Cu+2]\n",
      "[Mn+2]\n",
      "[H-]\n",
      "[SbH]\n"
     ]
    },
    {
     "name": "stderr",
     "output_type": "stream",
     "text": [
      "100%|██████████| 1841866/1841866 [00:29<00:00, 62018.17it/s]\n"
     ]
    }
   ],
   "source": [
    "from tqdm import tqdm\n",
    "import numpy as np \n",
    "\n",
    "def word_to_index(train_set,dict):\n",
    "    result = []\n",
    "\n",
    "    for molecule in tqdm(train_set):\n",
    "        temp_list = []\n",
    "        temp_list.append(1)\n",
    "        for atom in molecule:\n",
    "            try:\n",
    "                temp_list.append(dict[atom])\n",
    "            except:\n",
    "                print(atom)\n",
    "                dict[atom] = len(dict)+1\n",
    "        while len(temp_list)<200:\n",
    "            temp_list.append(0)\n",
    "        if len(temp_list) == 200:\n",
    "            result.append(temp_list)\n",
    "\n",
    "    return result\n",
    "embedding_word_merge = word_to_index(merged_data,molecule_dictionary)   \n",
    "embedding_word_merge = np.array(embedding_word_merge)"
   ]
  },
  {
   "cell_type": "code",
   "execution_count": 31,
   "metadata": {},
   "outputs": [
    {
     "name": "stdout",
     "output_type": "stream",
     "text": [
      "Model: \"model\"\n",
      "__________________________________________________________________________________________________\n",
      " Layer (type)                   Output Shape         Param #     Connected to                     \n",
      "==================================================================================================\n",
      " input_5 (InputLayer)           [(None, 200)]        0           []                               \n",
      "                                                                                                  \n",
      " input_6 (InputLayer)           [(None, 16)]         0           []                               \n",
      "                                                                                                  \n",
      " bert_tensor_small (BERT_tensor  (None, 141)         4555469     ['input_5[0][0]',                \n",
      " _small)                                                          'input_6[0][0]']                \n",
      "                                                                                                  \n",
      "==================================================================================================\n",
      "Total params: 4,555,469\n",
      "Trainable params: 4,555,469\n",
      "Non-trainable params: 0\n",
      "__________________________________________________________________________________________________\n"
     ]
    }
   ],
   "source": [
    "model.summary()"
   ]
  },
  {
   "cell_type": "code",
   "execution_count": 32,
   "metadata": {},
   "outputs": [
    {
     "data": {
      "text/plain": [
       "array([[ 1, 11, 10, ...,  0,  0,  0],\n",
       "       [ 1, 11, 10, ...,  0,  0,  0],\n",
       "       [ 1, 11, 10, ...,  0,  0,  0],\n",
       "       ...,\n",
       "       [ 1,  8, 12, ...,  0,  0,  0],\n",
       "       [ 1, 11, 10, ...,  0,  0,  0],\n",
       "       [ 1, 11, 10, ...,  0,  0,  0]])"
      ]
     },
     "execution_count": 32,
     "metadata": {},
     "output_type": "execute_result"
    }
   ],
   "source": [
    "embedding_word_merge[300000:300015]"
   ]
  },
  {
   "cell_type": "code",
   "execution_count": 33,
   "metadata": {},
   "outputs": [
    {
     "data": {
      "text/plain": [
       "147"
      ]
     },
     "execution_count": 33,
     "metadata": {},
     "output_type": "execute_result"
    }
   ],
   "source": [
    "len(molecule_dictionary)"
   ]
  },
  {
   "cell_type": "code",
   "execution_count": 253,
   "metadata": {},
   "outputs": [
    {
     "data": {
      "text/plain": [
       "141"
      ]
     },
     "execution_count": 253,
     "metadata": {},
     "output_type": "execute_result"
    }
   ],
   "source": [
    "len(molecule_dictionary)"
   ]
  },
  {
   "cell_type": "code",
   "execution_count": 53,
   "metadata": {},
   "outputs": [],
   "source": [
    "model_temp.set_weights(paras)"
   ]
  },
  {
   "cell_type": "code",
   "execution_count": 44,
   "metadata": {},
   "outputs": [
    {
     "name": "stdout",
     "output_type": "stream",
     "text": [
      "Model: \"model_1\"\n",
      "__________________________________________________________________________________________________\n",
      " Layer (type)                   Output Shape         Param #     Connected to                     \n",
      "==================================================================================================\n",
      " input_7 (InputLayer)           [(None, 200)]        0           []                               \n",
      "                                                                                                  \n",
      " input_8 (InputLayer)           [(None, 16)]         0           []                               \n",
      "                                                                                                  \n",
      " bert_tensor_small_7 (BERT_tens  (None, 200, 256)    4519232     ['input_7[0][0]',                \n",
      " or_small)                                                        'input_8[0][0]']                \n",
      "                                                                                                  \n",
      "==================================================================================================\n",
      "Total params: 4,519,232\n",
      "Trainable params: 4,519,232\n",
      "Non-trainable params: 0\n",
      "__________________________________________________________________________________________________\n"
     ]
    }
   ],
   "source": [
    "inputs = Input(shape = (200,),dtype=tf.int32)\n",
    "mask = Input(shape = (16), dtype=tf.int32)\n",
    "outputs = custom_layers.BERT_tensor_small(256,8,1024,len(molecule_dictionary))(inputs,mask)\n",
    "#outputs = BERT_tensor(256,6,1024,121)(inputs,mask,pretrain=True)\n",
    "\n",
    "model_temp = Model(inputs = [inputs,mask], outputs = [outputs])\n",
    "model_temp.summary()\n",
    "optmizer = tf.keras.optimizers.Adam(learning_rate=0.0002)\n",
    "model_temp.compile(optimizer=optmizer,loss = custom_loss,metrics = Mask_acc)"
   ]
  },
  {
   "cell_type": "code",
   "execution_count": 47,
   "metadata": {},
   "outputs": [],
   "source": [
    "paras = model.get_weights()"
   ]
  },
  {
   "cell_type": "code",
   "execution_count": 48,
   "metadata": {},
   "outputs": [],
   "source": [
    "model_temp.set_weights(paras[:282])"
   ]
  },
  {
   "cell_type": "code",
   "execution_count": 52,
   "metadata": {},
   "outputs": [
    {
     "name": "stdout",
     "output_type": "stream",
     "text": [
      "0\n"
     ]
    },
    {
     "name": "stderr",
     "output_type": "stream",
     "text": [
      "  4%|▍         | 12963/300000 [00:00<00:02, 129611.89it/s]"
     ]
    },
    {
     "name": "stderr",
     "output_type": "stream",
     "text": [
      "100%|██████████| 300000/300000 [00:01<00:00, 177432.81it/s]\n"
     ]
    },
    {
     "name": "stdout",
     "output_type": "stream",
     "text": [
      "This is 0 number step\n",
      "9375/9375 [==============================] - 777s 79ms/step - loss: 0.3884 - Mask_acc: 0.8622 - val_loss: 0.3833 - val_Mask_acc: 0.8752\n",
      "<tf.Variable 'learning_rate:0' shape=() dtype=float32, numpy=1e-04>\n",
      "1\n"
     ]
    },
    {
     "name": "stderr",
     "output_type": "stream",
     "text": [
      "100%|██████████| 300000/300000 [00:01<00:00, 189908.27it/s]\n"
     ]
    },
    {
     "name": "stdout",
     "output_type": "stream",
     "text": [
      "This is 1 number step\n",
      "9375/9375 [==============================] - 702s 71ms/step - loss: 0.2625 - Mask_acc: 0.9051\n",
      "<tf.Variable 'learning_rate:0' shape=() dtype=float32, numpy=1e-04>\n",
      "2\n"
     ]
    },
    {
     "name": "stderr",
     "output_type": "stream",
     "text": [
      "100%|██████████| 300000/300000 [00:01<00:00, 185257.37it/s]\n"
     ]
    },
    {
     "name": "stdout",
     "output_type": "stream",
     "text": [
      "This is 2 number step\n",
      "9375/9375 [==============================] - 690s 70ms/step - loss: 0.2961 - Mask_acc: 0.8976\n",
      "<tf.Variable 'learning_rate:0' shape=() dtype=float32, numpy=1e-04>\n",
      "3\n"
     ]
    },
    {
     "name": "stderr",
     "output_type": "stream",
     "text": [
      "100%|██████████| 300000/300000 [00:01<00:00, 195123.45it/s]\n"
     ]
    },
    {
     "name": "stdout",
     "output_type": "stream",
     "text": [
      "This is 3 number step\n",
      "9375/9375 [==============================] - 746s 76ms/step - loss: 0.2865 - Mask_acc: 0.8989 - val_loss: 0.3292 - val_Mask_acc: 0.8889\n",
      "<tf.Variable 'learning_rate:0' shape=() dtype=float32, numpy=1e-04>\n",
      "4\n"
     ]
    },
    {
     "name": "stderr",
     "output_type": "stream",
     "text": [
      "  6%|▋         | 18900/300000 [00:00<00:01, 163988.11it/s]\n"
     ]
    },
    {
     "ename": "ValueError",
     "evalue": "Sample larger than population or is negative",
     "output_type": "error",
     "traceback": [
      "\u001b[0;31m---------------------------------------------------------------------------\u001b[0m",
      "\u001b[0;31mValueError\u001b[0m                                Traceback (most recent call last)",
      "Cell \u001b[0;32mIn[52], line 27\u001b[0m\n\u001b[1;32m     25\u001b[0m         \u001b[38;5;28;01mif\u001b[39;00m number \u001b[38;5;241m==\u001b[39m \u001b[38;5;241m0\u001b[39m:\n\u001b[1;32m     26\u001b[0m                 number \u001b[38;5;241m=\u001b[39m \u001b[38;5;241m1\u001b[39m\n\u001b[0;32m---> 27\u001b[0m         value \u001b[38;5;241m+\u001b[39m\u001b[38;5;241m=\u001b[39m \u001b[43mrandom\u001b[49m\u001b[38;5;241;43m.\u001b[39;49m\u001b[43msample\u001b[49m\u001b[43m(\u001b[49m\u001b[38;5;28;43mrange\u001b[39;49m\u001b[43m(\u001b[49m\u001b[38;5;241;43m1\u001b[39;49m\u001b[43m,\u001b[49m\u001b[38;5;28;43mlen\u001b[39;49m\u001b[43m(\u001b[49m\u001b[43mj\u001b[49m\u001b[43m)\u001b[49m\u001b[43m)\u001b[49m\u001b[43m,\u001b[49m\u001b[43mnumber\u001b[49m\u001b[43m)\u001b[49m\n\u001b[1;32m     28\u001b[0m         mask_input\u001b[38;5;241m.\u001b[39mappend(value)\n\u001b[1;32m     31\u001b[0m \u001b[38;5;28;01mfor\u001b[39;00m j \u001b[38;5;129;01min\u001b[39;00m mask_input:\n",
      "File \u001b[0;32m/usr/lib/python3.10/random.py:482\u001b[0m, in \u001b[0;36mRandom.sample\u001b[0;34m(self, population, k, counts)\u001b[0m\n\u001b[1;32m    480\u001b[0m randbelow \u001b[38;5;241m=\u001b[39m \u001b[38;5;28mself\u001b[39m\u001b[38;5;241m.\u001b[39m_randbelow\n\u001b[1;32m    481\u001b[0m \u001b[38;5;28;01mif\u001b[39;00m \u001b[38;5;129;01mnot\u001b[39;00m \u001b[38;5;241m0\u001b[39m \u001b[38;5;241m<\u001b[39m\u001b[38;5;241m=\u001b[39m k \u001b[38;5;241m<\u001b[39m\u001b[38;5;241m=\u001b[39m n:\n\u001b[0;32m--> 482\u001b[0m     \u001b[38;5;28;01mraise\u001b[39;00m \u001b[38;5;167;01mValueError\u001b[39;00m(\u001b[38;5;124m\"\u001b[39m\u001b[38;5;124mSample larger than population or is negative\u001b[39m\u001b[38;5;124m\"\u001b[39m)\n\u001b[1;32m    483\u001b[0m result \u001b[38;5;241m=\u001b[39m [\u001b[38;5;28;01mNone\u001b[39;00m] \u001b[38;5;241m*\u001b[39m k\n\u001b[1;32m    484\u001b[0m setsize \u001b[38;5;241m=\u001b[39m \u001b[38;5;241m21\u001b[39m        \u001b[38;5;66;03m# size of a small set minus size of an empty list\u001b[39;00m\n",
      "\u001b[0;31mValueError\u001b[0m: Sample larger than population or is negative"
     ]
    }
   ],
   "source": [
    "\n",
    "import random\n",
    "size = 300000\n",
    "for k in range(1):\n",
    "        for i in range(0,int(len(embedding_word_merge)/size)):\n",
    "                lr = CustomLearningRateScheduler()\n",
    "                if k == 0:\n",
    "                        i = i\n",
    "                \"\"\"\n",
    "                if i == int(len(embedding_word_merge)/size):\n",
    "                        break\n",
    "                if i+50 <80:\n",
    "                        lr = (1e-4-1e-6)*(i)/80 + 1e-6\n",
    "                else:\n",
    "                        lr = 1e-4*np.sqrt(80)/np.sqrt(i)\"\"\"\n",
    "                optimizer = tf.keras.optimizers.Adam(learning_rate=1e-4)\n",
    "                model.compile(optimizer= optimizer, loss = custom_loss, metrics= Mask_acc)\n",
    "                max = 16\n",
    "                mask_input = []\n",
    "                print(i)\n",
    "                for j in tqdm(merged_data[size*i:size*(i+1)]):\n",
    "                        value = []\n",
    "                        number = int(len(j)*0.15)\n",
    "                        if number>max:\n",
    "                                number = max\n",
    "                        if number == 0:\n",
    "                                number = 1\n",
    "                        value += random.sample(range(1,len(j)),number)\n",
    "                        mask_input.append(value)\n",
    "                        \n",
    "                        \n",
    "                for j in mask_input:\n",
    "                        while(len(j)<max):\n",
    "                                j.append(-1)\n",
    "                \n",
    "                inputs1 = embedding_word_merge[size*i:size*(i+1)]\n",
    "                inputs2 = mask_input\n",
    "                output = tf.multiply(tf.reduce_sum(tf.one_hot(inputs2,200),axis=1),inputs1)\n",
    "\n",
    "                \n",
    "                random_value = inputs1.copy()        \n",
    "                for _,index in enumerate(inputs2):\n",
    "                        for j in index:\n",
    "                                if j != -1:\n",
    "                                        prob = np.random.rand(1)[0]\n",
    "                                        if prob < 0.8:\n",
    "                                                random_value[_][j] = 5\n",
    "                                        elif prob > 0.9:\n",
    "                                                temp1 = random.sample(range(0,len(molecule_dictionary)),1)[0]\n",
    "                                                random_value[_][j] = temp1\n",
    "                                                \n",
    "                \n",
    "                \n",
    "                print(f'This is {i} number step')\n",
    "                with tf.device('/device:GPU:0'):\n",
    "                        if i % 3 == 0:\n",
    "                                model.fit([np.array(random_value),np.array(inputs2)],np.array(output,dtype = int),epochs=1,batch_size=32,validation_data=([np.array(random_value_val),np.array(mask_input_val)],np.array(output_val)))\n",
    "                        else:\n",
    "                                model.fit([np.array(random_value),np.array(inputs2)],np.array(output,dtype = int),epochs=1,batch_size=32)\n",
    "                        print(model.optimizer.lr)\n",
    "                        with open('./BERT/SMILE/small_Pre_BERT.pkl','wb') as file:\n",
    "                                paras = model.weights[:282]\n",
    "                                pickle.dump(paras,file)\n",
    "                        #model.save_weights('./BERT/SMILE/small_tensor_Random_ZINC_L_model_weights')"
   ]
  },
  {
   "cell_type": "code",
   "execution_count": 109,
   "metadata": {},
   "outputs": [],
   "source": [
    "with open('./BERT/SMILE/1M_random_ZINC_word2index.pkl','wb') as file:\n",
    "    pickle.dump(molecule_dictionary,file)"
   ]
  },
  {
   "cell_type": "code",
   "execution_count": 64,
   "metadata": {},
   "outputs": [
    {
     "name": "stdout",
     "output_type": "stream",
     "text": [
      "Model: \"model_1\"\n",
      "_________________________________________________________________\n",
      " Layer (type)                Output Shape              Param #   \n",
      "=================================================================\n",
      " input_3 (InputLayer)        [(None, 200)]             0         \n",
      "                                                                 \n",
      " bert_tensor_1 (BERT_tensor)  (None, 200, 256)         11496448  \n",
      "                                                                 \n",
      "=================================================================\n",
      "Total params: 11,496,448\n",
      "Trainable params: 11,496,448\n",
      "Non-trainable params: 0\n",
      "_________________________________________________________________\n"
     ]
    }
   ],
   "source": [
    "import tensorflow as tf\n",
    "from tensorflow.keras.layers import MaxPool2D\n",
    "from tensorflow.keras.layers import Conv2D\n",
    "from tensorflow.keras.layers import Input\n",
    "from tensorflow.keras.layers import Flatten,Dense\n",
    "from tensorflow.keras.models import Model\n",
    "from tensorflow.keras.layers import Dropout\n",
    "from tensorflow.keras.layers import MaxPool1D\n",
    "from tensorflow.keras.layers import concatenate\n",
    "from tensorflow.keras.layers import MultiHeadAttention\n",
    "from tensorflow.keras.layers import GlobalMaxPooling1D\n",
    "from tensorflow.keras.layers import LayerNormalization\n",
    "from tensorflow.keras.layers import Embedding\n",
    "inputs = Input(shape = (200,),dtype=tf.int32)\n",
    "outputs = BERT_tensor(256,6,1024,len(molecule_dictionary)+50)(inputs,None)\n",
    "\n",
    "\n",
    "model_temp = Model(inputs = [inputs], outputs = [outputs])\n",
    "model_temp.summary()\n",
    "optmizer = tf.keras.optimizers.Adam(learning_rate=0.0002)\n",
    "model_temp.compile(optimizer=optmizer,loss = custom_loss,metrics = Mask_acc)"
   ]
  },
  {
   "cell_type": "code",
   "execution_count": 68,
   "metadata": {},
   "outputs": [],
   "source": [
    "model_temp.set_weights(paras[:250])"
   ]
  },
  {
   "cell_type": "code",
   "execution_count": 69,
   "metadata": {},
   "outputs": [],
   "source": [
    "model_temp.save_weights('./BERT/SMILE/small_tensor_Pre_BERT')"
   ]
  },
  {
   "cell_type": "code",
   "execution_count": 66,
   "metadata": {},
   "outputs": [],
   "source": [
    "paras = model.get_weights()"
   ]
  },
  {
   "cell_type": "code",
   "execution_count": 67,
   "metadata": {},
   "outputs": [],
   "source": [
    "temp_weights = model.get_weights()\n",
    "all_weights = temp_weights[:16]*8 + temp_weights[16:]"
   ]
  },
  {
   "cell_type": "code",
   "execution_count": 68,
   "metadata": {},
   "outputs": [],
   "source": [
    "class BERT(tf.keras.layers.Layer):\n",
    "    def __init__(self,emb_dim,num_heads,ff_dim):\n",
    "        super(BERT, self).__init__()\n",
    "        self.encoder = tf.keras.Sequential([TransformerBlock(emb_dim,num_heads,ff_dim) for i in range(8)])\n",
    "        #self.encoder = TransformerBlock(emb_dim,num_heads,ff_dim)\n",
    "        #self.normalize = tf.keras.layers.LayerNormalization(epsilon=1e-8)\n",
    "        \n",
    "        self.embedding = TokenAndPositionEmbedding(200,3500,256)\n",
    "        self.dense = layers.Dense(250,activation = 'gelu')\n",
    "        self.classify = layers.Dense(len(molecule_dictionary),activation = 'softmax')\n",
    "    def call(self, inputs, mask_index,pretrain = False):\n",
    "        if pretrain:\n",
    "            mask_index = tf.one_hot(mask_index,200)\n",
    "            boolean_mask = tf.cast(tf.reduce_sum(mask_index,axis=1),bool)\n",
    "            inputs = tf.cast(inputs,dtype=tf.int32)\n",
    "            \n",
    "        hidden = self.embedding(inputs)\n",
    "        hidden = self.encoder(hidden)\n",
    "    \n",
    "        if pretrain:\n",
    "            output = tf.reshape(hidden,[-1,200,256])\n",
    "            output = self.dense(output)\n",
    "            output = layers.Dropout(0.1)(output)\n",
    "            output = self.classify(output)\n",
    "            output = tf.boolean_mask(output,boolean_mask)\n",
    "            return output\n",
    "        else:\n",
    "            return hidden"
   ]
  },
  {
   "cell_type": "code",
   "execution_count": null,
   "metadata": {},
   "outputs": [],
   "source": [
    "model.compile(optimizer= optimizer, loss = custom_loss, metrics= Mask_acc)"
   ]
  },
  {
   "cell_type": "code",
   "execution_count": null,
   "metadata": {},
   "outputs": [
    {
     "data": {
      "text/plain": [
       "50094160"
      ]
     },
     "execution_count": 68,
     "metadata": {},
     "output_type": "execute_result"
    }
   ],
   "source": [
    "len(embedding_word)"
   ]
  },
  {
   "cell_type": "code",
   "execution_count": 69,
   "metadata": {},
   "outputs": [
    {
     "name": "stdout",
     "output_type": "stream",
     "text": [
      "Model: \"model_7\"\n",
      "__________________________________________________________________________________________________\n",
      " Layer (type)                   Output Shape         Param #     Connected to                     \n",
      "==================================================================================================\n",
      " input_15 (InputLayer)          [(None, 200)]        0           []                               \n",
      "                                                                                                  \n",
      " input_16 (InputLayer)          [(None, 16)]         0           []                               \n",
      "                                                                                                  \n",
      " bert_7 (BERT)                  (None, 71)           17863831    ['input_15[0][0]',               \n",
      "                                                                  'input_16[0][0]']               \n",
      "                                                                                                  \n",
      "==================================================================================================\n",
      "Total params: 17,863,831\n",
      "Trainable params: 17,863,831\n",
      "Non-trainable params: 0\n",
      "__________________________________________________________________________________________________\n"
     ]
    }
   ],
   "source": [
    "inputs = Input(shape = (200,),dtype=tf.int32)\n",
    "mask = Input(shape = (16), dtype=tf.int32)\n",
    "outputs = BERT(256,6,1024)(inputs,mask,pretrain=True)\n",
    "\n",
    "model = Model(inputs = [inputs,mask], outputs = [outputs])\n",
    "model.summary()\n",
    "optmizer = tf.keras.optimizers.Adam(learning_rate=0.0002)\n",
    "model.compile(optimizer=optmizer,loss = custom_loss,metrics = Mask_acc)\n",
    "model.set_weights(all_weights)"
   ]
  },
  {
   "cell_type": "code",
   "execution_count": 71,
   "metadata": {},
   "outputs": [
    {
     "data": {
      "text/plain": [
       "array([], dtype=float64)"
      ]
     },
     "execution_count": 71,
     "metadata": {},
     "output_type": "execute_result"
    }
   ],
   "source": [
    "random_value_val"
   ]
  },
  {
   "cell_type": "code",
   "execution_count": 77,
   "metadata": {},
   "outputs": [
    {
     "name": "stderr",
     "output_type": "stream",
     "text": [
      "  0%|          | 0/300000 [00:00<?, ?it/s]"
     ]
    },
    {
     "name": "stderr",
     "output_type": "stream",
     "text": [
      "100%|██████████| 300000/300000 [00:01<00:00, 186390.67it/s]\n"
     ]
    },
    {
     "name": "stdout",
     "output_type": "stream",
     "text": [
      "This is 0 number step\n",
      "1172/1172 [==============================] - 392s 321ms/step - loss: 0.5511 - Mask_acc: 0.8475 - val_loss: 0.9338 - val_Mask_acc: 0.7538\n",
      "<tf.Variable 'learning_rate:0' shape=() dtype=float32, numpy=1e-04>\n"
     ]
    },
    {
     "name": "stderr",
     "output_type": "stream",
     "text": [
      "100%|██████████| 300000/300000 [00:01<00:00, 204244.64it/s]\n"
     ]
    },
    {
     "name": "stdout",
     "output_type": "stream",
     "text": [
      "This is 1 number step\n"
     ]
    },
    {
     "ename": "KeyboardInterrupt",
     "evalue": "",
     "output_type": "error",
     "traceback": [
      "\u001b[0;31m---------------------------------------------------------------------------\u001b[0m",
      "\u001b[0;31mKeyboardInterrupt\u001b[0m                         Traceback (most recent call last)",
      "Cell \u001b[0;32mIn[77], line 60\u001b[0m\n\u001b[1;32m     58\u001b[0m         model\u001b[38;5;241m.\u001b[39mfit([np\u001b[38;5;241m.\u001b[39marray(random_value),np\u001b[38;5;241m.\u001b[39marray(inputs2)],np\u001b[38;5;241m.\u001b[39marray(output,dtype \u001b[38;5;241m=\u001b[39m \u001b[38;5;28mint\u001b[39m),epochs\u001b[38;5;241m=\u001b[39m\u001b[38;5;241m1\u001b[39m,batch_size\u001b[38;5;241m=\u001b[39m\u001b[38;5;241m256\u001b[39m,callbacks \u001b[38;5;241m=\u001b[39m [early_stopping_cb],validation_data\u001b[38;5;241m=\u001b[39m([np\u001b[38;5;241m.\u001b[39marray(random_value_val),np\u001b[38;5;241m.\u001b[39marray(mask_input_val)],np\u001b[38;5;241m.\u001b[39marray(output_val)))\n\u001b[1;32m     59\u001b[0m \u001b[38;5;28;01melse\u001b[39;00m:\n\u001b[0;32m---> 60\u001b[0m         \u001b[43mmodel\u001b[49m\u001b[38;5;241;43m.\u001b[39;49m\u001b[43mfit\u001b[49m\u001b[43m(\u001b[49m\u001b[43m[\u001b[49m\u001b[43mnp\u001b[49m\u001b[38;5;241;43m.\u001b[39;49m\u001b[43marray\u001b[49m\u001b[43m(\u001b[49m\u001b[43mrandom_value\u001b[49m\u001b[43m)\u001b[49m\u001b[43m,\u001b[49m\u001b[43mnp\u001b[49m\u001b[38;5;241;43m.\u001b[39;49m\u001b[43marray\u001b[49m\u001b[43m(\u001b[49m\u001b[43minputs2\u001b[49m\u001b[43m)\u001b[49m\u001b[43m]\u001b[49m\u001b[43m,\u001b[49m\u001b[43mnp\u001b[49m\u001b[38;5;241;43m.\u001b[39;49m\u001b[43marray\u001b[49m\u001b[43m(\u001b[49m\u001b[43moutput\u001b[49m\u001b[43m,\u001b[49m\u001b[43mdtype\u001b[49m\u001b[43m \u001b[49m\u001b[38;5;241;43m=\u001b[39;49m\u001b[43m \u001b[49m\u001b[38;5;28;43mint\u001b[39;49m\u001b[43m)\u001b[49m\u001b[43m,\u001b[49m\u001b[43mepochs\u001b[49m\u001b[38;5;241;43m=\u001b[39;49m\u001b[38;5;241;43m1\u001b[39;49m\u001b[43m,\u001b[49m\u001b[43mbatch_size\u001b[49m\u001b[38;5;241;43m=\u001b[39;49m\u001b[38;5;241;43m256\u001b[39;49m\u001b[43m,\u001b[49m\u001b[43mcallbacks\u001b[49m\u001b[43m \u001b[49m\u001b[38;5;241;43m=\u001b[39;49m\u001b[43m \u001b[49m\u001b[43m[\u001b[49m\u001b[43mearly_stopping_cb\u001b[49m\u001b[43m]\u001b[49m\u001b[43m)\u001b[49m\n\u001b[1;32m     61\u001b[0m \u001b[38;5;28mprint\u001b[39m(model\u001b[38;5;241m.\u001b[39moptimizer\u001b[38;5;241m.\u001b[39mlr)\n\u001b[1;32m     62\u001b[0m model\u001b[38;5;241m.\u001b[39msave_weights(\u001b[38;5;124m'\u001b[39m\u001b[38;5;124m./BERT/SMILE/Random_ZINC_L_model_weights.h5\u001b[39m\u001b[38;5;124m'\u001b[39m)\n",
      "File \u001b[0;32m~/.local/lib/python3.10/site-packages/keras/utils/traceback_utils.py:65\u001b[0m, in \u001b[0;36mfilter_traceback.<locals>.error_handler\u001b[0;34m(*args, **kwargs)\u001b[0m\n\u001b[1;32m     63\u001b[0m filtered_tb \u001b[38;5;241m=\u001b[39m \u001b[38;5;28;01mNone\u001b[39;00m\n\u001b[1;32m     64\u001b[0m \u001b[38;5;28;01mtry\u001b[39;00m:\n\u001b[0;32m---> 65\u001b[0m     \u001b[38;5;28;01mreturn\u001b[39;00m \u001b[43mfn\u001b[49m\u001b[43m(\u001b[49m\u001b[38;5;241;43m*\u001b[39;49m\u001b[43margs\u001b[49m\u001b[43m,\u001b[49m\u001b[43m \u001b[49m\u001b[38;5;241;43m*\u001b[39;49m\u001b[38;5;241;43m*\u001b[39;49m\u001b[43mkwargs\u001b[49m\u001b[43m)\u001b[49m\n\u001b[1;32m     66\u001b[0m \u001b[38;5;28;01mexcept\u001b[39;00m \u001b[38;5;167;01mException\u001b[39;00m \u001b[38;5;28;01mas\u001b[39;00m e:\n\u001b[1;32m     67\u001b[0m     filtered_tb \u001b[38;5;241m=\u001b[39m _process_traceback_frames(e\u001b[38;5;241m.\u001b[39m__traceback__)\n",
      "File \u001b[0;32m~/.local/lib/python3.10/site-packages/keras/engine/training.py:1650\u001b[0m, in \u001b[0;36mModel.fit\u001b[0;34m(self, x, y, batch_size, epochs, verbose, callbacks, validation_split, validation_data, shuffle, class_weight, sample_weight, initial_epoch, steps_per_epoch, validation_steps, validation_batch_size, validation_freq, max_queue_size, workers, use_multiprocessing)\u001b[0m\n\u001b[1;32m   1642\u001b[0m \u001b[38;5;28;01mwith\u001b[39;00m tf\u001b[38;5;241m.\u001b[39mprofiler\u001b[38;5;241m.\u001b[39mexperimental\u001b[38;5;241m.\u001b[39mTrace(\n\u001b[1;32m   1643\u001b[0m     \u001b[38;5;124m\"\u001b[39m\u001b[38;5;124mtrain\u001b[39m\u001b[38;5;124m\"\u001b[39m,\n\u001b[1;32m   1644\u001b[0m     epoch_num\u001b[38;5;241m=\u001b[39mepoch,\n\u001b[0;32m   (...)\u001b[0m\n\u001b[1;32m   1647\u001b[0m     _r\u001b[38;5;241m=\u001b[39m\u001b[38;5;241m1\u001b[39m,\n\u001b[1;32m   1648\u001b[0m ):\n\u001b[1;32m   1649\u001b[0m     callbacks\u001b[38;5;241m.\u001b[39mon_train_batch_begin(step)\n\u001b[0;32m-> 1650\u001b[0m     tmp_logs \u001b[38;5;241m=\u001b[39m \u001b[38;5;28;43mself\u001b[39;49m\u001b[38;5;241;43m.\u001b[39;49m\u001b[43mtrain_function\u001b[49m\u001b[43m(\u001b[49m\u001b[43miterator\u001b[49m\u001b[43m)\u001b[49m\n\u001b[1;32m   1651\u001b[0m     \u001b[38;5;28;01mif\u001b[39;00m data_handler\u001b[38;5;241m.\u001b[39mshould_sync:\n\u001b[1;32m   1652\u001b[0m         context\u001b[38;5;241m.\u001b[39masync_wait()\n",
      "File \u001b[0;32m~/.local/lib/python3.10/site-packages/tensorflow/python/util/traceback_utils.py:150\u001b[0m, in \u001b[0;36mfilter_traceback.<locals>.error_handler\u001b[0;34m(*args, **kwargs)\u001b[0m\n\u001b[1;32m    148\u001b[0m filtered_tb \u001b[38;5;241m=\u001b[39m \u001b[38;5;28;01mNone\u001b[39;00m\n\u001b[1;32m    149\u001b[0m \u001b[38;5;28;01mtry\u001b[39;00m:\n\u001b[0;32m--> 150\u001b[0m   \u001b[38;5;28;01mreturn\u001b[39;00m \u001b[43mfn\u001b[49m\u001b[43m(\u001b[49m\u001b[38;5;241;43m*\u001b[39;49m\u001b[43margs\u001b[49m\u001b[43m,\u001b[49m\u001b[43m \u001b[49m\u001b[38;5;241;43m*\u001b[39;49m\u001b[38;5;241;43m*\u001b[39;49m\u001b[43mkwargs\u001b[49m\u001b[43m)\u001b[49m\n\u001b[1;32m    151\u001b[0m \u001b[38;5;28;01mexcept\u001b[39;00m \u001b[38;5;167;01mException\u001b[39;00m \u001b[38;5;28;01mas\u001b[39;00m e:\n\u001b[1;32m    152\u001b[0m   filtered_tb \u001b[38;5;241m=\u001b[39m _process_traceback_frames(e\u001b[38;5;241m.\u001b[39m__traceback__)\n",
      "File \u001b[0;32m~/.local/lib/python3.10/site-packages/tensorflow/python/eager/polymorphic_function/polymorphic_function.py:880\u001b[0m, in \u001b[0;36mFunction.__call__\u001b[0;34m(self, *args, **kwds)\u001b[0m\n\u001b[1;32m    877\u001b[0m compiler \u001b[38;5;241m=\u001b[39m \u001b[38;5;124m\"\u001b[39m\u001b[38;5;124mxla\u001b[39m\u001b[38;5;124m\"\u001b[39m \u001b[38;5;28;01mif\u001b[39;00m \u001b[38;5;28mself\u001b[39m\u001b[38;5;241m.\u001b[39m_jit_compile \u001b[38;5;28;01melse\u001b[39;00m \u001b[38;5;124m\"\u001b[39m\u001b[38;5;124mnonXla\u001b[39m\u001b[38;5;124m\"\u001b[39m\n\u001b[1;32m    879\u001b[0m \u001b[38;5;28;01mwith\u001b[39;00m OptionalXlaContext(\u001b[38;5;28mself\u001b[39m\u001b[38;5;241m.\u001b[39m_jit_compile):\n\u001b[0;32m--> 880\u001b[0m   result \u001b[38;5;241m=\u001b[39m \u001b[38;5;28;43mself\u001b[39;49m\u001b[38;5;241;43m.\u001b[39;49m\u001b[43m_call\u001b[49m\u001b[43m(\u001b[49m\u001b[38;5;241;43m*\u001b[39;49m\u001b[43margs\u001b[49m\u001b[43m,\u001b[49m\u001b[43m \u001b[49m\u001b[38;5;241;43m*\u001b[39;49m\u001b[38;5;241;43m*\u001b[39;49m\u001b[43mkwds\u001b[49m\u001b[43m)\u001b[49m\n\u001b[1;32m    882\u001b[0m new_tracing_count \u001b[38;5;241m=\u001b[39m \u001b[38;5;28mself\u001b[39m\u001b[38;5;241m.\u001b[39mexperimental_get_tracing_count()\n\u001b[1;32m    883\u001b[0m without_tracing \u001b[38;5;241m=\u001b[39m (tracing_count \u001b[38;5;241m==\u001b[39m new_tracing_count)\n",
      "File \u001b[0;32m~/.local/lib/python3.10/site-packages/tensorflow/python/eager/polymorphic_function/polymorphic_function.py:945\u001b[0m, in \u001b[0;36mFunction._call\u001b[0;34m(self, *args, **kwds)\u001b[0m\n\u001b[1;32m    941\u001b[0m     \u001b[38;5;28;01mpass\u001b[39;00m  \u001b[38;5;66;03m# Fall through to cond-based initialization.\u001b[39;00m\n\u001b[1;32m    942\u001b[0m   \u001b[38;5;28;01melse\u001b[39;00m:\n\u001b[1;32m    943\u001b[0m     \u001b[38;5;66;03m# Lifting succeeded, so variables are initialized and we can run the\u001b[39;00m\n\u001b[1;32m    944\u001b[0m     \u001b[38;5;66;03m# no_variable_creation function.\u001b[39;00m\n\u001b[0;32m--> 945\u001b[0m     \u001b[38;5;28;01mreturn\u001b[39;00m \u001b[38;5;28;43mself\u001b[39;49m\u001b[38;5;241;43m.\u001b[39;49m\u001b[43m_no_variable_creation_fn\u001b[49m\u001b[43m(\u001b[49m\u001b[38;5;241;43m*\u001b[39;49m\u001b[43margs\u001b[49m\u001b[43m,\u001b[49m\u001b[43m \u001b[49m\u001b[38;5;241;43m*\u001b[39;49m\u001b[38;5;241;43m*\u001b[39;49m\u001b[43mkwds\u001b[49m\u001b[43m)\u001b[49m\n\u001b[1;32m    946\u001b[0m \u001b[38;5;28;01melse\u001b[39;00m:\n\u001b[1;32m    947\u001b[0m   _, _, filtered_flat_args \u001b[38;5;241m=\u001b[39m (\n\u001b[1;32m    948\u001b[0m       \u001b[38;5;28mself\u001b[39m\u001b[38;5;241m.\u001b[39m_variable_creation_fn\u001b[38;5;241m.\u001b[39m_function_spec  \u001b[38;5;66;03m# pylint: disable=protected-access\u001b[39;00m\n\u001b[1;32m    949\u001b[0m       \u001b[38;5;241m.\u001b[39mcanonicalize_function_inputs(\n\u001b[1;32m    950\u001b[0m           args, kwds))\n",
      "File \u001b[0;32m~/.local/lib/python3.10/site-packages/tensorflow/python/eager/polymorphic_function/tracing_compiler.py:134\u001b[0m, in \u001b[0;36mTracingCompiler.__call__\u001b[0;34m(self, *args, **kwargs)\u001b[0m\n\u001b[1;32m    131\u001b[0m \u001b[38;5;28;01mwith\u001b[39;00m \u001b[38;5;28mself\u001b[39m\u001b[38;5;241m.\u001b[39m_lock:\n\u001b[1;32m    132\u001b[0m   (concrete_function,\n\u001b[1;32m    133\u001b[0m    filtered_flat_args) \u001b[38;5;241m=\u001b[39m \u001b[38;5;28mself\u001b[39m\u001b[38;5;241m.\u001b[39m_maybe_define_function(args, kwargs)\n\u001b[0;32m--> 134\u001b[0m \u001b[38;5;28;01mreturn\u001b[39;00m \u001b[43mconcrete_function\u001b[49m\u001b[38;5;241;43m.\u001b[39;49m\u001b[43m_call_flat\u001b[49m\u001b[43m(\u001b[49m\n\u001b[1;32m    135\u001b[0m \u001b[43m    \u001b[49m\u001b[43mfiltered_flat_args\u001b[49m\u001b[43m,\u001b[49m\u001b[43m \u001b[49m\u001b[43mcaptured_inputs\u001b[49m\u001b[38;5;241;43m=\u001b[39;49m\u001b[43mconcrete_function\u001b[49m\u001b[38;5;241;43m.\u001b[39;49m\u001b[43mcaptured_inputs\u001b[49m\u001b[43m)\u001b[49m\n",
      "File \u001b[0;32m~/.local/lib/python3.10/site-packages/tensorflow/python/eager/polymorphic_function/monomorphic_function.py:1745\u001b[0m, in \u001b[0;36mConcreteFunction._call_flat\u001b[0;34m(self, args, captured_inputs, cancellation_manager)\u001b[0m\n\u001b[1;32m   1741\u001b[0m possible_gradient_type \u001b[38;5;241m=\u001b[39m gradients_util\u001b[38;5;241m.\u001b[39mPossibleTapeGradientTypes(args)\n\u001b[1;32m   1742\u001b[0m \u001b[38;5;28;01mif\u001b[39;00m (possible_gradient_type \u001b[38;5;241m==\u001b[39m gradients_util\u001b[38;5;241m.\u001b[39mPOSSIBLE_GRADIENT_TYPES_NONE\n\u001b[1;32m   1743\u001b[0m     \u001b[38;5;129;01mand\u001b[39;00m executing_eagerly):\n\u001b[1;32m   1744\u001b[0m   \u001b[38;5;66;03m# No tape is watching; skip to running the function.\u001b[39;00m\n\u001b[0;32m-> 1745\u001b[0m   \u001b[38;5;28;01mreturn\u001b[39;00m \u001b[38;5;28mself\u001b[39m\u001b[38;5;241m.\u001b[39m_build_call_outputs(\u001b[38;5;28;43mself\u001b[39;49m\u001b[38;5;241;43m.\u001b[39;49m\u001b[43m_inference_function\u001b[49m\u001b[38;5;241;43m.\u001b[39;49m\u001b[43mcall\u001b[49m\u001b[43m(\u001b[49m\n\u001b[1;32m   1746\u001b[0m \u001b[43m      \u001b[49m\u001b[43mctx\u001b[49m\u001b[43m,\u001b[49m\u001b[43m \u001b[49m\u001b[43margs\u001b[49m\u001b[43m,\u001b[49m\u001b[43m \u001b[49m\u001b[43mcancellation_manager\u001b[49m\u001b[38;5;241;43m=\u001b[39;49m\u001b[43mcancellation_manager\u001b[49m\u001b[43m)\u001b[49m)\n\u001b[1;32m   1747\u001b[0m forward_backward \u001b[38;5;241m=\u001b[39m \u001b[38;5;28mself\u001b[39m\u001b[38;5;241m.\u001b[39m_select_forward_and_backward_functions(\n\u001b[1;32m   1748\u001b[0m     args,\n\u001b[1;32m   1749\u001b[0m     possible_gradient_type,\n\u001b[1;32m   1750\u001b[0m     executing_eagerly)\n\u001b[1;32m   1751\u001b[0m forward_function, args_with_tangents \u001b[38;5;241m=\u001b[39m forward_backward\u001b[38;5;241m.\u001b[39mforward()\n",
      "File \u001b[0;32m~/.local/lib/python3.10/site-packages/tensorflow/python/eager/polymorphic_function/monomorphic_function.py:378\u001b[0m, in \u001b[0;36m_EagerDefinedFunction.call\u001b[0;34m(self, ctx, args, cancellation_manager)\u001b[0m\n\u001b[1;32m    376\u001b[0m \u001b[38;5;28;01mwith\u001b[39;00m _InterpolateFunctionError(\u001b[38;5;28mself\u001b[39m):\n\u001b[1;32m    377\u001b[0m   \u001b[38;5;28;01mif\u001b[39;00m cancellation_manager \u001b[38;5;129;01mis\u001b[39;00m \u001b[38;5;28;01mNone\u001b[39;00m:\n\u001b[0;32m--> 378\u001b[0m     outputs \u001b[38;5;241m=\u001b[39m \u001b[43mexecute\u001b[49m\u001b[38;5;241;43m.\u001b[39;49m\u001b[43mexecute\u001b[49m\u001b[43m(\u001b[49m\n\u001b[1;32m    379\u001b[0m \u001b[43m        \u001b[49m\u001b[38;5;28;43mstr\u001b[39;49m\u001b[43m(\u001b[49m\u001b[38;5;28;43mself\u001b[39;49m\u001b[38;5;241;43m.\u001b[39;49m\u001b[43msignature\u001b[49m\u001b[38;5;241;43m.\u001b[39;49m\u001b[43mname\u001b[49m\u001b[43m)\u001b[49m\u001b[43m,\u001b[49m\n\u001b[1;32m    380\u001b[0m \u001b[43m        \u001b[49m\u001b[43mnum_outputs\u001b[49m\u001b[38;5;241;43m=\u001b[39;49m\u001b[38;5;28;43mself\u001b[39;49m\u001b[38;5;241;43m.\u001b[39;49m\u001b[43m_num_outputs\u001b[49m\u001b[43m,\u001b[49m\n\u001b[1;32m    381\u001b[0m \u001b[43m        \u001b[49m\u001b[43minputs\u001b[49m\u001b[38;5;241;43m=\u001b[39;49m\u001b[43margs\u001b[49m\u001b[43m,\u001b[49m\n\u001b[1;32m    382\u001b[0m \u001b[43m        \u001b[49m\u001b[43mattrs\u001b[49m\u001b[38;5;241;43m=\u001b[39;49m\u001b[43mattrs\u001b[49m\u001b[43m,\u001b[49m\n\u001b[1;32m    383\u001b[0m \u001b[43m        \u001b[49m\u001b[43mctx\u001b[49m\u001b[38;5;241;43m=\u001b[39;49m\u001b[43mctx\u001b[49m\u001b[43m)\u001b[49m\n\u001b[1;32m    384\u001b[0m   \u001b[38;5;28;01melse\u001b[39;00m:\n\u001b[1;32m    385\u001b[0m     outputs \u001b[38;5;241m=\u001b[39m execute\u001b[38;5;241m.\u001b[39mexecute_with_cancellation(\n\u001b[1;32m    386\u001b[0m         \u001b[38;5;28mstr\u001b[39m(\u001b[38;5;28mself\u001b[39m\u001b[38;5;241m.\u001b[39msignature\u001b[38;5;241m.\u001b[39mname),\n\u001b[1;32m    387\u001b[0m         num_outputs\u001b[38;5;241m=\u001b[39m\u001b[38;5;28mself\u001b[39m\u001b[38;5;241m.\u001b[39m_num_outputs,\n\u001b[0;32m   (...)\u001b[0m\n\u001b[1;32m    390\u001b[0m         ctx\u001b[38;5;241m=\u001b[39mctx,\n\u001b[1;32m    391\u001b[0m         cancellation_manager\u001b[38;5;241m=\u001b[39mcancellation_manager)\n",
      "File \u001b[0;32m~/.local/lib/python3.10/site-packages/tensorflow/python/eager/execute.py:52\u001b[0m, in \u001b[0;36mquick_execute\u001b[0;34m(op_name, num_outputs, inputs, attrs, ctx, name)\u001b[0m\n\u001b[1;32m     50\u001b[0m \u001b[38;5;28;01mtry\u001b[39;00m:\n\u001b[1;32m     51\u001b[0m   ctx\u001b[38;5;241m.\u001b[39mensure_initialized()\n\u001b[0;32m---> 52\u001b[0m   tensors \u001b[38;5;241m=\u001b[39m \u001b[43mpywrap_tfe\u001b[49m\u001b[38;5;241;43m.\u001b[39;49m\u001b[43mTFE_Py_Execute\u001b[49m\u001b[43m(\u001b[49m\u001b[43mctx\u001b[49m\u001b[38;5;241;43m.\u001b[39;49m\u001b[43m_handle\u001b[49m\u001b[43m,\u001b[49m\u001b[43m \u001b[49m\u001b[43mdevice_name\u001b[49m\u001b[43m,\u001b[49m\u001b[43m \u001b[49m\u001b[43mop_name\u001b[49m\u001b[43m,\u001b[49m\n\u001b[1;32m     53\u001b[0m \u001b[43m                                      \u001b[49m\u001b[43minputs\u001b[49m\u001b[43m,\u001b[49m\u001b[43m \u001b[49m\u001b[43mattrs\u001b[49m\u001b[43m,\u001b[49m\u001b[43m \u001b[49m\u001b[43mnum_outputs\u001b[49m\u001b[43m)\u001b[49m\n\u001b[1;32m     54\u001b[0m \u001b[38;5;28;01mexcept\u001b[39;00m core\u001b[38;5;241m.\u001b[39m_NotOkStatusException \u001b[38;5;28;01mas\u001b[39;00m e:\n\u001b[1;32m     55\u001b[0m   \u001b[38;5;28;01mif\u001b[39;00m name \u001b[38;5;129;01mis\u001b[39;00m \u001b[38;5;129;01mnot\u001b[39;00m \u001b[38;5;28;01mNone\u001b[39;00m:\n",
      "\u001b[0;31mKeyboardInterrupt\u001b[0m: "
     ]
    }
   ],
   "source": [
    "import random\n",
    "size = 300000\n",
    "for k in range(11):\n",
    "        for i in range(0,int(len(embedding_word)/size)):\n",
    "                if k == 1:\n",
    "                        i = i\n",
    "                if i == int(len(embedding_word)/size):\n",
    "                        break\n",
    "                if i <80:\n",
    "                        lr = (1e-4-1e-6)*(i)/80 + 1e-6\n",
    "                else:\n",
    "                        lr = 1e-4*np.sqrt(80)/np.sqrt(i)\n",
    "                optimizer = tf.keras.optimizers.Adam(learning_rate=1e-4)\n",
    "                model.compile(optimizer= optimizer, loss = custom_loss, metrics= Mask_acc)\n",
    "                max = 16\n",
    "                mask_input = []\n",
    "                for j in tqdm(train_set[size*i:size*(i+1)]):\n",
    "                        value = []\n",
    "                        number = int(len(j)*0.15)\n",
    "                        if number>max:\n",
    "                                number = max\n",
    "                        if number == 0:\n",
    "                                number = 1\n",
    "                        value += random.sample(range(1,len(j)),number)\n",
    "                        mask_input.append(value)\n",
    "                        \n",
    "                        \n",
    "                for j in mask_input:\n",
    "                        while(len(j)<max):\n",
    "                                j.append(-1)\n",
    "                \n",
    "                \n",
    "                \n",
    "                \n",
    "                \n",
    "                \n",
    "                inputs1 = embedding_word[size*i:size*(i+1)]\n",
    "                inputs2 = mask_input\n",
    "                output = tf.multiply(tf.reduce_sum(tf.one_hot(inputs2,200),axis=1),inputs1)\n",
    "\n",
    "                \n",
    "                random_value = inputs1.copy()        \n",
    "                for _,index in enumerate(inputs2):\n",
    "                        for j in index:\n",
    "                                if j != -1:\n",
    "                                        prob = np.random.rand(1)[0]\n",
    "                                        if prob < 0.8:\n",
    "                                                random_value[_][j] = 0\n",
    "                                        elif prob > 0.9:\n",
    "                                                temp1 = random.sample(range(0,301),1)[0]\n",
    "                                                random_value[_][j] = temp1\n",
    "                                                \n",
    "                \n",
    "                \n",
    "                print(f'This is {i} number step')\n",
    "                with tf.device('/device:GPU:0'):\n",
    "                        if i % 20 == 0:\n",
    "                                model.fit([np.array(random_value),np.array(inputs2)],np.array(output,dtype = int),epochs=1,batch_size=256,callbacks = [early_stopping_cb],validation_data=([np.array(random_value_val),np.array(mask_input_val)],np.array(output_val)))\n",
    "                        else:\n",
    "                                model.fit([np.array(random_value),np.array(inputs2)],np.array(output,dtype = int),epochs=1,batch_size=256,callbacks = [early_stopping_cb])\n",
    "                        print(model.optimizer.lr)\n",
    "                        model.save_weights('./BERT/SMILE/Random_ZINC_L_model_weights.h5')"
   ]
  },
  {
   "cell_type": "code",
   "execution_count": null,
   "metadata": {},
   "outputs": [],
   "source": []
  },
  {
   "cell_type": "code",
   "execution_count": null,
   "metadata": {},
   "outputs": [],
   "source": []
  }
 ],
 "metadata": {
  "kernelspec": {
   "display_name": "Python 3",
   "language": "python",
   "name": "python3"
  },
  "language_info": {
   "codemirror_mode": {
    "name": "ipython",
    "version": 3
   },
   "file_extension": ".py",
   "mimetype": "text/x-python",
   "name": "python",
   "nbconvert_exporter": "python",
   "pygments_lexer": "ipython3",
   "version": "3.10.12"
  }
 },
 "nbformat": 4,
 "nbformat_minor": 2
}
