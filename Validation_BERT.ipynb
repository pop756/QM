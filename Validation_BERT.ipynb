{
 "cells": [
  {
   "cell_type": "code",
   "execution_count": 1,
   "metadata": {},
   "outputs": [
    {
     "name": "stderr",
     "output_type": "stream",
     "text": [
      "2023-12-15 10:52:44.842883: I tensorflow/core/platform/cpu_feature_guard.cc:193] This TensorFlow binary is optimized with oneAPI Deep Neural Network Library (oneDNN) to use the following CPU instructions in performance-critical operations:  AVX2 AVX512F AVX512_VNNI FMA\n",
      "To enable them in other operations, rebuild TensorFlow with the appropriate compiler flags.\n",
      "2023-12-15 10:52:45.029205: I tensorflow/core/util/port.cc:104] oneDNN custom operations are on. You may see slightly different numerical results due to floating-point round-off errors from different computation orders. To turn them off, set the environment variable `TF_ENABLE_ONEDNN_OPTS=0`.\n",
      "2023-12-15 10:52:45.889199: W tensorflow/compiler/xla/stream_executor/platform/default/dso_loader.cc:64] Could not load dynamic library 'libnvinfer.so.7'; dlerror: libnvinfer.so.7: cannot open shared object file: No such file or directory; LD_LIBRARY_PATH: :/usr/local/cuda-11.8/lib64:/usr/local/cuda-11.3/lib64\n",
      "2023-12-15 10:52:45.889301: W tensorflow/compiler/xla/stream_executor/platform/default/dso_loader.cc:64] Could not load dynamic library 'libnvinfer_plugin.so.7'; dlerror: libnvinfer_plugin.so.7: cannot open shared object file: No such file or directory; LD_LIBRARY_PATH: :/usr/local/cuda-11.8/lib64:/usr/local/cuda-11.3/lib64\n",
      "2023-12-15 10:52:45.889308: W tensorflow/compiler/tf2tensorrt/utils/py_utils.cc:38] TF-TRT Warning: Cannot dlopen some TensorRT libraries. If you would like to use Nvidia GPU with TensorRT, please make sure the missing libraries mentioned above are installed properly.\n"
     ]
    }
   ],
   "source": [
    "import os\n",
    "import tensorflow as tf \n",
    "from tensorflow.python.client import device_lib\n",
    "os.environ[\"CUDA_VISIBLE_DEVICES\"] = \"0\""
   ]
  },
  {
   "cell_type": "code",
   "execution_count": 2,
   "metadata": {},
   "outputs": [
    {
     "name": "stderr",
     "output_type": "stream",
     "text": [
      "2023-12-15 10:52:46.889098: I tensorflow/core/platform/cpu_feature_guard.cc:193] This TensorFlow binary is optimized with oneAPI Deep Neural Network Library (oneDNN) to use the following CPU instructions in performance-critical operations:  AVX2 AVX512F AVX512_VNNI FMA\n",
      "To enable them in other operations, rebuild TensorFlow with the appropriate compiler flags.\n",
      "2023-12-15 10:52:47.809909: I tensorflow/core/common_runtime/gpu/gpu_device.cc:1613] Created device /job:localhost/replica:0/task:0/device:GPU:0 with 77951 MB memory:  -> device: 0, name: NVIDIA A100 80GB PCIe, pci bus id: 0000:ca:00.0, compute capability: 8.0\n",
      "2023-12-15 10:52:47.828960: I tensorflow/core/common_runtime/gpu/gpu_device.cc:1613] Created device /job:localhost/replica:0/task:0/device:GPU:0 with 77951 MB memory:  -> device: 0, name: NVIDIA A100 80GB PCIe, pci bus id: 0000:ca:00.0, compute capability: 8.0\n"
     ]
    }
   ],
   "source": [
    "config = tf.compat.v1.ConfigProto()\n",
    "config.gpu_options.allow_growth = False\n",
    "with tf.compat.v1.Session(config=config) as sess:\n",
    "\n",
    "    # 메모리 40% 할당\n",
    "    config = tf.compat.v1.ConfigProto()\n",
    "    config.gpu_options.per_process_gpu_memory_fraction = 0.001\n",
    "    sess = tf.compat.v1.Session(config=config)"
   ]
  },
  {
   "cell_type": "code",
   "execution_count": 3,
   "metadata": {},
   "outputs": [
    {
     "name": "stderr",
     "output_type": "stream",
     "text": [
      "2023-12-15 10:52:48.139806: I tensorflow/core/common_runtime/gpu/gpu_device.cc:1613] Created device /job:localhost/replica:0/task:0/device:GPU:0 with 77951 MB memory:  -> device: 0, name: NVIDIA A100 80GB PCIe, pci bus id: 0000:ca:00.0, compute capability: 8.0\n"
     ]
    }
   ],
   "source": [
    "from tensorflow.keras.layers import Input\n",
    "from tensorflow.keras.models import Model\n",
    "import numpy as np\n",
    "import matplotlib.pyplot as plt\n",
    "import pickle\n",
    "from tensorflow.keras.metrics import AUC\n",
    "from tensorflow.keras.metrics import Accuracy\n",
    "\n",
    "class CustomSchedule(tf.keras.optimizers.schedules.LearningRateSchedule):\n",
    "  def __init__(self, d_model, warmup_steps=2000):\n",
    "    super(CustomSchedule, self).__init__()\n",
    "\n",
    "    self.d_model = d_model\n",
    "    self.d_model = tf.cast(self.d_model, tf.float32)\n",
    "\n",
    "    self.warmup_steps = warmup_steps\n",
    "\n",
    "  def __call__(self, step):\n",
    "    step = float(step+10)\n",
    "    arg1 = tf.math.rsqrt(step)\n",
    "    arg2 = step * (self.warmup_steps ** -1.5)\n",
    "\n",
    "    return 1000 * tf.math.minimum(arg1, arg2)\n",
    "\n",
    "temp_learning_rate_schedule = CustomSchedule(256,1000000)\n",
    "callback = tf.keras.callbacks.LearningRateScheduler(temp_learning_rate_schedule, verbose=0)"
   ]
  },
  {
   "cell_type": "code",
   "execution_count": 4,
   "metadata": {},
   "outputs": [
    {
     "data": {
      "text/plain": [
       "<tf.Tensor: shape=(100, 200), dtype=float32, numpy=\n",
       "array([[0., 0., 1., ..., 0., 0., 0.],\n",
       "       [0., 0., 1., ..., 0., 0., 0.],\n",
       "       [0., 0., 1., ..., 0., 0., 0.],\n",
       "       ...,\n",
       "       [0., 0., 1., ..., 0., 0., 0.],\n",
       "       [0., 0., 1., ..., 0., 0., 0.],\n",
       "       [0., 0., 1., ..., 0., 0., 0.]], dtype=float32)>"
      ]
     },
     "execution_count": 4,
     "metadata": {},
     "output_type": "execute_result"
    }
   ],
   "source": [
    "import numpy as np\n",
    "tf.multiply(tf.reduce_sum(tf.one_hot([[1,2]]*100,200),axis=1),[[1,0]*100]*100)"
   ]
  },
  {
   "cell_type": "code",
   "execution_count": 5,
   "metadata": {},
   "outputs": [
    {
     "data": {
      "text/plain": [
       "<tf.Tensor: shape=(), dtype=float32, numpy=2.5000001e-05>"
      ]
     },
     "execution_count": 5,
     "metadata": {},
     "output_type": "execute_result"
    }
   ],
   "source": [
    "temp_learning_rate_schedule(15)"
   ]
  },
  {
   "cell_type": "code",
   "execution_count": 6,
   "metadata": {},
   "outputs": [],
   "source": [
    "class TokenAndPositionEmbedding(tf.keras.layers.Layer):\n",
    "    def __init__(self, maxlen, vocab_size, embed_dim):\n",
    "        super().__init__()\n",
    "        self.token_emb = tf.keras.layers.Embedding(input_dim=vocab_size, output_dim=embed_dim,mask_zero=True)\n",
    "        self.pos_emb = tf.keras.layers.Embedding(input_dim=maxlen, output_dim=embed_dim,mask_zero = True)\n",
    "\n",
    "    def call(self, x):\n",
    "        positions = np.array([0]+[0]+[i+2 for i in range(198)])\n",
    "        positions = self.pos_emb(positions)\n",
    "        x = self.token_emb(x)\n",
    "        return x + positions    \n",
    "    \n",
    "    \n",
    "class TransformerBlock(tf.keras.layers.Layer):\n",
    "    def __init__(self, embed_dim, num_heads, ff_dim, rate=0.1):\n",
    "        super().__init__()\n",
    "        l2_reg = tf.keras.regularizers.l2(0.01)\n",
    "        \n",
    "        self.att = tf.keras.layers.MultiHeadAttention(num_heads=num_heads, key_dim=embed_dim,kernel_regularizer=l2_reg)\n",
    "        self.ffn = tf.keras.Sequential(\n",
    "            [tf.keras.layers.Dense(ff_dim, activation=\"relu\"), tf.keras.layers.Dense(embed_dim),]\n",
    "        )\n",
    "        self.layernorm1 = tf.keras.layers.LayerNormalization(epsilon=1e-6)\n",
    "        self.layernorm2 = tf.keras.layers.LayerNormalization(epsilon=1e-6)\n",
    "        self.dropout1 = tf.keras.layers.Dropout(rate)\n",
    "        self.dropout2 = tf.keras.layers.Dropout(rate)\n",
    "\n",
    "    def call(self, inputs):\n",
    "        attn_output = self.att(inputs, inputs,attention_mask=tf.cast(np.array([[1]+[0]+[1]*198] + [[0]+[1]*199] + [[0]*2+[1]*198]*198),bool))\n",
    "        attn_output = self.dropout1(attn_output)\n",
    "        out1 = self.layernorm1(inputs + attn_output)\n",
    "        ffn_output = self.ffn(out1)\n",
    "        ffn_output = self.dropout2(ffn_output)\n",
    "        return self.layernorm2(out1 + ffn_output)\n",
    "    \n",
    "    \n",
    "    \n",
    "class BERT(tf.keras.layers.Layer):\n",
    "    def __init__(self,emb_dim,num_heads,ff_dim):\n",
    "        super(BERT, self).__init__()\n",
    "        self.encoder = tf.keras.Sequential([TransformerBlock(emb_dim,num_heads,ff_dim) for i in range(8)])\n",
    "        \n",
    "        self.embedding = TokenAndPositionEmbedding(200,3500,256)\n",
    "        self.dense = tf.keras.layers.Dense(250,activation = 'gelu')\n",
    "        self.classify = tf.keras.layers.Dense(732,activation = 'softmax')\n",
    "    def call(self, inputs, mask_index,pretrain = False):\n",
    "        if pretrain:\n",
    "            mask_index = tf.one_hot(mask_index,200)\n",
    "            boolean_mask = tf.cast(tf.reduce_sum(mask_index,axis=1),bool)\n",
    "            inputs = tf.cast(inputs,dtype=tf.int32)\n",
    "        \n",
    "        inputs = tf.reshape(inputs,[-1,200])\n",
    "        hidden = self.embedding(inputs)\n",
    "        \n",
    "        \n",
    "        hidden = self.encoder(hidden)\n",
    "    \n",
    "        if pretrain:\n",
    "            output = tf.reshape(hidden,[-1,200,256])\n",
    "            output = self.dense(output)\n",
    "            output = layers.Dropout(0.1)(output)\n",
    "            output = self.classify(output)\n",
    "            output = tf.boolean_mask(output,boolean_mask)\n",
    "            return output\n",
    "        else:\n",
    "            return hidden"
   ]
  },
  {
   "cell_type": "code",
   "execution_count": 7,
   "metadata": {},
   "outputs": [],
   "source": [
    "from tensorflow.keras import layers\n",
    "class BERT_all(tf.keras.layers.Layer):\n",
    "    def __init__(self,emb_dim,num_heads,ff_dim,vocab_num=1300):\n",
    "        super(BERT_all, self).__init__()\n",
    "        self.transform_block = TransformerBlock(emb_dim,num_heads,ff_dim)\n",
    "        self.embedding = TokenAndPositionEmbedding(200,vocab_num,256)\n",
    "        self.dense = tf.keras.layers.Dense(250,activation = 'gelu')\n",
    "        self.classify = tf.keras.layers.Dense(1300,activation = 'softmax')\n",
    "        \n",
    "    def call(self, inputs, mask_index,pretrain = False):\n",
    "        if pretrain:\n",
    "            mask_index = tf.one_hot(mask_index,200)\n",
    "            boolean_mask = tf.cast(tf.reduce_sum(mask_index,axis=1),bool)\n",
    "            inputs = tf.cast(inputs,dtype=tf.int32)\n",
    "        hidden = self.embedding(inputs)\n",
    "        for i in range(8):\n",
    "            hidden = self.transform_block(hidden)\n",
    "        if pretrain:\n",
    "            output = tf.reshape(hidden,[-1,200,256])\n",
    "            output = tf.boolean_mask(output,boolean_mask)\n",
    "            output = self.dense(output)\n",
    "            output = tf.keras.layers.Dropout(0.1)(output)\n",
    "            output = self.classify(output)\n",
    "            return output\n",
    "        else:\n",
    "            return hidden"
   ]
  },
  {
   "cell_type": "code",
   "execution_count": 8,
   "metadata": {},
   "outputs": [],
   "source": [
    "\n",
    "class BERT_norm(tf.keras.layers.Layer):\n",
    "    def __init__(self,emb_dim,num_heads,ff_dim):\n",
    "        super(BERT_norm, self).__init__()\n",
    "        self.transform_block_trainable = TransformerBlock(emb_dim,num_heads,ff_dim)\n",
    "        self.transform_block = TransformerBlock(emb_dim,num_heads,ff_dim)\n",
    "        self.transform_block.trainable = False\n",
    "        self.embedding = TokenAndPositionEmbedding(200,3500,256)\n",
    "        self.dense = layers.Dense(250,activation = 'gelu')\n",
    "        self.classify = layers.Dense(661,activation = 'softmax')\n",
    "        self.layernorm1 = tf.keras.layers.LayerNormalization(epsilon=1e-6)\n",
    "    def call(self, inputs, mask_index,pretrain = False):\n",
    "        if pretrain:\n",
    "            mask_index = tf.one_hot(mask_index,200)\n",
    "            boolean_mask = tf.cast(tf.reduce_sum(mask_index,axis=1),bool)\n",
    "            inputs = tf.cast(inputs,dtype=tf.int32)\n",
    "        hidden = self.embedding(inputs)\n",
    "\n",
    "        for i in range(8):\n",
    "            hidden = self.transform_block(hidden)\n",
    "        if pretrain:\n",
    "            output = tf.reshape(hidden,[-1,200,256])\n",
    "            output = tf.boolean_mask(output,boolean_mask)\n",
    "            output = self.dense(output)\n",
    "            output = layers.Dropout(0.1)(output)\n",
    "            output = self.classify(output)\n",
    "            return output\n",
    "        else:\n",
    "            return hidden"
   ]
  },
  {
   "cell_type": "code",
   "execution_count": 9,
   "metadata": {},
   "outputs": [],
   "source": [
    "from rdkit import Chem\n",
    "from tqdm import tqdm\n",
    "def Chem_generator(smiles,tox_info):\n",
    "    res_list = []\n",
    "    res_tox_info = []\n",
    "    for index1,i in tqdm(enumerate(smiles)):\n",
    "        mol = Chem.MolFromSmiles(i)\n",
    "        temp = []\n",
    "        index = 0\n",
    "        while(len(set(temp))!=20 and index != 100):\n",
    "            index+=1\n",
    "            temp.append(Chem.MolToSmiles(mol,doRandom=True))\n",
    "        res_list+=list(set(temp))\n",
    "        res_tox_info+=[tox_info[index1]]*len(list(set(temp)))\n",
    "    return res_list,res_tox_info"
   ]
  },
  {
   "cell_type": "code",
   "execution_count": 10,
   "metadata": {},
   "outputs": [],
   "source": [
    "def Chem_generator_val(smiles):\n",
    "    res_list = []\n",
    "    len_list = []\n",
    "    for i in tqdm(smiles):\n",
    "        mol = Chem.MolFromSmiles(i)\n",
    "        temp = []\n",
    "        index = 0\n",
    "        while(len(set(temp))!=20 and index != 100):\n",
    "            index+=1\n",
    "            temp.append(Chem.MolToSmiles(mol,doRandom=True))\n",
    "        res_list+=list(set(temp))\n",
    "        len_list.append(len(list(set(temp))))\n",
    "    return res_list,len_list"
   ]
  },
  {
   "cell_type": "code",
   "execution_count": 11,
   "metadata": {},
   "outputs": [],
   "source": [
    "def predict(model,results,len_list):\n",
    "    index = 0\n",
    "    res = model.predict(results,verbose=0)\n",
    "    result_list = []\n",
    "    for i in len_list:\n",
    "        temp = res[index:index+i]\n",
    "        result_list.append(np.average(temp,axis=0))\n",
    "        index = index+i\n",
    "    return np.array(result_list)"
   ]
  },
  {
   "cell_type": "code",
   "execution_count": 12,
   "metadata": {},
   "outputs": [
    {
     "name": "stdout",
     "output_type": "stream",
     "text": [
      "Model: \"model\"\n",
      "__________________________________________________________________________________________________\n",
      " Layer (type)                   Output Shape         Param #     Connected to                     \n",
      "==================================================================================================\n",
      " input_1 (InputLayer)           [(None, 200)]        0           []                               \n",
      "                                                                                                  \n",
      " input_2 (InputLayer)           [(None, 16)]         0           []                               \n",
      "                                                                                                  \n",
      " bert (BERT)                    (None, 732)          18029742    ['input_1[0][0]',                \n",
      "                                                                  'input_2[0][0]']                \n",
      "                                                                                                  \n",
      "==================================================================================================\n",
      "Total params: 18,029,742\n",
      "Trainable params: 18,029,742\n",
      "Non-trainable params: 0\n",
      "__________________________________________________________________________________________________\n"
     ]
    }
   ],
   "source": [
    "inputs = Input(shape = (200,),dtype=tf.int32)\n",
    "mask = Input(shape = (16), dtype=tf.int32)\n",
    "outputs = BERT(256,6,1024)(inputs,mask,pretrain=True)\n",
    "\n",
    "model = Model(inputs = [inputs,mask], outputs = [outputs])\n",
    "model.summary()\n",
    "\n",
    "model.load_weights('./BERT/atomInSmile/F_Random_ZINC_L_model_weights.h5')"
   ]
  },
  {
   "cell_type": "code",
   "execution_count": 13,
   "metadata": {},
   "outputs": [],
   "source": [
    "BERT_parameters = model.get_weights()[:130]"
   ]
  },
  {
   "cell_type": "code",
   "execution_count": 14,
   "metadata": {},
   "outputs": [
    {
     "name": "stdout",
     "output_type": "stream",
     "text": [
      "Model: \"model_1\"\n",
      "_________________________________________________________________\n",
      " Layer (type)                Output Shape              Param #   \n",
      "=================================================================\n",
      " input_3 (InputLayer)        [(None, 200)]             0         \n",
      "                                                                 \n",
      " bert_1 (BERT)               (None, 200, 256)          17781760  \n",
      "                                                                 \n",
      " tf.__operators__.getitem (S  (None, 256)              0         \n",
      " licingOpLambda)                                                 \n",
      "                                                                 \n",
      " dense_36 (Dense)            (None, 256)               65792     \n",
      "                                                                 \n",
      " dense_37 (Dense)            (None, 1)                 257       \n",
      "                                                                 \n",
      "=================================================================\n",
      "Total params: 17,847,809\n",
      "Trainable params: 17,847,809\n",
      "Non-trainable params: 0\n",
      "_________________________________________________________________\n"
     ]
    }
   ],
   "source": [
    "\n",
    "auc = AUC(name='auc')\n",
    "acc = Accuracy(name = 'acc')\n",
    "inputs = Input(shape = (200,),dtype=tf.int32)\n",
    "bert_layer = BERT(256,6,1024)\n",
    "\n",
    "hidden = bert_layer(inputs,None)\n",
    "\n",
    "hidden1 = hidden[:,0]\n",
    "output = tf.keras.layers.Dense(256,activation = 'gelu')(hidden1)\n",
    "output = tf.keras.layers.Dense(1,activation = 'sigmoid')(output)\n",
    "\n",
    "BERT_Classifier = Model(inputs = [inputs], outputs=[output])\n",
    "\n",
    "\n",
    "BERT_Classifier.layers[1].set_weights(BERT_parameters)\n",
    "BERT_Classifier.compile(optimizer='Adam',loss = 'binary_crossentropy',metrics=['acc',auc])\n",
    "BERT_Classifier.summary()"
   ]
  },
  {
   "cell_type": "code",
   "execution_count": 15,
   "metadata": {},
   "outputs": [
    {
     "name": "stdout",
     "output_type": "stream",
     "text": [
      "Model: \"model_2\"\n",
      "_________________________________________________________________\n",
      " Layer (type)                Output Shape              Param #   \n",
      "=================================================================\n",
      " input_4 (InputLayer)        [(None, 200)]             0         \n",
      "                                                                 \n",
      " bert_1 (BERT)               (None, 200, 256)          17781760  \n",
      "                                                                 \n",
      " tf.__operators__.getitem_1   (None, 256)              0         \n",
      " (SlicingOpLambda)                                               \n",
      "                                                                 \n",
      " dense_38 (Dense)            (None, 256)               65792     \n",
      "                                                                 \n",
      " dense_39 (Dense)            (None, 1)                 257       \n",
      "                                                                 \n",
      "=================================================================\n",
      "Total params: 17,847,809\n",
      "Trainable params: 17,847,809\n",
      "Non-trainable params: 0\n",
      "_________________________________________________________________\n"
     ]
    }
   ],
   "source": [
    "inputs = Input(shape = (200,),dtype=tf.int32)\n",
    "hidden = bert_layer(inputs,None)\n",
    "hidden1 = hidden[:,1]\n",
    "output = tf.keras.layers.Dense(256,activation = 'gelu')(hidden1)\n",
    "output = tf.keras.layers.Dense(1)(output)\n",
    "BERT_Regression = Model(inputs = [inputs], outputs=[output])\n",
    "BERT_Regression.compile(optimizer='Adam',loss = 'mse')\n",
    "BERT_Regression.summary()"
   ]
  },
  {
   "cell_type": "code",
   "execution_count": 16,
   "metadata": {},
   "outputs": [],
   "source": [
    "with open('./BERT/atomInSmile/1M_random_ZINC_word2index.pkl','rb') as file:\n",
    "    word2idx = pickle.load(file)\n",
    "from difflib import SequenceMatcher\n",
    "def similar(a, b):    return SequenceMatcher(None, a, b).ratio()\n",
    "def most_similar(query):\n",
    "\n",
    "    max = 0\n",
    "    tokken = ''\n",
    "    query = query.split(';')\n",
    "    for i in word2idx.keys():\n",
    "        key = i.split(';')\n",
    "        temp2 = 0\n",
    "        temp3 = 0\n",
    "        temp1 = similar(query[0],key[0])*10\n",
    "        try:\n",
    "            temp2 = similar(query[1],key[1])*2\n",
    "            temp3 = similar(query[2],key[2])*1\n",
    "        except:\n",
    "            pass\n",
    "        temp = temp1+temp2+temp3\n",
    "        if temp>max:\n",
    "            max = temp\n",
    "            tokken = i\n",
    "    return tokken"
   ]
  },
  {
   "cell_type": "code",
   "execution_count": 17,
   "metadata": {},
   "outputs": [],
   "source": [
    "import tensorflow as tf\n",
    "from sklearn.metrics import roc_auc_score\n",
    "from sklearn.metrics import accuracy_score\n",
    "class CustomCallback(tf.keras.callbacks.Callback):\n",
    "    def __init__(self, result_list,y_true,len_20):\n",
    "        super().__init__()\n",
    "        self.result_list = result_list\n",
    "        index = 0\n",
    "        res = []\n",
    "        for i in len_20:\n",
    "            res.append(np.average(y_true[index:index+i]))\n",
    "            index = index+i\n",
    "        self.len20 = len_20\n",
    "        self.counts = []\n",
    "        self.max = 0\n",
    "        self.y_true = np.array(res)\n",
    "        self.history = {}\n",
    "        self.epoch = 0\n",
    "    def on_epoch_end(self, epoch, logs=None):\n",
    "        # 에포크가 끝날 때마다 validation 데이터로 모델 평가\n",
    "        result = predict(self.model,self.result_list,self.len20)\n",
    "        acc = accuracy_score(self.y_true,np.round(result))\n",
    "        auc_res = roc_auc_score(self.y_true,result)\n",
    "        loss = tf.keras.metrics.BinaryCrossentropy()(self.y_true,result)\n",
    "        auc_res = auc_res\n",
    "        print(f\"     val_acc : {acc},    val_auc : {auc_res} val_loss : {loss}\")\n",
    "        if 'val_acc' not in self.history:\n",
    "            self.history['val_acc'] = [acc]\n",
    "        else:\n",
    "            self.history['val_acc'] += [acc]\n",
    "        if 'val_auc' not in self.history:\n",
    "            self.history['val_auc'] = [auc_res]\n",
    "        else:\n",
    "            self.history['val_auc'] += [auc_res]\n",
    "        \n",
    "        if 'val_loss' not in self.history:\n",
    "            self.history['val_loss'] = [loss]\n",
    "        else:\n",
    "            self.history['val_loss'] += [loss]\n",
    "        \n",
    "        self.max = np.max(self.history['val_auc'])\n",
    "            \n",
    "        if self.history['val_auc'][-1]<self.max:\n",
    "            self.counts.append(1)\n",
    "        else:\n",
    "            self.counts = []\n",
    "\n",
    "        self.epoch += 1\n",
    "        \n",
    "        if self.epoch>5 and len(self.counts)>2:\n",
    "            self.model.stop_training = True"
   ]
  },
  {
   "cell_type": "code",
   "execution_count": 18,
   "metadata": {},
   "outputs": [],
   "source": [
    "from sklearn.model_selection import train_test_split\n",
    "\n",
    "\n",
    "tox_name = 'AMES'\n",
    "\n",
    "with open('./AIS_Tox_data/'+tox_name,'rb') as file:\n",
    "    train,label,len_20 = pickle.load(file)[0] \n",
    "with open('./BERT/atomInSmile/1M_random_ZINC_word2index.pkl','rb') as file:\n",
    "    word2idx = pickle.load(file)"
   ]
  },
  {
   "cell_type": "code",
   "execution_count": 19,
   "metadata": {},
   "outputs": [],
   "source": [
    "except_dict = {}\n",
    "\n",
    "for i in train:\n",
    "    for j in i:\n",
    "        try:\n",
    "            word2idx[j]\n",
    "        except:\n",
    "            try:\n",
    "                except_dict[j]\n",
    "            except:\n",
    "                except_dict[j] = len(except_dict) + 1"
   ]
  },
  {
   "cell_type": "code",
   "execution_count": 20,
   "metadata": {},
   "outputs": [
    {
     "data": {
      "text/plain": [
       "<BarContainer object of 110 artists>"
      ]
     },
     "execution_count": 20,
     "metadata": {},
     "output_type": "execute_result"
    },
    {
     "data": {
      "image/png": "[encoded data removed]",
      "text/plain": [
       "<Figure size 640x480 with 1 Axes>"
      ]
     },
     "metadata": {},
     "output_type": "display_data"
    }
   ],
   "source": [
    "temp_dict = {}\n",
    "\n",
    "for i in train:\n",
    "    try:\n",
    "        temp_dict[len(i)] = temp_dict[len(i)] + 1\n",
    "    except:\n",
    "        temp_dict[len(i)] = 1\n",
    "        \n",
    "plt.bar(temp_dict.keys(),temp_dict.values())"
   ]
  },
  {
   "cell_type": "code",
   "execution_count": 21,
   "metadata": {},
   "outputs": [],
   "source": [
    "Full_dict = {}\n",
    "for i in train:\n",
    "    for j in i:\n",
    "        try:\n",
    "            except_dict[j]\n",
    "            Full_dict[j] = Full_dict[j]+1\n",
    "        except:\n",
    "            Full_dict[j] = 1\n",
    "        "
   ]
  },
  {
   "cell_type": "code",
   "execution_count": 22,
   "metadata": {},
   "outputs": [
    {
     "name": "stdout",
     "output_type": "stream",
     "text": [
      "9 14\n",
      "[P;!R;COSS] 40\n",
      "[S;!R;CP] 820\n",
      "[S;!R;P] 973\n",
      "[P;!R;OOOS] 514\n",
      "[CH2;!R;ClO] 6\n",
      "[C;!R;CClO] 490\n",
      "[O;!R;CO] 752\n",
      "[CH2;!R;ClN] 56\n",
      "[N;!R;COO] 640\n",
      "[N;!R;OO] 114\n",
      "[C;!R;ClClFS] 20\n",
      "[P;!R;OOSS] 520\n",
      "[PH;R;CCNN] 60\n",
      "[n;R;CCCl] 100\n",
      "[C;!R;NS] 149\n",
      "[O;R;CO] 760\n",
      "[OH;!R;O] 314\n",
      "[P;!R;NOOS] 60\n",
      "[CH;!R;BrCCl] 152\n",
      "[CH;!R;CClO] 20\n",
      "[S;!R;CClOO] 60\n",
      "[Cl;!R;S] 70\n",
      "[[O-];!R;Cl] 20\n",
      "[N;!R;NNO] 40\n",
      "[CH;!R;ClClN] 19\n",
      "[CH2;!R;CI] 153\n",
      "[CH;!R;BrBrCl] 6\n",
      "[[cH-];R;NN] 20\n",
      "[P;!R;CFOO] 40\n",
      "[F;!R;P] 40\n",
      "[CH;!R;BrBrC] 165\n",
      "[[N+];!R;CO] 40\n",
      "[C;!R;BrClClCl] 8\n",
      "[[P+];!R;NNNO] 20\n",
      "[C;!R;ClClClN] 20\n",
      "[F;!R;S] 20\n",
      "[S;!R;FOOO] 20\n",
      "[C;!R;CCClO] 40\n",
      "[CH;!R;CClF] 80\n",
      "[[CH-];!R;CN] 56\n",
      "[P;R;OOOS] 20\n",
      "[CH;R;CClO] 44\n",
      "[P;!R;COOS] 20\n",
      "[C;!R;BrClFF] 20\n",
      "[N;!R;OS] 50\n",
      "[O;!R;NO] 20\n",
      "[P;!R;NNNS] 39\n",
      "[Cl;!R;P] 78\n",
      "[P;!R;ClOOS] 20\n",
      "[P;!R;NNNO] 39\n",
      "[N;!R;CCCl] 20\n",
      "[C;!R;ClClClF] 8\n",
      "[CH2;!R;ClS] 66\n",
      "[C;!R;ClOO] 60\n",
      "[C;!R;NP] 20\n",
      "[C;!R;ClOS] 40\n",
      "[C;!R;CClClN] 20\n",
      "[[CH2-];!R;N] 12\n",
      "[PH;R;NNNN] 60\n",
      "[C;!R;NNNN] 20\n",
      "[CH;R;CCI] 20\n",
      "[P;!R;CClOO] 20\n",
      "[S;!R;CCl] 10\n",
      "[C;!R;ClNO] 20\n",
      "[N;!R;ClClS] 20\n",
      "[C;!R;FFFI] 8\n",
      "[P;!R;ClNNO] 20\n",
      "[CH;!R;CCI] 40\n",
      "[PH;R;NNOO] 60\n",
      "[C;!R;BrBrBrN] 20\n",
      "[C;!R;CClF] 20\n",
      "[S;!R;NS] 26\n",
      "[P;!R;CCCCCl] 18\n",
      "[N;!R;NOO] 100\n",
      "[O;!R;NN] 20\n",
      "[CH;!R;BrClCl] 6\n",
      "[CH;!R;ClN] 16\n",
      "[NH;!R;P] 40\n",
      "[C;!R;ClClN] 19\n",
      "[[C-];R;NN] 20\n",
      "[[Cl+2];!R;OOO] 6\n",
      "[OH;!R;Cl] 6\n",
      "[NH;!R;BrC] 16\n"
     ]
    }
   ],
   "source": [
    "for i in except_dict.keys():\n",
    "    if Full_dict[i]>5:\n",
    "        print(i,Full_dict[i])"
   ]
  },
  {
   "cell_type": "code",
   "execution_count": 23,
   "metadata": {},
   "outputs": [],
   "source": [
    "from difflib import SequenceMatcher\n",
    "def similar(a, b):    return SequenceMatcher(None, a, b).ratio()"
   ]
  },
  {
   "cell_type": "code",
   "execution_count": 24,
   "metadata": {},
   "outputs": [],
   "source": [
    "def most_similar(query):\n",
    "\n",
    "    max = 0\n",
    "    tokken = ''\n",
    "    query = query.split(';')\n",
    "    for i in word2idx.keys():\n",
    "        key = i.split(';')\n",
    "        temp2 = 0\n",
    "        temp3 = 0\n",
    "        temp1 = similar(query[0],key[0])*10\n",
    "        try:\n",
    "            temp2 = similar(query[1],key[1])*2\n",
    "            temp3 = similar(query[2],key[2])*1\n",
    "        except:\n",
    "            pass\n",
    "        temp = temp1+temp2+temp3\n",
    "        if temp>max:\n",
    "            max = temp\n",
    "            tokken = i\n",
    "    return tokken"
   ]
  },
  {
   "cell_type": "code",
   "execution_count": 25,
   "metadata": {},
   "outputs": [],
   "source": [
    "similar_dict = {}\n",
    "\n",
    "for i in except_dict.keys():\n",
    "    similar_dict[i] = most_similar(i)"
   ]
  },
  {
   "cell_type": "code",
   "execution_count": 26,
   "metadata": {},
   "outputs": [],
   "source": [
    "### Data processing\n",
    "\n",
    "AIS_train = []\n",
    "for index,i in enumerate(train):\n",
    "    temp = []\n",
    "    temp.append(3)\n",
    "    temp.append(4)\n",
    "    temp.append(1)\n",
    "    for j in i:\n",
    "        try:\n",
    "            temp.append(word2idx[j])\n",
    "        except:\n",
    "            if j != '/[H]':\n",
    "                word_sim = similar_dict[j]\n",
    "                if word_sim != '':\n",
    "                    temp.append(word2idx[word_sim])\n",
    "            else:\n",
    "                pass\n",
    "    if len(temp)>1:\n",
    "        AIS_train.append(temp)\n",
    "\n",
    "AIS_train = tf.keras.preprocessing.sequence.pad_sequences(AIS_train, padding='post', maxlen=200)\n"
   ]
  },
  {
   "cell_type": "code",
   "execution_count": 27,
   "metadata": {},
   "outputs": [],
   "source": [
    "temp_x = []\n",
    "temp_y = []\n",
    "index = 0\n",
    "for i in len_20:\n",
    "    temp_x.append(AIS_train[index:index+i])\n",
    "    temp_y.append(label[index:index+i])\n",
    "    index = index+i\n",
    "\n",
    "\n",
    "\n",
    "x_train, x_val, y_train, y_val,_,len_20 = train_test_split(temp_x,temp_y,len_20, test_size=0.2)\n",
    "\n",
    "x_val,x_test,y_val,y_test,len_20,len_20_test = train_test_split(x_val,y_val,len_20, test_size=0.5)\n",
    "\n",
    "temp = []\n",
    "for i in x_train:\n",
    "    temp+=list(i)\n",
    "x_train = np.array(temp)\n",
    "\n",
    "temp = []\n",
    "for i in x_val:\n",
    "    temp+=list(i)\n",
    "x_val = np.array(temp)\n",
    "\n",
    "temp = []\n",
    "for i in y_train:\n",
    "    temp+=list(i)\n",
    "y_train = np.array(temp)\n",
    "\n",
    "temp = []\n",
    "for i in y_val:\n",
    "    temp+=list(i)\n",
    "y_val = np.array(temp)\n",
    "\n",
    "temp = []\n",
    "for i in x_test:\n",
    "    temp+=list(i)\n",
    "x_test = np.array(temp)\n",
    "\n",
    "temp = []\n",
    "for i in y_test:\n",
    "    temp+=list(i)\n",
    "y_test = np.array(temp)\n"
   ]
  },
  {
   "cell_type": "code",
   "execution_count": 28,
   "metadata": {},
   "outputs": [
    {
     "data": {
      "text/plain": [
       "(111917, 13969, 14017, 728, 728)"
      ]
     },
     "execution_count": 28,
     "metadata": {},
     "output_type": "execute_result"
    }
   ],
   "source": [
    "len(x_train),len(x_test),len(x_val),len(len_20),len(len_20_test)"
   ]
  },
  {
   "cell_type": "code",
   "execution_count": 29,
   "metadata": {},
   "outputs": [],
   "source": [
    "\n",
    "def R2(y,y_pred):\n",
    "    residual = tf.reduce_sum(tf.square(tf.subtract(y,y_pred)))\n",
    "    total = tf.reduce_sum(tf.square(tf.subtract(y,tf.reduce_mean(y))))\n",
    "    r2 = tf.subtract(1.0,tf.div(residual,total))\n",
    "    return r2\n"
   ]
  },
  {
   "cell_type": "code",
   "execution_count": 30,
   "metadata": {},
   "outputs": [],
   "source": [
    "from tensorflow.keras.optimizers import Adam\n",
    "BERT_Classifier.compile(loss = 'binary_crossentropy',optimizer=Adam(learning_rate=1e-5),metrics=['acc',AUC(name='auc')])\n",
    "BERT_Regression.compile(loss = 'mean_squared_error',optimizer=Adam(learning_rate=1e-5),metrics=[R2])"
   ]
  },
  {
   "cell_type": "code",
   "execution_count": 31,
   "metadata": {},
   "outputs": [],
   "source": [
    "\n",
    "val_call = CustomCallback(x_val,y_val,len_20)\n"
   ]
  },
  {
   "cell_type": "code",
   "execution_count": 37,
   "metadata": {},
   "outputs": [
    {
     "data": {
      "text/plain": [
       "<tf.Tensor: shape=(100, 1), dtype=float32, numpy=\n",
       "array([[0.85075915],\n",
       "       [0.8731875 ],\n",
       "       [0.8526602 ],\n",
       "       [0.8378214 ],\n",
       "       [0.8312189 ],\n",
       "       [0.8782137 ],\n",
       "       [0.8719721 ],\n",
       "       [0.84491277],\n",
       "       [0.8282075 ],\n",
       "       [0.84795487],\n",
       "       [0.8337766 ],\n",
       "       [0.86060476],\n",
       "       [0.8591571 ],\n",
       "       [0.8731875 ],\n",
       "       [0.8399594 ],\n",
       "       [0.8501297 ],\n",
       "       [0.8231286 ],\n",
       "       [0.8312189 ],\n",
       "       [0.86002445],\n",
       "       [0.8337766 ],\n",
       "       [0.6255892 ],\n",
       "       [0.4600533 ],\n",
       "       [0.51678336],\n",
       "       [0.64595497],\n",
       "       [0.5967802 ],\n",
       "       [0.5322724 ],\n",
       "       [0.40328145],\n",
       "       [0.7093492 ],\n",
       "       [0.7049739 ],\n",
       "       [0.6562772 ],\n",
       "       [0.56150186],\n",
       "       [0.58549786],\n",
       "       [0.4533524 ],\n",
       "       [0.4206478 ],\n",
       "       [0.5833916 ],\n",
       "       [0.69428545],\n",
       "       [0.5221246 ],\n",
       "       [0.5853148 ],\n",
       "       [0.4294922 ],\n",
       "       [0.7355009 ],\n",
       "       [0.7592584 ],\n",
       "       [0.790458  ],\n",
       "       [0.80850023],\n",
       "       [0.76249653],\n",
       "       [0.791494  ],\n",
       "       [0.8008046 ],\n",
       "       [0.8357303 ],\n",
       "       [0.8009633 ],\n",
       "       [0.8387486 ],\n",
       "       [0.7524508 ],\n",
       "       [0.7698163 ],\n",
       "       [0.86089337],\n",
       "       [0.83805585],\n",
       "       [0.824561  ],\n",
       "       [0.8084295 ],\n",
       "       [0.8454905 ],\n",
       "       [0.77356875],\n",
       "       [0.66104585],\n",
       "       [0.84004134],\n",
       "       [0.82232267],\n",
       "       [0.37962672],\n",
       "       [0.46408463],\n",
       "       [0.45189947],\n",
       "       [0.4513924 ],\n",
       "       [0.35209215],\n",
       "       [0.431346  ],\n",
       "       [0.5246008 ],\n",
       "       [0.46118325],\n",
       "       [0.37851956],\n",
       "       [0.4723145 ],\n",
       "       [0.42465666],\n",
       "       [0.37196836],\n",
       "       [0.39874214],\n",
       "       [0.47319084],\n",
       "       [0.42582747],\n",
       "       [0.47110644],\n",
       "       [0.32876965],\n",
       "       [0.39770383],\n",
       "       [0.50925857],\n",
       "       [0.40854362],\n",
       "       [0.7601523 ],\n",
       "       [0.76167387],\n",
       "       [0.7729363 ],\n",
       "       [0.764673  ],\n",
       "       [0.77075404],\n",
       "       [0.7697349 ],\n",
       "       [0.7774908 ],\n",
       "       [0.77176565],\n",
       "       [0.7723731 ],\n",
       "       [0.7779425 ],\n",
       "       [0.7642607 ],\n",
       "       [0.7773454 ],\n",
       "       [0.76505065],\n",
       "       [0.76245075],\n",
       "       [0.7737455 ],\n",
       "       [0.7781321 ],\n",
       "       [0.7654396 ],\n",
       "       [0.7661024 ],\n",
       "       [0.7772149 ],\n",
       "       [0.77009934]], dtype=float32)>"
      ]
     },
     "execution_count": 37,
     "metadata": {},
     "output_type": "execute_result"
    }
   ],
   "source": [
    "BERT_Classifier(x_train[:100])"
   ]
  },
  {
   "cell_type": "code",
   "execution_count": 56,
   "metadata": {},
   "outputs": [
    {
     "data": {
      "text/plain": [
       "(0.752101645718667, 0.75230706)"
      ]
     },
     "execution_count": 56,
     "metadata": {},
     "output_type": "execute_result"
    },
    {
     "ename": "",
     "evalue": "",
     "output_type": "error",
     "traceback": [
      "\u001b[1;31mThe Kernel crashed while executing code in the the current cell or a previous cell. Please review the code in the cell(s) to identify a possible cause of the failure. Click <a href='https://aka.ms/vscodeJupyterKernelCrash'>here</a> for more info. View Jupyter <a href='command:jupyter.viewOutput'>log</a> for further details."
     ]
    }
   ],
   "source": [
    "roc_auc_score(y_train[:400],BERT_Classifier(x_train[:400])),(AUC()(y_train[:400],BERT_Classifier(x_train[:400]))).numpy()"
   ]
  },
  {
   "cell_type": "code",
   "execution_count": 55,
   "metadata": {},
   "outputs": [
    {
     "data": {
      "text/plain": [
       "(0.5366666666666666, 0.5366667)"
      ]
     },
     "execution_count": 55,
     "metadata": {},
     "output_type": "execute_result"
    }
   ],
   "source": [
    "accuracy_score(y_train[:300],np.round(BERT_Classifier(x_train[:300]))),(Accuracy()(y_train[:300],np.round(BERT_Classifier(x_train[:300])))).numpy()"
   ]
  },
  {
   "cell_type": "code",
   "execution_count": 47,
   "metadata": {},
   "outputs": [
    {
     "data": {
      "text/plain": [
       "<tf.Tensor: shape=(), dtype=float32, numpy=0.6044643>"
      ]
     },
     "execution_count": 47,
     "metadata": {},
     "output_type": "execute_result"
    }
   ],
   "source": [
    "AUC()(y_train[:200],BERT_Classifier(x_train[:200]))"
   ]
  },
  {
   "cell_type": "code",
   "execution_count": 706,
   "metadata": {},
   "outputs": [
    {
     "name": "stdout",
     "output_type": "stream",
     "text": [
      "Epoch 1/20\n"
     ]
    },
    {
     "name": "stdout",
     "output_type": "stream",
     "text": [
      "3495/3495 [==============================] - ETA: 0s - loss: 0.6296 - acc: 0.7397 - auc: 0.8127     val_acc : 0.7815934065934066,    val_auc : 0.8507089367848861 val_loss : 0.49164676666259766\n",
      "3495/3495 [==============================] - 316s 85ms/step - loss: 0.6296 - acc: 0.7397 - auc: 0.8127\n",
      "Epoch 2/20\n",
      "3495/3495 [==============================] - ETA: 0s - loss: 0.5366 - acc: 0.8028 - auc: 0.8729     val_acc : 0.7994505494505495,    val_auc : 0.8645227505986999 val_loss : 0.46158406138420105\n",
      "3495/3495 [==============================] - 291s 83ms/step - loss: 0.5366 - acc: 0.8028 - auc: 0.8729\n",
      "Epoch 3/20\n",
      "3495/3495 [==============================] - ETA: 0s - loss: 0.4975 - acc: 0.8195 - auc: 0.8918     val_acc : 0.8145604395604396,    val_auc : 0.8713346257650054 val_loss : 0.4499658942222595\n",
      "3495/3495 [==============================] - 293s 84ms/step - loss: 0.4975 - acc: 0.8195 - auc: 0.8918\n",
      "Epoch 4/20\n",
      "3495/3495 [==============================] - ETA: 0s - loss: 0.4683 - acc: 0.8325 - auc: 0.9049     val_acc : 0.8021978021978022,    val_auc : 0.8707188200859086 val_loss : 0.4590737521648407\n",
      "3495/3495 [==============================] - 291s 83ms/step - loss: 0.4683 - acc: 0.8325 - auc: 0.9049\n",
      "Epoch 5/20\n",
      "3495/3495 [==============================] - ETA: 0s - loss: 0.4449 - acc: 0.8426 - auc: 0.9146     val_acc : 0.8076923076923077,    val_auc : 0.8814003877295017 val_loss : 0.4429994821548462\n",
      "3495/3495 [==============================] - 294s 84ms/step - loss: 0.4449 - acc: 0.8426 - auc: 0.9146\n",
      "Epoch 6/20\n",
      "3495/3495 [==============================] - ETA: 0s - loss: 0.4246 - acc: 0.8505 - auc: 0.9227     val_acc : 0.8214285714285714,    val_auc : 0.8854601436879919 val_loss : 0.43708840012550354\n",
      "3495/3495 [==============================] - 294s 84ms/step - loss: 0.4246 - acc: 0.8505 - auc: 0.9227\n",
      "Epoch 7/20\n",
      " 238/3495 [=>............................] - ETA: 4:20 - loss: 0.4029 - acc: 0.8642 - auc: 0.9315"
     ]
    },
    {
     "ename": "KeyboardInterrupt",
     "evalue": "",
     "output_type": "error",
     "traceback": [
      "\u001b[0;31m---------------------------------------------------------------------------\u001b[0m",
      "\u001b[0;31mKeyboardInterrupt\u001b[0m                         Traceback (most recent call last)",
      "Cell \u001b[0;32mIn[706], line 5\u001b[0m\n\u001b[1;32m      2\u001b[0m BERT_Classifier\u001b[38;5;241m.\u001b[39mcompile(loss \u001b[38;5;241m=\u001b[39m \u001b[38;5;124m'\u001b[39m\u001b[38;5;124mbinary_crossentropy\u001b[39m\u001b[38;5;124m'\u001b[39m,optimizer\u001b[38;5;241m=\u001b[39mAdam(learning_rate\u001b[38;5;241m=\u001b[39m\u001b[38;5;241m1e-5\u001b[39m),metrics\u001b[38;5;241m=\u001b[39m[\u001b[38;5;124m'\u001b[39m\u001b[38;5;124macc\u001b[39m\u001b[38;5;124m'\u001b[39m,AUC(name\u001b[38;5;241m=\u001b[39m\u001b[38;5;124m'\u001b[39m\u001b[38;5;124mauc\u001b[39m\u001b[38;5;124m'\u001b[39m)])\n\u001b[1;32m      4\u001b[0m \u001b[38;5;28;01mwith\u001b[39;00m tf\u001b[38;5;241m.\u001b[39mdevice(\u001b[38;5;124m'\u001b[39m\u001b[38;5;124m/device:GPU:0\u001b[39m\u001b[38;5;124m'\u001b[39m):\n\u001b[0;32m----> 5\u001b[0m     temp_history \u001b[38;5;241m=\u001b[39m \u001b[43mBERT_Classifier\u001b[49m\u001b[38;5;241;43m.\u001b[39;49m\u001b[43mfit\u001b[49m\u001b[43m(\u001b[49m\u001b[43mx_train\u001b[49m\u001b[43m,\u001b[49m\u001b[43mnp\u001b[49m\u001b[38;5;241;43m.\u001b[39;49m\u001b[43marray\u001b[49m\u001b[43m(\u001b[49m\u001b[43my_train\u001b[49m\u001b[43m)\u001b[49m\u001b[43m,\u001b[49m\u001b[43mepochs\u001b[49m\u001b[38;5;241;43m=\u001b[39;49m\u001b[38;5;241;43m20\u001b[39;49m\u001b[43m,\u001b[49m\u001b[43mbatch_size\u001b[49m\u001b[38;5;241;43m=\u001b[39;49m\u001b[38;5;241;43m32\u001b[39;49m\u001b[43m,\u001b[49m\u001b[43mcallbacks\u001b[49m\u001b[38;5;241;43m=\u001b[39;49m\u001b[43m[\u001b[49m\u001b[43mval_call\u001b[49m\u001b[43m]\u001b[49m\u001b[43m)\u001b[49m\n",
      "File \u001b[0;32m~/.local/lib/python3.10/site-packages/keras/utils/traceback_utils.py:65\u001b[0m, in \u001b[0;36mfilter_traceback.<locals>.error_handler\u001b[0;34m(*args, **kwargs)\u001b[0m\n\u001b[1;32m     63\u001b[0m filtered_tb \u001b[38;5;241m=\u001b[39m \u001b[38;5;28;01mNone\u001b[39;00m\n\u001b[1;32m     64\u001b[0m \u001b[38;5;28;01mtry\u001b[39;00m:\n\u001b[0;32m---> 65\u001b[0m     \u001b[38;5;28;01mreturn\u001b[39;00m \u001b[43mfn\u001b[49m\u001b[43m(\u001b[49m\u001b[38;5;241;43m*\u001b[39;49m\u001b[43margs\u001b[49m\u001b[43m,\u001b[49m\u001b[43m \u001b[49m\u001b[38;5;241;43m*\u001b[39;49m\u001b[38;5;241;43m*\u001b[39;49m\u001b[43mkwargs\u001b[49m\u001b[43m)\u001b[49m\n\u001b[1;32m     66\u001b[0m \u001b[38;5;28;01mexcept\u001b[39;00m \u001b[38;5;167;01mException\u001b[39;00m \u001b[38;5;28;01mas\u001b[39;00m e:\n\u001b[1;32m     67\u001b[0m     filtered_tb \u001b[38;5;241m=\u001b[39m _process_traceback_frames(e\u001b[38;5;241m.\u001b[39m__traceback__)\n",
      "File \u001b[0;32m~/.local/lib/python3.10/site-packages/keras/engine/training.py:1650\u001b[0m, in \u001b[0;36mModel.fit\u001b[0;34m(self, x, y, batch_size, epochs, verbose, callbacks, validation_split, validation_data, shuffle, class_weight, sample_weight, initial_epoch, steps_per_epoch, validation_steps, validation_batch_size, validation_freq, max_queue_size, workers, use_multiprocessing)\u001b[0m\n\u001b[1;32m   1642\u001b[0m \u001b[38;5;28;01mwith\u001b[39;00m tf\u001b[38;5;241m.\u001b[39mprofiler\u001b[38;5;241m.\u001b[39mexperimental\u001b[38;5;241m.\u001b[39mTrace(\n\u001b[1;32m   1643\u001b[0m     \u001b[38;5;124m\"\u001b[39m\u001b[38;5;124mtrain\u001b[39m\u001b[38;5;124m\"\u001b[39m,\n\u001b[1;32m   1644\u001b[0m     epoch_num\u001b[38;5;241m=\u001b[39mepoch,\n\u001b[0;32m   (...)\u001b[0m\n\u001b[1;32m   1647\u001b[0m     _r\u001b[38;5;241m=\u001b[39m\u001b[38;5;241m1\u001b[39m,\n\u001b[1;32m   1648\u001b[0m ):\n\u001b[1;32m   1649\u001b[0m     callbacks\u001b[38;5;241m.\u001b[39mon_train_batch_begin(step)\n\u001b[0;32m-> 1650\u001b[0m     tmp_logs \u001b[38;5;241m=\u001b[39m \u001b[38;5;28;43mself\u001b[39;49m\u001b[38;5;241;43m.\u001b[39;49m\u001b[43mtrain_function\u001b[49m\u001b[43m(\u001b[49m\u001b[43miterator\u001b[49m\u001b[43m)\u001b[49m\n\u001b[1;32m   1651\u001b[0m     \u001b[38;5;28;01mif\u001b[39;00m data_handler\u001b[38;5;241m.\u001b[39mshould_sync:\n\u001b[1;32m   1652\u001b[0m         context\u001b[38;5;241m.\u001b[39masync_wait()\n",
      "File \u001b[0;32m~/.local/lib/python3.10/site-packages/tensorflow/python/util/traceback_utils.py:150\u001b[0m, in \u001b[0;36mfilter_traceback.<locals>.error_handler\u001b[0;34m(*args, **kwargs)\u001b[0m\n\u001b[1;32m    148\u001b[0m filtered_tb \u001b[38;5;241m=\u001b[39m \u001b[38;5;28;01mNone\u001b[39;00m\n\u001b[1;32m    149\u001b[0m \u001b[38;5;28;01mtry\u001b[39;00m:\n\u001b[0;32m--> 150\u001b[0m   \u001b[38;5;28;01mreturn\u001b[39;00m \u001b[43mfn\u001b[49m\u001b[43m(\u001b[49m\u001b[38;5;241;43m*\u001b[39;49m\u001b[43margs\u001b[49m\u001b[43m,\u001b[49m\u001b[43m \u001b[49m\u001b[38;5;241;43m*\u001b[39;49m\u001b[38;5;241;43m*\u001b[39;49m\u001b[43mkwargs\u001b[49m\u001b[43m)\u001b[49m\n\u001b[1;32m    151\u001b[0m \u001b[38;5;28;01mexcept\u001b[39;00m \u001b[38;5;167;01mException\u001b[39;00m \u001b[38;5;28;01mas\u001b[39;00m e:\n\u001b[1;32m    152\u001b[0m   filtered_tb \u001b[38;5;241m=\u001b[39m _process_traceback_frames(e\u001b[38;5;241m.\u001b[39m__traceback__)\n",
      "File \u001b[0;32m~/.local/lib/python3.10/site-packages/tensorflow/python/eager/polymorphic_function/polymorphic_function.py:880\u001b[0m, in \u001b[0;36mFunction.__call__\u001b[0;34m(self, *args, **kwds)\u001b[0m\n\u001b[1;32m    877\u001b[0m compiler \u001b[38;5;241m=\u001b[39m \u001b[38;5;124m\"\u001b[39m\u001b[38;5;124mxla\u001b[39m\u001b[38;5;124m\"\u001b[39m \u001b[38;5;28;01mif\u001b[39;00m \u001b[38;5;28mself\u001b[39m\u001b[38;5;241m.\u001b[39m_jit_compile \u001b[38;5;28;01melse\u001b[39;00m \u001b[38;5;124m\"\u001b[39m\u001b[38;5;124mnonXla\u001b[39m\u001b[38;5;124m\"\u001b[39m\n\u001b[1;32m    879\u001b[0m \u001b[38;5;28;01mwith\u001b[39;00m OptionalXlaContext(\u001b[38;5;28mself\u001b[39m\u001b[38;5;241m.\u001b[39m_jit_compile):\n\u001b[0;32m--> 880\u001b[0m   result \u001b[38;5;241m=\u001b[39m \u001b[38;5;28;43mself\u001b[39;49m\u001b[38;5;241;43m.\u001b[39;49m\u001b[43m_call\u001b[49m\u001b[43m(\u001b[49m\u001b[38;5;241;43m*\u001b[39;49m\u001b[43margs\u001b[49m\u001b[43m,\u001b[49m\u001b[43m \u001b[49m\u001b[38;5;241;43m*\u001b[39;49m\u001b[38;5;241;43m*\u001b[39;49m\u001b[43mkwds\u001b[49m\u001b[43m)\u001b[49m\n\u001b[1;32m    882\u001b[0m new_tracing_count \u001b[38;5;241m=\u001b[39m \u001b[38;5;28mself\u001b[39m\u001b[38;5;241m.\u001b[39mexperimental_get_tracing_count()\n\u001b[1;32m    883\u001b[0m without_tracing \u001b[38;5;241m=\u001b[39m (tracing_count \u001b[38;5;241m==\u001b[39m new_tracing_count)\n",
      "File \u001b[0;32m~/.local/lib/python3.10/site-packages/tensorflow/python/eager/polymorphic_function/polymorphic_function.py:912\u001b[0m, in \u001b[0;36mFunction._call\u001b[0;34m(self, *args, **kwds)\u001b[0m\n\u001b[1;32m    909\u001b[0m   \u001b[38;5;28mself\u001b[39m\u001b[38;5;241m.\u001b[39m_lock\u001b[38;5;241m.\u001b[39mrelease()\n\u001b[1;32m    910\u001b[0m   \u001b[38;5;66;03m# In this case we have created variables on the first call, so we run the\u001b[39;00m\n\u001b[1;32m    911\u001b[0m   \u001b[38;5;66;03m# defunned version which is guaranteed to never create variables.\u001b[39;00m\n\u001b[0;32m--> 912\u001b[0m   \u001b[38;5;28;01mreturn\u001b[39;00m \u001b[38;5;28;43mself\u001b[39;49m\u001b[38;5;241;43m.\u001b[39;49m\u001b[43m_no_variable_creation_fn\u001b[49m\u001b[43m(\u001b[49m\u001b[38;5;241;43m*\u001b[39;49m\u001b[43margs\u001b[49m\u001b[43m,\u001b[49m\u001b[43m \u001b[49m\u001b[38;5;241;43m*\u001b[39;49m\u001b[38;5;241;43m*\u001b[39;49m\u001b[43mkwds\u001b[49m\u001b[43m)\u001b[49m  \u001b[38;5;66;03m# pylint: disable=not-callable\u001b[39;00m\n\u001b[1;32m    913\u001b[0m \u001b[38;5;28;01melif\u001b[39;00m \u001b[38;5;28mself\u001b[39m\u001b[38;5;241m.\u001b[39m_variable_creation_fn \u001b[38;5;129;01mis\u001b[39;00m \u001b[38;5;129;01mnot\u001b[39;00m \u001b[38;5;28;01mNone\u001b[39;00m:\n\u001b[1;32m    914\u001b[0m   \u001b[38;5;66;03m# Release the lock early so that multiple threads can perform the call\u001b[39;00m\n\u001b[1;32m    915\u001b[0m   \u001b[38;5;66;03m# in parallel.\u001b[39;00m\n\u001b[1;32m    916\u001b[0m   \u001b[38;5;28mself\u001b[39m\u001b[38;5;241m.\u001b[39m_lock\u001b[38;5;241m.\u001b[39mrelease()\n",
      "File \u001b[0;32m~/.local/lib/python3.10/site-packages/tensorflow/python/eager/polymorphic_function/tracing_compiler.py:134\u001b[0m, in \u001b[0;36mTracingCompiler.__call__\u001b[0;34m(self, *args, **kwargs)\u001b[0m\n\u001b[1;32m    131\u001b[0m \u001b[38;5;28;01mwith\u001b[39;00m \u001b[38;5;28mself\u001b[39m\u001b[38;5;241m.\u001b[39m_lock:\n\u001b[1;32m    132\u001b[0m   (concrete_function,\n\u001b[1;32m    133\u001b[0m    filtered_flat_args) \u001b[38;5;241m=\u001b[39m \u001b[38;5;28mself\u001b[39m\u001b[38;5;241m.\u001b[39m_maybe_define_function(args, kwargs)\n\u001b[0;32m--> 134\u001b[0m \u001b[38;5;28;01mreturn\u001b[39;00m \u001b[43mconcrete_function\u001b[49m\u001b[38;5;241;43m.\u001b[39;49m\u001b[43m_call_flat\u001b[49m\u001b[43m(\u001b[49m\n\u001b[1;32m    135\u001b[0m \u001b[43m    \u001b[49m\u001b[43mfiltered_flat_args\u001b[49m\u001b[43m,\u001b[49m\u001b[43m \u001b[49m\u001b[43mcaptured_inputs\u001b[49m\u001b[38;5;241;43m=\u001b[39;49m\u001b[43mconcrete_function\u001b[49m\u001b[38;5;241;43m.\u001b[39;49m\u001b[43mcaptured_inputs\u001b[49m\u001b[43m)\u001b[49m\n",
      "File \u001b[0;32m~/.local/lib/python3.10/site-packages/tensorflow/python/eager/polymorphic_function/monomorphic_function.py:1745\u001b[0m, in \u001b[0;36mConcreteFunction._call_flat\u001b[0;34m(self, args, captured_inputs, cancellation_manager)\u001b[0m\n\u001b[1;32m   1741\u001b[0m possible_gradient_type \u001b[38;5;241m=\u001b[39m gradients_util\u001b[38;5;241m.\u001b[39mPossibleTapeGradientTypes(args)\n\u001b[1;32m   1742\u001b[0m \u001b[38;5;28;01mif\u001b[39;00m (possible_gradient_type \u001b[38;5;241m==\u001b[39m gradients_util\u001b[38;5;241m.\u001b[39mPOSSIBLE_GRADIENT_TYPES_NONE\n\u001b[1;32m   1743\u001b[0m     \u001b[38;5;129;01mand\u001b[39;00m executing_eagerly):\n\u001b[1;32m   1744\u001b[0m   \u001b[38;5;66;03m# No tape is watching; skip to running the function.\u001b[39;00m\n\u001b[0;32m-> 1745\u001b[0m   \u001b[38;5;28;01mreturn\u001b[39;00m \u001b[38;5;28mself\u001b[39m\u001b[38;5;241m.\u001b[39m_build_call_outputs(\u001b[38;5;28;43mself\u001b[39;49m\u001b[38;5;241;43m.\u001b[39;49m\u001b[43m_inference_function\u001b[49m\u001b[38;5;241;43m.\u001b[39;49m\u001b[43mcall\u001b[49m\u001b[43m(\u001b[49m\n\u001b[1;32m   1746\u001b[0m \u001b[43m      \u001b[49m\u001b[43mctx\u001b[49m\u001b[43m,\u001b[49m\u001b[43m \u001b[49m\u001b[43margs\u001b[49m\u001b[43m,\u001b[49m\u001b[43m \u001b[49m\u001b[43mcancellation_manager\u001b[49m\u001b[38;5;241;43m=\u001b[39;49m\u001b[43mcancellation_manager\u001b[49m\u001b[43m)\u001b[49m)\n\u001b[1;32m   1747\u001b[0m forward_backward \u001b[38;5;241m=\u001b[39m \u001b[38;5;28mself\u001b[39m\u001b[38;5;241m.\u001b[39m_select_forward_and_backward_functions(\n\u001b[1;32m   1748\u001b[0m     args,\n\u001b[1;32m   1749\u001b[0m     possible_gradient_type,\n\u001b[1;32m   1750\u001b[0m     executing_eagerly)\n\u001b[1;32m   1751\u001b[0m forward_function, args_with_tangents \u001b[38;5;241m=\u001b[39m forward_backward\u001b[38;5;241m.\u001b[39mforward()\n",
      "File \u001b[0;32m~/.local/lib/python3.10/site-packages/tensorflow/python/eager/polymorphic_function/monomorphic_function.py:378\u001b[0m, in \u001b[0;36m_EagerDefinedFunction.call\u001b[0;34m(self, ctx, args, cancellation_manager)\u001b[0m\n\u001b[1;32m    376\u001b[0m \u001b[38;5;28;01mwith\u001b[39;00m _InterpolateFunctionError(\u001b[38;5;28mself\u001b[39m):\n\u001b[1;32m    377\u001b[0m   \u001b[38;5;28;01mif\u001b[39;00m cancellation_manager \u001b[38;5;129;01mis\u001b[39;00m \u001b[38;5;28;01mNone\u001b[39;00m:\n\u001b[0;32m--> 378\u001b[0m     outputs \u001b[38;5;241m=\u001b[39m \u001b[43mexecute\u001b[49m\u001b[38;5;241;43m.\u001b[39;49m\u001b[43mexecute\u001b[49m\u001b[43m(\u001b[49m\n\u001b[1;32m    379\u001b[0m \u001b[43m        \u001b[49m\u001b[38;5;28;43mstr\u001b[39;49m\u001b[43m(\u001b[49m\u001b[38;5;28;43mself\u001b[39;49m\u001b[38;5;241;43m.\u001b[39;49m\u001b[43msignature\u001b[49m\u001b[38;5;241;43m.\u001b[39;49m\u001b[43mname\u001b[49m\u001b[43m)\u001b[49m\u001b[43m,\u001b[49m\n\u001b[1;32m    380\u001b[0m \u001b[43m        \u001b[49m\u001b[43mnum_outputs\u001b[49m\u001b[38;5;241;43m=\u001b[39;49m\u001b[38;5;28;43mself\u001b[39;49m\u001b[38;5;241;43m.\u001b[39;49m\u001b[43m_num_outputs\u001b[49m\u001b[43m,\u001b[49m\n\u001b[1;32m    381\u001b[0m \u001b[43m        \u001b[49m\u001b[43minputs\u001b[49m\u001b[38;5;241;43m=\u001b[39;49m\u001b[43margs\u001b[49m\u001b[43m,\u001b[49m\n\u001b[1;32m    382\u001b[0m \u001b[43m        \u001b[49m\u001b[43mattrs\u001b[49m\u001b[38;5;241;43m=\u001b[39;49m\u001b[43mattrs\u001b[49m\u001b[43m,\u001b[49m\n\u001b[1;32m    383\u001b[0m \u001b[43m        \u001b[49m\u001b[43mctx\u001b[49m\u001b[38;5;241;43m=\u001b[39;49m\u001b[43mctx\u001b[49m\u001b[43m)\u001b[49m\n\u001b[1;32m    384\u001b[0m   \u001b[38;5;28;01melse\u001b[39;00m:\n\u001b[1;32m    385\u001b[0m     outputs \u001b[38;5;241m=\u001b[39m execute\u001b[38;5;241m.\u001b[39mexecute_with_cancellation(\n\u001b[1;32m    386\u001b[0m         \u001b[38;5;28mstr\u001b[39m(\u001b[38;5;28mself\u001b[39m\u001b[38;5;241m.\u001b[39msignature\u001b[38;5;241m.\u001b[39mname),\n\u001b[1;32m    387\u001b[0m         num_outputs\u001b[38;5;241m=\u001b[39m\u001b[38;5;28mself\u001b[39m\u001b[38;5;241m.\u001b[39m_num_outputs,\n\u001b[0;32m   (...)\u001b[0m\n\u001b[1;32m    390\u001b[0m         ctx\u001b[38;5;241m=\u001b[39mctx,\n\u001b[1;32m    391\u001b[0m         cancellation_manager\u001b[38;5;241m=\u001b[39mcancellation_manager)\n",
      "File \u001b[0;32m~/.local/lib/python3.10/site-packages/tensorflow/python/eager/execute.py:52\u001b[0m, in \u001b[0;36mquick_execute\u001b[0;34m(op_name, num_outputs, inputs, attrs, ctx, name)\u001b[0m\n\u001b[1;32m     50\u001b[0m \u001b[38;5;28;01mtry\u001b[39;00m:\n\u001b[1;32m     51\u001b[0m   ctx\u001b[38;5;241m.\u001b[39mensure_initialized()\n\u001b[0;32m---> 52\u001b[0m   tensors \u001b[38;5;241m=\u001b[39m \u001b[43mpywrap_tfe\u001b[49m\u001b[38;5;241;43m.\u001b[39;49m\u001b[43mTFE_Py_Execute\u001b[49m\u001b[43m(\u001b[49m\u001b[43mctx\u001b[49m\u001b[38;5;241;43m.\u001b[39;49m\u001b[43m_handle\u001b[49m\u001b[43m,\u001b[49m\u001b[43m \u001b[49m\u001b[43mdevice_name\u001b[49m\u001b[43m,\u001b[49m\u001b[43m \u001b[49m\u001b[43mop_name\u001b[49m\u001b[43m,\u001b[49m\n\u001b[1;32m     53\u001b[0m \u001b[43m                                      \u001b[49m\u001b[43minputs\u001b[49m\u001b[43m,\u001b[49m\u001b[43m \u001b[49m\u001b[43mattrs\u001b[49m\u001b[43m,\u001b[49m\u001b[43m \u001b[49m\u001b[43mnum_outputs\u001b[49m\u001b[43m)\u001b[49m\n\u001b[1;32m     54\u001b[0m \u001b[38;5;28;01mexcept\u001b[39;00m core\u001b[38;5;241m.\u001b[39m_NotOkStatusException \u001b[38;5;28;01mas\u001b[39;00m e:\n\u001b[1;32m     55\u001b[0m   \u001b[38;5;28;01mif\u001b[39;00m name \u001b[38;5;129;01mis\u001b[39;00m \u001b[38;5;129;01mnot\u001b[39;00m \u001b[38;5;28;01mNone\u001b[39;00m:\n",
      "\u001b[0;31mKeyboardInterrupt\u001b[0m: "
     ]
    }
   ],
   "source": [
    "from tensorflow.keras.optimizers import Adam\n",
    "BERT_Classifier.compile(loss = 'binary_crossentropy',optimizer=Adam(learning_rate=1e-5),metrics=['acc',AUC(name='auc')])\n",
    "\n",
    "with tf.device('/device:GPU:0'):\n",
    "    temp_history = BERT_Classifier.fit(x_train,np.array(y_train),epochs=20,batch_size=32,callbacks=[val_call])"
   ]
  },
  {
   "cell_type": "code",
   "execution_count": null,
   "metadata": {},
   "outputs": [
    {
     "name": "stdout",
     "output_type": "stream",
     "text": [
      "Model: \"model_55\"\n",
      "_________________________________________________________________\n",
      " Layer (type)                Output Shape              Param #   \n",
      "=================================================================\n",
      " input (InputLayer)          [(None, 2048)]            0         \n",
      "                                                                 \n",
      " dense_612 (Dense)           (None, 250)               512250    \n",
      "                                                                 \n",
      " dropout_484 (Dropout)       (None, 250)               0         \n",
      "                                                                 \n",
      " dense_613 (Dense)           (None, 40)                10040     \n",
      "                                                                 \n",
      " dropout_485 (Dropout)       (None, 40)                0         \n",
      "                                                                 \n",
      " dense_614 (Dense)           (None, 10)                410       \n",
      "                                                                 \n",
      " dropout_486 (Dropout)       (None, 10)                0         \n"
     ]
    },
    {
     "name": "stdout",
     "output_type": "stream",
     "text": [
      "                                                                 \n",
      " dense_615 (Dense)           (None, 1)                 11        \n",
      "                                                                 \n",
      "=================================================================\n",
      "Total params: 522,711\n",
      "Trainable params: 522,711\n",
      "Non-trainable params: 0\n",
      "_________________________________________________________________\n"
     ]
    }
   ],
   "source": [
    "import tensorflow as tf\n",
    "from tensorflow.keras.layers import MaxPool2D\n",
    "from tensorflow.keras.layers import Conv2D\n",
    "from tensorflow.keras.layers import Input\n",
    "from tensorflow.keras.layers import Flatten,Dense\n",
    "from tensorflow.keras.models import Model\n",
    "from tensorflow.keras.layers import Dropout\n",
    "inputs = Input(shape=(2048,),name='input')\n",
    "outputs = Dense(250,activation = 'relu')(inputs)\n",
    "outputs = Dropout(0.3)(outputs)\n",
    "outputs = Dense(40,activation = 'relu')(outputs)\n",
    "outputs = Dropout(0.3)(outputs)\n",
    "outputs = Dense(10,activation = 'relu')(outputs)\n",
    "outputs = Dropout(0.3)(outputs)\n",
    "outputs = Dense(1,activation = 'sigmoid')(outputs)\n",
    "\n",
    "model_NN = Model(inputs= [inputs], outputs=[outputs])\n",
    "model_NN.summary()"
   ]
  },
  {
   "cell_type": "code",
   "execution_count": null,
   "metadata": {},
   "outputs": [],
   "source": [
    "import tensorflow as tf\n",
    "from sklearn.metrics import roc_auc_score\n",
    "from sklearn.metrics import accuracy_score\n",
    "class CustomCallback_NN(tf.keras.callbacks.Callback):\n",
    "    def __init__(self, result_list,y_true):\n",
    "        super().__init__()\n",
    "        self.result_list = result_list\n",
    "        index = 0\n",
    "        self.len20 = len_20\n",
    "        self.counts = []\n",
    "        self.max = 0\n",
    "        self.y_true = y_true\n",
    "        self.history = {}\n",
    "        self.epoch = 0\n",
    "    def on_epoch_end(self, epoch, logs=None):\n",
    "        # 에포크가 끝날 때마다 validation 데이터로 모델 평가\n",
    "        result = self.model.predict(self.result_list)\n",
    "        acc = accuracy_score(self.y_true,np.round(result))\n",
    "        auc_res = roc_auc_score(self.y_true,result)\n",
    "        loss = tf.keras.metrics.BinaryCrossentropy()(self.y_true,result)\n",
    "        auc_res = auc_res\n",
    "        print(f\"     val_acc : {acc},    val_auc : {auc_res} val_loss : {loss}\")\n",
    "        if 'val_acc' not in self.history:\n",
    "            self.history['val_acc'] = [acc]\n",
    "        else:\n",
    "            self.history['val_acc'] += [acc]\n",
    "        if 'val_auc' not in self.history:\n",
    "            self.history['val_auc'] = [auc_res]\n",
    "        else:\n",
    "            self.history['val_auc'] += [auc_res]\n",
    "        \n",
    "        if 'val_loss' not in self.history:\n",
    "            self.history['val_loss'] = [loss]\n",
    "        else:\n",
    "            self.history['val_loss'] += [loss]\n",
    "        \n",
    "        self.max = np.max(self.history['val_auc'])\n",
    "            \n",
    "        if self.history['val_auc'][-1]<self.max:\n",
    "            self.counts.append(1)\n",
    "        else:\n",
    "            self.counts = []\n",
    "\n",
    "        self.epoch += 1\n",
    "        \n",
    "        if self.epoch>5 and len(self.counts)>2:\n",
    "            self.model.stop_training = True"
   ]
  },
  {
   "cell_type": "code",
   "execution_count": null,
   "metadata": {},
   "outputs": [
    {
     "name": "stderr",
     "output_type": "stream",
     "text": [
      "Found local copy...\n",
      "Loading...\n",
      "Done!\n",
      "[20:34:28] WARNING: not removing hydrogen atom without neighbors\n",
      "[20:34:28] WARNING: not removing hydrogen atom without neighbors\n"
     ]
    },
    {
     "name": "stdout",
     "output_type": "stream",
     "text": [
      "Epoch 1/20\n",
      "3/3 [==============================] - 0s 3ms/step loss: 0.6778 - acc: 0.5360 - auc: 0.51\n",
      "     val_acc : 0.7230769230769231,    val_auc : 0.6836734693877551 val_loss : 0.5880955457687378\n",
      "27/27 [==============================] - 2s 15ms/step - loss: 0.6738 - acc: 0.5477 - auc: 0.5258\n",
      "Epoch 2/20\n",
      "3/3 [==============================] - 0s 3ms/step loss: 0.5565 - acc: 0.7140 - auc: 0.71\n",
      "     val_acc : 0.7230769230769231,    val_auc : 0.7206632653061225 val_loss : 0.6230372786521912\n",
      "27/27 [==============================] - 0s 13ms/step - loss: 0.5541 - acc: 0.7137 - auc: 0.7248\n",
      "Epoch 3/20\n",
      "3/3 [==============================] - 0s 3ms/step loss: 0.4784 - acc: 0.7800 - auc: 0.82\n",
      "     val_acc : 0.6923076923076923,    val_auc : 0.7308673469387756 val_loss : 0.656502902507782\n",
      "27/27 [==============================] - 0s 13ms/step - loss: 0.4768 - acc: 0.7824 - auc: 0.8306\n",
      "Epoch 4/20\n",
      "3/3 [==============================] - 0s 3ms/step loss: 0.3783 - acc: 0.8519 - auc: 0.90\n",
      "     val_acc : 0.676923076923077,    val_auc : 0.7346938775510204 val_loss : 0.7329198122024536\n",
      "27/27 [==============================] - 0s 13ms/step - loss: 0.3774 - acc: 0.8511 - auc: 0.9075\n",
      "Epoch 5/20\n",
      "3/3 [==============================] - 0s 3ms/step loss: 0.3176 - acc: 0.9100 - auc: 0.94\n",
      "     val_acc : 0.676923076923077,    val_auc : 0.7142857142857142 val_loss : 0.8128036856651306\n",
      "27/27 [==============================] - 0s 14ms/step - loss: 0.3144 - acc: 0.9122 - auc: 0.9452\n",
      "Epoch 6/20\n",
      "3/3 [==============================] - 0s 3ms/step loss: 0.2404 - acc: 0.9326 - auc: 0.97\n",
      "     val_acc : 0.6615384615384615,    val_auc : 0.697704081632653 val_loss : 1.0097620487213135\n",
      "27/27 [==============================] - 0s 14ms/step - loss: 0.2418 - acc: 0.9313 - auc: 0.9701\n",
      "Epoch 7/20\n",
      "3/3 [==============================] - 0s 3ms/step loss: 0.2043 - acc: 0.9420 - auc: 0.97\n",
      "     val_acc : 0.6923076923076923,    val_auc : 0.6951530612244898 val_loss : 1.0968542098999023\n",
      "27/27 [==============================] - 0s 14ms/step - loss: 0.2136 - acc: 0.9408 - auc: 0.9688\n"
     ]
    },
    {
     "data": {
      "text/plain": [
       "<keras.callbacks.History at 0x7f1ad28152d0>"
      ]
     },
     "execution_count": 670,
     "metadata": {},
     "output_type": "execute_result"
    }
   ],
   "source": [
    "from tdc.single_pred import Tox\n",
    "from Module import RDK\n",
    "train,tox_info = Tox(name=tox_name).get_data(format='DeepPurpose')\n",
    "bit_string = RDK.smile_to_RDkit(train,2048)\n",
    "x_train_NN,x_val_NN,y_train_NN,y_val_NN = train_test_split(np.array(bit_string)/1.,np.array(tox_info)/1.,test_size=0.2)\n",
    "x_val_NN,x_test_NN,y_val_NN,y_test_NN = train_test_split(x_val_NN,y_val_NN, test_size=0.5)\n",
    "\n",
    "val_call_NN = CustomCallback_NN(x_val_NN,y_val_NN)\n",
    "\n",
    "model_NN.compile(loss = 'binary_crossentropy',optimizer='Adam',metrics=['acc',AUC(name = 'auc')])\n",
    "model_NN.fit(x_train_NN,y_train_NN,epochs=20,callbacks=[val_call_NN],batch_size=20)"
   ]
  },
  {
   "cell_type": "code",
   "execution_count": null,
   "metadata": {},
   "outputs": [
    {
     "data": {
      "text/plain": [
       "<matplotlib.legend.Legend at 0x7f1ad0205fc0>"
      ]
     },
     "execution_count": 671,
     "metadata": {},
     "output_type": "execute_result"
    },
    {
     "data": {
      "image/png": "[encoded data removed]",
      "text/plain": [
       "<Figure size 640x480 with 1 Axes>"
      ]
     },
     "metadata": {},
     "output_type": "display_data"
    }
   ],
   "source": [
    "plt.plot([i for i in range(len(val_call_NN.history['val_loss']))],val_call_NN.history['val_loss'],label='bit_Val_ACC data')\n",
    "plt.plot([i for i in range(len(val_call.history['val_loss']))],val_call.history['val_loss'],label = 'BERT_Val_ACC data')\n",
    "#plt.plot([i for i in range(len(val_call2.history['val_loss']))],val_call2.history['val_loss'],label = 'BERT_Norm acc data')\n",
    "plt.title(tox_name + ' Loss')\n",
    "plt.xlabel('epoch')\n",
    "plt.ylabel('score')\n",
    "\n",
    "plt.legend()"
   ]
  },
  {
   "cell_type": "code",
   "execution_count": null,
   "metadata": {},
   "outputs": [
    {
     "data": {
      "text/plain": [
       "<matplotlib.legend.Legend at 0x7f1ad0205b70>"
      ]
     },
     "execution_count": 672,
     "metadata": {},
     "output_type": "execute_result"
    },
    {
     "data": {
      "image/png": "[encoded data removed]",
      "text/plain": [
       "<Figure size 640x480 with 1 Axes>"
      ]
     },
     "metadata": {},
     "output_type": "display_data"
    }
   ],
   "source": [
    "plt.plot([i for i in range(len(val_call_NN.history['val_acc']))],val_call_NN.history['val_acc'],label='bit_Val_ACC data')\n",
    "plt.plot([i for i in range(len(val_call.history['val_acc']))],val_call.history['val_acc'],label = 'BERT_Val_ACC data')\n",
    "#plt.plot([i for i in range(len(val_call2.history['val_acc']))],val_call2.history['val_acc'],label = 'BERT_Norm acc data')\n",
    "plt.title(tox_name + ' ACC')\n",
    "plt.xlabel('epoch')\n",
    "plt.ylabel('score')\n",
    "\n",
    "plt.legend()\n"
   ]
  },
  {
   "cell_type": "code",
   "execution_count": null,
   "metadata": {},
   "outputs": [
    {
     "data": {
      "text/plain": [
       "<matplotlib.legend.Legend at 0x7f1ad0204f10>"
      ]
     },
     "execution_count": 673,
     "metadata": {},
     "output_type": "execute_result"
    },
    {
     "data": {
      "image/png": "[encoded data removed]",
      "text/plain": [
       "<Figure size 640x480 with 1 Axes>"
      ]
     },
     "metadata": {},
     "output_type": "display_data"
    }
   ],
   "source": [
    "plt.plot([i for i in range(len(val_call_NN.history['val_auc']))],val_call_NN.history['val_auc'],label='bit_Val_AUC data')\n",
    "plt.plot([i for i in range(len(val_call.history['val_acc']))],val_call.history['val_auc'],label = 'BERT_Val_AUC data')\n",
    "#plt.plot([i for i in range(len(val_call2.history['val_acc']))],val_call2.history['val_auc'],label = 'BERT_Norm data')\n",
    "plt.title(tox_name + ' AUC')\n",
    "plt.xlabel('epoch')\n",
    "plt.ylabel('score')\n",
    "\n",
    "plt.legend()"
   ]
  },
  {
   "cell_type": "code",
   "execution_count": null,
   "metadata": {},
   "outputs": [
    {
     "name": "stdout",
     "output_type": "stream",
     "text": [
      "3/3 [==============================] - 0s 3ms/step\n"
     ]
    },
    {
     "name": "stdout",
     "output_type": "stream",
     "text": [
      "Bit acc :  0.803030303030303\n",
      "Bit auc :  0.8842391304347825\n",
      "BERT acc :  0.803030303030303\n",
      "BERT auc :  0.8243386243386244\n"
     ]
    }
   ],
   "source": [
    "import tensorflow as tf\n",
    "from sklearn.metrics import roc_auc_score\n",
    "from sklearn.metrics import accuracy_score\n",
    "\n",
    "temp = []\n",
    "index = 0\n",
    "for i in len_20_test:\n",
    "    temp.append(np.average(y_test[index:index+i]))\n",
    "    index = index+i\n",
    "    \n",
    "\n",
    "NN = model_NN(x_test_NN)\n",
    "BERT_res = predict(BERT_Classifier,x_test,len_20_test)\n",
    "print('Tox : ',tox_name)\n",
    "print('Bit acc : ',(accuracy_score(np.round(NN),y_test_NN)))\n",
    "print('Bit auc : ',(roc_auc_score(y_test_NN,NN)))\n",
    "print('BERT acc : ',(accuracy_score(np.round(BERT_res),temp)))\n",
    "print('BERT auc : ',(roc_auc_score(temp,BERT_res)))"
   ]
  },
  {
   "cell_type": "code",
   "execution_count": null,
   "metadata": {},
   "outputs": [],
   "source": []
  }
 ],
 "metadata": {
  "kernelspec": {
   "display_name": "Lee",
   "language": "python",
   "name": "python3"
  },
  "language_info": {
   "codemirror_mode": {
    "name": "ipython",
    "version": 3
   },
   "file_extension": ".py",
   "mimetype": "text/x-python",
   "name": "python",
   "nbconvert_exporter": "python",
   "pygments_lexer": "ipython3",
   "version": "3.10.12"
  }
 },
 "nbformat": 4,
 "nbformat_minor": 2
}
