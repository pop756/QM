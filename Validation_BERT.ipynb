{
 "cells": [
  {
   "cell_type": "code",
   "execution_count": 1,
   "metadata": {},
   "outputs": [
    {
     "name": "stderr",
     "output_type": "stream",
     "text": [
      "2023-12-14 11:41:01.418350: I tensorflow/core/platform/cpu_feature_guard.cc:193] This TensorFlow binary is optimized with oneAPI Deep Neural Network Library (oneDNN) to use the following CPU instructions in performance-critical operations:  AVX2 AVX512F AVX512_VNNI FMA\n",
      "To enable them in other operations, rebuild TensorFlow with the appropriate compiler flags.\n",
      "2023-12-14 11:41:01.552715: I tensorflow/core/util/port.cc:104] oneDNN custom operations are on. You may see slightly different numerical results due to floating-point round-off errors from different computation orders. To turn them off, set the environment variable `TF_ENABLE_ONEDNN_OPTS=0`.\n",
      "2023-12-14 11:41:02.344551: W tensorflow/compiler/xla/stream_executor/platform/default/dso_loader.cc:64] Could not load dynamic library 'libnvinfer.so.7'; dlerror: libnvinfer.so.7: cannot open shared object file: No such file or directory; LD_LIBRARY_PATH: :/usr/local/cuda-11.8/lib64:/usr/local/cuda-11.3/lib64\n",
      "2023-12-14 11:41:02.344636: W tensorflow/compiler/xla/stream_executor/platform/default/dso_loader.cc:64] Could not load dynamic library 'libnvinfer_plugin.so.7'; dlerror: libnvinfer_plugin.so.7: cannot open shared object file: No such file or directory; LD_LIBRARY_PATH: :/usr/local/cuda-11.8/lib64:/usr/local/cuda-11.3/lib64\n",
      "2023-12-14 11:41:02.344642: W tensorflow/compiler/tf2tensorrt/utils/py_utils.cc:38] TF-TRT Warning: Cannot dlopen some TensorRT libraries. If you would like to use Nvidia GPU with TensorRT, please make sure the missing libraries mentioned above are installed properly.\n"
     ]
    }
   ],
   "source": [
    "import os\n",
    "import tensorflow as tf \n",
    "from tensorflow.python.client import device_lib\n",
    "os.environ[\"CUDA_VISIBLE_DEVICES\"] = \"0\""
   ]
  },
  {
   "cell_type": "code",
   "execution_count": 2,
   "metadata": {},
   "outputs": [
    {
     "name": "stderr",
     "output_type": "stream",
     "text": [
      "2023-12-14 11:41:03.228149: I tensorflow/core/platform/cpu_feature_guard.cc:193] This TensorFlow binary is optimized with oneAPI Deep Neural Network Library (oneDNN) to use the following CPU instructions in performance-critical operations:  AVX2 AVX512F AVX512_VNNI FMA\n",
      "To enable them in other operations, rebuild TensorFlow with the appropriate compiler flags.\n",
      "2023-12-14 11:41:04.029196: I tensorflow/core/common_runtime/gpu/gpu_device.cc:1613] Created device /job:localhost/replica:0/task:0/device:GPU:0 with 78900 MB memory:  -> device: 0, name: NVIDIA A100 80GB PCIe, pci bus id: 0000:ca:00.0, compute capability: 8.0\n",
      "2023-12-14 11:41:04.046414: I tensorflow/core/common_runtime/gpu/gpu_device.cc:1613] Created device /job:localhost/replica:0/task:0/device:GPU:0 with 78900 MB memory:  -> device: 0, name: NVIDIA A100 80GB PCIe, pci bus id: 0000:ca:00.0, compute capability: 8.0\n"
     ]
    }
   ],
   "source": [
    "config = tf.compat.v1.ConfigProto()\n",
    "config.gpu_options.allow_growth = False\n",
    "with tf.compat.v1.Session(config=config) as sess:\n",
    "\n",
    "    # 메모리 40% 할당\n",
    "    config = tf.compat.v1.ConfigProto()\n",
    "    config.gpu_options.per_process_gpu_memory_fraction = 0.001\n",
    "    sess = tf.compat.v1.Session(config=config)"
   ]
  },
  {
   "cell_type": "code",
   "execution_count": 3,
   "metadata": {},
   "outputs": [
    {
     "name": "stderr",
     "output_type": "stream",
     "text": [
      "2023-12-14 11:41:05.589746: I tensorflow/core/common_runtime/gpu/gpu_device.cc:1613] Created device /job:localhost/replica:0/task:0/device:GPU:0 with 78900 MB memory:  -> device: 0, name: NVIDIA A100 80GB PCIe, pci bus id: 0000:ca:00.0, compute capability: 8.0\n"
     ]
    }
   ],
   "source": [
    "from tensorflow.keras.layers import Input\n",
    "from tensorflow.keras.models import Model\n",
    "import numpy as np\n",
    "import matplotlib.pyplot as plt\n",
    "import pickle\n",
    "from tensorflow.keras.metrics import AUC\n",
    "from tensorflow.keras.metrics import Accuracy\n",
    "\n",
    "class CustomSchedule(tf.keras.optimizers.schedules.LearningRateSchedule):\n",
    "  def __init__(self, d_model, warmup_steps=2000):\n",
    "    super(CustomSchedule, self).__init__()\n",
    "\n",
    "    self.d_model = d_model\n",
    "    self.d_model = tf.cast(self.d_model, tf.float32)\n",
    "\n",
    "    self.warmup_steps = warmup_steps\n",
    "\n",
    "  def __call__(self, step):\n",
    "    step = float(step+10)\n",
    "    arg1 = tf.math.rsqrt(step)\n",
    "    arg2 = step * (self.warmup_steps ** -1.5)\n",
    "\n",
    "    return 1000 * tf.math.minimum(arg1, arg2)\n",
    "\n",
    "temp_learning_rate_schedule = CustomSchedule(256,1000000)\n",
    "callback = tf.keras.callbacks.LearningRateScheduler(temp_learning_rate_schedule, verbose=0)"
   ]
  },
  {
   "cell_type": "code",
   "execution_count": 4,
   "metadata": {},
   "outputs": [
    {
     "data": {
      "text/plain": [
       "<tf.Tensor: shape=(100, 200), dtype=float32, numpy=\n",
       "array([[0., 0., 1., ..., 0., 0., 0.],\n",
       "       [0., 0., 1., ..., 0., 0., 0.],\n",
       "       [0., 0., 1., ..., 0., 0., 0.],\n",
       "       ...,\n",
       "       [0., 0., 1., ..., 0., 0., 0.],\n",
       "       [0., 0., 1., ..., 0., 0., 0.],\n",
       "       [0., 0., 1., ..., 0., 0., 0.]], dtype=float32)>"
      ]
     },
     "execution_count": 4,
     "metadata": {},
     "output_type": "execute_result"
    }
   ],
   "source": [
    "import numpy as np\n",
    "tf.multiply(tf.reduce_sum(tf.one_hot([[1,2]]*100,200),axis=1),[[1,0]*100]*100)"
   ]
  },
  {
   "cell_type": "code",
   "execution_count": 5,
   "metadata": {},
   "outputs": [
    {
     "data": {
      "text/plain": [
       "<tf.Tensor: shape=(), dtype=float32, numpy=2.5000001e-05>"
      ]
     },
     "execution_count": 5,
     "metadata": {},
     "output_type": "execute_result"
    }
   ],
   "source": [
    "temp_learning_rate_schedule(15)"
   ]
  },
  {
   "cell_type": "code",
   "execution_count": 43,
   "metadata": {},
   "outputs": [],
   "source": [
    "class TokenAndPositionEmbedding(tf.keras.layers.Layer):\n",
    "    def __init__(self, maxlen, vocab_size, embed_dim):\n",
    "        super().__init__()\n",
    "        self.token_emb = tf.keras.layers.Embedding(input_dim=vocab_size, output_dim=embed_dim,mask_zero=True)\n",
    "        self.pos_emb = tf.keras.layers.Embedding(input_dim=maxlen, output_dim=embed_dim,mask_zero = True)\n",
    "\n",
    "    def call(self, x):\n",
    "        positions = np.array([0]+[0]+[i+2 for i in range(198)])\n",
    "        positions = self.pos_emb(positions)\n",
    "        x = self.token_emb(x)\n",
    "        return x + positions    \n",
    "    \n",
    "    \n",
    "class TransformerBlock(tf.keras.layers.Layer):\n",
    "    def __init__(self, embed_dim, num_heads, ff_dim, rate=0.1):\n",
    "        super().__init__()\n",
    "        l2_reg = tf.keras.regularizers.l2(0.01)\n",
    "        \n",
    "        self.att = tf.keras.layers.MultiHeadAttention(num_heads=num_heads, key_dim=embed_dim,kernel_regularizer=l2_reg)\n",
    "        self.ffn = tf.keras.Sequential(\n",
    "            [tf.keras.layers.Dense(ff_dim, activation=\"relu\"), tf.keras.layers.Dense(embed_dim),]\n",
    "        )\n",
    "        self.layernorm1 = tf.keras.layers.LayerNormalization(epsilon=1e-6)\n",
    "        self.layernorm2 = tf.keras.layers.LayerNormalization(epsilon=1e-6)\n",
    "        self.dropout1 = tf.keras.layers.Dropout(rate)\n",
    "        self.dropout2 = tf.keras.layers.Dropout(rate)\n",
    "\n",
    "    def call(self, inputs):\n",
    "        attn_output = self.att(inputs, inputs,attention_mask=tf.cast(np.array([[1]+[0]+[1]*198] + [[0]+[1]*199] + [[0]*2+[1]*198]*198),bool))\n",
    "        attn_output = self.dropout1(attn_output)\n",
    "        out1 = self.layernorm1(inputs + attn_output)\n",
    "        ffn_output = self.ffn(out1)\n",
    "        ffn_output = self.dropout2(ffn_output)\n",
    "        return self.layernorm2(out1 + ffn_output)\n",
    "    \n",
    "    \n",
    "    \n",
    "class BERT(tf.keras.layers.Layer):\n",
    "    def __init__(self,emb_dim,num_heads,ff_dim):\n",
    "        super(BERT, self).__init__()\n",
    "        self.encoder = tf.keras.Sequential([TransformerBlock(emb_dim,num_heads,ff_dim) for i in range(8)])\n",
    "        \n",
    "        self.embedding = TokenAndPositionEmbedding(200,3500,256)\n",
    "        self.dense = tf.keras.layers.Dense(250,activation = 'gelu')\n",
    "        self.classify = tf.keras.layers.Dense(732,activation = 'softmax')\n",
    "    def call(self, inputs, mask_index,pretrain = False):\n",
    "        if pretrain:\n",
    "            mask_index = tf.one_hot(mask_index,200)\n",
    "            boolean_mask = tf.cast(tf.reduce_sum(mask_index,axis=1),bool)\n",
    "            inputs = tf.cast(inputs,dtype=tf.int32)\n",
    "        \n",
    "        inputs = tf.reshape(inputs,[-1,200])\n",
    "        hidden = self.embedding(inputs)\n",
    "        \n",
    "        \n",
    "        hidden = self.encoder(hidden)\n",
    "    \n",
    "        if pretrain:\n",
    "            output = tf.reshape(hidden,[-1,200,256])\n",
    "            output = self.dense(output)\n",
    "            output = layers.Dropout(0.1)(output)\n",
    "            output = self.classify(output)\n",
    "            output = tf.boolean_mask(output,boolean_mask)\n",
    "            return output\n",
    "        else:\n",
    "            return hidden"
   ]
  },
  {
   "cell_type": "code",
   "execution_count": 44,
   "metadata": {},
   "outputs": [],
   "source": [
    "from tensorflow.keras import layers\n",
    "class BERT_all(tf.keras.layers.Layer):\n",
    "    def __init__(self,emb_dim,num_heads,ff_dim,vocab_num=1300):\n",
    "        super(BERT_all, self).__init__()\n",
    "        self.transform_block = TransformerBlock(emb_dim,num_heads,ff_dim)\n",
    "        self.embedding = TokenAndPositionEmbedding(200,vocab_num,256)\n",
    "        self.dense = tf.keras.layers.Dense(250,activation = 'gelu')\n",
    "        self.classify = tf.keras.layers.Dense(1300,activation = 'softmax')\n",
    "        \n",
    "    def call(self, inputs, mask_index,pretrain = False):\n",
    "        if pretrain:\n",
    "            mask_index = tf.one_hot(mask_index,200)\n",
    "            boolean_mask = tf.cast(tf.reduce_sum(mask_index,axis=1),bool)\n",
    "            inputs = tf.cast(inputs,dtype=tf.int32)\n",
    "        hidden = self.embedding(inputs)\n",
    "        for i in range(8):\n",
    "            hidden = self.transform_block(hidden)\n",
    "        if pretrain:\n",
    "            output = tf.reshape(hidden,[-1,200,256])\n",
    "            output = tf.boolean_mask(output,boolean_mask)\n",
    "            output = self.dense(output)\n",
    "            output = tf.keras.layers.Dropout(0.1)(output)\n",
    "            output = self.classify(output)\n",
    "            return output\n",
    "        else:\n",
    "            return hidden"
   ]
  },
  {
   "cell_type": "code",
   "execution_count": 45,
   "metadata": {},
   "outputs": [],
   "source": [
    "\n",
    "class BERT_norm(tf.keras.layers.Layer):\n",
    "    def __init__(self,emb_dim,num_heads,ff_dim):\n",
    "        super(BERT_norm, self).__init__()\n",
    "        self.transform_block_trainable = TransformerBlock(emb_dim,num_heads,ff_dim)\n",
    "        self.transform_block = TransformerBlock(emb_dim,num_heads,ff_dim)\n",
    "        self.transform_block.trainable = False\n",
    "        self.embedding = TokenAndPositionEmbedding(200,3500,256)\n",
    "        self.dense = layers.Dense(250,activation = 'gelu')\n",
    "        self.classify = layers.Dense(661,activation = 'softmax')\n",
    "        self.layernorm1 = tf.keras.layers.LayerNormalization(epsilon=1e-6)\n",
    "    def call(self, inputs, mask_index,pretrain = False):\n",
    "        if pretrain:\n",
    "            mask_index = tf.one_hot(mask_index,200)\n",
    "            boolean_mask = tf.cast(tf.reduce_sum(mask_index,axis=1),bool)\n",
    "            inputs = tf.cast(inputs,dtype=tf.int32)\n",
    "        hidden = self.embedding(inputs)\n",
    "\n",
    "        for i in range(8):\n",
    "            hidden = self.transform_block(hidden)\n",
    "        if pretrain:\n",
    "            output = tf.reshape(hidden,[-1,200,256])\n",
    "            output = tf.boolean_mask(output,boolean_mask)\n",
    "            output = self.dense(output)\n",
    "            output = layers.Dropout(0.1)(output)\n",
    "            output = self.classify(output)\n",
    "            return output\n",
    "        else:\n",
    "            return hidden"
   ]
  },
  {
   "cell_type": "code",
   "execution_count": 46,
   "metadata": {},
   "outputs": [],
   "source": [
    "from rdkit import Chem\n",
    "from tqdm import tqdm\n",
    "def Chem_generator(smiles,tox_info):\n",
    "    res_list = []\n",
    "    res_tox_info = []\n",
    "    for index1,i in tqdm(enumerate(smiles)):\n",
    "        mol = Chem.MolFromSmiles(i)\n",
    "        temp = []\n",
    "        index = 0\n",
    "        while(len(set(temp))!=20 and index != 100):\n",
    "            index+=1\n",
    "            temp.append(Chem.MolToSmiles(mol,doRandom=True))\n",
    "        res_list+=list(set(temp))\n",
    "        res_tox_info+=[tox_info[index1]]*len(list(set(temp)))\n",
    "    return res_list,res_tox_info"
   ]
  },
  {
   "cell_type": "code",
   "execution_count": 47,
   "metadata": {},
   "outputs": [],
   "source": [
    "def Chem_generator_val(smiles):\n",
    "    res_list = []\n",
    "    len_list = []\n",
    "    for i in tqdm(smiles):\n",
    "        mol = Chem.MolFromSmiles(i)\n",
    "        temp = []\n",
    "        index = 0\n",
    "        while(len(set(temp))!=20 and index != 100):\n",
    "            index+=1\n",
    "            temp.append(Chem.MolToSmiles(mol,doRandom=True))\n",
    "        res_list+=list(set(temp))\n",
    "        len_list.append(len(list(set(temp))))\n",
    "    return res_list,len_list"
   ]
  },
  {
   "cell_type": "code",
   "execution_count": 205,
   "metadata": {},
   "outputs": [],
   "source": [
    "def predict(model,results,len_list):\n",
    "    index = 0\n",
    "    res = model.predict(results,verbose=0)\n",
    "    result_list = []\n",
    "    for i in len_list:\n",
    "        temp = res[index:index+i]\n",
    "        result_list.append(np.average(temp,axis=0))\n",
    "        index = index+i\n",
    "    return np.array(result_list)"
   ]
  },
  {
   "cell_type": "code",
   "execution_count": 49,
   "metadata": {},
   "outputs": [
    {
     "name": "stdout",
     "output_type": "stream",
     "text": [
      "Model: \"model_10\"\n",
      "__________________________________________________________________________________________________\n",
      " Layer (type)                   Output Shape         Param #     Connected to                     \n",
      "==================================================================================================\n",
      " input_10 (InputLayer)          [(None, 200)]        0           []                               \n",
      "                                                                                                  \n",
      " input_11 (InputLayer)          [(None, 16)]         0           []                               \n",
      "                                                                                                  \n",
      " bert_4 (BERT)                  (None, 732)          18029742    ['input_10[0][0]',               \n",
      "                                                                  'input_11[0][0]']               \n",
      "                                                                                                  \n",
      "==================================================================================================\n",
      "Total params: 18,029,742\n",
      "Trainable params: 18,029,742\n",
      "Non-trainable params: 0\n",
      "__________________________________________________________________________________________________\n"
     ]
    }
   ],
   "source": [
    "inputs = Input(shape = (200,),dtype=tf.int32)\n",
    "mask = Input(shape = (16), dtype=tf.int32)\n",
    "outputs = BERT(256,6,1024)(inputs,mask,pretrain=True)\n",
    "\n",
    "model = Model(inputs = [inputs,mask], outputs = [outputs])\n",
    "model.summary()\n",
    "\n",
    "model.load_weights('./BERT/atomInSmile/F_Random_ZINC_L_model_weights.h5')"
   ]
  },
  {
   "cell_type": "code",
   "execution_count": 50,
   "metadata": {},
   "outputs": [],
   "source": [
    "BERT_parameters = model.get_weights()[:130]"
   ]
  },
  {
   "cell_type": "code",
   "execution_count": 51,
   "metadata": {},
   "outputs": [
    {
     "name": "stdout",
     "output_type": "stream",
     "text": [
      "Model: \"model_11\"\n",
      "_________________________________________________________________\n",
      " Layer (type)                Output Shape              Param #   \n",
      "=================================================================\n",
      " input_12 (InputLayer)       [(None, 200)]             0         \n",
      "                                                                 \n",
      " bert_5 (BERT)               (None, 200, 256)          17781760  \n",
      "                                                                 \n",
      " tf.__operators__.getitem_7   (None, 200)              0         \n",
      " (SlicingOpLambda)                                               \n",
      "                                                                 \n",
      " dense_122 (Dense)           (None, 256)               51456     \n",
      "                                                                 \n",
      " dense_123 (Dense)           (None, 1)                 257       \n",
      "                                                                 \n",
      " tf.math.reduce_mean_5 (TFOp  (None,)                  0         \n",
      " Lambda)                                                         \n",
      "                                                                 \n",
      "=================================================================\n",
      "Total params: 17,833,473\n",
      "Trainable params: 17,833,473\n",
      "Non-trainable params: 0\n",
      "_________________________________________________________________\n"
     ]
    }
   ],
   "source": [
    "\n",
    "auc = AUC(name='auc')\n",
    "acc = Accuracy(name = 'acc')\n",
    "inputs = Input(shape = (200,),dtype=tf.int32)\n",
    "bert_layer = BERT(256,6,1024)\n",
    "\n",
    "hidden = bert_layer(inputs,None)\n",
    "\n",
    "hidden1 = hidden[:,:,0]\n",
    "output = tf.keras.layers.Dense(256,activation = 'gelu')(hidden1)\n",
    "output = tf.keras.layers.Dense(1,activation = 'sigmoid')(output)\n",
    "output = tf.reduce_mean(output,axis=1)\n",
    "\n",
    "BERT_Classifier = Model(inputs = [inputs], outputs=[output])\n",
    "\n",
    "\n",
    "BERT_Classifier.layers[1].set_weights(BERT_parameters)\n",
    "BERT_Classifier.compile(optimizer='Adam',loss = 'categorical_crossentropy',metrics=['acc',auc])\n",
    "BERT_Classifier.summary()"
   ]
  },
  {
   "cell_type": "code",
   "execution_count": 70,
   "metadata": {},
   "outputs": [
    {
     "name": "stdout",
     "output_type": "stream",
     "text": [
      "Model: \"model_19\"\n",
      "_________________________________________________________________\n",
      " Layer (type)                Output Shape              Param #   \n",
      "=================================================================\n",
      " input_18 (InputLayer)       [(None, 200)]             0         \n",
      "                                                                 \n",
      " bert_5 (BERT)               (None, 200, 256)          17781760  \n",
      "                                                                 \n",
      " tf.__operators__.getitem_13  (None, 256)              0         \n",
      "  (SlicingOpLambda)                                              \n",
      "                                                                 \n",
      " dense_170 (Dense)           (None, 256)               65792     \n",
      "                                                                 \n",
      " dense_171 (Dense)           (None, 1)                 257       \n",
      "                                                                 \n",
      "=================================================================\n",
      "Total params: 17,847,809\n",
      "Trainable params: 17,847,809\n",
      "Non-trainable params: 0\n",
      "_________________________________________________________________\n"
     ]
    }
   ],
   "source": [
    "auc = AUC(name='auc')\n",
    "acc = Accuracy(name = 'acc')\n",
    "inputs = Input(shape = (200,),dtype=tf.int32)\n",
    "\n",
    "hidden = bert_layer(inputs,None)\n",
    "\n",
    "hidden1 = hidden[:,1]\n",
    "output = tf.keras.layers.Dense(256,activation = 'gelu')(hidden1)\n",
    "output = tf.keras.layers.Dense(1,activation = 'sigmoid')(output)\n",
    "\n",
    "\n",
    "BERT_Classifier1 = Model(inputs = [inputs], outputs=[output])\n",
    "\n",
    "\n",
    "BERT_Classifier1.layers[1].set_weights(BERT_parameters)\n",
    "BERT_Classifier1.compile(optimizer='Adam',loss = 'categorical_crossentropy',metrics=['acc',auc])\n",
    "BERT_Classifier1.summary()"
   ]
  },
  {
   "cell_type": "code",
   "execution_count": 71,
   "metadata": {},
   "outputs": [
    {
     "name": "stdout",
     "output_type": "stream",
     "text": [
      "Model: \"model_20\"\n",
      "_________________________________________________________________\n",
      " Layer (type)                Output Shape              Param #   \n",
      "=================================================================\n",
      " input_19 (InputLayer)       [(None, 200)]             0         \n",
      "                                                                 \n",
      " bert_5 (BERT)               (None, 200, 256)          17781760  \n",
      "                                                                 \n",
      " tf.__operators__.getitem_14  (None, 200)              0         \n",
      "  (SlicingOpLambda)                                              \n",
      "                                                                 \n",
      " dense_172 (Dense)           (None, 256)               51456     \n",
      "                                                                 \n",
      " dense_173 (Dense)           (None, 1)                 257       \n",
      "                                                                 \n",
      "=================================================================\n",
      "Total params: 17,833,473\n",
      "Trainable params: 17,833,473\n",
      "Non-trainable params: 0\n",
      "_________________________________________________________________\n"
     ]
    }
   ],
   "source": [
    "inputs = Input(shape = (200,),dtype=tf.int32)\n",
    "hidden = bert_layer(inputs,None)\n",
    "hidden1 = hidden[:,:,1]\n",
    "output = tf.keras.layers.Dense(256,activation = 'gelu')(hidden1)\n",
    "output = tf.keras.layers.Dense(1)(output)\n",
    "BERT_Regression = Model(inputs = [inputs], outputs=[output])\n",
    "BERT_Regression.compile(optimizer='Adam',loss = 'mse',metrics=['r2_score'])\n",
    "BERT_Regression.summary()"
   ]
  },
  {
   "cell_type": "code",
   "execution_count": 265,
   "metadata": {},
   "outputs": [
    {
     "name": "stdout",
     "output_type": "stream",
     "text": [
      "Model: \"model_26\"\n",
      "_________________________________________________________________\n",
      " Layer (type)                Output Shape              Param #   \n",
      "=================================================================\n",
      " input_22 (InputLayer)       [(None, 200)]             0         \n",
      "                                                                 \n",
      " bert_10 (BERT)              (None, 200, 256)          17781760  \n",
      "                                                                 \n",
      " tf.__operators__.getitem_17  (None, 200)              0         \n",
      "  (SlicingOpLambda)                                              \n",
      "                                                                 \n",
      " dense_232 (Dense)           (None, 256)               51456     \n",
      "                                                                 \n",
      " dense_233 (Dense)           (None, 1)                 257       \n",
      "                                                                 \n",
      "=================================================================\n",
      "Total params: 17,833,473\n",
      "Trainable params: 17,833,473\n",
      "Non-trainable params: 0\n",
      "_________________________________________________________________\n"
     ]
    }
   ],
   "source": [
    "\n",
    "auc = AUC(name='auc')\n",
    "acc = Accuracy(name = 'acc')\n",
    "inputs = Input(shape = (200,),dtype=tf.int32)\n",
    "hidden = BERT(256,6,1024)(inputs,None)\n",
    "\n",
    "BERT_model = Model(inputs = [inputs],outputs = [hidden])\n",
    "\n",
    "hidden1 = hidden[:,:,0]\n",
    "output = tf.keras.layers.Dense(256,activation = 'gelu')(hidden1)\n",
    "output = tf.keras.layers.Dense(1,activation = 'sigmoid')(output)\n",
    "\n",
    "BERT_Classifier = Model(inputs = [inputs], outputs=[output])\n",
    "\n",
    "\n",
    "BERT_Classifier.layers[1].set_weights(BERT_parameters)\n",
    "BERT_Classifier.summary()"
   ]
  },
  {
   "cell_type": "code",
   "execution_count": 305,
   "metadata": {},
   "outputs": [],
   "source": [
    "from sklearn.model_selection import train_test_split\n",
    "\n",
    "\n",
    "tox_name = 'hERG_Karim'\n",
    "\n",
    "with open('./AIS_Tox_data/'+tox_name,'rb') as file:\n",
    "    train,label,len_20 = pickle.load(file)[0] \n",
    "         \n",
    "\n"
   ]
  },
  {
   "cell_type": "code",
   "execution_count": 306,
   "metadata": {},
   "outputs": [
    {
     "data": {
      "text/plain": [
       "<BarContainer object of 95 artists>"
      ]
     },
     "execution_count": 306,
     "metadata": {},
     "output_type": "execute_result"
    },
    {
     "data": {
      "image/png": "[encoded data removed]",
      "text/plain": [
       "<Figure size 640x480 with 1 Axes>"
      ]
     },
     "metadata": {},
     "output_type": "display_data"
    }
   ],
   "source": [
    "temp_dict = {}\n",
    "\n",
    "for i in train:\n",
    "    try:\n",
    "        temp_dict[len(i)] = temp_dict[len(i)] + 1\n",
    "    except:\n",
    "        temp_dict[len(i)] = 1\n",
    "        \n",
    "plt.bar(temp_dict.keys(),temp_dict.values())"
   ]
  },
  {
   "cell_type": "code",
   "execution_count": 307,
   "metadata": {},
   "outputs": [],
   "source": [
    "with open('./BERT/atomInSmile/1M_random_ZINC_word2index.pkl','rb') as file:\n",
    "    word2idx = pickle.load(file)"
   ]
  },
  {
   "cell_type": "code",
   "execution_count": 308,
   "metadata": {},
   "outputs": [
    {
     "data": {
      "text/plain": [
       "732"
      ]
     },
     "execution_count": 308,
     "metadata": {},
     "output_type": "execute_result"
    }
   ],
   "source": [
    "len(word2idx)"
   ]
  },
  {
   "cell_type": "code",
   "execution_count": 309,
   "metadata": {},
   "outputs": [],
   "source": [
    "except_dict = {}\n",
    "\n",
    "for i in train:\n",
    "    for j in i:\n",
    "        try:\n",
    "            word2idx[j]\n",
    "        except:\n",
    "            try:\n",
    "                except_dict[j]\n",
    "            except:\n",
    "                except_dict[j] = len(except_dict) + 1\n",
    "                \n"
   ]
  },
  {
   "cell_type": "code",
   "execution_count": 310,
   "metadata": {},
   "outputs": [
    {
     "data": {
      "text/plain": [
       "268795"
      ]
     },
     "execution_count": 310,
     "metadata": {},
     "output_type": "execute_result"
    }
   ],
   "source": [
    "len(train)"
   ]
  },
  {
   "cell_type": "code",
   "execution_count": 311,
   "metadata": {},
   "outputs": [
    {
     "name": "stdout",
     "output_type": "stream",
     "text": [
      "{'<start>': 1, '<end>': 2, '<unknown1>': 3, '<unknown2>': 4, '<unknown3>': 5, '<unknow4>': 6, '<unknown5>': 7, '[S;!R;CCOO]': 8, '(': 9, '[c;R;CCS]': 10, '1': 11, '[c;R;CCN]': 12, '[CH;R;CCN]': 13, '2': 14, '[N;R;CCC]': 15, '[C;!R;CNO]': 16, '=': 17, '[O;!R;C]': 18, ')': 19, '[c;R;CCC]': 20, '3': 21, '[cH;R;CN]': 22, '[n;R;CN]': 23, '[n;R;CCN]': 24, '[CH3;!R;N]': 25, '[CH2;R;CN]': 26, '[CH2;R;CC]': 27, '[nH;R;CN]': 28, '[O;!R;S]': 29, '[CH3;!R;S]': 30, '[NH;!R;CC]': 31, '[C;!R;NOO]': 32, '[O;!R;CC]': 33, '[CH;R;CCO]': 34, '[CH2;R;CS]': 35, '[S;R;CCOO]': 36, '[cH;R;CC]': 37, '[c;R;CCF]': 38, '[F;!R;C]': 39, '[C;!R;COO]': 40, '[[O-];!R;C]': 41, '[c;R;CCO]': 42, '[OH;!R;C]': 43, '[[NH+];R;CCC]': 44, '[CH2;!R;CN]': 45, '[c;R;CNN]': 46, '[n;R;CCC]': 47, '[n;R;CC]': 48, '[CH;R;CCC]': 49, '[CH3;!R;C]': 50, '[c;R;CNO]': 51, '[nH;R;CC]': 52, '[n;R;CO]': 53, '[o;R;NN]': 54, '[S;!R;CNOO]': 55, '[NH;!R;CS]': 56, '[c;R;NOO]': 57, '[o;R;CC]': 58, '[C;R;CNO]': 59, '[CH;R;CC]': 60, '4': 61, '[NH;R;CC]': 62, '[CH2;R;CO]': 63, '[O;R;CC]': 64, '[c;R;BrCN]': 65, '[Br;!R;C]': 66, '[CH2;!R;CC]': 67, '[CH3;!R;O]': 68, '[CH;!R;CCN]': 69, '[cH;R;NN]': 70, '[[nH+];R;CC]': 71, '[CH2;!R;CO]': 72, '[C;R;NNN]': 73, '[NH2;!R;C]': 74, '[N;R;CC]': 75, '[N;R;CCN]': 76, '[N;R;CN]': 77, '[C;R;CCN]': 78, '[c;R;NNN]': 79, '[NH;!R;C]': 80, '[C;!R;NNO]': 81, '[N;!R;CCC]': 82, '[CH;!R;CCC]': 83, '[c;R;CNS]': 84, '[s;R;CC]': 85, '[cH;R;CS]': 86, '[C;!R;CCCN]': 87, '[o;R;CN]': 88, '[C;!R;CCO]': 89, '[N;R;CCS]': 90, '[CH2;!R;CS]': 91, '[c;R;CCCl]': 92, '[Cl;!R;C]': 93, '[C;!R;CFFF]': 94, '5': 95, '-': 96, '[CH;!R;CC]': 97, '[C;R;NNS]': 98, '[S;!R;C]': 99, '[CH;!R;CCO]': 100, '[C;R;CCCO]': 101, '[c;R;NNO]': 102, '[cH;R;CO]': 103, '[C;R;CCO]': 104, '[S;!R;CCO]': 105, '[NH;!R;CN]': 106, '[CH;R;CNS]': 107, '[S;R;CC]': 108, '[CH;R;CCS]': 109, '[c;R;NNS]': 110, '[s;R;CN]': 111, '[n;R;CS]': 112, '[C;R;NOS]': 113, '[C;R;CCC]': 114, '[[NH3+];!R;C]': 115, '[C;R;NNO]': 116, '[C;R;CCCC]': 117, '[S;!R;CC]': 118, '[C;R;COO]': 119, '[n;R;CNN]': 120, '[n;R;NN]': 121, '[n;R;CNS]': 122, '[c;R;BrCC]': 123, '[cH;R;NS]': 124, '[CH;!R;CCS]': 125, '[C;R;CCNO]': 126, '[C;R;NOO]': 127, '[C;!R;CNS]': 128, '[c;R;COO]': 129, '[CH2;R;OO]': 130, '[[NH+];!R;CCC]': 131, '[NH2;!R;S]': 132, '[C;!R;CCCC]': 133, '[CH;!R;FFO]': 134, '[CH;!R;CO]': 135, '[CH;!R;CN]': 136, '[cH;R;NO]': 137, '[C;R;CCOO]': 138, '[C;R;CCCl]': 139, '[C;!R;NNS]': 140, '[CH;R;COO]': 141, '[CH2;R;NO]': 142, '[C;!R;CCCO]': 143, '[c;R;NSS]': 144, '[N;R;CO]': 145, '[O;R;CN]': 146, '[c;R;CClN]': 147, '[[NH2+];!R;CC]': 148, '[N;!R;CN]': 149, '[C;R;CNS]': 150, '[C;R;CCCN]': 151, '[C;!R;CN]': 152, '#': 153, '[N;!R;C]': 154, '[C;!R;CCC]': 155, '[[N+];!R;COO]': 156, '[[O-];!R;N]': 157, '[O;!R;N]': 158, '[c;R;NOS]': 159, '[C;R;CCFF]': 160, '[N;R;CCO]': 161, '[CH2;!R;NN]': 162, '[C;R;CCNN]': 163, '[[O-];!R;S]': 164, '[S;!R;COOO]': 165, '[CH;R;CNN]': 166, '[c;R;BrCS]': 167, '[CH2;!R;NS]': 168, '[c;R;CSS]': 169, '[[N-];!R;CS]': 170, '[[n-];R;CC]': 171, '[nH;R;NN]': 172, '[O;!R;P]': 173, '[P;!R;NOOO]': 174, '[NH;!R;CP]': 175, '[O;!R;CP]': 176, '[C;R;CCS]': 177, '[C;!R;CCN]': 178, '[N;!R;CCS]': 179, '[c;R;CCI]': 180, '[I;!R;C]': 181, '[[N-];!R;NS]': 182, '[C;!R;NSS]': 183, '[[N-];!R;CC]': 184, '[CH;!R;CFF]': 185, '[N;!R;CO]': 186, '[OH;!R;N]': 187, '[C;R;NSS]': 188, '[C;R;CCCS]': 189, '[[n-];R;CN]': 190, '[C;!R;CCCS]': 191, '[C;R;OOO]': 192, '[CH2;!R;C]': 193, '[c;R;BrCO]': 194, '[N;!R;CC]': 195, '[C;!R;FFFO]': 196, '[O;!R;CN]': 197, '[CH;R;CO]': 198, '[S;!R;NNOO]': 199, '[C;!R;CCCl]': 200, '[n;R;NS]': 201, '[c;R;CClS]': 202, '[CH;R;CN]': 203, '[CH;!R;CS]': 204, '[C;R;COS]': 205, '[c;R;CFN]': 206, '[S;R;CNOO]': 207, '6': 208, '[[NH2+];R;CC]': 209, '[CH;R;CCF]': 210, '[c;R;COS]': 211, '[[N-];R;CC]': 212, '[C;!R;CC]': 213, '[CH;!R;C]': 214, '[CH2;!R;NP]': 215, '[P;R;COOOO]': 216, '[O;R;CP]': 217, '[C;!R;CCCF]': 218, '[CH;!R;FFS]': 219, '[C;!R;CCF]': 220, '[C;R;CCCF]': 221, '[CH;!R;FFN]': 222, '[C;!R;CClClCl]': 223, '[CH2;R;NN]': 224, '[[NH+];R;CC]': 225, '[C;!R;FFFS]': 226, '[N;!R;CCO]': 227, '[C;R;BrBrCC]': 228, '[C;R;CCF]': 229, '[CH2;!R;OO]': 230, '[[N-];!R;CN]': 231, '[CH;R;NN]': 232, '[n;R;CCO]': 233, '[SH;!R;C]': 234, '[CH;!R;CNN]': 235, '[C;!R;CCS]': 236, '[CH2;!R;OS]': 237, '[NH;R;CN]': 238, '[C;!R;CClCl]': 239, '[[S-];!R;C]': 240, '[CH;!R;CNP]': 241, '[P;!R;COOO]': 242, '[[O-];!R;P]': 243, '[CH2;!R;NO]': 244, '[C;!R;ClFFO]': 245, '[CH;R;COP]': 246, '[OH;!R;P]': 247, '[c;R;ClNS]': 248, '[c;R;NNP]': 249, '[[n+];R;CCN]': 250, '[C;R;CNN]': 251, '[c;R;ClNN]': 252, '[Si;!R;CCCC]': 253, '[C;!R;CSi]': 254, '[CH3;!R;Si]': 255, '[[N+];!R;CCCC]': 256, '[C;!R;CCFF]': 257, '[NH2;!R;N]': 258, '[[NH2+];!R;C]': 259, '[[N+];!R;NN]': 260, '[[N-];!R;N]': 261, '[C;!R;CNN]': 262, '[O;!R;CS]': 263, '[[N+];R;CCCC]': 264, '[[NH+];!R;CC]': 265, '[C;R;CC]': 266, '[CH2;R;NS]': 267, '[C;!R;NNN]': 268, '[NH;!R;CO]': 269, '[C;R;CCSS]': 270, '[CH;R;CS]': 271, '[CH;!R;COS]': 272, '[n;R;CCS]': 273, '[N;R;NN]': 274, '[NH;R;NN]': 275, '[[N+];R;CCC]': 276, '[NH;R;CS]': 277, '[c;R;CCP]': 278, '[nH;R;CO]': 279, '[C;!R;NOS]': 280, '[N;R;CNO]': 281, '[N;R;CS]': 282, '[S;R;CN]': 283, '[C;R;CCClCl]': 284, '[s;R;NN]': 285, '[[n+];R;CCC]': 286, '[PH;!R;COO]': 287, '[N;!R;COS]': 288, '[O;!R;NS]': 289, '[C;!R;BrCC]': 290, '[CH;!R;NO]': 291, '[[NH2+];!R;CN]': 292, '[C;R;CCNS]': 293, '[c;R;CClO]': 294, '[NH;!R;NS]': 295, '[CH;R;CNO]': 296, '[C;R;FFOO]': 297, '[C;!R;OOO]': 298, '[N;!R;CCN]': 299, '[CH;!R;CNO]': 300, '[S;R;NNOO]': 301, '[c;R;ClNO]': 302, '[P;!R;OOO]': 303, '[[N+];!R;CN]': 304, '[N;!R;N]': 305, '[CH;R;NNS]': 306, '[C;!R;CCClF]': 307, '[C;!R;CClFF]': 308, '[N;!R;CS]': 309, '[[n+];R;CCO]': 310, '[C;!R;COS]': 311, '[P;!R;OOOO]': 312, '[P;!R;CNNO]': 313, '[N;R;CCP]': 314, '[CH;!R;COO]': 315, '[C;R;BrCC]': 316, '[C;!R;CClN]': 317, '[N;R;CNS]': 318, '[S;R;CNN]': 319, '[C;!R;CCNN]': 320, '[C;!R;CFFO]': 321, '[CH;!R;CFO]': 322, '[[N+];R;CCN]': 323, '[[N-];R;CS]': 324, '[[NH2+];R;CN]': 325, '[[NH+];R;CN]': 326, '[CH2;!R;CF]': 327, '[CH;!R;OO]': 328, '[[o+];R;CC]': 329, '[CH;!R;CCF]': 330, '[c;R;CFS]': 331, '[[S+];R;CCC]': 332, '[CH;!R;CNS]': 333, '[C;!R;BrCFF]': 334, '[P;R;OOOO]': 335, '[c;R;BrNN]': 336, '[S;!R;CN]': 337, '[[n-];R;NN]': 338, '[S;!R;OOOO]': 339, '[CH2;!R;CP]': 340, '[CH;!R;COP]': 341, '[P;R;COOO]': 342, '[C;!R;CCOO]': 343, '[CH;R;COS]': 344, '[C;R;OOS]': 345, '[Si;!R;CCCSi]': 346, '[c;R;CCSi]': 347, '[C;!R;OOS]': 348, '[C;R;CNOO]': 349, '[CH;!R;NN]': 350, '[S;R;CCO]': 351, '[n;R;CNO]': 352, '[C;!R;NN]': 353, '[CH;!R;CSS]': 354, '[[N+];!R;OOO]': 355, '[[N+];R;CNO]': 356, '[S;!R;CCNO]': 357, '[c;R;CIN]': 358, '[c;R;BrNS]': 359, '[C;R;BrCCC]': 360, '[[N-];!R;CP]': 361, '[[N+];!R;CNO]': 362, '[C;!R;CCCCl]': 363, '[n;R;CCP]': 364, '[P;R;NOOO]': 365, '[c;R;OOS]': 366, '[[n-];R;CS]': 367, '[C;R;CCOS]': 368, '[S;R;CCNO]': 369, '[NH2;!R;O]': 370, '[PH;!R;CCO]': 371, '[CH;R;CSS]': 372, '[[n+];R;CNN]': 373, '[[n-];R;CO]': 374, '[CH;R;CCCl]': 375, '[[NH+];!R;CO]': 376, '[P;!R;CCOO]': 377, '[P;!R;CNNN]': 378, '[N;!R;CP]': 379, '[c;R;COP]': 380, '[P;!R;CNOO]': 381, '[CH3;!R;P]': 382, '[C;R;BrNN]': 383, '[CH;!R;CFS]': 384, '[C;!R;BrCClS]': 385, '[[NH+];!R;CN]': 386, '[C;!R;BrCCF]': 387, '[C;!R;CFFP]': 388, '[C;R;NNSS]': 389, '[[N-];R;CN]': 390, '[CH2;!R;CSi]': 391, '[CH2;!R;OSi]': 392, '[NH;!R;NN]': 393, '[C;!R;CFFS]': 394, '[C;R;CNNO]': 395, '[N;!R;NO]': 396, '[NH;!R;NO]': 397, '[C;!R;CFF]': 398, '[S;!R;CNN]': 399, '[NH;!R;S]': 400, '[[o+];R;CN]': 401, '[n;R;NO]': 402, '[C;R;CCP]': 403, '[S;!R;NN]': 404, '[[N-];!R;CO]': 405, '[C;!R;CCFO]': 406, '[S;!R;OOO]': 407, '[[nH+];R;CN]': 408, '[C;R;CCI]': 409, '[C;!R;CSS]': 410, '[[N+];R;CCCN]': 411, '[C;R;CCCCl]': 412, '[C;R;CSS]': 413, '[nH;R;CS]': 414, '[C;!R;BrCCC]': 415, '[S;!R;CNO]': 416, '[[N+];R;CCO]': 417, '[C;!R;CCNP]': 418, '[CH2;R;SS]': 419, '[C;!R;CCClS]': 420, '[C;!R;CCFN]': 421, '[N;!R;CFF]': 422, '[F;!R;N]': 423, '[[N+];!R;CCCO]': 424, '[N;!R;NN]': 425, '[CH2;!R;CCl]': 426, '[c;R;CIO]': 427, '[C;!R;CCOP]': 428, '[C;!R;CP]': 429, '[S;!R;NOOO]': 430, '[N;!R;NS]': 431, '[CH;!R;CI]': 432, '7': 433, '[[N+];R;CCCO]': 434, '[c;R;OOO]': 435, '[C;!R;OSS]': 436, '[C;!R;COP]': 437, '[C;!R;CNP]': 438, '[C;!R;ClClClO]': 439, '[s;R;CS]': 440, '[S;!R;COO]': 441, '[N;!R;CSS]': 442, '[C;R;BrCCN]': 443, '[CH;!R;CSi]': 444, '[C;!R;CClS]': 445, '[CH;!R;CCl]': 446, '[[N+];!R;NOO]': 447, '[C;R;CClS]': 448, '[[n+];R;CNO]': 449, '[P;!R;CCCO]': 450, '[C;!R;CI]': 451, '[CH2;!R;SS]': 452, '[[s+];R;CN]': 453, '[O;!R;NP]': 454, '[N;!R;CCP]': 455, '[[n+];R;COO]': 456, '[N;!R;SS]': 457, '[S;!R;NO]': 458, '[N;R;CNN]': 459, '[C;!R;BrCCS]': 460, '[NH;R;CO]': 461, '[C;!R;BrCFO]': 462, '[N;R;NSS]': 463, '[C;!R;CCP]': 464, '[C;!R;CCSS]': 465, '[C;!R;CCI]': 466, '[CH;R;NNN]': 467, '[[N-];!R;SS]': 468, '[c;R;CIS]': 469, '[C;!R;CClIS]': 470, '[NH;!R;CSi]': 471, '[Si;!R;CCCN]': 472, '[c;R;NPS]': 473, '[CH;R;CCP]': 474, '[S;R;NN]': 475, '[C;!R;BrBrBrC]': 476, '[C;R;COOO]': 477, '[CH2;!R;OP]': 478, '[C;!R;CFFN]': 479, '[C;R;CCCP]': 480, '[C;R;CFFO]': 481, '[c;R;CSSi]': 482, '[S;!R;CCN]': 483, '[P;!R;CCC]': 484, '[C;!R;BrBrC]': 485, '[N;!R;CNO]': 486, '[OH;!R;S]': 487, '[CH2;R;CP]': 488, '[P;R;CCCO]': 489, '[S;R;CNO]': 490, '[CH2;!R;FS]': 491, '[N;R;CSS]': 492, '[C;!R;CCNO]': 493, '[[N+];!R;CCC]': 494, '[C;!R;ClClClP]': 495, '[C;!R;CNNN]': 496, '[c;R;SSS]': 497, '[[n-];R;NO]': 498, '[CH;!R;BrCC]': 499, '[C;R;CCFO]': 500, '[C;!R;BrBrCC]': 501, '[C;R;CCSi]': 502, '[C;!R;CCClCl]': 503, '[CH;R;NS]': 504, '[[n-];R;NS]': 505, '[CH2;R;OS]': 506, '[[s+];R;CC]': 507, '[C;!R;FFFN]': 508, '[CH;!R;CCP]': 509, '[O;R;PP]': 510, '[C;R;BrCN]': 511, '[C;!R;CClClF]': 512, '[C;R;ClNN]': 513, '[P;R;NNNN]': 514, '[N;R;CP]': 515, '[C;R;CNSS]': 516, '[N;R;COO]': 517, '[C;R;CCOP]': 518, '[O;R;CS]': 519, '[S;R;OOO]': 520, '[N;!R;NP]': 521, '[P;!R;NNNN]': 522, '[S;!R;CCC]': 523, '[CH;!R;BrC]': 524, '[O;R;NN]': 525, '[N;R;NNO]': 526, '[n;R;CCSi]': 527, '[C;!R;CCCSi]': 528, '[CH;R;NO]': 529, '[CH;R;NOO]': 530, '[C;R;CCClO]': 531, '[C;!R;CFS]': 532, '[[NH3+];!R;N]': 533, '[P;!R;NNOO]': 534, '[NH2;!R;P]': 535, '[NH;!R;N]': 536, '[NH;!R;OS]': 537, '[C;R;CNOS]': 538, '[CH;!R;NOO]': 539, '[C;!R;COPP]': 540, '[S;!R;CCCO]': 541, '[S;!R;CO]': 542, '[C;!R;CCNS]': 543, '[[N-];!R;NN]': 544, '[O;R;NS]': 545, '[S;R;COO]': 546, '[[N+];!R;CCO]': 547, '[CH;!R;NNN]': 548, '[C;!R;ClClClS]': 549, '[P;R;CCNO]': 550, '[NH;!R;NP]': 551, '[CH;R;CP]': 552, '[C;!R;CFNN]': 553, '[N;R;NO]': 554, '[[O+];R;CN]': 555, '[S;R;NOOO]': 556, '[[S+];!R;CC]': 557, '[c;R;CNP]': 558, '[P;!R;CCNO]': 559, '[C;!R;CCCP]': 560, '[C;!R;CCOS]': 561, '[CH;!R;NNS]': 562, '[[NH+];R;CO]': 563, '[P;R;NNOO]': 564, '[NH;R;PP]': 565, '[[NH2+];!R;CSi]': 566, '[CH2;!R;NSi]': 567, '[C;R;CCNP]': 568, '[[N+];!R;CNN]': 569, '[C;!R;CCClN]': 570, '[C;R;CNNN]': 571, '[CH;!R;CCSi]': 572, '[C;R;CCCSi]': 573, '[[nH+];R;CS]': 574, '[C;!R;NNP]': 575, '[[N-];R;NS]': 576, '[[NH+];!R;CCP]': 577, '[P;R;NOO]': 578, '[NH;R;CP]': 579, '[C;R;BrCS]': 580, '[[N-];!R;OS]': 581, '[PH;!R;CC]': 582, '[C;R;CCClF]': 583, '[CH;!R;CPP]': 584, '[CH;!R;NPP]': 585, '[[P+];!R;CNNN]': 586, '[[PH+];!R;CCC]': 587, '[[N+];R;COO]': 588, '[S;R;NNO]': 589, '[C;!R;SSS]': 590, '[P;R;CCOO]': 591, '[CH2;R;OP]': 592, '[P;R;NNN]': 593, '[CH;R;BrCC]': 594, '[C;R;CClN]': 595, '[C;!R;CCSi]': 596, '[CH;R;CCSi]': 597, '[S;R;COOO]': 598, '[O;!R;PP]': 599, '[N;!R;CNS]': 600, '[CH2;!R;PP]': 601, '[[n+];R;CCS]': 602, '[C;R;CNP]': 603, '[P;R;CNOO]': 604, '[CH;!R;OOP]': 605, '[CH;!R;OOO]': 606, '[[n+];R;NNO]': 607, '[CH2;R;CSi]': 608, '[Si;R;CCCC]': 609, '[c;R;CNSi]': 610, '[C;R;CNNS]': 611, '[c;R;FNN]': 612, '[[PH+];!R;CNN]': 613, '[C;R;BrCCF]': 614, '[C;!R;COOO]': 615, '[S;!R;CNNO]': 616, '[CH;R;NOS]': 617, '[C;R;SSS]': 618, '[[S+];!R;CCC]': 619, '[C;!R;CFFI]': 620, '[C;!R;NO]': 621, '[CH2;!R;N]': 622, '[[N+];!R;NNO]': 623, '[N;!R;CNN]': 624, '[CH;!R;CP]': 625, '[C;!R;BrCIS]': 626, '[P;R;OOO]': 627, '[C;!R;CClClS]': 628, '[Cl;!R;N]': 629, '[N;R;CCCl]': 630, '[N;R;BrCC]': 631, '[Br;!R;N]': 632, '[CH;!R;NSS]': 633, '[CH;R;OOO]': 634, '[C;!R;BrBrCS]': 635, '[CH2;R;NP]': 636, '[P;R;CCC]': 637, '[[O+];!R;CN]': 638, '[SH;!R;NOO]': 639, '[C;!R;BrCN]': 640, '8': 641, '[C;!R;BrCCl]': 642, '[C;!R;BrCCCl]': 643, '[C;R;CCFS]': 644, '[N;R;COS]': 645, '[NH;R;NO]': 646, '[C;R;BrBrCS]': 647, '[C;R;NNOO]': 648, '[CH2;R;NSi]': 649, '[[N+];!R;CC]': 650, '[CH;!R;N]': 651, '[[N-];R;CO]': 652, '[CH;!R;NS]': 653, '[[NH+];!R;CP]': 654, '[s;R;NS]': 655, '[c;R;INN]': 656, '[CH;R;CNP]': 657, '[CH2;!R;PS]': 658, '[[N+];!R;CCCN]': 659, '[CH;R;NNO]': 660, '[C;!R;CO]': 661, '[C;R;CIN]': 662, '[CH2;!R;BrC]': 663, '[[N-];!R;NO]': 664, '[C;R;CClClN]': 665, '[C;!R;CClFO]': 666, '[P;!R;NOO]': 667, '[C;!R;BrC]': 668, '[C;R;NNNO]': 669, '[[PH+];R;CCC]': 670, '[C;R;CCClS]': 671, '[C;R;CFFS]': 672, '[NH;!R;CCl]': 673, '[[N+];R;CNN]': 674, '[[P+];!R;CCNN]': 675, '[C;R;CCClN]': 676, '[[NH+];R;CP]': 677, '[P;R;CNNO]': 678, '[S;R;CCN]': 679, '[S;!R;COOS]': 680, '[S;!R;S]': 681, '[c;R;BrNO]': 682, '[PH;!R;OOO]': 683, '[S;R;NOO]': 684, '[c;R;OSS]': 685, '[C;R;NNNS]': 686, '[CH;R;NSS]': 687, '[C;R;CFFN]': 688, '[C;R;CCCI]': 689, '[CH;!R;CClN]': 690, '[n;R;NNN]': 691, '[N;R;CNP]': 692, '[CH;!R;CClCl]': 693, '[C;!R;NOP]': 694, '[P;!R;CNN]': 695, '[C;!R;CCl]': 696, '[S;!R;NOO]': 697, '[C;!R;COSi]': 698, '[[NH+];!R;CCSi]': 699, '[N;R;PP]': 700, '[[NH+];R;PP]': 701, '[c;R;COSi]': 702, '[[N-];!R;PS]': 703, '[c;R;INS]': 704, '[C;!R;CS]': 705, '[[P+];!R;CCCC]': 706, '[C;R;CCFN]': 707, '[CH2;!R;SSi]': 708, '[C;!R;BrCCN]': 709, '[S;!R;NNO]': 710, '[S;!R;CS]': 711, '[CH;!R;BrCN]': 712, '[C;!R;ClNN]': 713, '[N;!R;BrC]': 714, '[[NH+];R;NN]': 715, '[N;!R;CCl]': 716, '[[NH+];R;CCP]': 717, '[CH;!R;CFN]': 718, '[CH2;!R;S]': 719, '[C;R;COOS]': 720, '[PH;!R;CCCC]': 721, '[C;R;BrNNS]': 722, '[S;R;OOOO]': 723, '[[N+];R;CCCS]': 724, '[CH;!R;CCCl]': 725, '[C;R;CClClO]': 726, '[CH;R;CFO]': 727, '[S;R;CS]': 728, '[C;R;NNOS]': 729, '[C;R;CCOSi]': 730, '[N;!R;CNP]': 731, '[[P+];R;CCCC]': 732}\n"
     ]
    }
   ],
   "source": [
    "print(word2idx)"
   ]
  },
  {
   "cell_type": "code",
   "execution_count": 312,
   "metadata": {},
   "outputs": [],
   "source": [
    "Full_dict = {}\n",
    "for i in train:\n",
    "    for j in i:\n",
    "        try:\n",
    "            except_dict[j]\n",
    "            Full_dict[j] = Full_dict[j]+1\n",
    "        except:\n",
    "            Full_dict[j] = 1\n",
    "        "
   ]
  },
  {
   "cell_type": "code",
   "execution_count": 313,
   "metadata": {},
   "outputs": [
    {
     "name": "stdout",
     "output_type": "stream",
     "text": [
      ". 7320\n",
      "[[Br-];!R;] 20\n",
      "[ClH;!R;] 4880\n",
      "[[N+];!R;C] 80\n",
      "[[S+];!R;CCO] 700\n",
      "[[I-];!R;] 100\n",
      "[[N+];R;CC] 520\n",
      "/[H] 560\n",
      "[[S+];R;CCO] 220\n",
      "[O;R;CO] 360\n",
      "[CH2;!R;FO] 20\n",
      "[[NH+];!R;CS] 20\n",
      "[O;!R;CO] 20\n",
      "[OH;!R;O] 20\n",
      "[C;R;CFN] 80\n",
      "[[Na+];!R;] 40\n",
      "[c;R;CSSe] 40\n",
      "[cH;R;CSe] 40\n",
      "[se;R;CC] 40\n",
      "[IH;!R;] 20\n",
      "[NH3;!R;] 20\n",
      "[C;!R;CFN] 20\n",
      "[[o+];R;NN] 20\n",
      "[S;!R;CP] 80\n",
      "[P;!R;OOSS] 20\n",
      "[SH;R;CC] 20\n",
      "[SH;!R;COO] 20\n",
      "[[P+];!R;OOSS] 20\n",
      "[[Cl-];!R;] 20\n",
      "[[S+];!R;CCNO] 60\n",
      "[OH2;!R;] 20\n",
      "[CH;!R;BCN] 60\n",
      "[B;!R;COO] 40\n",
      "[OH;!R;B] 80\n",
      "[B;R;COO] 20\n",
      "[O;R;BC] 40\n",
      "[SH;!R;OOO] 40\n",
      "[S;!R;CFOO] 20\n",
      "[F;!R;S] 20\n",
      "[S;!R;AuC] 20\n",
      "[Au;!R;PS] 20\n",
      "[P;!R;AuCCC] 20\n"
     ]
    }
   ],
   "source": [
    "for i in except_dict.keys():\n",
    "    if Full_dict[i]>5:\n",
    "        print(i,Full_dict[i])"
   ]
  },
  {
   "cell_type": "code",
   "execution_count": 314,
   "metadata": {},
   "outputs": [],
   "source": [
    "from difflib import SequenceMatcher\n",
    "def similar(a, b):    return SequenceMatcher(None, a, b).ratio()"
   ]
  },
  {
   "cell_type": "code",
   "execution_count": 315,
   "metadata": {},
   "outputs": [],
   "source": [
    "def most_similar(query):\n",
    "\n",
    "    max = 0\n",
    "    tokken = ''\n",
    "    query = query.split(';')\n",
    "    for i in word2idx.keys():\n",
    "        key = i.split(';')\n",
    "        temp2 = 0\n",
    "        temp3 = 0\n",
    "        temp1 = similar(query[0],key[0])*10\n",
    "        try:\n",
    "            temp2 = similar(query[1],key[1])*2\n",
    "            temp3 = similar(query[2],key[2])*1\n",
    "        except:\n",
    "            pass\n",
    "        temp = temp1+temp2+temp3\n",
    "        if temp>max:\n",
    "            max = temp\n",
    "            tokken = i\n",
    "    return tokken"
   ]
  },
  {
   "cell_type": "code",
   "execution_count": 316,
   "metadata": {},
   "outputs": [],
   "source": [
    "similar_dict = {}\n",
    "\n",
    "for i in except_dict.keys():\n",
    "    similar_dict[i] = most_similar(i)"
   ]
  },
  {
   "cell_type": "code",
   "execution_count": 317,
   "metadata": {},
   "outputs": [],
   "source": [
    "### Data processing\n",
    "AIS_train = []\n",
    "for index,i in enumerate(train):\n",
    "    temp = []\n",
    "    temp.append(3)\n",
    "    temp.append(1)\n",
    "    for j in i:\n",
    "        try:\n",
    "            temp.append(word2idx[j])\n",
    "        except:\n",
    "            if j != '/[H]':\n",
    "                word_sim = similar_dict[j]\n",
    "                if word_sim != '':\n",
    "                    temp.append(word2idx[word_sim])\n",
    "            else:\n",
    "                pass\n",
    "    if len(temp)>1:\n",
    "        AIS_train.append(temp)\n",
    "\n",
    "AIS_train = tf.keras.preprocessing.sequence.pad_sequences(AIS_train, padding='post', maxlen=200)"
   ]
  },
  {
   "cell_type": "code",
   "execution_count": 318,
   "metadata": {},
   "outputs": [],
   "source": [
    "temp_x = []\n",
    "temp_y = []\n",
    "index = 0\n",
    "for i in len_20:\n",
    "    temp_x.append(AIS_train[index:index+i])\n",
    "    temp_y.append(label[index:index+i])\n",
    "    index = index+i\n",
    "\n",
    "\n",
    "\n",
    "x_train, x_val, y_train, y_val,_,len_20 = train_test_split(temp_x,temp_y,len_20, test_size=0.1, random_state=42)\n",
    "\n",
    "temp = []\n",
    "for i in x_train:\n",
    "    temp+=list(i)\n",
    "x_train = np.array(temp)\n",
    "\n",
    "temp = []\n",
    "for i in x_val:\n",
    "    temp+=list(i)\n",
    "x_val = np.array(temp)\n",
    "\n",
    "temp = []\n",
    "for i in y_train:\n",
    "    temp+=list(i)\n",
    "y_train = np.array(temp)\n",
    "\n",
    "temp = []\n",
    "for i in y_val:\n",
    "    temp+=list(i)\n",
    "y_val = np.array(temp)\n"
   ]
  },
  {
   "cell_type": "code",
   "execution_count": 319,
   "metadata": {},
   "outputs": [],
   "source": [
    "\n",
    "def R2(y,y_pred):\n",
    "    residual = tf.reduce_sum(tf.square(tf.subtract(y,y_pred)))\n",
    "    total = tf.reduce_sum(tf.square(tf.subtract(y,tf.reduce_mean(y))))\n",
    "    r2 = tf.subtract(1.0,tf.div(residual,total))\n",
    "    return r2\n",
    "\n"
   ]
  },
  {
   "cell_type": "code",
   "execution_count": 320,
   "metadata": {},
   "outputs": [],
   "source": [
    "from tensorflow.keras.optimizers import Adam\n",
    "BERT_Classifier.compile(loss = 'binary_crossentropy',optimizer=Adam(learning_rate=1e-5),metrics=['acc',AUC(name='auc')])\n",
    "BERT_Regression.compile(loss = 'mean_squared_error',optimizer=Adam(learning_rate=1e-5),metrics=[R2])"
   ]
  },
  {
   "cell_type": "code",
   "execution_count": 321,
   "metadata": {},
   "outputs": [],
   "source": [
    "from sklearn.metrics import accuracy_score, recall_score, precision_score, f1_score\n",
    "auc = AUC()\n",
    "class CustomCallback(tf.keras.callbacks.Callback):\n",
    "    def __init__(self, result_list,y_true,len_20):\n",
    "        super().__init__()\n",
    "        self.result_list = result_list\n",
    "        index = 0\n",
    "        res = []\n",
    "        for i in len_20:\n",
    "            res.append(np.average(y_true[index:index+i]))\n",
    "            index = index+i\n",
    "        \n",
    "        \n",
    "        self.y_true = np.array(res)\n",
    "        self.history = {}\n",
    "        \n",
    "    def on_epoch_end(self, epoch, logs=None):\n",
    "        # 에포크가 끝날 때마다 validation 데이터로 모델 평가\n",
    "        result = predict(self.model,self.result_list,len_20)\n",
    "        acc = tf.keras.metrics.Accuracy()(self.y_true,np.round(result))\n",
    "        auc_res = AUC()(self.y_true,result)\n",
    "        loss = tf.keras.metrics.BinaryCrossentropy()(self.y_true,result)\n",
    "        auc_res = auc_res.numpy()\n",
    "        print(f\"     val_acc : {acc},    val_auc : {auc_res} val_loss : {loss}\")\n",
    "        if 'val_acc' not in self.history:\n",
    "            self.history['val_acc'] = [acc]\n",
    "        else:\n",
    "            self.history['val_acc'] += [acc]\n",
    "        if 'val_auc' not in self.history:\n",
    "            self.history['val_auc'] = [auc_res]\n",
    "        else:\n",
    "            self.history['val_auc'] += [auc_res]\n",
    "        \n",
    "        if 'val_loss' not in self.history:\n",
    "            self.history['val_loss'] = [loss]\n",
    "        else:\n",
    "            self.history['val_loss'] += [loss]\n"
   ]
  },
  {
   "cell_type": "code",
   "execution_count": 323,
   "metadata": {},
   "outputs": [],
   "source": [
    "val_call = CustomCallback(x_val,y_val,len_20)"
   ]
  },
  {
   "cell_type": "code",
   "execution_count": 324,
   "metadata": {},
   "outputs": [
    {
     "name": "stdout",
     "output_type": "stream",
     "text": [
      "Epoch 1/20\n",
      "7560/7560 [==============================] - ETA: 0s - loss: 0.5946 - acc: 0.7450 - auc: 0.8239     val_acc : 0.7568773031234741,    val_auc : 0.8537072539329529 val_loss : 0.4921480119228363\n",
      "7560/7560 [==============================] - 591s 76ms/step - loss: 0.5946 - acc: 0.7450 - auc: 0.8239\n",
      "Epoch 2/20\n",
      "7560/7560 [==============================] - ETA: 0s - loss: 0.5512 - acc: 0.7688 - auc: 0.8506     val_acc : 0.781412661075592,    val_auc : 0.8656952977180481 val_loss : 0.4623258411884308\n",
      "7560/7560 [==============================] - 568s 75ms/step - loss: 0.5512 - acc: 0.7688 - auc: 0.8506\n",
      "Epoch 3/20\n",
      "7560/7560 [==============================] - ETA: 0s - loss: 0.5201 - acc: 0.7850 - auc: 0.8678     val_acc : 0.7881041169166565,    val_auc : 0.8714430928230286 val_loss : 0.4562114179134369\n",
      "7560/7560 [==============================] - 568s 75ms/step - loss: 0.5201 - acc: 0.7850 - auc: 0.8678\n",
      "Epoch 4/20\n",
      "7560/7560 [==============================] - ETA: 0s - loss: 0.4963 - acc: 0.7972 - auc: 0.8802     val_acc : 0.7925650477409363,    val_auc : 0.8804920315742493 val_loss : 0.44617825746536255\n",
      "7560/7560 [==============================] - 568s 75ms/step - loss: 0.4963 - acc: 0.7972 - auc: 0.8802\n",
      "Epoch 5/20\n",
      "7560/7560 [==============================] - ETA: 0s - loss: 0.4771 - acc: 0.8060 - auc: 0.8899     val_acc : 0.7977695465087891,    val_auc : 0.8835097551345825 val_loss : 0.43553218245506287\n",
      "7560/7560 [==============================] - 560s 74ms/step - loss: 0.4771 - acc: 0.8060 - auc: 0.8899\n",
      "Epoch 6/20\n",
      "1265/7560 [====>.........................] - ETA: 7:22 - loss: 0.4629 - acc: 0.8135 - auc: 0.8972"
     ]
    }
   ],
   "source": [
    "from tensorflow.keras.optimizers import Adam\n",
    "BERT_Classifier.compile(loss = 'binary_crossentropy',optimizer=Adam(learning_rate=1e-5),metrics=['acc',AUC(name='auc')])\n",
    "\n",
    "with tf.device('/device:GPU:0'):\n",
    "    temp_history = BERT_Classifier.fit(x_train,np.array(y_train),epochs=20,batch_size=32,callbacks=[val_call])"
   ]
  },
  {
   "cell_type": "code",
   "execution_count": null,
   "metadata": {},
   "outputs": [],
   "source": [
    "len_20_herg_karim = []\n",
    "x_val_herg = []\n",
    "y_val_herg = []\n",
    " \n",
    "number = 0\n",
    "for index,i in enumerate(len_20):\n",
    "    if y_val[index][2] == 1 or y_val[index][3] == 1:\n",
    "        y_val_herg.append(y_val[index])\n",
    "        len_20_herg_karim.append(i)\n",
    "        x_val_herg.append(x_val[number:number+i])\n",
    "    number += i\n",
    "\n",
    "np.array(len_20_herg_karim) \n",
    "np.array(x_val_herg)\n",
    "np.array(y_val_herg)\n",
    "    "
   ]
  },
  {
   "cell_type": "code",
   "execution_count": null,
   "metadata": {},
   "outputs": [],
   "source": [
    "evaluate = predict(BERT_Classifier,x_val_herg,len_20_herg)\n",
    "herg_karim_val_acc = Accuracy()(y_val_herg,evaluate)"
   ]
  },
  {
   "cell_type": "code",
   "execution_count": 131,
   "metadata": {},
   "outputs": [],
   "source": [
    "#with tf.device('/device:GPU:0'):\n",
    "    #temp_history = BERT_Classifier.fit(x_train1,y_train1,epochs=50,validation_data=(x_val1,y_val1),batch_size=32,callbacks=[callback])"
   ]
  },
  {
   "cell_type": "code",
   "execution_count": 293,
   "metadata": {},
   "outputs": [
    {
     "name": "stdout",
     "output_type": "stream",
     "text": [
      "Model: \"model_30\"\n",
      "_________________________________________________________________\n",
      " Layer (type)                Output Shape              Param #   \n",
      "=================================================================\n",
      " input (InputLayer)          [(None, 2048)]            0         \n",
      "                                                                 \n",
      " dense_245 (Dense)           (None, 250)               512250    \n",
      "                                                                 \n",
      " dropout_184 (Dropout)       (None, 250)               0         \n",
      "                                                                 \n",
      " dense_246 (Dense)           (None, 40)                10040     \n",
      "                                                                 \n",
      " dropout_185 (Dropout)       (None, 40)                0         \n",
      "                                                                 \n",
      " dense_247 (Dense)           (None, 10)                410       \n",
      "                                                                 \n",
      " dropout_186 (Dropout)       (None, 10)                0         \n",
      "                                                                 \n",
      " dense_248 (Dense)           (None, 1)                 11        \n",
      "                                                                 \n",
      "=================================================================\n",
      "Total params: 522,711\n",
      "Trainable params: 522,711\n",
      "Non-trainable params: 0\n",
      "_________________________________________________________________\n"
     ]
    }
   ],
   "source": [
    "import tensorflow as tf\n",
    "from tensorflow.keras.layers import MaxPool2D\n",
    "from tensorflow.keras.layers import Conv2D\n",
    "from tensorflow.keras.layers import Input\n",
    "from tensorflow.keras.layers import Flatten,Dense\n",
    "from tensorflow.keras.models import Model\n",
    "from tensorflow.keras.layers import Dropout\n",
    "inputs = Input(shape=(2048,),name='input')\n",
    "outputs = Dense(250,activation = 'relu')(inputs)\n",
    "outputs = Dropout(0.3)(outputs)\n",
    "outputs = Dense(40,activation = 'relu')(outputs)\n",
    "outputs = Dropout(0.3)(outputs)\n",
    "outputs = Dense(10,activation = 'relu')(outputs)\n",
    "outputs = Dropout(0.3)(outputs)\n",
    "outputs = Dense(1,activation = 'sigmoid')(outputs)\n",
    "\n",
    "model_NN = Model(inputs= [inputs], outputs=[outputs])\n",
    "model_NN.summary()"
   ]
  },
  {
   "cell_type": "code",
   "execution_count": 300,
   "metadata": {},
   "outputs": [
    {
     "ename": "NameError",
     "evalue": "name 'tox_name' is not defined",
     "output_type": "error",
     "traceback": [
      "\u001b[0;31m---------------------------------------------------------------------------\u001b[0m",
      "\u001b[0;31mNameError\u001b[0m                                 Traceback (most recent call last)",
      "Cell \u001b[0;32mIn[300], line 3\u001b[0m\n\u001b[1;32m      1\u001b[0m \u001b[38;5;28;01mfrom\u001b[39;00m \u001b[38;5;21;01mtdc\u001b[39;00m\u001b[38;5;21;01m.\u001b[39;00m\u001b[38;5;21;01msingle_pred\u001b[39;00m \u001b[38;5;28;01mimport\u001b[39;00m Tox\n\u001b[1;32m      2\u001b[0m \u001b[38;5;28;01mfrom\u001b[39;00m \u001b[38;5;21;01mModule\u001b[39;00m \u001b[38;5;28;01mimport\u001b[39;00m RDK\n\u001b[0;32m----> 3\u001b[0m train,tox_info \u001b[38;5;241m=\u001b[39m Tox(name\u001b[38;5;241m=\u001b[39m\u001b[43mtox_name\u001b[49m)\u001b[38;5;241m.\u001b[39mget_data(\u001b[38;5;28mformat\u001b[39m\u001b[38;5;241m=\u001b[39m\u001b[38;5;124m'\u001b[39m\u001b[38;5;124mDeepPurpose\u001b[39m\u001b[38;5;124m'\u001b[39m)\n\u001b[1;32m      4\u001b[0m bit_string \u001b[38;5;241m=\u001b[39m RDK\u001b[38;5;241m.\u001b[39msmile_to_RDkit(train,\u001b[38;5;241m2048\u001b[39m)\n\u001b[1;32m      5\u001b[0m x_train_NN,x_val_NN,y_train_NN,y_val_NN \u001b[38;5;241m=\u001b[39m train_test_split(np\u001b[38;5;241m.\u001b[39marray(bit_string)\u001b[38;5;241m/\u001b[39m\u001b[38;5;241m1.\u001b[39m,np\u001b[38;5;241m.\u001b[39marray(tox_info)\u001b[38;5;241m/\u001b[39m\u001b[38;5;241m1.\u001b[39m,test_size\u001b[38;5;241m=\u001b[39m\u001b[38;5;241m0.2\u001b[39m,random_state\u001b[38;5;241m=\u001b[39m\u001b[38;5;241m1300\u001b[39m)\n",
      "\u001b[0;31mNameError\u001b[0m: name 'tox_name' is not defined"
     ]
    }
   ],
   "source": [
    "from tdc.single_pred import Tox\n",
    "from Module import RDK\n",
    "train,tox_info = Tox(name=tox_name).get_data(format='DeepPurpose')\n",
    "bit_string = RDK.smile_to_RDkit(train,2048)\n",
    "x_train_NN,x_val_NN,y_train_NN,y_val_NN = train_test_split(np.array(bit_string)/1.,np.array(tox_info)/1.,test_size=0.2,random_state=1300)"
   ]
  },
  {
   "cell_type": "code",
   "execution_count": 295,
   "metadata": {},
   "outputs": [],
   "source": [
    "model_NN.compile(loss = 'binary_crossentropy',optimizer='Adam',metrics=['acc',AUC(name = 'auc')])"
   ]
  },
  {
   "cell_type": "code",
   "execution_count": 296,
   "metadata": {},
   "outputs": [
    {
     "name": "stdout",
     "output_type": "stream",
     "text": [
      "Epoch 1/20\n",
      "19/19 [==============================] - 2s 25ms/step - loss: 0.6776 - acc: 0.5500 - auc: 0.5922 - val_loss: 0.6358 - val_acc: 0.7895 - val_auc: 0.8232\n",
      "Epoch 2/20\n",
      "19/19 [==============================] - 0s 12ms/step - loss: 0.5604 - acc: 0.7579 - auc: 0.8462 - val_loss: 0.5507 - val_acc: 0.7684 - val_auc: 0.8523\n",
      "Epoch 3/20\n",
      "19/19 [==============================] - 0s 12ms/step - loss: 0.4158 - acc: 0.8474 - auc: 0.9161 - val_loss: 0.4937 - val_acc: 0.7579 - val_auc: 0.8613\n",
      "Epoch 4/20\n",
      "19/19 [==============================] - 0s 12ms/step - loss: 0.2420 - acc: 0.9158 - auc: 0.9772 - val_loss: 0.4565 - val_acc: 0.8105 - val_auc: 0.8776\n",
      "Epoch 5/20\n",
      "19/19 [==============================] - 0s 12ms/step - loss: 0.1875 - acc: 0.9395 - auc: 0.9833 - val_loss: 0.5370 - val_acc: 0.8000 - val_auc: 0.8832\n",
      "Epoch 6/20\n",
      "19/19 [==============================] - 0s 12ms/step - loss: 0.0949 - acc: 0.9737 - auc: 0.9989 - val_loss: 0.5887 - val_acc: 0.8000 - val_auc: 0.8805\n",
      "Epoch 7/20\n",
      "19/19 [==============================] - 0s 12ms/step - loss: 0.0741 - acc: 0.9789 - auc: 0.9986 - val_loss: 0.7232 - val_acc: 0.7684 - val_auc: 0.8812\n",
      "Epoch 8/20\n",
      "19/19 [==============================] - 0s 12ms/step - loss: 0.0530 - acc: 0.9921 - auc: 0.9994 - val_loss: 0.6878 - val_acc: 0.7895 - val_auc: 0.8853\n",
      "Epoch 9/20\n",
      "19/19 [==============================] - 0s 12ms/step - loss: 0.0429 - acc: 0.9842 - auc: 0.9997 - val_loss: 0.7969 - val_acc: 0.7789 - val_auc: 0.8726\n",
      "Epoch 10/20\n",
      "19/19 [==============================] - 0s 12ms/step - loss: 0.0395 - acc: 0.9842 - auc: 0.9994 - val_loss: 0.7497 - val_acc: 0.7684 - val_auc: 0.8645\n",
      "Epoch 11/20\n",
      "19/19 [==============================] - 0s 12ms/step - loss: 0.0473 - acc: 0.9895 - auc: 0.9984 - val_loss: 0.9473 - val_acc: 0.7579 - val_auc: 0.8609\n",
      "Epoch 12/20\n",
      "19/19 [==============================] - 0s 12ms/step - loss: 0.0404 - acc: 0.9895 - auc: 0.9990 - val_loss: 1.2889 - val_acc: 0.7158 - val_auc: 0.8333\n",
      "Epoch 13/20\n",
      "19/19 [==============================] - 0s 12ms/step - loss: 0.0230 - acc: 0.9947 - auc: 0.9999 - val_loss: 1.0762 - val_acc: 0.7474 - val_auc: 0.8498\n",
      "Epoch 14/20\n",
      "19/19 [==============================] - 0s 12ms/step - loss: 0.0219 - acc: 0.9947 - auc: 1.0000 - val_loss: 0.9173 - val_acc: 0.8000 - val_auc: 0.8514\n",
      "Epoch 15/20\n",
      "19/19 [==============================] - 0s 12ms/step - loss: 0.0174 - acc: 0.9974 - auc: 1.0000 - val_loss: 1.0583 - val_acc: 0.7789 - val_auc: 0.8487\n",
      "Epoch 16/20\n",
      "19/19 [==============================] - 0s 12ms/step - loss: 0.0138 - acc: 0.9974 - auc: 1.0000 - val_loss: 1.2094 - val_acc: 0.7684 - val_auc: 0.8437\n",
      "Epoch 17/20\n",
      "19/19 [==============================] - 0s 12ms/step - loss: 0.0160 - acc: 1.0000 - auc: 1.0000 - val_loss: 1.1012 - val_acc: 0.7684 - val_auc: 0.8482\n",
      "Epoch 18/20\n",
      "19/19 [==============================] - 0s 12ms/step - loss: 0.0210 - acc: 1.0000 - auc: 1.0000 - val_loss: 1.0922 - val_acc: 0.7895 - val_auc: 0.8482\n",
      "Epoch 19/20\n",
      "19/19 [==============================] - 0s 12ms/step - loss: 0.0140 - acc: 1.0000 - auc: 1.0000 - val_loss: 1.2661 - val_acc: 0.7684 - val_auc: 0.8408\n",
      "Epoch 20/20\n",
      "19/19 [==============================] - 0s 12ms/step - loss: 0.0173 - acc: 1.0000 - auc: 1.0000 - val_loss: 1.2933 - val_acc: 0.7579 - val_auc: 0.8392\n"
     ]
    },
    {
     "data": {
      "text/plain": [
       "<keras.callbacks.History at 0x7f6bb825ada0>"
      ]
     },
     "execution_count": 296,
     "metadata": {},
     "output_type": "execute_result"
    }
   ],
   "source": [
    "model_NN.fit(x_train_NN,y_train_NN,epochs=20,validation_data=(x_val_NN,y_val_NN),batch_size=20)"
   ]
  },
  {
   "cell_type": "code",
   "execution_count": 298,
   "metadata": {},
   "outputs": [
    {
     "ename": "NameError",
     "evalue": "name 'Tox_name' is not defined",
     "output_type": "error",
     "traceback": [
      "\u001b[0;31m---------------------------------------------------------------------------\u001b[0m",
      "\u001b[0;31mNameError\u001b[0m                                 Traceback (most recent call last)",
      "Cell \u001b[0;32mIn[298], line 4\u001b[0m\n\u001b[1;32m      2\u001b[0m plt\u001b[38;5;241m.\u001b[39mplot([i \u001b[38;5;28;01mfor\u001b[39;00m i \u001b[38;5;129;01min\u001b[39;00m \u001b[38;5;28mrange\u001b[39m(\u001b[38;5;28mlen\u001b[39m(val_call\u001b[38;5;241m.\u001b[39mhistory[\u001b[38;5;124m'\u001b[39m\u001b[38;5;124mval_acc\u001b[39m\u001b[38;5;124m'\u001b[39m]))],val_call\u001b[38;5;241m.\u001b[39mhistory[\u001b[38;5;124m'\u001b[39m\u001b[38;5;124mval_acc\u001b[39m\u001b[38;5;124m'\u001b[39m],label \u001b[38;5;241m=\u001b[39m \u001b[38;5;124m'\u001b[39m\u001b[38;5;124mBERT_Val_ACC data\u001b[39m\u001b[38;5;124m'\u001b[39m)\n\u001b[1;32m      3\u001b[0m \u001b[38;5;66;03m#plt.plot([i for i in range(len(val_call2.history['val_acc']))],val_call2.history['val_acc'],label = 'BERT_Norm acc data')\u001b[39;00m\n\u001b[0;32m----> 4\u001b[0m plt\u001b[38;5;241m.\u001b[39mtitle(\u001b[43mTox_name\u001b[49m \u001b[38;5;241m+\u001b[39m \u001b[38;5;124m'\u001b[39m\u001b[38;5;124m ACC\u001b[39m\u001b[38;5;124m'\u001b[39m)\n\u001b[1;32m      5\u001b[0m plt\u001b[38;5;241m.\u001b[39mxlabel(\u001b[38;5;124m'\u001b[39m\u001b[38;5;124mepoch\u001b[39m\u001b[38;5;124m'\u001b[39m)\n\u001b[1;32m      6\u001b[0m plt\u001b[38;5;241m.\u001b[39mylabel(\u001b[38;5;124m'\u001b[39m\u001b[38;5;124mscore\u001b[39m\u001b[38;5;124m'\u001b[39m)\n",
      "\u001b[0;31mNameError\u001b[0m: name 'Tox_name' is not defined"
     ]
    },
    {
     "data": {
      "image/png": "[encoded data removed]",
      "text/plain": [
       "<Figure size 640x480 with 1 Axes>"
      ]
     },
     "metadata": {},
     "output_type": "display_data"
    }
   ],
   "source": [
    "plt.plot([i for i in range(len(model_NN.history.history['val_acc']))],model_NN.history.history['val_acc'],label='bit_Val_ACC data')\n",
    "plt.plot([i for i in range(len(val_call.history['val_acc']))],val_call.history['val_acc'],label = 'BERT_Val_ACC data')\n",
    "#plt.plot([i for i in range(len(val_call2.history['val_acc']))],val_call2.history['val_acc'],label = 'BERT_Norm acc data')\n",
    "plt.title(Tox_name + ' ACC')\n",
    "plt.xlabel('epoch')\n",
    "plt.ylabel('score')\n",
    "\n",
    "plt.legend()"
   ]
  },
  {
   "cell_type": "code",
   "execution_count": 299,
   "metadata": {},
   "outputs": [
    {
     "ename": "NameError",
     "evalue": "name 'Tox_name' is not defined",
     "output_type": "error",
     "traceback": [
      "\u001b[0;31m---------------------------------------------------------------------------\u001b[0m",
      "\u001b[0;31mNameError\u001b[0m                                 Traceback (most recent call last)",
      "Cell \u001b[0;32mIn[299], line 4\u001b[0m\n\u001b[1;32m      2\u001b[0m plt\u001b[38;5;241m.\u001b[39mplot([i \u001b[38;5;28;01mfor\u001b[39;00m i \u001b[38;5;129;01min\u001b[39;00m \u001b[38;5;28mrange\u001b[39m(\u001b[38;5;28mlen\u001b[39m(val_call\u001b[38;5;241m.\u001b[39mhistory[\u001b[38;5;124m'\u001b[39m\u001b[38;5;124mval_acc\u001b[39m\u001b[38;5;124m'\u001b[39m]))],val_call\u001b[38;5;241m.\u001b[39mhistory[\u001b[38;5;124m'\u001b[39m\u001b[38;5;124mval_auc\u001b[39m\u001b[38;5;124m'\u001b[39m],label \u001b[38;5;241m=\u001b[39m \u001b[38;5;124m'\u001b[39m\u001b[38;5;124mBERT_Val_AUC data\u001b[39m\u001b[38;5;124m'\u001b[39m)\n\u001b[1;32m      3\u001b[0m \u001b[38;5;66;03m#plt.plot([i for i in range(len(val_call2.history['val_acc']))],val_call2.history['val_auc'],label = 'BERT_Norm data')\u001b[39;00m\n\u001b[0;32m----> 4\u001b[0m plt\u001b[38;5;241m.\u001b[39mtitle(\u001b[43mTox_name\u001b[49m \u001b[38;5;241m+\u001b[39m \u001b[38;5;124m'\u001b[39m\u001b[38;5;124m AUC\u001b[39m\u001b[38;5;124m'\u001b[39m)\n\u001b[1;32m      5\u001b[0m plt\u001b[38;5;241m.\u001b[39mxlabel(\u001b[38;5;124m'\u001b[39m\u001b[38;5;124mepoch\u001b[39m\u001b[38;5;124m'\u001b[39m)\n\u001b[1;32m      6\u001b[0m plt\u001b[38;5;241m.\u001b[39mylabel(\u001b[38;5;124m'\u001b[39m\u001b[38;5;124mscore\u001b[39m\u001b[38;5;124m'\u001b[39m)\n",
      "\u001b[0;31mNameError\u001b[0m: name 'Tox_name' is not defined"
     ]
    },
    {
     "data": {
      "image/png": "[encoded data removed]",
      "text/plain": [
       "<Figure size 640x480 with 1 Axes>"
      ]
     },
     "metadata": {},
     "output_type": "display_data"
    }
   ],
   "source": [
    "plt.plot([i for i in range(len(model_NN.history.history['val_auc']))],model_NN.history.history['val_auc'],label='bit_Val_AUC data')\n",
    "plt.plot([i for i in range(len(val_call.history['val_acc']))],val_call.history['val_auc'],label = 'BERT_Val_AUC data')\n",
    "#plt.plot([i for i in range(len(val_call2.history['val_acc']))],val_call2.history['val_auc'],label = 'BERT_Norm data')\n",
    "plt.title(Tox_name + ' AUC')\n",
    "plt.xlabel('epoch')\n",
    "plt.ylabel('score')\n",
    "\n",
    "plt.legend()"
   ]
  },
  {
   "cell_type": "code",
   "execution_count": null,
   "metadata": {},
   "outputs": [
    {
     "name": "stdout",
     "output_type": "stream",
     "text": [
      "46/46 [==============================] - 0s 10ms/step - loss: 3.4944 - acc: 0.5962 - auc: 0.6115\n"
     ]
    },
    {
     "data": {
      "text/plain": [
       "[3.4943673610687256, 0.5961538553237915, 0.6114746928215027]"
      ]
     },
     "execution_count": 319,
     "metadata": {},
     "output_type": "execute_result"
    }
   ],
   "source": [
    "model_NN.evaluate(x_test_NN,y_test_NN)"
   ]
  },
  {
   "cell_type": "code",
   "execution_count": null,
   "metadata": {},
   "outputs": [],
   "source": [
    "def plot_model_acc(history,model_name=''):\n",
    "    ## Accuracy plot\n",
    "    plt.plot(history.history['acc'])\n",
    "    plt.plot(history.history['val_acc'])\n",
    "    plt.title(model_name+'Model accuracy')\n",
    "    plt.xlabel('Epoch')\n",
    "    plt.ylabel('Accuracy')\n",
    "    plt.legend(['Train', 'Test'], loc='upper left')\n",
    "    plt.show()\n",
    "\n",
    "def plot_model_loss(history):\n",
    "    plt.plot(history.history['loss'])\n",
    "    plt.plot(history.history['val_loss'])\n",
    "    plt.title('Model loss')\n",
    "    plt.xlabel('Epoch')\n",
    "    plt.ylabel('Loss')\n",
    "    plt.legend(['Train', 'Test'], loc='upper left')\n",
    "    plt.show()\n",
    "   "
   ]
  },
  {
   "cell_type": "code",
   "execution_count": null,
   "metadata": {},
   "outputs": [
    {
     "name": "stdout",
     "output_type": "stream",
     "text": [
      "2/2 [==============================] - 1s 32ms/step\n"
     ]
    }
   ],
   "source": [
    "from sklearn.metrics import roc_curve\n",
    "y_pred_keras = BERT_model.predict(x_val).ravel()\n",
    "fpr_keras, tpr_keras, thresholds_keras = roc_curve(y_val, y_pred_keras)"
   ]
  },
  {
   "cell_type": "code",
   "execution_count": null,
   "metadata": {},
   "outputs": [],
   "source": [
    "from sklearn.metrics import auc\n",
    "auc_keras = auc(fpr_keras, tpr_keras)"
   ]
  },
  {
   "cell_type": "code",
   "execution_count": null,
   "metadata": {},
   "outputs": [
    {
     "data": {
      "image/png": "[encoded data removed]",
      "text/plain": [
       "<Figure size 640x480 with 1 Axes>"
      ]
     },
     "metadata": {},
     "output_type": "display_data"
    }
   ],
   "source": [
    "plt.figure(1)\n",
    "plt.plot([0, 1], [0, 1], 'k--')\n",
    "plt.plot(fpr_keras, tpr_keras, label='Keras (area = {:.3f})'.format(auc_keras))\n",
    "plt.xlabel('False positive rate')\n",
    "plt.ylabel('True positive rate')\n",
    "plt.title('LSTM ROC curve')\n",
    "plt.legend(loc='best')\n",
    "plt.show()\n",
    "# Zoom in view of the upper left corner."
   ]
  },
  {
   "cell_type": "code",
   "execution_count": null,
   "metadata": {},
   "outputs": [
    {
     "name": "stdout",
     "output_type": "stream",
     "text": [
      "3/3 [==============================] - 0s 4ms/step\n"
     ]
    }
   ],
   "source": [
    "from sklearn.metrics import roc_curve\n",
    "y_pred_keras = model_NN.predict(x_val_NN).ravel()\n",
    "fpr_keras, tpr_keras, thresholds_keras = roc_curve(y_val_NN, y_pred_keras)"
   ]
  },
  {
   "cell_type": "code",
   "execution_count": null,
   "metadata": {},
   "outputs": [],
   "source": [
    "from sklearn.metrics import auc\n",
    "auc_keras = auc(fpr_keras, tpr_keras)"
   ]
  },
  {
   "cell_type": "code",
   "execution_count": null,
   "metadata": {},
   "outputs": [
    {
     "data": {
      "image/png": "[encoded data removed]",
      "text/plain": [
       "<Figure size 640x480 with 1 Axes>"
      ]
     },
     "metadata": {},
     "output_type": "display_data"
    }
   ],
   "source": [
    "plt.figure(1)\n",
    "plt.plot([0, 1], [0, 1], 'k--')\n",
    "plt.plot(fpr_keras, tpr_keras, label='Keras (area = {:.3f})'.format(auc_keras))\n",
    "plt.xlabel('False positive rate')\n",
    "plt.ylabel('True positive rate')\n",
    "plt.title('DNN ROC curve')\n",
    "plt.legend(loc='best')\n",
    "plt.show()\n",
    "# Zoom in view of the upper left corner."
   ]
  },
  {
   "cell_type": "code",
   "execution_count": null,
   "metadata": {},
   "outputs": [],
   "source": [
    "from sklearn.model_selection import train_test_split\n",
    "x_train,x_val,y_train,y_val = train_test_split(np.array(temp_image),np.array(temp_tox_image)/1.,test_size=0.2,random_state=125)"
   ]
  },
  {
   "cell_type": "code",
   "execution_count": null,
   "metadata": {},
   "outputs": [],
   "source": []
  },
  {
   "cell_type": "code",
   "execution_count": null,
   "metadata": {},
   "outputs": [],
   "source": []
  }
 ],
 "metadata": {
  "kernelspec": {
   "display_name": "Lee",
   "language": "python",
   "name": "python3"
  },
  "language_info": {
   "codemirror_mode": {
    "name": "ipython",
    "version": 3
   },
   "file_extension": ".py",
   "mimetype": "text/x-python",
   "name": "python",
   "nbconvert_exporter": "python",
   "pygments_lexer": "ipython3",
   "version": "3.10.12"
  }
 },
 "nbformat": 4,
 "nbformat_minor": 2
}
